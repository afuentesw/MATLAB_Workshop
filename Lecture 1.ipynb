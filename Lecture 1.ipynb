{
 "cells": [
  {
   "cell_type": "markdown",
   "id": "afa951a3-f402-4bb0-b261-ea7068fb2f4e",
   "metadata": {},
   "source": [
    "# Lecture I: Foundations of MATLAB programming"
   ]
  },
  {
   "cell_type": "markdown",
   "id": "e80e237b-4d74-4796-8951-a1e5f154fdb1",
   "metadata": {
    "tags": []
   },
   "source": [
    "“*Without requirements or design, programming is the art of adding bugs to an empty text file*.” - Louis Srygley"
   ]
  },
  {
   "cell_type": "markdown",
   "id": "a40c5638-a741-4b1b-b2a6-eacbd12d6466",
   "metadata": {},
   "source": [
    "Welcome to the Workshop! In this first lecture, we will learn the foundations of MATLAB. However, before starting, it could be helpful to understand why people use MATLAB in the first place. This is not obvious since MATLAB is expensive, and other alternatives could do similar tasks (Julia or Python, for example).\n"
   ]
  },
  {
   "cell_type": "markdown",
   "id": "f1718639-221e-4fc9-8a25-54727b03ecf7",
   "metadata": {
    "tags": []
   },
   "source": [
    "## 1. Why MATLAB?"
   ]
  },
  {
   "cell_type": "markdown",
   "id": "6a92e5e6-0702-4ec8-b4dc-dc946435a8bf",
   "metadata": {},
   "source": [
    "If you look on the internet, you will find that people like the following things about MATLAB:\n",
    "- Writing code is simple\n",
    "- The vanilla version has a lot of useful functions\n",
    "- Notifications of errors are useful\n",
    "- It does not require libraries\n",
    "- Plotting tools are excellent (Matplotlib is based on MATLAB)\n",
    "- Documentation is quite precise\n",
    "- It does not have conflict across versions"
   ]
  },
  {
   "cell_type": "markdown",
   "id": "2e12a03b-e332-43cd-b58f-aa3a4216fc17",
   "metadata": {},
   "source": [
    "In economics, the software we use depends on our field. While Stata and R are popular for econometrics, MATLAB and Julia are popular for macroeconomics. Python is a bit of a mix."
   ]
  },
  {
   "cell_type": "markdown",
   "id": "2013dca7-cc16-4c4e-b6c1-2de4c777d884",
   "metadata": {},
   "source": [
    "However, in macroeconomics, MATLAB still has a significant advantage over Julia. This could be due to the fact that MATLAB is several years older than Julia. So the program is a lot more stable. Also, most of the replication files for papers in macro are provided in MATLAB (because it is the author's primary language) "
   ]
  },
  {
   "cell_type": "markdown",
   "id": "291a74d7-8c95-466f-94e8-ed1a8be7fd12",
   "metadata": {
    "tags": []
   },
   "source": [
    "## 2. Variables"
   ]
  },
  {
   "cell_type": "markdown",
   "id": "8e6675fe-f935-4f3c-97e7-1e445d77c9cd",
   "metadata": {},
   "source": [
    "So, we are going to start defining a variable. A variable is just an object that will have a name and will receive a value. For example, we can create an element called A and assign it the value 5."
   ]
  },
  {
   "cell_type": "code",
   "execution_count": 10,
   "id": "6a663dd6-193d-4948-81b3-e37e3a8cc7be",
   "metadata": {
    "tags": []
   },
   "outputs": [
    {
     "data": {
      "text/html": [
       "<html><body><pre>A = 5</pre></body></html>"
      ],
      "text/plain": [
       "A = 5"
      ]
     },
     "execution_count": 10,
     "metadata": {},
     "output_type": "execute_result"
    }
   ],
   "source": [
    "A=5"
   ]
  },
  {
   "cell_type": "markdown",
   "id": "ef9075ef-d467-4608-aab1-4e197caaab0e",
   "metadata": {},
   "source": [
    "Notice that once we run the code, MATLAB generates the object we just created as output. If we want to supress the output we can add a semicolon at the end of the line."
   ]
  },
  {
   "cell_type": "code",
   "execution_count": 12,
   "id": "0e60aa3a-8595-4335-9035-ad94d828a048",
   "metadata": {
    "tags": []
   },
   "outputs": [],
   "source": [
    "B = 5;"
   ]
  },
  {
   "cell_type": "markdown",
   "id": "1681a5ee-5a38-432e-9fcd-da7912da9d45",
   "metadata": {},
   "source": [
    "Great! Now we know how to create a variable and assign a number to its value. What else we can assign to a variable? There are many things that we can assign, for example, we can assign text:"
   ]
  },
  {
   "cell_type": "code",
   "execution_count": 14,
   "id": "dcdc9544-73d7-4707-b34a-3fcb55dbf64f",
   "metadata": {
    "tags": []
   },
   "outputs": [
    {
     "data": {
      "text/html": [
       "<html><body><pre>Text = \"Hello world\"</pre></body></html>"
      ],
      "text/plain": [
       "Text = \"Hello world\""
      ]
     },
     "execution_count": 14,
     "metadata": {},
     "output_type": "execute_result"
    }
   ],
   "source": [
    "Text = \"Hello world\""
   ]
  },
  {
   "cell_type": "markdown",
   "id": "c0fa59d5-0fe7-4e3e-91df-7824a96ad134",
   "metadata": {},
   "source": [
    "We can assign a logical (Boolean) value to a variable: "
   ]
  },
  {
   "cell_type": "code",
   "execution_count": 16,
   "id": "de0a8643-133e-43b0-97c5-efc25b94f324",
   "metadata": {
    "tags": []
   },
   "outputs": [
    {
     "data": {
      "text/html": [
       "<html><body><pre>Boolean = logical\n",
       "   1\n",
       "</pre></body></html>"
      ],
      "text/plain": [
       "Boolean = logical\n",
       "   1\n"
      ]
     },
     "execution_count": 16,
     "metadata": {},
     "output_type": "execute_result"
    }
   ],
   "source": [
    "Boolean = true"
   ]
  },
  {
   "cell_type": "markdown",
   "id": "e73c621e-fc1c-4066-ad7d-a478d59a0b35",
   "metadata": {},
   "source": [
    "We can assign a vector to a variable:"
   ]
  },
  {
   "cell_type": "code",
   "execution_count": 18,
   "id": "f47a33b4-2071-4b84-b1f1-4ac9737028f0",
   "metadata": {
    "tags": []
   },
   "outputs": [
    {
     "data": {
      "text/html": [
       "<html><body><pre>C = 1x4 double\n",
       "     1     2     3     4\n",
       "</pre></body></html>"
      ],
      "text/plain": [
       "C = 1x4 double\n",
       "     1     2     3     4\n"
      ]
     },
     "execution_count": 18,
     "metadata": {},
     "output_type": "execute_result"
    }
   ],
   "source": [
    "C = [1,2,3,4]"
   ]
  },
  {
   "cell_type": "markdown",
   "id": "7971f149-e0ea-4dab-8087-6e037bc6ab35",
   "metadata": {},
   "source": [
    "Or a matrix:"
   ]
  },
  {
   "cell_type": "code",
   "execution_count": 20,
   "id": "bb0f5e28-56cf-4244-bb6d-e22f21bbcfe6",
   "metadata": {
    "tags": []
   },
   "outputs": [
    {
     "data": {
      "text/html": [
       "<html><body><pre>D = 3x4 double\n",
       "     1     2     3     4\n",
       "     5     6     7     8\n",
       "     9    10    11    12\n",
       "</pre></body></html>"
      ],
      "text/plain": [
       "D = 3x4 double\n",
       "     1     2     3     4\n",
       "     5     6     7     8\n",
       "     9    10    11    12\n"
      ]
     },
     "execution_count": 20,
     "metadata": {},
     "output_type": "execute_result"
    }
   ],
   "source": [
    "D = [1,2,3,4 ; 5,6,7,8 ; 9,10,11,12]"
   ]
  },
  {
   "cell_type": "markdown",
   "id": "bfb7754f-6057-4c41-a70b-bc4ecd755883",
   "metadata": {},
   "source": [
    "There are more \"types\" of variables, but we will only use these for now. In MATLAB the \"types\" are called classes. So, how do we check the class of a variable? Well, we have to use the class function. We will call a function using its name and passing as argument the amount of elements required by the function. In this case, the function class only requires one variable to run, and as output, it will give us the class of the variable provided. "
   ]
  },
  {
   "cell_type": "code",
   "execution_count": 22,
   "id": "424377fc-a672-49a5-ab42-b50f92083dff",
   "metadata": {
    "tags": []
   },
   "outputs": [
    {
     "data": {
      "text/html": [
       "<html><body><pre>ans = 'double'</pre></body></html>"
      ],
      "text/plain": [
       "ans = 'double'"
      ]
     },
     "execution_count": 22,
     "metadata": {},
     "output_type": "execute_result"
    }
   ],
   "source": [
    "class(A)"
   ]
  },
  {
   "cell_type": "code",
   "execution_count": 23,
   "id": "6424904e-8b2a-4d4d-8198-6419ce74a7a7",
   "metadata": {
    "tags": []
   },
   "outputs": [
    {
     "data": {
      "text/html": [
       "<html><body><pre>ans = 'double'</pre></body></html>"
      ],
      "text/plain": [
       "ans = 'double'"
      ]
     },
     "execution_count": 23,
     "metadata": {},
     "output_type": "execute_result"
    }
   ],
   "source": [
    "class(B)"
   ]
  },
  {
   "cell_type": "code",
   "execution_count": 24,
   "id": "9dda78d8-193e-452b-a3a7-c41146ecfcbd",
   "metadata": {
    "tags": []
   },
   "outputs": [
    {
     "data": {
      "text/html": [
       "<html><body><pre>ans = 'string'</pre></body></html>"
      ],
      "text/plain": [
       "ans = 'string'"
      ]
     },
     "execution_count": 24,
     "metadata": {},
     "output_type": "execute_result"
    }
   ],
   "source": [
    "class(Text)"
   ]
  },
  {
   "cell_type": "code",
   "execution_count": 25,
   "id": "c526bb14-c8e0-43c7-b944-53f5128e938c",
   "metadata": {
    "tags": []
   },
   "outputs": [
    {
     "data": {
      "text/html": [
       "<html><body><pre>ans = 'logical'</pre></body></html>"
      ],
      "text/plain": [
       "ans = 'logical'"
      ]
     },
     "execution_count": 25,
     "metadata": {},
     "output_type": "execute_result"
    }
   ],
   "source": [
    "class(Boolean)"
   ]
  },
  {
   "cell_type": "code",
   "execution_count": 26,
   "id": "8e6a361e-8f02-4cd5-9148-076f1abcd9c7",
   "metadata": {
    "tags": []
   },
   "outputs": [
    {
     "data": {
      "text/html": [
       "<html><body><pre>ans = 'double'</pre></body></html>"
      ],
      "text/plain": [
       "ans = 'double'"
      ]
     },
     "execution_count": 26,
     "metadata": {},
     "output_type": "execute_result"
    }
   ],
   "source": [
    "class(C)"
   ]
  },
  {
   "cell_type": "code",
   "execution_count": 27,
   "id": "6a9f6a57-1a58-44a6-867e-76e55eff79c8",
   "metadata": {
    "tags": []
   },
   "outputs": [
    {
     "data": {
      "text/html": [
       "<html><body><pre>ans = 'double'</pre></body></html>"
      ],
      "text/plain": [
       "ans = 'double'"
      ]
     },
     "execution_count": 27,
     "metadata": {},
     "output_type": "execute_result"
    }
   ],
   "source": [
    "class(D)"
   ]
  },
  {
   "cell_type": "markdown",
   "id": "77e58caa-73c2-4724-92d0-4b30fdf73ade",
   "metadata": {},
   "source": [
    "Notice that A, B, C and D share the same class. The intuitive way of thinking about this is that A, B, C, and D can be seen as matrices. "
   ]
  },
  {
   "cell_type": "markdown",
   "id": "f1b460cc-5e84-48cc-b36b-3949f4e5a312",
   "metadata": {},
   "source": [
    "Also, each time we run the code, MATLAB creates a variable called \"ans\" and assigns it the value of the answer. So we can run a little experiment. We will ask for the class of D, and then we will ask for the class of ans."
   ]
  },
  {
   "cell_type": "code",
   "execution_count": 30,
   "id": "3b353991-5588-4e33-b2ce-712fb3c3ce24",
   "metadata": {
    "tags": []
   },
   "outputs": [
    {
     "data": {
      "text/html": [
       "<html><body><pre>ans = 'double'</pre></body></html>"
      ],
      "text/plain": [
       "ans = 'double'"
      ]
     },
     "execution_count": 30,
     "metadata": {},
     "output_type": "execute_result"
    },
    {
     "data": {
      "text/html": [
       "<html><body><pre>ans = 'char'</pre></body></html>"
      ],
      "text/plain": [
       "ans = 'char'"
      ]
     },
     "execution_count": 30,
     "metadata": {},
     "output_type": "execute_result"
    }
   ],
   "source": [
    "class(D)\n",
    "class(ans)"
   ]
  },
  {
   "cell_type": "markdown",
   "id": "fb1f9d03-f487-4869-acd5-bd18ee566457",
   "metadata": {
    "tags": []
   },
   "source": [
    "From this exercise, we learned that the class of ans is char (in this particular case!). Notice that char is different from string (the class associated with the variable Text). A string (\" \") is just one object (the word or phrase), while a char (' ') is a collection of objects (each character is an object!). We will come back to this later."
   ]
  },
  {
   "cell_type": "markdown",
   "id": "fc02ae61-5df0-4b47-8206-ca3447951ce5",
   "metadata": {},
   "source": [
    "## 3. Mathematical operations"
   ]
  },
  {
   "cell_type": "markdown",
   "id": "412edc23-7f7e-459d-86cf-cb983b75785d",
   "metadata": {},
   "source": [
    "In this course, we will focus on the MATLAB elements relevant to macroeconomics, so we will work mainly with numbers. How do we perform mathematical operations? Well, let's create a variable A and assign it the value 5, and create another variable B and assign it the value 3. Now, we will add A and B."
   ]
  },
  {
   "cell_type": "code",
   "execution_count": 34,
   "id": "7090a1c9-8e36-4a33-9c5a-6f591a673e49",
   "metadata": {
    "tags": []
   },
   "outputs": [
    {
     "data": {
      "text/html": [
       "<html><body><pre>ans = 8</pre></body></html>"
      ],
      "text/plain": [
       "ans = 8"
      ]
     },
     "execution_count": 34,
     "metadata": {},
     "output_type": "execute_result"
    }
   ],
   "source": [
    "A = 5;\n",
    "B = 3;\n",
    "A+B"
   ]
  },
  {
   "cell_type": "markdown",
   "id": "a9a0c0d6-7786-4559-9820-7b6848ded077",
   "metadata": {},
   "source": [
    "Excellent. We learned how to add variables. Notice again that the output is a variable called \"ans.\" What happens if we call it?"
   ]
  },
  {
   "cell_type": "code",
   "execution_count": 36,
   "id": "de7e9f89-835e-4d01-8d40-85c40c0d1ed9",
   "metadata": {
    "tags": []
   },
   "outputs": [
    {
     "data": {
      "text/html": [
       "<html><body><pre>ans = 8</pre></body></html>"
      ],
      "text/plain": [
       "ans = 8"
      ]
     },
     "execution_count": 36,
     "metadata": {},
     "output_type": "execute_result"
    }
   ],
   "source": [
    "ans"
   ]
  },
  {
   "cell_type": "markdown",
   "id": "2efe9b33-cfe5-4647-9e37-3406c08aae93",
   "metadata": {},
   "source": [
    "Of course, if we want to store the value of the sum, we can also create a new variable and assign the value of the sum to it."
   ]
  },
  {
   "cell_type": "code",
   "execution_count": 38,
   "id": "25b4995b-09d0-4d94-84c2-f9e9121ebeb8",
   "metadata": {
    "tags": []
   },
   "outputs": [
    {
     "data": {
      "text/html": [
       "<html><body><pre>C = 8</pre></body></html>"
      ],
      "text/plain": [
       "C = 8"
      ]
     },
     "execution_count": 38,
     "metadata": {},
     "output_type": "execute_result"
    }
   ],
   "source": [
    "C = A + B;\n",
    "C"
   ]
  },
  {
   "cell_type": "markdown",
   "id": "e132e916-6efb-40a7-83e7-743ace1883a8",
   "metadata": {},
   "source": [
    "An important thing to notice about MATLAB syntax is that the program will first compute the value at the right-hand side of an equal sign and then assign that value to the left-hand side. This looks weird because a variable can have two values on the same line of code. To understand this, we will compute A = A + 1."
   ]
  },
  {
   "cell_type": "code",
   "execution_count": 40,
   "id": "d18abfbb-cf48-40ee-ac72-8fa769978190",
   "metadata": {
    "tags": []
   },
   "outputs": [
    {
     "data": {
      "text/html": [
       "<html><body><pre>A = 6</pre></body></html>"
      ],
      "text/plain": [
       "A = 6"
      ]
     },
     "execution_count": 40,
     "metadata": {},
     "output_type": "execute_result"
    }
   ],
   "source": [
    "A = A + 1;\n",
    "A"
   ]
  },
  {
   "cell_type": "markdown",
   "id": "6fea32e5-1d8e-40f9-ab16-f3c5e5f68658",
   "metadata": {},
   "source": [
    "So, Matlab is computing the right-hand side of the equation, which is 5+1=6. Then, it assigns that value to the variable A."
   ]
  },
  {
   "cell_type": "markdown",
   "id": "0ad38a34-c2c2-4bc3-871c-5f84afb4d219",
   "metadata": {},
   "source": [
    "Great. Now, we will move to the rest of the mathematical operations. We can easily do sums, subtractions, multiplications, divisions, and exponentials."
   ]
  },
  {
   "cell_type": "code",
   "execution_count": 43,
   "id": "bb13690a-0434-4ea7-8587-07e0b6244ae8",
   "metadata": {
    "tags": []
   },
   "outputs": [
    {
     "data": {
      "text/html": [
       "<html><body><pre>ans = 9</pre></body></html>"
      ],
      "text/plain": [
       "ans = 9"
      ]
     },
     "execution_count": 43,
     "metadata": {},
     "output_type": "execute_result"
    },
    {
     "data": {
      "text/html": [
       "<html><body><pre>ans = 3</pre></body></html>"
      ],
      "text/plain": [
       "ans = 3"
      ]
     },
     "execution_count": 43,
     "metadata": {},
     "output_type": "execute_result"
    },
    {
     "data": {
      "text/html": [
       "<html><body><pre>ans = 18</pre></body></html>"
      ],
      "text/plain": [
       "ans = 18"
      ]
     },
     "execution_count": 43,
     "metadata": {},
     "output_type": "execute_result"
    },
    {
     "data": {
      "text/html": [
       "<html><body><pre>ans = 2</pre></body></html>"
      ],
      "text/plain": [
       "ans = 2"
      ]
     },
     "execution_count": 43,
     "metadata": {},
     "output_type": "execute_result"
    },
    {
     "data": {
      "text/html": [
       "<html><body><pre>ans = 36</pre></body></html>"
      ],
      "text/plain": [
       "ans = 36"
      ]
     },
     "execution_count": 43,
     "metadata": {},
     "output_type": "execute_result"
    }
   ],
   "source": [
    "A+B\n",
    "A-B\n",
    "A*B\n",
    "A/B\n",
    "A^2"
   ]
  },
  {
   "cell_type": "markdown",
   "id": "e146d86a-71bc-4201-8e18-075b57b41248",
   "metadata": {},
   "source": [
    "Now, when working with scalars, we do not care about dimensions. But, when working with vectors, we have to care about it. Let's try to do some sums and substractions with vectors."
   ]
  },
  {
   "cell_type": "code",
   "execution_count": 45,
   "id": "2466f0e3-3211-45ff-81d2-681faab3d467",
   "metadata": {
    "tags": []
   },
   "outputs": [
    {
     "data": {
      "text/html": [
       "<html><body><pre>c = 1x3 double\n",
       "     5     7     9\n",
       "</pre></body></html>"
      ],
      "text/plain": [
       "c = 1x3 double\n",
       "     5     7     9\n"
      ]
     },
     "execution_count": 45,
     "metadata": {},
     "output_type": "execute_result"
    },
    {
     "data": {
      "text/html": [
       "<html><body><pre>d = 1x3 double\n",
       "     3     3     3\n",
       "</pre></body></html>"
      ],
      "text/plain": [
       "d = 1x3 double\n",
       "     3     3     3\n"
      ]
     },
     "execution_count": 45,
     "metadata": {},
     "output_type": "execute_result"
    }
   ],
   "source": [
    "a = [1,2,3];\n",
    "b = [4,5,6];\n",
    "\n",
    "c = a+b;\n",
    "d = b-a;\n",
    "c\n",
    "d"
   ]
  },
  {
   "cell_type": "markdown",
   "id": "34edfc15-cd05-4495-8362-204087b1ba4e",
   "metadata": {
    "tags": []
   },
   "source": [
    "Great, this is easy. Notice an important detail, tough. MATLAB is case-sensitive, meaning variable A is different from variable a. In this case, A is a scalar, and A is a vector!"
   ]
  },
  {
   "cell_type": "code",
   "execution_count": 47,
   "id": "3ded349f-33d9-43a9-91d0-fd997c6ee79e",
   "metadata": {
    "tags": []
   },
   "outputs": [
    {
     "data": {
      "text/html": [
       "<html><body><pre>A = 6</pre></body></html>"
      ],
      "text/plain": [
       "A = 6"
      ]
     },
     "execution_count": 47,
     "metadata": {},
     "output_type": "execute_result"
    },
    {
     "data": {
      "text/html": [
       "<html><body><pre>a = 1x3 double\n",
       "     1     2     3\n",
       "</pre></body></html>"
      ],
      "text/plain": [
       "a = 1x3 double\n",
       "     1     2     3\n"
      ]
     },
     "execution_count": 47,
     "metadata": {},
     "output_type": "execute_result"
    }
   ],
   "source": [
    "A\n",
    "a"
   ]
  },
  {
   "cell_type": "markdown",
   "id": "ced6806b-61e8-4c96-80e2-e367eedabd32",
   "metadata": {},
   "source": [
    "Now, let's do some multiplications"
   ]
  },
  {
   "cell_type": "code",
   "execution_count": 49,
   "id": "38589fe4-1be2-4f09-b6eb-1868efab2965",
   "metadata": {
    "tags": []
   },
   "outputs": [
    {
     "name": "stderr",
     "output_type": "stream",
     "text": [
      "Error using *\n",
      "Incorrect dimensions for matrix multiplication. Check that the number of columns in the first matrix matches the number of rows in the second matrix. To operate on each element of the matrix individually, use TIMES (.*) for elementwise multiplication."
     ]
    }
   ],
   "source": [
    "a*b"
   ]
  },
  {
   "cell_type": "markdown",
   "id": "618ce9c2-bab2-435e-9d4f-90fbe0ba070b",
   "metadata": {},
   "source": [
    "This is our first error! What a moment! Please take a moment to appreciate it and embrace it."
   ]
  },
  {
   "cell_type": "markdown",
   "id": "77b5be15-88d8-440f-9b9e-8a8737435ab9",
   "metadata": {},
   "source": [
    "Notice that we can appreciate a lovely characteristic of MATLAB here. The program tells us that there is an error in the code because the dimensions of the matrices do not allow multiplication. This is very informative and different from the messages you will receive in other programs."
   ]
  },
  {
   "cell_type": "markdown",
   "id": "115a9183-3cfa-4a21-872e-615c1106ff83",
   "metadata": {},
   "source": [
    "It makes sense. The vectors a and b share the same dimensions (1x3), so we cannot multiply them directly. One option to solve this is to transpose the vector b so that its dimensions are 3x1. Then, we can run the multiplication, which will return a scalar."
   ]
  },
  {
   "cell_type": "code",
   "execution_count": 53,
   "id": "62d9cbe0-adf4-4274-8f7d-d2cbd5aea5f2",
   "metadata": {
    "tags": []
   },
   "outputs": [
    {
     "data": {
      "text/html": [
       "<html><body><pre>ans = 32</pre></body></html>"
      ],
      "text/plain": [
       "ans = 32"
      ]
     },
     "execution_count": 53,
     "metadata": {},
     "output_type": "execute_result"
    }
   ],
   "source": [
    "a*b'"
   ]
  },
  {
   "cell_type": "markdown",
   "id": "8cf0c492-1ee1-4d23-9181-d7d8e4b01239",
   "metadata": {},
   "source": [
    "Notice also that the error message suggests using elementwise multiplication (.*) if we are trying to do that. If we do that, we will have as an output a vector with dimensions 3x1, in which each element corresponds to the multiplication of the elements of a and b in the same position."
   ]
  },
  {
   "cell_type": "code",
   "execution_count": 55,
   "id": "5a563ca2-fb5b-49a0-935e-2f3bcedccadc",
   "metadata": {
    "tags": []
   },
   "outputs": [
    {
     "data": {
      "text/html": [
       "<html><body><pre>ans = 1x3 double\n",
       "     4    10    18\n",
       "</pre></body></html>"
      ],
      "text/plain": [
       "ans = 1x3 double\n",
       "     4    10    18\n"
      ]
     },
     "execution_count": 55,
     "metadata": {},
     "output_type": "execute_result"
    }
   ],
   "source": [
    "a.*b"
   ]
  },
  {
   "cell_type": "markdown",
   "id": "0f0cfe6b-8a60-4b70-b007-66c1e3fe04f4",
   "metadata": {},
   "source": [
    "This property is crucial, and we will have to deal with it several times, especially when we are solving the cake-eating problem and the Solow model."
   ]
  },
  {
   "cell_type": "markdown",
   "id": "0ebfcb59-a084-413d-84d0-861313b0562d",
   "metadata": {},
   "source": [
    "Great. Now, we have one last type of operation to discuss: the logical operators. Imagine that we have two variables, A and B, and we want to check if they are equal. We can do the following:"
   ]
  },
  {
   "cell_type": "code",
   "execution_count": 58,
   "id": "bf741356-d38f-47d2-9b96-7eca478c1da2",
   "metadata": {
    "tags": []
   },
   "outputs": [
    {
     "data": {
      "text/html": [
       "<html><body><pre>ans = logical\n",
       "   0\n",
       "</pre></body></html>"
      ],
      "text/plain": [
       "ans = logical\n",
       "   0\n"
      ]
     },
     "execution_count": 58,
     "metadata": {},
     "output_type": "execute_result"
    }
   ],
   "source": [
    "A == B"
   ]
  },
  {
   "cell_type": "markdown",
   "id": "6c6a752d-b963-48f6-a976-694d5f8ef1c1",
   "metadata": {},
   "source": [
    "Notice that the result is a variable of the logical class taking the value 0, which is associated with false. Other expressions we can test are the following:"
   ]
  },
  {
   "cell_type": "code",
   "execution_count": 60,
   "id": "fca58797-4895-4ff3-9c1f-a9424d60b8ff",
   "metadata": {
    "tags": []
   },
   "outputs": [
    {
     "data": {
      "text/html": [
       "<html><body><pre>ans = logical\n",
       "   1\n",
       "</pre></body></html>"
      ],
      "text/plain": [
       "ans = logical\n",
       "   1\n"
      ]
     },
     "execution_count": 60,
     "metadata": {},
     "output_type": "execute_result"
    }
   ],
   "source": [
    "A >= B"
   ]
  },
  {
   "cell_type": "code",
   "execution_count": 61,
   "id": "a1179e99-d475-4f78-8674-6073fb30a4f8",
   "metadata": {
    "tags": []
   },
   "outputs": [
    {
     "data": {
      "text/html": [
       "<html><body><pre>ans = logical\n",
       "   0\n",
       "</pre></body></html>"
      ],
      "text/plain": [
       "ans = logical\n",
       "   0\n"
      ]
     },
     "execution_count": 61,
     "metadata": {},
     "output_type": "execute_result"
    }
   ],
   "source": [
    "A <= B"
   ]
  },
  {
   "cell_type": "markdown",
   "id": "6e053be2-b134-4bef-b941-1a64c7bda0c0",
   "metadata": {
    "tags": []
   },
   "source": [
    "We can also concatenate conditions using & (for \"and\") and | (for \"or\"), respectively."
   ]
  },
  {
   "cell_type": "code",
   "execution_count": 63,
   "id": "7f6c1884-2ccc-458b-9d02-8cf0eba527fa",
   "metadata": {
    "tags": []
   },
   "outputs": [
    {
     "data": {
      "text/html": [
       "<html><body><pre>ans = logical\n",
       "   0\n",
       "</pre></body></html>"
      ],
      "text/plain": [
       "ans = logical\n",
       "   0\n"
      ]
     },
     "execution_count": 63,
     "metadata": {},
     "output_type": "execute_result"
    }
   ],
   "source": [
    "A >= B & B>=C"
   ]
  },
  {
   "cell_type": "code",
   "execution_count": 64,
   "id": "95d25671-8576-46bb-b0b0-276c36be1238",
   "metadata": {
    "tags": []
   },
   "outputs": [
    {
     "data": {
      "text/html": [
       "<html><body><pre>ans = logical\n",
       "   1\n",
       "</pre></body></html>"
      ],
      "text/plain": [
       "ans = logical\n",
       "   1\n"
      ]
     },
     "execution_count": 64,
     "metadata": {},
     "output_type": "execute_result"
    }
   ],
   "source": [
    "A >= B | B>=C"
   ]
  },
  {
   "cell_type": "markdown",
   "id": "46f6930a-c219-405c-a308-3daa48ae88ad",
   "metadata": {
    "tags": []
   },
   "source": [
    "Great! Now we are ready to move to do some loops!"
   ]
  },
  {
   "cell_type": "markdown",
   "id": "e5c5200b-63ab-4344-a9a8-dc1242371715",
   "metadata": {},
   "source": [
    "## 4. Loops"
   ]
  },
  {
   "cell_type": "markdown",
   "id": "8b7d303c-7ad9-4e6e-8703-9c63bf19f51e",
   "metadata": {},
   "source": [
    "Imagine that we want to create a vector with dimensions 10x1 and that, in each element, we want to put a number reflecting the position inside the vector."
   ]
  },
  {
   "cell_type": "code",
   "execution_count": 68,
   "id": "a0fa2095-2fb9-4d90-96c2-9084dec5ae81",
   "metadata": {
    "tags": []
   },
   "outputs": [],
   "source": [
    "V = [1,2,3,4,5,6,7,8,9,10];"
   ]
  },
  {
   "cell_type": "markdown",
   "id": "5acd7973-a07c-4e56-ad0e-356d31f1c5c8",
   "metadata": {},
   "source": [
    "This procedure is tedious, especially if the vector is very long, so we can use a loop. A loop is just a statement that we will repeat a given amount of times, and at least one variable will change each time. In this case, we want to assign the value 1 to the first position, the value 2 to the second one, and so on. In this case, the variable that we will use is the position! So, we will start in the first position and assign the value 1 to it. Then, we will increase our variable to +1, move to the second position, and assign 2 to it. Then, we repeat until we arrive at position 10."
   ]
  },
  {
   "cell_type": "code",
   "execution_count": 70,
   "id": "b3ccc299-d6d9-4f98-a8d4-a0f2716ae69a",
   "metadata": {
    "tags": []
   },
   "outputs": [
    {
     "data": {
      "text/html": [
       "<html><body><pre>W = 1</pre></body></html>"
      ],
      "text/plain": [
       "W = 1"
      ]
     },
     "execution_count": 70,
     "metadata": {},
     "output_type": "execute_result"
    },
    {
     "data": {
      "text/html": [
       "<html><body><pre>W = 1x2 double\n",
       "     1     2\n",
       "</pre></body></html>"
      ],
      "text/plain": [
       "W = 1x2 double\n",
       "     1     2\n"
      ]
     },
     "execution_count": 70,
     "metadata": {},
     "output_type": "execute_result"
    },
    {
     "data": {
      "text/html": [
       "<html><body><pre>W = 1x3 double\n",
       "     1     2     3\n",
       "</pre></body></html>"
      ],
      "text/plain": [
       "W = 1x3 double\n",
       "     1     2     3\n"
      ]
     },
     "execution_count": 70,
     "metadata": {},
     "output_type": "execute_result"
    },
    {
     "data": {
      "text/html": [
       "<html><body><pre>W = 1x4 double\n",
       "     1     2     3     4\n",
       "</pre></body></html>"
      ],
      "text/plain": [
       "W = 1x4 double\n",
       "     1     2     3     4\n"
      ]
     },
     "execution_count": 70,
     "metadata": {},
     "output_type": "execute_result"
    },
    {
     "data": {
      "text/html": [
       "<html><body><pre>W = 1x5 double\n",
       "     1     2     3     4     5\n",
       "</pre></body></html>"
      ],
      "text/plain": [
       "W = 1x5 double\n",
       "     1     2     3     4     5\n"
      ]
     },
     "execution_count": 70,
     "metadata": {},
     "output_type": "execute_result"
    },
    {
     "data": {
      "text/html": [
       "<html><body><pre>W = 1x6 double\n",
       "     1     2     3     4     5     6\n",
       "</pre></body></html>"
      ],
      "text/plain": [
       "W = 1x6 double\n",
       "     1     2     3     4     5     6\n"
      ]
     },
     "execution_count": 70,
     "metadata": {},
     "output_type": "execute_result"
    },
    {
     "data": {
      "text/html": [
       "<html><body><pre>W = 1x7 double\n",
       "     1     2     3     4     5     6     7\n",
       "</pre></body></html>"
      ],
      "text/plain": [
       "W = 1x7 double\n",
       "     1     2     3     4     5     6     7\n"
      ]
     },
     "execution_count": 70,
     "metadata": {},
     "output_type": "execute_result"
    },
    {
     "data": {
      "text/html": [
       "<html><body><pre>W = 1x8 double\n",
       "     1     2     3     4     5     6     7     8\n",
       "</pre></body></html>"
      ],
      "text/plain": [
       "W = 1x8 double\n",
       "     1     2     3     4     5     6     7     8\n"
      ]
     },
     "execution_count": 70,
     "metadata": {},
     "output_type": "execute_result"
    },
    {
     "data": {
      "text/html": [
       "<html><body><pre>W = 1x9 double\n",
       "     1     2     3     4     5     6     7     8     9\n",
       "</pre></body></html>"
      ],
      "text/plain": [
       "W = 1x9 double\n",
       "     1     2     3     4     5     6     7     8     9\n"
      ]
     },
     "execution_count": 70,
     "metadata": {},
     "output_type": "execute_result"
    },
    {
     "data": {
      "text/html": [
       "<html><body><pre>W = 1x10 double\n",
       "     1     2     3     4     5     6     7     8     9    10\n",
       "</pre></body></html>"
      ],
      "text/plain": [
       "W = 1x10 double\n",
       "     1     2     3     4     5     6     7     8     9    10\n"
      ]
     },
     "execution_count": 70,
     "metadata": {},
     "output_type": "execute_result"
    }
   ],
   "source": [
    "for i=1:10\n",
    "    W(i)= i\n",
    "end"
   ]
  },
  {
   "cell_type": "markdown",
   "id": "aa5fcce3-5831-4518-9e1e-35eae7935146",
   "metadata": {},
   "source": [
    "Notice that the vector W is increasing in size in each iteration. This is because we assign a value to the vector outside the dimensions, so MATLAB increases the dimension of the vector in each step. This process is costly to MATLAB in terms of efficiency, and it is best practice to declare the dimensions of the vector first using an empty vector (we can use the function zeros for this)."
   ]
  },
  {
   "cell_type": "code",
   "execution_count": 72,
   "id": "889208bb-2472-4809-ab39-572bde228b7a",
   "metadata": {
    "tags": []
   },
   "outputs": [
    {
     "data": {
      "text/html": [
       "<html><body><pre>W = 1x10 double\n",
       "     0     0     0     0     0     0     0     0     0     0\n",
       "</pre></body></html>"
      ],
      "text/plain": [
       "W = 1x10 double\n",
       "     0     0     0     0     0     0     0     0     0     0\n"
      ]
     },
     "execution_count": 72,
     "metadata": {},
     "output_type": "execute_result"
    },
    {
     "data": {
      "text/html": [
       "<html><body><pre>W = 1x10 double\n",
       "     1     0     0     0     0     0     0     0     0     0\n",
       "</pre></body></html>"
      ],
      "text/plain": [
       "W = 1x10 double\n",
       "     1     0     0     0     0     0     0     0     0     0\n"
      ]
     },
     "execution_count": 72,
     "metadata": {},
     "output_type": "execute_result"
    },
    {
     "data": {
      "text/html": [
       "<html><body><pre>W = 1x10 double\n",
       "     1     2     0     0     0     0     0     0     0     0\n",
       "</pre></body></html>"
      ],
      "text/plain": [
       "W = 1x10 double\n",
       "     1     2     0     0     0     0     0     0     0     0\n"
      ]
     },
     "execution_count": 72,
     "metadata": {},
     "output_type": "execute_result"
    },
    {
     "data": {
      "text/html": [
       "<html><body><pre>W = 1x10 double\n",
       "     1     2     3     0     0     0     0     0     0     0\n",
       "</pre></body></html>"
      ],
      "text/plain": [
       "W = 1x10 double\n",
       "     1     2     3     0     0     0     0     0     0     0\n"
      ]
     },
     "execution_count": 72,
     "metadata": {},
     "output_type": "execute_result"
    },
    {
     "data": {
      "text/html": [
       "<html><body><pre>W = 1x10 double\n",
       "     1     2     3     4     0     0     0     0     0     0\n",
       "</pre></body></html>"
      ],
      "text/plain": [
       "W = 1x10 double\n",
       "     1     2     3     4     0     0     0     0     0     0\n"
      ]
     },
     "execution_count": 72,
     "metadata": {},
     "output_type": "execute_result"
    },
    {
     "data": {
      "text/html": [
       "<html><body><pre>W = 1x10 double\n",
       "     1     2     3     4     5     0     0     0     0     0\n",
       "</pre></body></html>"
      ],
      "text/plain": [
       "W = 1x10 double\n",
       "     1     2     3     4     5     0     0     0     0     0\n"
      ]
     },
     "execution_count": 72,
     "metadata": {},
     "output_type": "execute_result"
    },
    {
     "data": {
      "text/html": [
       "<html><body><pre>W = 1x10 double\n",
       "     1     2     3     4     5     6     0     0     0     0\n",
       "</pre></body></html>"
      ],
      "text/plain": [
       "W = 1x10 double\n",
       "     1     2     3     4     5     6     0     0     0     0\n"
      ]
     },
     "execution_count": 72,
     "metadata": {},
     "output_type": "execute_result"
    },
    {
     "data": {
      "text/html": [
       "<html><body><pre>W = 1x10 double\n",
       "     1     2     3     4     5     6     7     0     0     0\n",
       "</pre></body></html>"
      ],
      "text/plain": [
       "W = 1x10 double\n",
       "     1     2     3     4     5     6     7     0     0     0\n"
      ]
     },
     "execution_count": 72,
     "metadata": {},
     "output_type": "execute_result"
    },
    {
     "data": {
      "text/html": [
       "<html><body><pre>W = 1x10 double\n",
       "     1     2     3     4     5     6     7     8     0     0\n",
       "</pre></body></html>"
      ],
      "text/plain": [
       "W = 1x10 double\n",
       "     1     2     3     4     5     6     7     8     0     0\n"
      ]
     },
     "execution_count": 72,
     "metadata": {},
     "output_type": "execute_result"
    },
    {
     "data": {
      "text/html": [
       "<html><body><pre>W = 1x10 double\n",
       "     1     2     3     4     5     6     7     8     9     0\n",
       "</pre></body></html>"
      ],
      "text/plain": [
       "W = 1x10 double\n",
       "     1     2     3     4     5     6     7     8     9     0\n"
      ]
     },
     "execution_count": 72,
     "metadata": {},
     "output_type": "execute_result"
    },
    {
     "data": {
      "text/html": [
       "<html><body><pre>W = 1x10 double\n",
       "     1     2     3     4     5     6     7     8     9    10\n",
       "</pre></body></html>"
      ],
      "text/plain": [
       "W = 1x10 double\n",
       "     1     2     3     4     5     6     7     8     9    10\n"
      ]
     },
     "execution_count": 72,
     "metadata": {},
     "output_type": "execute_result"
    }
   ],
   "source": [
    "W = zeros(1,10)\n",
    "for i=1:10\n",
    "    W(i)= i\n",
    "end"
   ]
  },
  {
   "cell_type": "markdown",
   "id": "43e22b29-48c5-416d-8ea9-ea4d44ce481c",
   "metadata": {
    "tags": []
   },
   "source": [
    "Great, now we know how to create vectors! However, it is unlikely that you will use this loop to create vectors (unless you are teaching!) because MATLAB has a pretty helpful function named linspace that allows you to create vectors easily. Let's check it:"
   ]
  },
  {
   "cell_type": "code",
   "execution_count": 74,
   "id": "9799a059-55c7-43a1-893c-4e747d5ea682",
   "metadata": {
    "tags": []
   },
   "outputs": [
    {
     "name": "stdout",
     "output_type": "stream",
     "text": [
      " LINSPACE Linearly spaced vector.\n",
      "    LINSPACE(X1, X2) generates a row vector of 100 linearly\n",
      "    equally spaced points between X1 and X2.\n",
      " \n",
      "    LINSPACE(X1, X2, N) generates N points between X1 and X2.\n",
      "    For N = 1, LINSPACE returns X2.\n",
      " \n",
      "    Class support for inputs X1,X2:\n",
      "       float: double, single\n",
      " \n",
      "    See also LOGSPACE, COLON.\n",
      "\n",
      "    Documentation for linspace\n",
      "       doc linspace\n",
      "\n",
      "    Other uses of linspace\n",
      "\n",
      "       codistributed/linspace        distributed/linspace\n",
      "       codistributor1d/linspace      duration/linspace\n",
      "       codistributor2dbc/linspace    gpuArray/linspace\n",
      "       datetime/linspace             symfun/linspace\n",
      "\n"
     ]
    }
   ],
   "source": [
    "help linspace"
   ]
  },
  {
   "cell_type": "code",
   "execution_count": 75,
   "id": "fb47206d-a39c-45d3-8596-99c53c639388",
   "metadata": {
    "tags": []
   },
   "outputs": [
    {
     "data": {
      "text/html": [
       "<html><body><pre>V = 1x10 double\n",
       "     1     2     3     4     5     6     7     8     9    10\n",
       "</pre></body></html>"
      ],
      "text/plain": [
       "V = 1x10 double\n",
       "     1     2     3     4     5     6     7     8     9    10\n"
      ]
     },
     "execution_count": 75,
     "metadata": {},
     "output_type": "execute_result"
    }
   ],
   "source": [
    "V = linspace(1,10,10)"
   ]
  },
  {
   "cell_type": "markdown",
   "id": "5b2e436b-279e-4f7b-90ae-8248204b4d29",
   "metadata": {
    "tags": []
   },
   "source": [
    "Great! Now, we will do something more complicated. We want to generate this matrix using a loop:"
   ]
  },
  {
   "cell_type": "code",
   "execution_count": 77,
   "id": "a2d204e3-616a-4eff-82bb-c1e12b3f5e7e",
   "metadata": {
    "tags": []
   },
   "outputs": [
    {
     "data": {
      "text/html": [
       "<html><body><pre>A = 3x3 double\n",
       "     1     1     1\n",
       "     1     1     1\n",
       "     1     1     1\n",
       "</pre></body></html>"
      ],
      "text/plain": [
       "A = 3x3 double\n",
       "     1     1     1\n",
       "     1     1     1\n",
       "     1     1     1\n"
      ]
     },
     "execution_count": 77,
     "metadata": {},
     "output_type": "execute_result"
    }
   ],
   "source": [
    "A = [1,1,1 ; 1,1,1 ; 1,1,1]"
   ]
  },
  {
   "cell_type": "markdown",
   "id": "97be14dc-b9db-4869-9e57-bc006e548358",
   "metadata": {},
   "source": [
    "In this case, we will have to move between two axes, let's call them x and y. So, for any position in x, we will move across all the y positions, inserting a value of 1. Then, we will move across all the positions in x. So here we have two loops! The outside is for x, and the inside is for y (it could also be the other way)."
   ]
  },
  {
   "cell_type": "code",
   "execution_count": 79,
   "id": "8918d452-0ea9-4b3a-954f-78ef869a30af",
   "metadata": {
    "tags": []
   },
   "outputs": [
    {
     "data": {
      "text/html": [
       "<html><body><pre>M = 3x3 double\n",
       "     0     0     0\n",
       "     0     0     0\n",
       "     0     0     0\n",
       "</pre></body></html>"
      ],
      "text/plain": [
       "M = 3x3 double\n",
       "     0     0     0\n",
       "     0     0     0\n",
       "     0     0     0\n"
      ]
     },
     "execution_count": 79,
     "metadata": {},
     "output_type": "execute_result"
    },
    {
     "data": {
      "text/html": [
       "<html><body><pre>M = 3x3 double\n",
       "     1     0     0\n",
       "     0     0     0\n",
       "     0     0     0\n",
       "</pre></body></html>"
      ],
      "text/plain": [
       "M = 3x3 double\n",
       "     1     0     0\n",
       "     0     0     0\n",
       "     0     0     0\n"
      ]
     },
     "execution_count": 79,
     "metadata": {},
     "output_type": "execute_result"
    },
    {
     "data": {
      "text/html": [
       "<html><body><pre>M = 3x3 double\n",
       "     1     1     0\n",
       "     0     0     0\n",
       "     0     0     0\n",
       "</pre></body></html>"
      ],
      "text/plain": [
       "M = 3x3 double\n",
       "     1     1     0\n",
       "     0     0     0\n",
       "     0     0     0\n"
      ]
     },
     "execution_count": 79,
     "metadata": {},
     "output_type": "execute_result"
    },
    {
     "data": {
      "text/html": [
       "<html><body><pre>M = 3x3 double\n",
       "     1     1     1\n",
       "     0     0     0\n",
       "     0     0     0\n",
       "</pre></body></html>"
      ],
      "text/plain": [
       "M = 3x3 double\n",
       "     1     1     1\n",
       "     0     0     0\n",
       "     0     0     0\n"
      ]
     },
     "execution_count": 79,
     "metadata": {},
     "output_type": "execute_result"
    },
    {
     "data": {
      "text/html": [
       "<html><body><pre>M = 3x3 double\n",
       "     1     1     1\n",
       "     1     0     0\n",
       "     0     0     0\n",
       "</pre></body></html>"
      ],
      "text/plain": [
       "M = 3x3 double\n",
       "     1     1     1\n",
       "     1     0     0\n",
       "     0     0     0\n"
      ]
     },
     "execution_count": 79,
     "metadata": {},
     "output_type": "execute_result"
    },
    {
     "data": {
      "text/html": [
       "<html><body><pre>M = 3x3 double\n",
       "     1     1     1\n",
       "     1     1     0\n",
       "     0     0     0\n",
       "</pre></body></html>"
      ],
      "text/plain": [
       "M = 3x3 double\n",
       "     1     1     1\n",
       "     1     1     0\n",
       "     0     0     0\n"
      ]
     },
     "execution_count": 79,
     "metadata": {},
     "output_type": "execute_result"
    },
    {
     "data": {
      "text/html": [
       "<html><body><pre>M = 3x3 double\n",
       "     1     1     1\n",
       "     1     1     1\n",
       "     0     0     0\n",
       "</pre></body></html>"
      ],
      "text/plain": [
       "M = 3x3 double\n",
       "     1     1     1\n",
       "     1     1     1\n",
       "     0     0     0\n"
      ]
     },
     "execution_count": 79,
     "metadata": {},
     "output_type": "execute_result"
    },
    {
     "data": {
      "text/html": [
       "<html><body><pre>M = 3x3 double\n",
       "     1     1     1\n",
       "     1     1     1\n",
       "     1     0     0\n",
       "</pre></body></html>"
      ],
      "text/plain": [
       "M = 3x3 double\n",
       "     1     1     1\n",
       "     1     1     1\n",
       "     1     0     0\n"
      ]
     },
     "execution_count": 79,
     "metadata": {},
     "output_type": "execute_result"
    },
    {
     "data": {
      "text/html": [
       "<html><body><pre>M = 3x3 double\n",
       "     1     1     1\n",
       "     1     1     1\n",
       "     1     1     0\n",
       "</pre></body></html>"
      ],
      "text/plain": [
       "M = 3x3 double\n",
       "     1     1     1\n",
       "     1     1     1\n",
       "     1     1     0\n"
      ]
     },
     "execution_count": 79,
     "metadata": {},
     "output_type": "execute_result"
    },
    {
     "data": {
      "text/html": [
       "<html><body><pre>M = 3x3 double\n",
       "     1     1     1\n",
       "     1     1     1\n",
       "     1     1     1\n",
       "</pre></body></html>"
      ],
      "text/plain": [
       "M = 3x3 double\n",
       "     1     1     1\n",
       "     1     1     1\n",
       "     1     1     1\n"
      ]
     },
     "execution_count": 79,
     "metadata": {},
     "output_type": "execute_result"
    }
   ],
   "source": [
    "M = zeros(3,3)\n",
    "for x = 1:3\n",
    "    for y = 1:3\n",
    "        M(x,y) = 1\n",
    "    end\n",
    "end"
   ]
  },
  {
   "cell_type": "markdown",
   "id": "e39a1c2c-641e-4f1b-bc97-b9ccd1d5fcc2",
   "metadata": {},
   "source": [
    "Of course, in practice, we will not do this because MATLAB has function ones(), which allows the creation of matrices or vectors in which each element is assigned a value of 1."
   ]
  },
  {
   "cell_type": "code",
   "execution_count": 81,
   "id": "f9873644-d352-4708-9121-81ac99f7d48b",
   "metadata": {
    "tags": []
   },
   "outputs": [
    {
     "data": {
      "text/html": [
       "<html><body><pre>N = 3x3 double\n",
       "     1     1     1\n",
       "     1     1     1\n",
       "     1     1     1\n",
       "</pre></body></html>"
      ],
      "text/plain": [
       "N = 3x3 double\n",
       "     1     1     1\n",
       "     1     1     1\n",
       "     1     1     1\n"
      ]
     },
     "execution_count": 81,
     "metadata": {},
     "output_type": "execute_result"
    }
   ],
   "source": [
    "N = ones(3,3)"
   ]
  },
  {
   "cell_type": "markdown",
   "id": "30caa4fe-9aa2-4b6a-8e6e-e99f60f40b95",
   "metadata": {},
   "source": [
    "Great, now we will do something more challenging. We will generate the following matrix:"
   ]
  },
  {
   "cell_type": "code",
   "execution_count": 83,
   "id": "36c93a10-58d1-4c58-99ed-b455e8301d37",
   "metadata": {
    "tags": []
   },
   "outputs": [
    {
     "data": {
      "text/html": [
       "<html><body><pre>A = 3x3 double\n",
       "     2     3     4\n",
       "     3     4     5\n",
       "     4     5     6\n",
       "</pre></body></html>"
      ],
      "text/plain": [
       "A = 3x3 double\n",
       "     2     3     4\n",
       "     3     4     5\n",
       "     4     5     6\n"
      ]
     },
     "execution_count": 83,
     "metadata": {},
     "output_type": "execute_result"
    }
   ],
   "source": [
    "A = [2,3,4 ; 3,4,5 ; 4,5,6]"
   ]
  },
  {
   "cell_type": "markdown",
   "id": "745a1dfa-14fb-46b0-abfb-835f3081ae6b",
   "metadata": {},
   "source": [
    "Notice that the matrix has nine cells but only five different values. We will generate a loop over all the possible cells, and we will check a condition over the cell, and given the condition that is met, we will assign a value to it."
   ]
  },
  {
   "cell_type": "code",
   "execution_count": 85,
   "id": "361bd100-aa69-4f9c-9c8f-06ffa63fc32c",
   "metadata": {},
   "outputs": [
    {
     "data": {
      "text/html": [
       "<html><body><pre>C = 3x3 double\n",
       "     0     0     0\n",
       "     0     0     0\n",
       "     0     0     0\n",
       "</pre></body></html>"
      ],
      "text/plain": [
       "C = 3x3 double\n",
       "     0     0     0\n",
       "     0     0     0\n",
       "     0     0     0\n"
      ]
     },
     "execution_count": 85,
     "metadata": {},
     "output_type": "execute_result"
    },
    {
     "data": {
      "text/html": [
       "<html><body><pre>C = 3x3 double\n",
       "     2     0     0\n",
       "     0     0     0\n",
       "     0     0     0\n",
       "</pre></body></html>"
      ],
      "text/plain": [
       "C = 3x3 double\n",
       "     2     0     0\n",
       "     0     0     0\n",
       "     0     0     0\n"
      ]
     },
     "execution_count": 85,
     "metadata": {},
     "output_type": "execute_result"
    },
    {
     "data": {
      "text/html": [
       "<html><body><pre>C = 3x3 double\n",
       "     2     3     0\n",
       "     0     0     0\n",
       "     0     0     0\n",
       "</pre></body></html>"
      ],
      "text/plain": [
       "C = 3x3 double\n",
       "     2     3     0\n",
       "     0     0     0\n",
       "     0     0     0\n"
      ]
     },
     "execution_count": 85,
     "metadata": {},
     "output_type": "execute_result"
    },
    {
     "data": {
      "text/html": [
       "<html><body><pre>C = 3x3 double\n",
       "     2     3     4\n",
       "     0     0     0\n",
       "     0     0     0\n",
       "</pre></body></html>"
      ],
      "text/plain": [
       "C = 3x3 double\n",
       "     2     3     4\n",
       "     0     0     0\n",
       "     0     0     0\n"
      ]
     },
     "execution_count": 85,
     "metadata": {},
     "output_type": "execute_result"
    },
    {
     "data": {
      "text/html": [
       "<html><body><pre>C = 3x3 double\n",
       "     2     3     4\n",
       "     3     0     0\n",
       "     0     0     0\n",
       "</pre></body></html>"
      ],
      "text/plain": [
       "C = 3x3 double\n",
       "     2     3     4\n",
       "     3     0     0\n",
       "     0     0     0\n"
      ]
     },
     "execution_count": 85,
     "metadata": {},
     "output_type": "execute_result"
    },
    {
     "data": {
      "text/html": [
       "<html><body><pre>C = 3x3 double\n",
       "     2     3     4\n",
       "     3     4     0\n",
       "     0     0     0\n",
       "</pre></body></html>"
      ],
      "text/plain": [
       "C = 3x3 double\n",
       "     2     3     4\n",
       "     3     4     0\n",
       "     0     0     0\n"
      ]
     },
     "execution_count": 85,
     "metadata": {},
     "output_type": "execute_result"
    },
    {
     "data": {
      "text/html": [
       "<html><body><pre>C = 3x3 double\n",
       "     2     3     4\n",
       "     3     4     5\n",
       "     0     0     0\n",
       "</pre></body></html>"
      ],
      "text/plain": [
       "C = 3x3 double\n",
       "     2     3     4\n",
       "     3     4     5\n",
       "     0     0     0\n"
      ]
     },
     "execution_count": 85,
     "metadata": {},
     "output_type": "execute_result"
    },
    {
     "data": {
      "text/html": [
       "<html><body><pre>C = 3x3 double\n",
       "     2     3     4\n",
       "     3     4     5\n",
       "     4     0     0\n",
       "</pre></body></html>"
      ],
      "text/plain": [
       "C = 3x3 double\n",
       "     2     3     4\n",
       "     3     4     5\n",
       "     4     0     0\n"
      ]
     },
     "execution_count": 85,
     "metadata": {},
     "output_type": "execute_result"
    },
    {
     "data": {
      "text/html": [
       "<html><body><pre>C = 3x3 double\n",
       "     2     3     4\n",
       "     3     4     5\n",
       "     4     5     0\n",
       "</pre></body></html>"
      ],
      "text/plain": [
       "C = 3x3 double\n",
       "     2     3     4\n",
       "     3     4     5\n",
       "     4     5     0\n"
      ]
     },
     "execution_count": 85,
     "metadata": {},
     "output_type": "execute_result"
    },
    {
     "data": {
      "text/html": [
       "<html><body><pre>C = 3x3 double\n",
       "     2     3     4\n",
       "     3     4     5\n",
       "     4     5     6\n",
       "</pre></body></html>"
      ],
      "text/plain": [
       "C = 3x3 double\n",
       "     2     3     4\n",
       "     3     4     5\n",
       "     4     5     6\n"
      ]
     },
     "execution_count": 85,
     "metadata": {},
     "output_type": "execute_result"
    }
   ],
   "source": [
    "C = zeros(3,3)\n",
    "for x = 1:3\n",
    "    for y = 1:3\n",
    "        if x==1 & y==1\n",
    "            C(x,y)=2\n",
    "        elseif (x==2 & y==1) | (x==1 & y==2)\n",
    "            C(x,y)=3\n",
    "        elseif (x==3 & y==1) | (x==2 & y==2) | (x==1 & y==3)\n",
    "            C(x,y)=4\n",
    "        elseif (x==2 & y==3) | (x==3 & y==2)\n",
    "            C(x,y)=5\n",
    "        elseif x==3 & y==3\n",
    "            C(x,y)=6\n",
    "        end\n",
    "    end\n",
    "end"
   ]
  },
  {
   "cell_type": "markdown",
   "id": "2248bc3a-7db9-4c65-b0e0-4ef97ee81a82",
   "metadata": {},
   "source": [
    "OK, this works, but it is a bit long and tedious. Can we simplify this code? Yes! There are several ways of making this code shorter. Can you think of one? I like the following two ways of thinking about the problem."
   ]
  },
  {
   "cell_type": "markdown",
   "id": "c48dc480-1f3e-404c-81a2-03ecd258c699",
   "metadata": {},
   "source": [
    "Notice that the matrix starts at 2, and then every time we move a space in every direction, we increase the cell's value by one. So, we can write this procedure to compute the value of the cells."
   ]
  },
  {
   "cell_type": "code",
   "execution_count": 88,
   "id": "833ae26b-f913-4de0-894f-95a1f116ea66",
   "metadata": {
    "tags": []
   },
   "outputs": [
    {
     "data": {
      "text/html": [
       "<html><body><pre>C = 3x3 double\n",
       "     2     0     0\n",
       "     0     0     0\n",
       "     0     0     0\n",
       "</pre></body></html>"
      ],
      "text/plain": [
       "C = 3x3 double\n",
       "     2     0     0\n",
       "     0     0     0\n",
       "     0     0     0\n"
      ]
     },
     "execution_count": 88,
     "metadata": {},
     "output_type": "execute_result"
    },
    {
     "data": {
      "text/html": [
       "<html><body><pre>C = 3x3 double\n",
       "     2     3     0\n",
       "     0     0     0\n",
       "     0     0     0\n",
       "</pre></body></html>"
      ],
      "text/plain": [
       "C = 3x3 double\n",
       "     2     3     0\n",
       "     0     0     0\n",
       "     0     0     0\n"
      ]
     },
     "execution_count": 88,
     "metadata": {},
     "output_type": "execute_result"
    },
    {
     "data": {
      "text/html": [
       "<html><body><pre>C = 3x3 double\n",
       "     2     3     4\n",
       "     0     0     0\n",
       "     0     0     0\n",
       "</pre></body></html>"
      ],
      "text/plain": [
       "C = 3x3 double\n",
       "     2     3     4\n",
       "     0     0     0\n",
       "     0     0     0\n"
      ]
     },
     "execution_count": 88,
     "metadata": {},
     "output_type": "execute_result"
    },
    {
     "data": {
      "text/html": [
       "<html><body><pre>C = 3x3 double\n",
       "     2     3     4\n",
       "     3     0     0\n",
       "     0     0     0\n",
       "</pre></body></html>"
      ],
      "text/plain": [
       "C = 3x3 double\n",
       "     2     3     4\n",
       "     3     0     0\n",
       "     0     0     0\n"
      ]
     },
     "execution_count": 88,
     "metadata": {},
     "output_type": "execute_result"
    },
    {
     "data": {
      "text/html": [
       "<html><body><pre>C = 3x3 double\n",
       "     2     3     4\n",
       "     3     4     0\n",
       "     0     0     0\n",
       "</pre></body></html>"
      ],
      "text/plain": [
       "C = 3x3 double\n",
       "     2     3     4\n",
       "     3     4     0\n",
       "     0     0     0\n"
      ]
     },
     "execution_count": 88,
     "metadata": {},
     "output_type": "execute_result"
    },
    {
     "data": {
      "text/html": [
       "<html><body><pre>C = 3x3 double\n",
       "     2     3     4\n",
       "     3     4     5\n",
       "     0     0     0\n",
       "</pre></body></html>"
      ],
      "text/plain": [
       "C = 3x3 double\n",
       "     2     3     4\n",
       "     3     4     5\n",
       "     0     0     0\n"
      ]
     },
     "execution_count": 88,
     "metadata": {},
     "output_type": "execute_result"
    },
    {
     "data": {
      "text/html": [
       "<html><body><pre>C = 3x3 double\n",
       "     2     3     4\n",
       "     3     4     5\n",
       "     4     0     0\n",
       "</pre></body></html>"
      ],
      "text/plain": [
       "C = 3x3 double\n",
       "     2     3     4\n",
       "     3     4     5\n",
       "     4     0     0\n"
      ]
     },
     "execution_count": 88,
     "metadata": {},
     "output_type": "execute_result"
    },
    {
     "data": {
      "text/html": [
       "<html><body><pre>C = 3x3 double\n",
       "     2     3     4\n",
       "     3     4     5\n",
       "     4     5     0\n",
       "</pre></body></html>"
      ],
      "text/plain": [
       "C = 3x3 double\n",
       "     2     3     4\n",
       "     3     4     5\n",
       "     4     5     0\n"
      ]
     },
     "execution_count": 88,
     "metadata": {},
     "output_type": "execute_result"
    },
    {
     "data": {
      "text/html": [
       "<html><body><pre>C = 3x3 double\n",
       "     2     3     4\n",
       "     3     4     5\n",
       "     4     5     6\n",
       "</pre></body></html>"
      ],
      "text/plain": [
       "C = 3x3 double\n",
       "     2     3     4\n",
       "     3     4     5\n",
       "     4     5     6\n"
      ]
     },
     "execution_count": 88,
     "metadata": {},
     "output_type": "execute_result"
    }
   ],
   "source": [
    "C = zeros(3,3);\n",
    "for x = 1:3\n",
    "    for y =1:3\n",
    "        C(x,y)=2+(x-1)+(y-1)\n",
    "    end\n",
    "end"
   ]
  },
  {
   "cell_type": "markdown",
   "id": "c441154a-94ed-4725-9ae6-059caeb8b4b0",
   "metadata": {},
   "source": [
    "Great, this is a lot shorter! Can we simplify this more? Yes, we can. We can simplify terms in our expression and achieve that the value of a cell is just x+y"
   ]
  },
  {
   "cell_type": "code",
   "execution_count": 90,
   "id": "5c2f948d-9f23-487d-a5a2-1cb7a187b8ca",
   "metadata": {
    "tags": []
   },
   "outputs": [
    {
     "data": {
      "text/html": [
       "<html><body><pre>C = 3x3 double\n",
       "     2     0     0\n",
       "     0     0     0\n",
       "     0     0     0\n",
       "</pre></body></html>"
      ],
      "text/plain": [
       "C = 3x3 double\n",
       "     2     0     0\n",
       "     0     0     0\n",
       "     0     0     0\n"
      ]
     },
     "execution_count": 90,
     "metadata": {},
     "output_type": "execute_result"
    },
    {
     "data": {
      "text/html": [
       "<html><body><pre>C = 3x3 double\n",
       "     2     3     0\n",
       "     0     0     0\n",
       "     0     0     0\n",
       "</pre></body></html>"
      ],
      "text/plain": [
       "C = 3x3 double\n",
       "     2     3     0\n",
       "     0     0     0\n",
       "     0     0     0\n"
      ]
     },
     "execution_count": 90,
     "metadata": {},
     "output_type": "execute_result"
    },
    {
     "data": {
      "text/html": [
       "<html><body><pre>C = 3x3 double\n",
       "     2     3     4\n",
       "     0     0     0\n",
       "     0     0     0\n",
       "</pre></body></html>"
      ],
      "text/plain": [
       "C = 3x3 double\n",
       "     2     3     4\n",
       "     0     0     0\n",
       "     0     0     0\n"
      ]
     },
     "execution_count": 90,
     "metadata": {},
     "output_type": "execute_result"
    },
    {
     "data": {
      "text/html": [
       "<html><body><pre>C = 3x3 double\n",
       "     2     3     4\n",
       "     3     0     0\n",
       "     0     0     0\n",
       "</pre></body></html>"
      ],
      "text/plain": [
       "C = 3x3 double\n",
       "     2     3     4\n",
       "     3     0     0\n",
       "     0     0     0\n"
      ]
     },
     "execution_count": 90,
     "metadata": {},
     "output_type": "execute_result"
    },
    {
     "data": {
      "text/html": [
       "<html><body><pre>C = 3x3 double\n",
       "     2     3     4\n",
       "     3     4     0\n",
       "     0     0     0\n",
       "</pre></body></html>"
      ],
      "text/plain": [
       "C = 3x3 double\n",
       "     2     3     4\n",
       "     3     4     0\n",
       "     0     0     0\n"
      ]
     },
     "execution_count": 90,
     "metadata": {},
     "output_type": "execute_result"
    },
    {
     "data": {
      "text/html": [
       "<html><body><pre>C = 3x3 double\n",
       "     2     3     4\n",
       "     3     4     5\n",
       "     0     0     0\n",
       "</pre></body></html>"
      ],
      "text/plain": [
       "C = 3x3 double\n",
       "     2     3     4\n",
       "     3     4     5\n",
       "     0     0     0\n"
      ]
     },
     "execution_count": 90,
     "metadata": {},
     "output_type": "execute_result"
    },
    {
     "data": {
      "text/html": [
       "<html><body><pre>C = 3x3 double\n",
       "     2     3     4\n",
       "     3     4     5\n",
       "     4     0     0\n",
       "</pre></body></html>"
      ],
      "text/plain": [
       "C = 3x3 double\n",
       "     2     3     4\n",
       "     3     4     5\n",
       "     4     0     0\n"
      ]
     },
     "execution_count": 90,
     "metadata": {},
     "output_type": "execute_result"
    },
    {
     "data": {
      "text/html": [
       "<html><body><pre>C = 3x3 double\n",
       "     2     3     4\n",
       "     3     4     5\n",
       "     4     5     0\n",
       "</pre></body></html>"
      ],
      "text/plain": [
       "C = 3x3 double\n",
       "     2     3     4\n",
       "     3     4     5\n",
       "     4     5     0\n"
      ]
     },
     "execution_count": 90,
     "metadata": {},
     "output_type": "execute_result"
    },
    {
     "data": {
      "text/html": [
       "<html><body><pre>C = 3x3 double\n",
       "     2     3     4\n",
       "     3     4     5\n",
       "     4     5     6\n",
       "</pre></body></html>"
      ],
      "text/plain": [
       "C = 3x3 double\n",
       "     2     3     4\n",
       "     3     4     5\n",
       "     4     5     6\n"
      ]
     },
     "execution_count": 90,
     "metadata": {},
     "output_type": "execute_result"
    }
   ],
   "source": [
    "C = zeros(3,3);\n",
    "for x = 1:3\n",
    "    for y =1:3\n",
    "        C(x,y)=x+y\n",
    "    end\n",
    "end"
   ]
  },
  {
   "cell_type": "markdown",
   "id": "d5f48fb1-7213-40b4-bb6b-0b93ec32c122",
   "metadata": {},
   "source": [
    "Brilliant. Now, we will discuss the function length(). This function is helpful because it will give us a measure of the \"size\" of a variable. So let's generate a variable A (scalar), B (vector), and C (matrix) and see what length() gives us as a result:"
   ]
  },
  {
   "cell_type": "code",
   "execution_count": 92,
   "id": "16a6b020-8517-4b32-8dd3-97f58d4317da",
   "metadata": {
    "tags": []
   },
   "outputs": [
    {
     "name": "stdout",
     "output_type": "stream",
     "text": [
      " LENGTH   Length of vector.\n",
      "    LENGTH(X) returns the length of vector X.  It is equivalent\n",
      "    to MAX(SIZE(X)) for non-empty arrays and 0 for empty ones.\n",
      "   \n",
      "    See also NUMEL.\n",
      "\n",
      "    Documentation for length\n",
      "       doc length\n",
      "\n",
      "    Other uses of length\n",
      "\n",
      "       categorical/length\n",
      "       codistributed/length\n",
      "       Composite/length\n",
      "       containers.Map/length\n",
      "       dataset/length\n",
      "       datetime/length\n",
      "       dictionary/length\n",
      "       digraph/length\n",
      "       distributed/length\n",
      "       duration/length\n",
      "       gpuArray/length\n",
      "       graph/length\n",
      "       matlab.mixin.indexing.RedefinesParen/length\n",
      "       serial/length\n",
      "       tabular/length\n",
      "       tall/length\n",
      "       tscollection/length\n",
      "\n"
     ]
    }
   ],
   "source": [
    "help length"
   ]
  },
  {
   "cell_type": "code",
   "execution_count": 93,
   "id": "d9a2a679-09a9-4245-90bc-10534c759744",
   "metadata": {
    "tags": []
   },
   "outputs": [
    {
     "data": {
      "text/html": [
       "<html><body><pre>ans = 1</pre></body></html>"
      ],
      "text/plain": [
       "ans = 1"
      ]
     },
     "execution_count": 93,
     "metadata": {},
     "output_type": "execute_result"
    },
    {
     "data": {
      "text/html": [
       "<html><body><pre>ans = 10</pre></body></html>"
      ],
      "text/plain": [
       "ans = 10"
      ]
     },
     "execution_count": 93,
     "metadata": {},
     "output_type": "execute_result"
    },
    {
     "data": {
      "text/html": [
       "<html><body><pre>ans = 4</pre></body></html>"
      ],
      "text/plain": [
       "ans = 4"
      ]
     },
     "execution_count": 93,
     "metadata": {},
     "output_type": "execute_result"
    },
    {
     "data": {
      "text/html": [
       "<html><body><pre>ans = 4</pre></body></html>"
      ],
      "text/plain": [
       "ans = 4"
      ]
     },
     "execution_count": 93,
     "metadata": {},
     "output_type": "execute_result"
    }
   ],
   "source": [
    "A = 5;\n",
    "B = linspace(1,10,10);\n",
    "C = ones(3,4);\n",
    "length(A)\n",
    "length(B)\n",
    "length(C)\n",
    "length(C')"
   ]
  },
  {
   "cell_type": "markdown",
   "id": "fa50b41e-f8a0-41cb-b500-71f5309a5e21",
   "metadata": {},
   "source": [
    "Excellent. Now, I would like to discuss briefly the difference between a string and a char class. Let's see the difference between the variables S and C:"
   ]
  },
  {
   "cell_type": "code",
   "execution_count": 95,
   "id": "502590e4-d620-4113-a69e-a19b4369bdb4",
   "metadata": {
    "tags": []
   },
   "outputs": [
    {
     "data": {
      "text/html": [
       "<html><body><pre>C = 'This workshop is amazing'</pre></body></html>"
      ],
      "text/plain": [
       "C = 'This workshop is amazing'"
      ]
     },
     "execution_count": 95,
     "metadata": {},
     "output_type": "execute_result"
    },
    {
     "data": {
      "text/html": [
       "<html><body><pre>S = \"This workshop is amazing\"</pre></body></html>"
      ],
      "text/plain": [
       "S = \"This workshop is amazing\""
      ]
     },
     "execution_count": 95,
     "metadata": {},
     "output_type": "execute_result"
    }
   ],
   "source": [
    "C = 'This workshop is amazing'\n",
    "S = \"This workshop is amazing\""
   ]
  },
  {
   "cell_type": "markdown",
   "id": "d55a4d69-ba68-49f1-a884-5beb5313e6a8",
   "metadata": {},
   "source": [
    "Now, we will apply length() to them:"
   ]
  },
  {
   "cell_type": "code",
   "execution_count": 97,
   "id": "1e8aea4b-dc49-4dff-b0cc-868e62d29a25",
   "metadata": {
    "tags": []
   },
   "outputs": [
    {
     "data": {
      "text/html": [
       "<html><body><pre>ans = 24</pre></body></html>"
      ],
      "text/plain": [
       "ans = 24"
      ]
     },
     "execution_count": 97,
     "metadata": {},
     "output_type": "execute_result"
    },
    {
     "data": {
      "text/html": [
       "<html><body><pre>ans = 1</pre></body></html>"
      ],
      "text/plain": [
       "ans = 1"
      ]
     },
     "execution_count": 97,
     "metadata": {},
     "output_type": "execute_result"
    }
   ],
   "source": [
    "length(C)\n",
    "length(S)"
   ]
  },
  {
   "cell_type": "markdown",
   "id": "c363c4e1-5602-4d6b-ba58-d99f7d41576c",
   "metadata": {},
   "source": [
    "There is a huge difference between them. Let's think again about the difference between the string and the char classes. The string considers that the entire variable is just one element, so its length is 1. On the other hand, the char class considers each character as an element; therefore, the length is the same as the number of characters we have in the variable."
   ]
  },
  {
   "cell_type": "markdown",
   "id": "3493c267-867b-409b-89ca-d60632ea29b8",
   "metadata": {},
   "source": [
    "Now, we will use this property and ask in a loop to display each letter of the variable C. To do this, we will use the loop from the value 1 to the length of the variable."
   ]
  },
  {
   "cell_type": "code",
   "execution_count": 100,
   "id": "ed8c2369-4fea-4b6c-a3af-08af8e2f8695",
   "metadata": {
    "tags": []
   },
   "outputs": [
    {
     "data": {
      "text/html": [
       "<html><body><pre>ans = 'T'</pre></body></html>"
      ],
      "text/plain": [
       "ans = 'T'"
      ]
     },
     "execution_count": 100,
     "metadata": {},
     "output_type": "execute_result"
    },
    {
     "data": {
      "text/html": [
       "<html><body><pre>ans = 'h'</pre></body></html>"
      ],
      "text/plain": [
       "ans = 'h'"
      ]
     },
     "execution_count": 100,
     "metadata": {},
     "output_type": "execute_result"
    },
    {
     "data": {
      "text/html": [
       "<html><body><pre>ans = 'i'</pre></body></html>"
      ],
      "text/plain": [
       "ans = 'i'"
      ]
     },
     "execution_count": 100,
     "metadata": {},
     "output_type": "execute_result"
    },
    {
     "data": {
      "text/html": [
       "<html><body><pre>ans = 's'</pre></body></html>"
      ],
      "text/plain": [
       "ans = 's'"
      ]
     },
     "execution_count": 100,
     "metadata": {},
     "output_type": "execute_result"
    },
    {
     "data": {
      "text/html": [
       "<html><body><pre>ans = ' '</pre></body></html>"
      ],
      "text/plain": [
       "ans = ' '"
      ]
     },
     "execution_count": 100,
     "metadata": {},
     "output_type": "execute_result"
    },
    {
     "data": {
      "text/html": [
       "<html><body><pre>ans = 'w'</pre></body></html>"
      ],
      "text/plain": [
       "ans = 'w'"
      ]
     },
     "execution_count": 100,
     "metadata": {},
     "output_type": "execute_result"
    },
    {
     "data": {
      "text/html": [
       "<html><body><pre>ans = 'o'</pre></body></html>"
      ],
      "text/plain": [
       "ans = 'o'"
      ]
     },
     "execution_count": 100,
     "metadata": {},
     "output_type": "execute_result"
    },
    {
     "data": {
      "text/html": [
       "<html><body><pre>ans = 'r'</pre></body></html>"
      ],
      "text/plain": [
       "ans = 'r'"
      ]
     },
     "execution_count": 100,
     "metadata": {},
     "output_type": "execute_result"
    },
    {
     "data": {
      "text/html": [
       "<html><body><pre>ans = 'k'</pre></body></html>"
      ],
      "text/plain": [
       "ans = 'k'"
      ]
     },
     "execution_count": 100,
     "metadata": {},
     "output_type": "execute_result"
    },
    {
     "data": {
      "text/html": [
       "<html><body><pre>ans = 's'</pre></body></html>"
      ],
      "text/plain": [
       "ans = 's'"
      ]
     },
     "execution_count": 100,
     "metadata": {},
     "output_type": "execute_result"
    },
    {
     "data": {
      "text/html": [
       "<html><body><pre>ans = 'h'</pre></body></html>"
      ],
      "text/plain": [
       "ans = 'h'"
      ]
     },
     "execution_count": 100,
     "metadata": {},
     "output_type": "execute_result"
    },
    {
     "data": {
      "text/html": [
       "<html><body><pre>ans = 'o'</pre></body></html>"
      ],
      "text/plain": [
       "ans = 'o'"
      ]
     },
     "execution_count": 100,
     "metadata": {},
     "output_type": "execute_result"
    },
    {
     "data": {
      "text/html": [
       "<html><body><pre>ans = 'p'</pre></body></html>"
      ],
      "text/plain": [
       "ans = 'p'"
      ]
     },
     "execution_count": 100,
     "metadata": {},
     "output_type": "execute_result"
    },
    {
     "data": {
      "text/html": [
       "<html><body><pre>ans = ' '</pre></body></html>"
      ],
      "text/plain": [
       "ans = ' '"
      ]
     },
     "execution_count": 100,
     "metadata": {},
     "output_type": "execute_result"
    },
    {
     "data": {
      "text/html": [
       "<html><body><pre>ans = 'i'</pre></body></html>"
      ],
      "text/plain": [
       "ans = 'i'"
      ]
     },
     "execution_count": 100,
     "metadata": {},
     "output_type": "execute_result"
    },
    {
     "data": {
      "text/html": [
       "<html><body><pre>ans = 's'</pre></body></html>"
      ],
      "text/plain": [
       "ans = 's'"
      ]
     },
     "execution_count": 100,
     "metadata": {},
     "output_type": "execute_result"
    },
    {
     "data": {
      "text/html": [
       "<html><body><pre>ans = ' '</pre></body></html>"
      ],
      "text/plain": [
       "ans = ' '"
      ]
     },
     "execution_count": 100,
     "metadata": {},
     "output_type": "execute_result"
    },
    {
     "data": {
      "text/html": [
       "<html><body><pre>ans = 'a'</pre></body></html>"
      ],
      "text/plain": [
       "ans = 'a'"
      ]
     },
     "execution_count": 100,
     "metadata": {},
     "output_type": "execute_result"
    },
    {
     "data": {
      "text/html": [
       "<html><body><pre>ans = 'm'</pre></body></html>"
      ],
      "text/plain": [
       "ans = 'm'"
      ]
     },
     "execution_count": 100,
     "metadata": {},
     "output_type": "execute_result"
    },
    {
     "data": {
      "text/html": [
       "<html><body><pre>ans = 'a'</pre></body></html>"
      ],
      "text/plain": [
       "ans = 'a'"
      ]
     },
     "execution_count": 100,
     "metadata": {},
     "output_type": "execute_result"
    },
    {
     "data": {
      "text/html": [
       "<html><body><pre>ans = 'z'</pre></body></html>"
      ],
      "text/plain": [
       "ans = 'z'"
      ]
     },
     "execution_count": 100,
     "metadata": {},
     "output_type": "execute_result"
    },
    {
     "data": {
      "text/html": [
       "<html><body><pre>ans = 'i'</pre></body></html>"
      ],
      "text/plain": [
       "ans = 'i'"
      ]
     },
     "execution_count": 100,
     "metadata": {},
     "output_type": "execute_result"
    },
    {
     "data": {
      "text/html": [
       "<html><body><pre>ans = 'n'</pre></body></html>"
      ],
      "text/plain": [
       "ans = 'n'"
      ]
     },
     "execution_count": 100,
     "metadata": {},
     "output_type": "execute_result"
    },
    {
     "data": {
      "text/html": [
       "<html><body><pre>ans = 'g'</pre></body></html>"
      ],
      "text/plain": [
       "ans = 'g'"
      ]
     },
     "execution_count": 100,
     "metadata": {},
     "output_type": "execute_result"
    }
   ],
   "source": [
    "for i = 1:length(C)\n",
    "    C(i)\n",
    "end"
   ]
  },
  {
   "cell_type": "markdown",
   "id": "611b6810-f3d5-4586-b750-ca64f48a388f",
   "metadata": {},
   "source": [
    "Also, we can count characters. For example, imagine that we are interested in how often we use the letter 'i'. We can generate a loop to count them:"
   ]
  },
  {
   "cell_type": "code",
   "execution_count": 102,
   "id": "843d5e7e-378b-4ab3-8425-bef188b0c704",
   "metadata": {
    "tags": []
   },
   "outputs": [
    {
     "data": {
      "text/html": [
       "<html><body><pre>count = 1</pre></body></html>"
      ],
      "text/plain": [
       "count = 1"
      ]
     },
     "execution_count": 102,
     "metadata": {},
     "output_type": "execute_result"
    },
    {
     "data": {
      "text/html": [
       "<html><body><pre>count = 2</pre></body></html>"
      ],
      "text/plain": [
       "count = 2"
      ]
     },
     "execution_count": 102,
     "metadata": {},
     "output_type": "execute_result"
    },
    {
     "data": {
      "text/html": [
       "<html><body><pre>count = 3</pre></body></html>"
      ],
      "text/plain": [
       "count = 3"
      ]
     },
     "execution_count": 102,
     "metadata": {},
     "output_type": "execute_result"
    }
   ],
   "source": [
    "count = 0;\n",
    "for i = 1:length(C)\n",
    "    if C(i)=='i'\n",
    "        count = count + 1\n",
    "    end\n",
    "end"
   ]
  },
  {
   "cell_type": "markdown",
   "id": "55ea1818-bd69-41da-90a6-5fe0c77d008d",
   "metadata": {},
   "source": [
    "Fantastic. Now, we know how to do a loop and use logical operators. This is a big step. Next, we will talk about functions."
   ]
  },
  {
   "cell_type": "markdown",
   "id": "46d45ee6-9451-475d-9aed-86bf0f3d0b32",
   "metadata": {
    "tags": []
   },
   "source": [
    "## 5. Functions"
   ]
  },
  {
   "cell_type": "markdown",
   "id": "3435ed0a-e1f4-46f0-a8ae-c6ecfd29b7ad",
   "metadata": {},
   "source": [
    "We can divide functions into three types: built-in functions, local functions, and anonymous functions. Built-in functions are the functions that we already have available in MATLAB, such as linspace(), class(), or length().\n",
    "\n",
    "Local functions are functions created into a file that we can call from all the m.files that share the same directory. Finally, anonymous functions are functions specifically designed into an m.file."
   ]
  },
  {
   "cell_type": "markdown",
   "id": "79a29130-5a12-4187-87c2-b04f74c5b739",
   "metadata": {},
   "source": [
    "So now, we will create a local function named square()"
   ]
  },
  {
   "cell_type": "code",
   "execution_count": 107,
   "id": "dccec771-bd94-4413-8864-7466dc448b87",
   "metadata": {
    "tags": []
   },
   "outputs": [],
   "source": [
    "function value = square(x)\n",
    "    value = x^2;\n",
    "end"
   ]
  },
  {
   "cell_type": "markdown",
   "id": "b4633566-d35e-40b3-a3c5-114b7c57a6f6",
   "metadata": {},
   "source": [
    "So, we created a function called squared(). This function requires only a variable and will give us the squared of that variable as an output. Notice that the file is located in the same folder. Let's try it!"
   ]
  },
  {
   "cell_type": "code",
   "execution_count": 109,
   "id": "c1f00f7f-04cd-4d75-ba55-3897f376f500",
   "metadata": {
    "tags": []
   },
   "outputs": [
    {
     "name": "stderr",
     "output_type": "stream",
     "text": [
      "'square' is not found in the current folder or on the MATLAB path, but exists in:\n",
      "    C:\\Users\\afuen\\Desktop\\Matlab Workshop\n",
      "\n",
      "Change the MATLAB current folder or add its folder to the MATLAB path."
     ]
    }
   ],
   "source": [
    "a = square(5)"
   ]
  },
  {
   "cell_type": "markdown",
   "id": "9e5bf08d-142b-4545-b06c-5eb56a6edea3",
   "metadata": {
    "tags": []
   },
   "source": [
    "This is great! What happens if we use a vector?"
   ]
  },
  {
   "cell_type": "code",
   "execution_count": 111,
   "id": "d5fc8ab5-add9-4680-83d8-979c97a70284",
   "metadata": {
    "tags": []
   },
   "outputs": [
    {
     "data": {
      "text/html": [
       "<html><body><pre>v = 1x5 double\n",
       "     1     2     3     4     5\n",
       "</pre></body></html>"
      ],
      "text/plain": [
       "v = 1x5 double\n",
       "     1     2     3     4     5\n"
      ]
     },
     "execution_count": 111,
     "metadata": {},
     "output_type": "execute_result"
    },
    {
     "name": "stderr",
     "output_type": "stream",
     "text": [
      "'square' is not found in the current folder or on the MATLAB path, but exists in:\n",
      "    C:\\Users\\afuen\\Desktop\\Matlab Workshop\n",
      "\n",
      "Change the MATLAB current folder or add its folder to the MATLAB path."
     ]
    }
   ],
   "source": [
    "v = linspace(1,5,5)\n",
    "A = square(v)"
   ]
  },
  {
   "cell_type": "markdown",
   "id": "67c73220-5619-41f8-b307-34353a18adb7",
   "metadata": {},
   "source": [
    "Argh. We have the same error as before because we cannot multiply vectors with the same dimensions. However, we can do it per element, so we will redefine our function to do this."
   ]
  },
  {
   "cell_type": "code",
   "execution_count": 113,
   "id": "92b45ab0-86a0-407c-b2c6-5ee138d3d244",
   "metadata": {
    "tags": []
   },
   "outputs": [],
   "source": [
    "function value = square(x)\n",
    "    value = x.^2;\n",
    "end"
   ]
  },
  {
   "cell_type": "code",
   "execution_count": 114,
   "id": "5175f748-aa6b-4099-8268-a986f390bea1",
   "metadata": {
    "scrolled": true,
    "tags": []
   },
   "outputs": [
    {
     "name": "stderr",
     "output_type": "stream",
     "text": [
      "'square' is not found in the current folder or on the MATLAB path, but exists in:\n",
      "    C:\\Users\\afuen\\Desktop\\Matlab Workshop\n",
      "\n",
      "Change the MATLAB current folder or add its folder to the MATLAB path."
     ]
    }
   ],
   "source": [
    "A = square(v)"
   ]
  },
  {
   "cell_type": "markdown",
   "id": "c60006dd-3311-4fb3-ae94-061ed8da06c9",
   "metadata": {},
   "source": [
    "Very good. What if we pass a matrix?"
   ]
  },
  {
   "cell_type": "code",
   "execution_count": 116,
   "id": "a60af564-bc8f-447a-8f7a-522218ed7565",
   "metadata": {
    "tags": []
   },
   "outputs": [
    {
     "name": "stderr",
     "output_type": "stream",
     "text": [
      "'square' is not found in the current folder or on the MATLAB path, but exists in:\n",
      "    C:\\Users\\afuen\\Desktop\\Matlab Workshop\n",
      "\n",
      "Change the MATLAB current folder or add its folder to the MATLAB path."
     ]
    }
   ],
   "source": [
    "M = [1,2,3 ; 4,5,6 ; 7,8,9];\n",
    "B = square(M)"
   ]
  },
  {
   "cell_type": "markdown",
   "id": "a2240bdd-386a-4859-9fe1-7054c9980ce2",
   "metadata": {},
   "source": [
    "It also works! What if we pass a string?"
   ]
  },
  {
   "cell_type": "code",
   "execution_count": 118,
   "id": "74e46c20-8951-404e-ba30-c94a202db8df",
   "metadata": {
    "tags": []
   },
   "outputs": [
    {
     "name": "stderr",
     "output_type": "stream",
     "text": [
      "'square' is not found in the current folder or on the MATLAB path, but exists in:\n",
      "    C:\\Users\\afuen\\Desktop\\Matlab Workshop\n",
      "\n",
      "Change the MATLAB current folder or add its folder to the MATLAB path."
     ]
    }
   ],
   "source": [
    "S = \"MATLAB is great\";\n",
    "C = square(S)"
   ]
  },
  {
   "cell_type": "markdown",
   "id": "da11f80f-b85a-4eb2-9859-96a32ea0b931",
   "metadata": {},
   "source": [
    "OK, it makes sense. Can we change our function so that instead of giving us an error, the function will tell us that we need to use double class variables? Yes, we can!"
   ]
  },
  {
   "cell_type": "code",
   "execution_count": 120,
   "id": "543c3039-2161-408f-8336-7d4a8ffc1faa",
   "metadata": {
    "tags": []
   },
   "outputs": [],
   "source": [
    "function value = square(x)\n",
    "    \n",
    "    if isstring(x)\n",
    "        disp('This function requires a double variable.')\n",
    "\n",
    "    else\n",
    "        value = x.^2;\n",
    "        \n",
    "    end\n",
    "        \n",
    "end"
   ]
  },
  {
   "cell_type": "code",
   "execution_count": 121,
   "id": "23dc5cc4-f791-45e9-8c7c-db89260e2c03",
   "metadata": {
    "tags": []
   },
   "outputs": [
    {
     "name": "stderr",
     "output_type": "stream",
     "text": [
      "'square' is not found in the current folder or on the MATLAB path, but exists in:\n",
      "    C:\\Users\\afuen\\Desktop\\Matlab Workshop\n",
      "\n",
      "Change the MATLAB current folder or add its folder to the MATLAB path."
     ]
    }
   ],
   "source": [
    "square(S)"
   ]
  },
  {
   "cell_type": "markdown",
   "id": "f0ddfab0-6745-4cf8-a0dd-def39216d4c7",
   "metadata": {
    "tags": []
   },
   "source": [
    "Great. Now, we will create something more complicated. We will make a function that solves a second-order equation, giving us a message in case the function has imaginary solutions. "
   ]
  },
  {
   "cell_type": "markdown",
   "id": "3e15709d-0e25-42c3-83cb-31d87b929f76",
   "metadata": {},
   "source": [
    "The structure of a second order equation is given by:\n",
    "$$ ax^2 + bx + c = 0 $$"
   ]
  },
  {
   "cell_type": "markdown",
   "id": "3554e5da-f372-4f39-ab14-1593baac8a0c",
   "metadata": {},
   "source": [
    "And we know that the solutions are given by:\n",
    "$$ x^* = \\frac{-b \\pm \\sqrt{b^2 - 4ac} }{2a} $$"
   ]
  },
  {
   "cell_type": "markdown",
   "id": "e0b3ed20-c344-4b79-9d79-eb879e51a7ca",
   "metadata": {},
   "source": [
    "Our function will require three inputs: a, b, and c. It will also return the two solutions."
   ]
  },
  {
   "cell_type": "code",
   "execution_count": 126,
   "id": "8168dca9-937f-47c0-8c00-34ef653cfe73",
   "metadata": {},
   "outputs": [],
   "source": [
    "function [x_1,x_2] = solver_second_order(a,b,c)\n",
    "\n",
    "    det = b.^2-4*a*c;\n",
    "\n",
    "    x_1 = (-b + sqrt(det))./(2.*a);\n",
    "\n",
    "    x_2 = (-b - sqrt(det))./(2.*a);\n",
    "\n",
    "    if det<0\n",
    "        disp(\"Solutions are imaginary\")\n",
    "\n",
    "end"
   ]
  },
  {
   "cell_type": "code",
   "execution_count": 127,
   "id": "ab019161-9de3-440b-a2a7-b0b4ccea986f",
   "metadata": {},
   "outputs": [
    {
     "name": "stderr",
     "output_type": "stream",
     "text": [
      "Unrecognized function or variable 'solver_second_order'."
     ]
    }
   ],
   "source": [
    "[x_1,x_2] = solver_second_order(1,0,-4)"
   ]
  },
  {
   "cell_type": "code",
   "execution_count": 128,
   "id": "56b0d886-776d-472a-a42c-77c6fa8d1c38",
   "metadata": {},
   "outputs": [
    {
     "name": "stderr",
     "output_type": "stream",
     "text": [
      "Unrecognized function or variable 'solver_second_order'."
     ]
    }
   ],
   "source": [
    "[x_1,x_2] = solver_second_order(5,4,-3)"
   ]
  },
  {
   "cell_type": "code",
   "execution_count": 129,
   "id": "0c1eb45a-1be3-436a-8042-48444c019e2e",
   "metadata": {},
   "outputs": [
    {
     "name": "stderr",
     "output_type": "stream",
     "text": [
      "Unrecognized function or variable 'solver_second_order'."
     ]
    }
   ],
   "source": [
    "[x_1,x_2] = solver_second_order(5,4,3)"
   ]
  },
  {
   "cell_type": "markdown",
   "id": "e0746502-6a76-42db-a0d2-769ca76fc80b",
   "metadata": {},
   "source": [
    "Good. Now notice that we can nest our functions. For example, instead of using b.^2 in our function solver_second_order(), we can use the function square(). When using functions inside a function, we say that we are nesting functions."
   ]
  },
  {
   "cell_type": "code",
   "execution_count": 131,
   "id": "307b15c6-d137-4bf7-9ddc-1b644c7db706",
   "metadata": {},
   "outputs": [],
   "source": [
    "function [x_1,x_2] = solver_second_order(a,b,c)\n",
    "\n",
    "    det = square(b)-4*a*c;\n",
    "\n",
    "    x_1 = (-b + sqrt(det))./(2.*a);\n",
    "\n",
    "    x_2 = (-b - sqrt(det))./(2.*a);\n",
    "\n",
    "    if det<0\n",
    "        disp(\"Solutions are imaginary\")\n",
    "\n",
    "end"
   ]
  },
  {
   "cell_type": "code",
   "execution_count": 132,
   "id": "3e387d9c-b943-40b4-bff8-0c3177ec3a39",
   "metadata": {},
   "outputs": [
    {
     "name": "stderr",
     "output_type": "stream",
     "text": [
      "Unrecognized function or variable 'solver_second_order'."
     ]
    }
   ],
   "source": [
    "[x_1,x_2] = solver_second_order(1,0,-16)"
   ]
  },
  {
   "cell_type": "markdown",
   "id": "e670c728-225c-4c5e-9c2b-e3e8ea2361f8",
   "metadata": {},
   "source": [
    "Excellent. So now we know how to define local functions and nest them. One last type of function we need to learn is the anonymous function. This function is usually more minor and more straightforward than the local function. The main characteristic is that we do not need to store it in a file. \n",
    "\n",
    "To define an anonymous function, we pass it a name (a bit ironic), then state the arguments and the function by itself."
   ]
  },
  {
   "cell_type": "code",
   "execution_count": 134,
   "id": "a22ac135-38ba-438a-9ef2-5816913756b8",
   "metadata": {},
   "outputs": [],
   "source": [
    "q = @(x) x.^2 - x.^3;"
   ]
  },
  {
   "cell_type": "markdown",
   "id": "cb996156-4493-4310-b100-164389738814",
   "metadata": {},
   "source": [
    "And then we just call it"
   ]
  },
  {
   "cell_type": "code",
   "execution_count": 136,
   "id": "cd725f18-40d8-42d4-bd1f-4e6dd7e223a2",
   "metadata": {},
   "outputs": [
    {
     "data": {
      "text/html": [
       "<html><body><pre>a = -100</pre></body></html>"
      ],
      "text/plain": [
       "a = -100"
      ]
     },
     "execution_count": 136,
     "metadata": {},
     "output_type": "execute_result"
    }
   ],
   "source": [
    "a=q(5)"
   ]
  },
  {
   "cell_type": "markdown",
   "id": "9f2d7dd9-f16e-4492-af27-33c91c1a6115",
   "metadata": {},
   "source": [
    "Anonymous functions can also use local or in-built functions in the tasks. "
   ]
  },
  {
   "cell_type": "code",
   "execution_count": 138,
   "id": "825cbccb-4ac7-4c57-abfc-28fb3148cd73",
   "metadata": {},
   "outputs": [],
   "source": [
    "q = @(x) square(x) - x.^3;"
   ]
  },
  {
   "cell_type": "code",
   "execution_count": 139,
   "id": "4ba5372e-6e8a-4f97-bbee-16e984af090b",
   "metadata": {},
   "outputs": [
    {
     "name": "stderr",
     "output_type": "stream",
     "text": [
      "'square' is not found in the current folder or on the MATLAB path, but exists in:\n",
      "    C:\\Users\\afuen\\Desktop\\Matlab Workshop\n",
      "\n",
      "Change the MATLAB current folder or add its folder to the MATLAB path.\n",
      "\n",
      "Error in Notebook>@(x)square(x)-x.^3 (line 1)\n",
      "b=q(5)"
     ]
    }
   ],
   "source": [
    "b=q(5)"
   ]
  },
  {
   "cell_type": "markdown",
   "id": "f7889e38-b4fb-4be4-b444-7130ec697028",
   "metadata": {},
   "source": [
    "It is possible to obtain multiple outputs from an anonymous function, but the general advice is that you should use a local function if you need more than one output."
   ]
  },
  {
   "cell_type": "markdown",
   "id": "82a3a012-f214-4e84-9304-21de8e378794",
   "metadata": {},
   "source": [
    "## 6. Iterations"
   ]
  },
  {
   "cell_type": "markdown",
   "id": "970bec71-1f03-4063-bc3f-2696eb2174cb",
   "metadata": {},
   "source": [
    "Now, we will understand how to make an iteration. Conceptually, when we iterate, we are looking for some equilibrium that is difficult to obtain analytically. So, we will start with a guess of the solution and then try to see if we can solve the problem. If we solve it, great! It is done. If we do not solve the problem, we _**update**_ the guess and do the procedure again until we obtain the solution (i.e., until we obtain the convergence)."
   ]
  },
  {
   "cell_type": "markdown",
   "id": "160dba24-37da-469e-b4c0-1fc5b55bd45a",
   "metadata": {},
   "source": [
    "To iterate something, we need to understand a new command: while. The command \"While\" performs a routine _while_ a specific condition is met. Here is an example:"
   ]
  },
  {
   "cell_type": "code",
   "execution_count": 144,
   "id": "59936b82-9718-4ceb-abe6-c613d45df133",
   "metadata": {},
   "outputs": [
    {
     "data": {
      "text/html": [
       "<html><body><pre>distance = 10</pre></body></html>"
      ],
      "text/plain": [
       "distance = 10"
      ]
     },
     "execution_count": 144,
     "metadata": {},
     "output_type": "execute_result"
    },
    {
     "data": {
      "text/html": [
       "<html><body><pre>steps = 0</pre></body></html>"
      ],
      "text/plain": [
       "steps = 0"
      ]
     },
     "execution_count": 144,
     "metadata": {},
     "output_type": "execute_result"
    },
    {
     "data": {
      "text/html": [
       "<html><body><pre>steps = 1</pre></body></html>"
      ],
      "text/plain": [
       "steps = 1"
      ]
     },
     "execution_count": 144,
     "metadata": {},
     "output_type": "execute_result"
    },
    {
     "data": {
      "text/html": [
       "<html><body><pre>distance = 9</pre></body></html>"
      ],
      "text/plain": [
       "distance = 9"
      ]
     },
     "execution_count": 144,
     "metadata": {},
     "output_type": "execute_result"
    },
    {
     "data": {
      "text/html": [
       "<html><body><pre>steps = 2</pre></body></html>"
      ],
      "text/plain": [
       "steps = 2"
      ]
     },
     "execution_count": 144,
     "metadata": {},
     "output_type": "execute_result"
    },
    {
     "data": {
      "text/html": [
       "<html><body><pre>distance = 8</pre></body></html>"
      ],
      "text/plain": [
       "distance = 8"
      ]
     },
     "execution_count": 144,
     "metadata": {},
     "output_type": "execute_result"
    },
    {
     "data": {
      "text/html": [
       "<html><body><pre>steps = 3</pre></body></html>"
      ],
      "text/plain": [
       "steps = 3"
      ]
     },
     "execution_count": 144,
     "metadata": {},
     "output_type": "execute_result"
    },
    {
     "data": {
      "text/html": [
       "<html><body><pre>distance = 7</pre></body></html>"
      ],
      "text/plain": [
       "distance = 7"
      ]
     },
     "execution_count": 144,
     "metadata": {},
     "output_type": "execute_result"
    },
    {
     "data": {
      "text/html": [
       "<html><body><pre>steps = 4</pre></body></html>"
      ],
      "text/plain": [
       "steps = 4"
      ]
     },
     "execution_count": 144,
     "metadata": {},
     "output_type": "execute_result"
    },
    {
     "data": {
      "text/html": [
       "<html><body><pre>distance = 6</pre></body></html>"
      ],
      "text/plain": [
       "distance = 6"
      ]
     },
     "execution_count": 144,
     "metadata": {},
     "output_type": "execute_result"
    },
    {
     "data": {
      "text/html": [
       "<html><body><pre>steps = 5</pre></body></html>"
      ],
      "text/plain": [
       "steps = 5"
      ]
     },
     "execution_count": 144,
     "metadata": {},
     "output_type": "execute_result"
    },
    {
     "data": {
      "text/html": [
       "<html><body><pre>distance = 5</pre></body></html>"
      ],
      "text/plain": [
       "distance = 5"
      ]
     },
     "execution_count": 144,
     "metadata": {},
     "output_type": "execute_result"
    },
    {
     "data": {
      "text/html": [
       "<html><body><pre>steps = 6</pre></body></html>"
      ],
      "text/plain": [
       "steps = 6"
      ]
     },
     "execution_count": 144,
     "metadata": {},
     "output_type": "execute_result"
    },
    {
     "data": {
      "text/html": [
       "<html><body><pre>distance = 4</pre></body></html>"
      ],
      "text/plain": [
       "distance = 4"
      ]
     },
     "execution_count": 144,
     "metadata": {},
     "output_type": "execute_result"
    },
    {
     "data": {
      "text/html": [
       "<html><body><pre>steps = 7</pre></body></html>"
      ],
      "text/plain": [
       "steps = 7"
      ]
     },
     "execution_count": 144,
     "metadata": {},
     "output_type": "execute_result"
    },
    {
     "data": {
      "text/html": [
       "<html><body><pre>distance = 3</pre></body></html>"
      ],
      "text/plain": [
       "distance = 3"
      ]
     },
     "execution_count": 144,
     "metadata": {},
     "output_type": "execute_result"
    },
    {
     "data": {
      "text/html": [
       "<html><body><pre>steps = 8</pre></body></html>"
      ],
      "text/plain": [
       "steps = 8"
      ]
     },
     "execution_count": 144,
     "metadata": {},
     "output_type": "execute_result"
    },
    {
     "data": {
      "text/html": [
       "<html><body><pre>distance = 2</pre></body></html>"
      ],
      "text/plain": [
       "distance = 2"
      ]
     },
     "execution_count": 144,
     "metadata": {},
     "output_type": "execute_result"
    },
    {
     "data": {
      "text/html": [
       "<html><body><pre>steps = 9</pre></body></html>"
      ],
      "text/plain": [
       "steps = 9"
      ]
     },
     "execution_count": 144,
     "metadata": {},
     "output_type": "execute_result"
    },
    {
     "data": {
      "text/html": [
       "<html><body><pre>distance = 1</pre></body></html>"
      ],
      "text/plain": [
       "distance = 1"
      ]
     },
     "execution_count": 144,
     "metadata": {},
     "output_type": "execute_result"
    },
    {
     "data": {
      "text/html": [
       "<html><body><pre>steps = 10</pre></body></html>"
      ],
      "text/plain": [
       "steps = 10"
      ]
     },
     "execution_count": 144,
     "metadata": {},
     "output_type": "execute_result"
    },
    {
     "data": {
      "text/html": [
       "<html><body><pre>distance = 0</pre></body></html>"
      ],
      "text/plain": [
       "distance = 0"
      ]
     },
     "execution_count": 144,
     "metadata": {},
     "output_type": "execute_result"
    }
   ],
   "source": [
    "distance = 10\n",
    "steps = 0\n",
    "\n",
    "while distance > 0\n",
    "    steps = steps + 1\n",
    "    distance = distance - 1\n",
    "end"
   ]
  },
  {
   "cell_type": "markdown",
   "id": "2172ff5c-b957-43eb-b0ee-7f774931c99f",
   "metadata": {},
   "source": [
    "Because it is our first iteration, we will start with something simple. However, this time, you will try to do it alone first! (How exciting, right?). The problem is the following: We are going to iterate to solve the equilibrium of a market that is characterized by the following demand and supply:\n",
    "\n",
    "$$ P = 100 - 2Q $$\n",
    "\n",
    "$$ P = 10 + 3Q $$\n",
    "\n",
    "To solve this iteration, you need to follow these steps:\n",
    "\n",
    "1. Generate a variable called distance to keep track of the difference between demand and supply.\n",
    "2. Assume a guess for equilibrium quantity\n",
    "3. Now start the iteration (use the command while) and iterate while the distance is bigger than 0.1.\n",
    "    - Compute the price associated to the demand and the price associated to the supply using your guess.\n",
    "    - Update the distance variable with the difference between demand and supply in absolute value (you can use the abs() function for this).\n",
    "    - If the demand price exceeds the supply price, increase the quantity guess in one unit. If the opposite happens, decrease the quantity guess in one unit. For the conditional parts, you can use if and elseif."
   ]
  },
  {
   "cell_type": "code",
   "execution_count": 146,
   "id": "e5ed8a8a-50fd-4e70-b772-2f6307c4d4d6",
   "metadata": {},
   "outputs": [
    {
     "data": {
      "text/html": [
       "<html><body><pre>dis = 1</pre></body></html>"
      ],
      "text/plain": [
       "dis = 1"
      ]
     },
     "execution_count": 146,
     "metadata": {},
     "output_type": "execute_result"
    },
    {
     "data": {
      "text/html": [
       "<html><body><pre>eps = 0.1000</pre></body></html>"
      ],
      "text/plain": [
       "eps = 0.1000"
      ]
     },
     "execution_count": 146,
     "metadata": {},
     "output_type": "execute_result"
    },
    {
     "data": {
      "text/html": [
       "<html><body><pre>Q_guess = 19</pre></body></html>"
      ],
      "text/plain": [
       "Q_guess = 19"
      ]
     },
     "execution_count": 146,
     "metadata": {},
     "output_type": "execute_result"
    },
    {
     "data": {
      "text/html": [
       "<html><body><pre>dis = 5</pre></body></html>"
      ],
      "text/plain": [
       "dis = 5"
      ]
     },
     "execution_count": 146,
     "metadata": {},
     "output_type": "execute_result"
    },
    {
     "name": "stdout",
     "output_type": "stream",
     "text": [
      "Supply cost is bigger than demand valoration, decreasing quantity\n"
     ]
    },
    {
     "data": {
      "text/html": [
       "<html><body><pre>Q_guess = 18</pre></body></html>"
      ],
      "text/plain": [
       "Q_guess = 18"
      ]
     },
     "execution_count": 146,
     "metadata": {},
     "output_type": "execute_result"
    },
    {
     "data": {
      "text/html": [
       "<html><body><pre>dis = 0</pre></body></html>"
      ],
      "text/plain": [
       "dis = 0"
      ]
     },
     "execution_count": 146,
     "metadata": {},
     "output_type": "execute_result"
    },
    {
     "name": "stdout",
     "output_type": "stream",
     "text": [
      "Equilibrium was found! The quantity in equilibrium is 18 and the price of equilibrium is 64\n"
     ]
    }
   ],
   "source": [
    "dis = 1\n",
    "eps = 0.1\n",
    "\n",
    "Q_guess = 19\n",
    "\n",
    "while dis > eps\n",
    "    demand = 100 - 2*Q_guess;\n",
    "    supply = 10 + 3*Q_guess;\n",
    "    \n",
    "    dis = abs(demand - supply)\n",
    "    \n",
    "    if demand>supply\n",
    "        disp(\"Demand valoration is bigger than supply cost, increasing quantity\")\n",
    "        Q_guess=Q_guess+1\n",
    "    elseif supply>demand\n",
    "        disp(\"Supply cost is bigger than demand valoration, decreasing quantity\")\n",
    "        Q_guess=Q_guess-1\n",
    "    elseif supply==demand\n",
    "        P_eq = 10 + 3*Q_guess;\n",
    "        Message = ['Equilibrium was found! The quantity in equilibrium is ',num2str(Q_guess), ' and the price of equilibrium is ',num2str(P_eq)];\n",
    "        disp(Message)\n",
    "    end\n",
    "\n",
    "end"
   ]
  },
  {
   "cell_type": "markdown",
   "id": "3ee87273-990c-4f20-adf6-8c3583014c4f",
   "metadata": {},
   "source": [
    "And that is iteration! I know it is tricky to understand, but we will work on this in the workshop, so do not worry too much about it for now."
   ]
  },
  {
   "cell_type": "markdown",
   "id": "b42a30d8-c3e0-4cbb-aa21-67528dca6994",
   "metadata": {
    "tags": []
   },
   "source": [
    "## 7. Vectorization"
   ]
  },
  {
   "cell_type": "markdown",
   "id": "e3e854cf-c455-49d0-8397-0121b4f6dc30",
   "metadata": {},
   "source": [
    "Let's think about the following process:"
   ]
  },
  {
   "cell_type": "code",
   "execution_count": 150,
   "id": "30e57ddf-e2f5-458c-9b26-4118c2e15667",
   "metadata": {},
   "outputs": [
    {
     "name": "stdout",
     "output_type": "stream",
     "text": [
      "Elapsed time is 33.507670 seconds.\n"
     ]
    }
   ],
   "source": [
    "tic\n",
    "\n",
    "for j = 1:1000\n",
    "    \n",
    "    v = zeros(1,1000000);\n",
    "    for i=1:length(v)\n",
    "        v(i)=sin(i);\n",
    "    end\n",
    "    \n",
    "end\n",
    "\n",
    "toc"
   ]
  },
  {
   "cell_type": "markdown",
   "id": "55668509-8ccf-4233-810c-940a726f183a",
   "metadata": {},
   "source": [
    "Vectorization consists of using vector operations (e.g., computing a vector in a loop) instead of scalar operations (e.g., computing a scalar in a loop). MATLAB is much faster when computing vectors, so you should vectorize your code every time you can."
   ]
  },
  {
   "cell_type": "code",
   "execution_count": 152,
   "id": "4820dbf5-a98c-4a6e-8615-f2d643e7ff21",
   "metadata": {},
   "outputs": [
    {
     "name": "stdout",
     "output_type": "stream",
     "text": [
      "Elapsed time is 10.490754 seconds.\n"
     ]
    }
   ],
   "source": [
    "tic\n",
    "\n",
    "for j = 1:1000\n",
    "    \n",
    "    x = sin(linspace(1,1000000,1000000));\n",
    "    \n",
    "end\n",
    "\n",
    "toc"
   ]
  },
  {
   "cell_type": "markdown",
   "id": "8a86a4c7-c0eb-49b4-828d-1c15b2baec75",
   "metadata": {},
   "source": [
    "Just to be sure that we are doing the same thing, we will compute a metric for the difference between each cell of the vectors:"
   ]
  },
  {
   "cell_type": "code",
   "execution_count": 154,
   "id": "d9d107f2-8f99-40f9-9003-50dfcd9812cf",
   "metadata": {},
   "outputs": [
    {
     "data": {
      "text/html": [
       "<html><body><pre>ans = 0</pre></body></html>"
      ],
      "text/plain": [
       "ans = 0"
      ]
     },
     "execution_count": 154,
     "metadata": {},
     "output_type": "execute_result"
    }
   ],
   "source": [
    "sum(abs(x-v))"
   ]
  },
  {
   "cell_type": "markdown",
   "id": "1afe46dc-b461-413c-b489-2fcdce1fb618",
   "metadata": {},
   "source": [
    "Great! They are the same. We will try a new exercise: We will work with a random matrix with dimensions 1000x1000 (so 1 million total cells!). We want to leave only the value between a specific window, let's say [0.25,0.75], so if the value of each cell is outside that range, we will change it to zero. The non-vectorized way of doing this is the following:"
   ]
  },
  {
   "cell_type": "code",
   "execution_count": 156,
   "id": "9c9323d9-5719-4426-940a-db2522c1bfa7",
   "metadata": {},
   "outputs": [
    {
     "name": "stdout",
     "output_type": "stream",
     "text": [
      "Elapsed time is 0.041322 seconds.\n"
     ]
    }
   ],
   "source": [
    "tic\n",
    "\n",
    "M = rand(1000,1000);\n",
    "\n",
    "for x=1:length(M)\n",
    "    for y=1:length(M)\n",
    "        if M(x,y)<0.25\n",
    "            M(x,y)=0.25;\n",
    "        elseif M(x,y)>0.75\n",
    "            M(x,y)=0.75;\n",
    "        end\n",
    "    end\n",
    "end\n",
    "\n",
    "toc"
   ]
  },
  {
   "cell_type": "markdown",
   "id": "2c0e50e0-8494-4917-85c8-985b5f0fff22",
   "metadata": {},
   "source": [
    "And the vectorized way of doing this is the following:"
   ]
  },
  {
   "cell_type": "code",
   "execution_count": 158,
   "id": "cf61f95d-8f8c-419b-bc0a-b78ffe4951be",
   "metadata": {},
   "outputs": [
    {
     "name": "stdout",
     "output_type": "stream",
     "text": [
      "Elapsed time is 0.013114 seconds.\n"
     ]
    }
   ],
   "source": [
    "tic\n",
    "\n",
    "M = rand(1000,1000);\n",
    "\n",
    "M = min(max(M,0.25),0.75);\n",
    "\n",
    "toc"
   ]
  },
  {
   "cell_type": "markdown",
   "id": "65898870-cf14-4588-9151-4d8ac9482028",
   "metadata": {},
   "source": [
    "In this case, the functions max() and min() are very useful since they can operate on matrices of different dimensions. Remember that in MATLAB, a scalar can be considered a matrix with dimensions 1x1."
   ]
  },
  {
   "cell_type": "markdown",
   "id": "b6d4255d-9c77-4b1f-9510-3f8a87d53504",
   "metadata": {},
   "source": [
    "## 8. Distributions and plots"
   ]
  },
  {
   "cell_type": "markdown",
   "id": "4730cc42-5cd5-4136-a7da-7076b87a47ae",
   "metadata": {},
   "source": [
    "The last part of this first lecture will focus on distributions and plots. In this case, MATLAB is useful because we have a large repertory of functions that we can use to generate pseudo-random numbers that follow a certain distribution. Let's start with the rand(), which will give us numbers following a uniform distribution between 0 and 1."
   ]
  },
  {
   "cell_type": "markdown",
   "id": "76169d86-43f0-43ea-8c8a-e67c434f631f",
   "metadata": {},
   "source": [
    "So first, we will create a vector with 10 random draws:"
   ]
  },
  {
   "cell_type": "code",
   "execution_count": 163,
   "id": "f0a21e26-a610-4054-ab89-5a63e350fb97",
   "metadata": {},
   "outputs": [
    {
     "data": {
      "text/html": [
       "<html><body><pre>data = 10x1 double\n",
       "    0.7670\n",
       "    0.7002\n",
       "    0.1505\n",
       "    0.6437\n",
       "    0.7545\n",
       "    0.3857\n",
       "    0.6435\n",
       "    0.2949\n",
       "    0.2582\n",
       "    0.0706\n",
       "</pre></body></html>"
      ],
      "text/plain": [
       "data = 10x1 double\n",
       "    0.7670\n",
       "    0.7002\n",
       "    0.1505\n",
       "    0.6437\n",
       "    0.7545\n",
       "    0.3857\n",
       "    0.6435\n",
       "    0.2949\n",
       "    0.2582\n",
       "    0.0706\n"
      ]
     },
     "execution_count": 163,
     "metadata": {},
     "output_type": "execute_result"
    }
   ],
   "source": [
    "data = rand(10,1)"
   ]
  },
  {
   "cell_type": "markdown",
   "id": "77a74ee1-a844-4553-a7af-d3d8b4beda37",
   "metadata": {},
   "source": [
    "Now, we will plot the histogram using the function histogram(). Here, we will specify the number of bins equal to 10, so there will be a bar aggregating data from 0 to 0.1, 0.1 to 0.2, and so on."
   ]
  },
  {
   "cell_type": "code",
   "execution_count": 165,
   "id": "10d245b4-dfbb-4802-9230-4b590a7c8484",
   "metadata": {},
   "outputs": [
    {
     "data": {
      "image/png": "[encoded data removed]"
     },
     "execution_count": 165,
     "metadata": {},
     "output_type": "execute_result"
    }
   ],
   "source": [
    "histogram(data,10)"
   ]
  },
  {
   "cell_type": "markdown",
   "id": "34b1b300-e3f5-48fc-ad8d-a9c2781f9ba8",
   "metadata": {},
   "source": [
    "Hmm, this plot does not look like a uniform distribution. Maybe we need to add more data points:"
   ]
  },
  {
   "cell_type": "code",
   "execution_count": 167,
   "id": "3f865b90-e1ea-4cb4-9339-8d38f3240952",
   "metadata": {},
   "outputs": [
    {
     "data": {
      "image/png": "[encoded data removed]"
     },
     "execution_count": 167,
     "metadata": {},
     "output_type": "execute_result"
    }
   ],
   "source": [
    "data = rand(100,1);\n",
    "histogram(data,10)"
   ]
  },
  {
   "cell_type": "markdown",
   "id": "b51968fb-eb57-473a-931a-9feaf96bc6d2",
   "metadata": {},
   "source": [
    "It is better, but we are not there yet. More data!"
   ]
  },
  {
   "cell_type": "code",
   "execution_count": 169,
   "id": "391a8ede-7f56-40f9-97e0-192198ce8601",
   "metadata": {},
   "outputs": [
    {
     "data": {
      "image/png": "[encoded data removed]"
     },
     "execution_count": 169,
     "metadata": {},
     "output_type": "execute_result"
    }
   ],
   "source": [
    "data = rand(1000,1);\n",
    "histogram(data,10)"
   ]
  },
  {
   "cell_type": "markdown",
   "id": "343f9ed7-2cac-44cf-aacd-c5a228880f0e",
   "metadata": {},
   "source": [
    "More! Actually, let's use a MILLION points!"
   ]
  },
  {
   "cell_type": "code",
   "execution_count": 171,
   "id": "54df4efa-38fb-450e-90fb-06eec50d3e54",
   "metadata": {},
   "outputs": [
    {
     "data": {
      "image/png": "[encoded data removed]"
     },
     "execution_count": 171,
     "metadata": {},
     "output_type": "execute_result"
    }
   ],
   "source": [
    "data = rand(1000000,1);\n",
    "histogram(data,10)"
   ]
  },
  {
   "cell_type": "markdown",
   "id": "e84f4414-1ec3-4fc3-8b29-fdc061019153",
   "metadata": {},
   "source": [
    "Now it looks uniform! Brilliant."
   ]
  },
  {
   "cell_type": "markdown",
   "id": "83dc167a-202c-4cb7-8d55-10f4187cc5d3",
   "metadata": {},
   "source": [
    "Let's try a normal distribution now. For this distribution, we can use randn(). But I do not remember how to use it! We can use the command help."
   ]
  },
  {
   "cell_type": "code",
   "execution_count": 174,
   "id": "4619ef89-554c-4375-a53d-1d180bbc6abf",
   "metadata": {},
   "outputs": [
    {
     "name": "stdout",
     "output_type": "stream",
     "text": [
      " RANDN Normally distributed pseudorandom numbers.\n",
      "    R = RANDN(N) returns an N-by-N matrix containing pseudorandom values drawn\n",
      "    from the standard normal distribution.  RANDN(M,N) or RANDN([M,N]) returns\n",
      "    an M-by-N matrix. RANDN(M,N,P,...) or RANDN([M,N,P,...]) returns an\n",
      "    M-by-N-by-P-by-... array. RANDN returns a scalar.  RANDN(SIZE(A)) returns\n",
      "    an array the same size as A.\n",
      " \n",
      "    Note: The size inputs M, N, P, ... should be nonnegative integers.\n",
      "    Negative integers are treated as 0.\n",
      " \n",
      "    R = RANDN(..., CLASSNAME) returns an array of normal values of the \n",
      "    specified class. CLASSNAME can be 'double' or 'single'.\n",
      " \n",
      "    R = RANDN(..., 'like', Y) returns an array of normal values with\n",
      "    the same data type and complexity (real or complex) as the numeric\n",
      "    variable Y.\n",
      " \n",
      "    The sequence of numbers produced by RANDN is determined by the settings of\n",
      "    the uniform random number generator that underlies RAND, RANDN, and RANDI.\n",
      "    RANDN uses one or more uniform random values to create each normal random\n",
      "    value.  Control that shared random number generator using RNG.\n",
      "  \n",
      "    Examples:\n",
      " \n",
      "       Example 1: Generate values from a normal distribution with mean 1\n",
      "        and standard deviation 2.\n",
      "          r = 1 + 2.*randn(100,1);\n",
      " \n",
      "       Example 2: Generate values from a bivariate normal distribution with\n",
      "       specified mean vector and covariance matrix.\n",
      "          mu = [1 2];\n",
      "          Sigma = [1 .5; .5 2]; R = chol(Sigma);\n",
      "          z = repmat(mu,100,1) + randn(100,2)*R;\n",
      " \n",
      "       Example 3: Reset the random number generator used by RAND, RANDI, and\n",
      "       RANDN to its default startup settings, so that RANDN produces the same\n",
      "       random numbers as if you restarted MATLAB.\n",
      "          rng('default');\n",
      "          randn(1,5)\n",
      " \n",
      "       Example 4: Save the settings for the random number generator used by\n",
      "       RAND, RANDI, and RANDN, generate 5 values from RANDN, restore the\n",
      "       settings, and repeat those values.\n",
      "          s = rng\n",
      "          z1 = randn(1,5)\n",
      "          rng(s);\n",
      "          z2 = randn(1,5) % z2 contains exactly the same values as z1\n",
      " \n",
      "       Example 5: Reinitialize the random number generator used by RAND,\n",
      "       RANDI, and RANDN with a seed based on the current time.  RANDN will\n",
      "       return different values each time you do this.  NOTE: It is usually\n",
      "       not necessary to do this more than once per MATLAB session.\n",
      "          rng('shuffle');\n",
      "          randn(1,5)\n",
      " \n",
      "    See <a href=\"matlab:helpview([docroot '\\techdoc\\math\\math.map'],'update_random_number_generator')\">Replace Discouraged Syntaxes of rand and randn</a> to use RNG to replace\n",
      "    RANDN with the 'seed' or 'state' inputs.\n",
      " \n",
      "    See also RAND, RANDI, RNG, RANDSTREAM, RANDSTREAM/RANDN\n",
      "\n",
      "    Documentation for randn\n",
      "       doc randn\n",
      "\n",
      "    Other uses of randn\n",
      "\n",
      "       codistributed/randn        distributed/randn\n",
      "       codistributor1d/randn      gpuArray/randn\n",
      "       codistributor2dbc/randn    RandStream/randn\n",
      "\n"
     ]
    }
   ],
   "source": [
    "help randn"
   ]
  },
  {
   "cell_type": "markdown",
   "id": "b4252ddc-24b8-44ab-a607-a6537700e90d",
   "metadata": {},
   "source": [
    "Great! So, if we want a normal distribution with a mean zero and a standard deviation of 1, we just need to do the following:"
   ]
  },
  {
   "cell_type": "code",
   "execution_count": 176,
   "id": "258f4ce2-9de5-40b9-96d8-6323d49f3955",
   "metadata": {},
   "outputs": [
    {
     "data": {
      "image/png": "[encoded data removed]"
     },
     "execution_count": 176,
     "metadata": {},
     "output_type": "execute_result"
    }
   ],
   "source": [
    "data = randn(1000000,1);\n",
    "histogram(data,10)"
   ]
  },
  {
   "cell_type": "markdown",
   "id": "85d7e9b2-f990-4ac7-8e67-20480ec8664d",
   "metadata": {},
   "source": [
    "Hmm, this does not look like a normal distribution. Notice that the amount of data is not a problem because we have a million observations. The issue in this case is the number of bins; ten bins is OK for a uniform distribution, but it needs to be improved for a normal distribution. So we can increase the amount of bins to 100."
   ]
  },
  {
   "cell_type": "code",
   "execution_count": 178,
   "id": "cb2ed24f-afa7-4d52-b3cd-c57264336c27",
   "metadata": {},
   "outputs": [
    {
     "data": {
      "image/png": "[encoded data removed]"
     },
     "execution_count": 178,
     "metadata": {},
     "output_type": "execute_result"
    }
   ],
   "source": [
    "histogram(data,100)"
   ]
  },
  {
   "cell_type": "markdown",
   "id": "5438745e-a0d0-4ce7-a9ec-741311d325d2",
   "metadata": {},
   "source": [
    "There we have it! Amazing."
   ]
  },
  {
   "cell_type": "markdown",
   "id": "4a574266-edcd-477d-8d71-9ce11bfc0dfb",
   "metadata": {},
   "source": [
    "Now, we will improve the plot, using some options that MATLAB has available. Remember, the plotting system of MATLAB is so cool that Python created a plotting library based on it (Matplotlib)."
   ]
  },
  {
   "cell_type": "code",
   "execution_count": 181,
   "id": "63bd9f0e-ffaf-4c06-8ba3-6e8c8ffa0fa8",
   "metadata": {},
   "outputs": [
    {
     "data": {
      "image/png": "[encoded data removed]"
     },
     "execution_count": 181,
     "metadata": {},
     "output_type": "execute_result"
    }
   ],
   "source": [
    "histogram(data,2500,'Linestyle',\"none\",'FaceColor','red','EdgeColor','black','FaceAlpha',0.5)"
   ]
  },
  {
   "cell_type": "markdown",
   "id": "96c69322-06b5-4e0d-abc3-18a9682cd2f6",
   "metadata": {},
   "source": [
    "It looks pretty nice. What if we have two different normal distributions, and we want to plot them in the same figure? Well, we can do that."
   ]
  },
  {
   "cell_type": "code",
   "execution_count": 183,
   "id": "e7570eb7-d82d-4cf6-b7cd-ce556f6a9313",
   "metadata": {},
   "outputs": [
    {
     "data": {
      "image/png": "[encoded data removed]"
     },
     "execution_count": 183,
     "metadata": {},
     "output_type": "execute_result"
    }
   ],
   "source": [
    "data2 = 2+2*randn(1000000,1);\n",
    "\n",
    "figure\n",
    "histogram(data,2500,'Linestyle',\"none\",'FaceColor','red','EdgeColor','black','FaceAlpha',0.5)\n",
    "hold on\n",
    "histogram(data2,2500,'Linestyle',\"none\",'FaceColor','blue','EdgeColor','black','FaceAlpha',0.5)"
   ]
  },
  {
   "cell_type": "markdown",
   "id": "e8838e7d-f645-4739-9b38-028a77f163a4",
   "metadata": {},
   "source": [
    "Nice! What if we want three histograms in the same plot? Well, we just add it."
   ]
  },
  {
   "cell_type": "code",
   "execution_count": 185,
   "id": "e057ab50-747d-4c0f-8c9d-51d2d485cf05",
   "metadata": {},
   "outputs": [
    {
     "data": {
      "image/png": "[encoded data removed]"
     },
     "execution_count": 185,
     "metadata": {},
     "output_type": "execute_result"
    }
   ],
   "source": [
    "data3 = -2+1.5*randn(1000000,1);\n",
    "\n",
    "figure\n",
    "histogram(data,2500,'Linestyle',\"none\",'FaceColor','red','EdgeColor','black','FaceAlpha',0.5)\n",
    "hold on\n",
    "histogram(data2,2500,'Linestyle',\"none\",'FaceColor','blue','EdgeColor','black','FaceAlpha',0.5)\n",
    "histogram(data3,2500,'Linestyle',\"none\",'FaceColor','green','EdgeColor','black','FaceAlpha',0.5)"
   ]
  },
  {
   "cell_type": "markdown",
   "id": "43ec1f7c-ea03-4768-9428-870468182ad9",
   "metadata": {},
   "source": [
    "Excellent. Now, if we want to add the usual stuff:"
   ]
  },
  {
   "cell_type": "code",
   "execution_count": 187,
   "id": "09e7cd16-25d7-4b08-964d-4ed057f6ec1b",
   "metadata": {},
   "outputs": [
    {
     "data": {
      "image/png": "[encoded data removed]"
     },
     "execution_count": 187,
     "metadata": {},
     "output_type": "execute_result"
    }
   ],
   "source": [
    "figure\n",
    "histogram(data,2500,'Linestyle',\"none\",'FaceColor','red','EdgeColor','black','FaceAlpha',0.5)\n",
    "hold on\n",
    "histogram(data2,2500,'Linestyle',\"none\",'FaceColor','blue','EdgeColor','black','FaceAlpha',0.5)\n",
    "histogram(data3,2500,'Linestyle',\"none\",'FaceColor','green','EdgeColor','black','FaceAlpha',0.5)\n",
    "title('Three normal histograms')\n",
    "xlabel('Values') \n",
    "ylabel('Frecuency')\n",
    "legend({'N(0,1)','N(2,2)','N(-2,1.5)'},'Location','northeast')"
   ]
  },
  {
   "cell_type": "markdown",
   "id": "9c268a34-5227-462c-bd38-754076785452",
   "metadata": {},
   "source": [
    "Great. Now, imagine you are working on a file in LaTeX (No, Microsoft Word is not a thing). If you introduce this plot in your file, it will look weird because of the difference in the fonts. Can you solve this problem? Yes, of course! Just tell MATLAB to use the LaTeX interpreter!"
   ]
  },
  {
   "cell_type": "code",
   "execution_count": 189,
   "id": "e4d9f4e5-61ab-410f-a719-ccf237c5e109",
   "metadata": {},
   "outputs": [
    {
     "data": {
      "image/png": "[encoded data removed]"
     },
     "execution_count": 189,
     "metadata": {},
     "output_type": "execute_result"
    }
   ],
   "source": [
    "set(0,'defaulttextinterpreter','latex')\n",
    "\n",
    "figure\n",
    "histogram(data,2500,'Linestyle',\"none\",'FaceColor','red','EdgeColor','black','FaceAlpha',0.5)\n",
    "hold on\n",
    "histogram(data2,2500,'Linestyle',\"none\",'FaceColor','blue','EdgeColor','black','FaceAlpha',0.5)\n",
    "histogram(data3,2500,'Linestyle',\"none\",'FaceColor','green','EdgeColor','black','FaceAlpha',0.5)\n",
    "title('Three normal histograms')\n",
    "xlabel('Values') \n",
    "ylabel('Frecuency')\n",
    "legend({'$\\mathcal{N}(0,1)$','$\\mathcal{N}(2,2)$','$\\mathcal{N}(-2,1.5)$'},'Location','northeast','interpreter','latex')\n",
    "set(gca,'TickLabelInterpreter','latex')"
   ]
  },
  {
   "cell_type": "markdown",
   "id": "df9351bb-85f6-4612-9767-59571e9f576b",
   "metadata": {},
   "source": [
    "## 9. Final exercise"
   ]
  },
  {
   "cell_type": "markdown",
   "id": "9a539ecf-aad2-47e9-b5a1-d651f3ff4d4f",
   "metadata": {},
   "source": [
    "We will finish the first lecture with an exercise applying everything we know. So, the exercise is the following. We will solve the market equilibrium for these equations using iterations:\n",
    "\n",
    "$$ Q = 150 - P $$\n",
    "\n",
    "$$ Q = 50 + P $$"
   ]
  },
  {
   "cell_type": "markdown",
   "id": "b375b1f6-ba2a-43a0-acf0-d9cc622eb228",
   "metadata": {},
   "source": [
    "Once you have that, you will generate a plot with each curve and indicate the equilibrium quantity and price with a horizontal and vertical line. Easy-peasy."
   ]
  },
  {
   "cell_type": "code",
   "execution_count": 193,
   "id": "a810d995-eea3-4f90-a3b0-8ae974e0fe74",
   "metadata": {
    "tags": []
   },
   "outputs": [
    {
     "data": {
      "text/html": [
       "<html><body><pre>dis = 1</pre></body></html>"
      ],
      "text/plain": [
       "dis = 1"
      ]
     },
     "execution_count": 193,
     "metadata": {},
     "output_type": "execute_result"
    },
    {
     "data": {
      "text/html": [
       "<html><body><pre>eps = 0.1000</pre></body></html>"
      ],
      "text/plain": [
       "eps = 0.1000"
      ]
     },
     "execution_count": 193,
     "metadata": {},
     "output_type": "execute_result"
    },
    {
     "data": {
      "text/html": [
       "<html><body><pre>Q_guess = 45</pre></body></html>"
      ],
      "text/plain": [
       "Q_guess = 45"
      ]
     },
     "execution_count": 193,
     "metadata": {},
     "output_type": "execute_result"
    },
    {
     "data": {
      "text/html": [
       "<html><body><pre>dis = 10</pre></body></html>"
      ],
      "text/plain": [
       "dis = 10"
      ]
     },
     "execution_count": 193,
     "metadata": {},
     "output_type": "execute_result"
    },
    {
     "name": "stdout",
     "output_type": "stream",
     "text": [
      "Demand valoration is bigger than supply cost, increasing quantity\n"
     ]
    },
    {
     "data": {
      "text/html": [
       "<html><body><pre>Q_guess = 46</pre></body></html>"
      ],
      "text/plain": [
       "Q_guess = 46"
      ]
     },
     "execution_count": 193,
     "metadata": {},
     "output_type": "execute_result"
    },
    {
     "data": {
      "text/html": [
       "<html><body><pre>dis = 8</pre></body></html>"
      ],
      "text/plain": [
       "dis = 8"
      ]
     },
     "execution_count": 193,
     "metadata": {},
     "output_type": "execute_result"
    },
    {
     "name": "stdout",
     "output_type": "stream",
     "text": [
      "Demand valoration is bigger than supply cost, increasing quantity\n"
     ]
    },
    {
     "data": {
      "text/html": [
       "<html><body><pre>Q_guess = 47</pre></body></html>"
      ],
      "text/plain": [
       "Q_guess = 47"
      ]
     },
     "execution_count": 193,
     "metadata": {},
     "output_type": "execute_result"
    },
    {
     "data": {
      "text/html": [
       "<html><body><pre>dis = 6</pre></body></html>"
      ],
      "text/plain": [
       "dis = 6"
      ]
     },
     "execution_count": 193,
     "metadata": {},
     "output_type": "execute_result"
    },
    {
     "name": "stdout",
     "output_type": "stream",
     "text": [
      "Demand valoration is bigger than supply cost, increasing quantity\n"
     ]
    },
    {
     "data": {
      "text/html": [
       "<html><body><pre>Q_guess = 48</pre></body></html>"
      ],
      "text/plain": [
       "Q_guess = 48"
      ]
     },
     "execution_count": 193,
     "metadata": {},
     "output_type": "execute_result"
    },
    {
     "data": {
      "text/html": [
       "<html><body><pre>dis = 4</pre></body></html>"
      ],
      "text/plain": [
       "dis = 4"
      ]
     },
     "execution_count": 193,
     "metadata": {},
     "output_type": "execute_result"
    },
    {
     "name": "stdout",
     "output_type": "stream",
     "text": [
      "Demand valoration is bigger than supply cost, increasing quantity\n"
     ]
    },
    {
     "data": {
      "text/html": [
       "<html><body><pre>Q_guess = 49</pre></body></html>"
      ],
      "text/plain": [
       "Q_guess = 49"
      ]
     },
     "execution_count": 193,
     "metadata": {},
     "output_type": "execute_result"
    },
    {
     "data": {
      "text/html": [
       "<html><body><pre>dis = 2</pre></body></html>"
      ],
      "text/plain": [
       "dis = 2"
      ]
     },
     "execution_count": 193,
     "metadata": {},
     "output_type": "execute_result"
    },
    {
     "name": "stdout",
     "output_type": "stream",
     "text": [
      "Demand valoration is bigger than supply cost, increasing quantity\n"
     ]
    },
    {
     "data": {
      "text/html": [
       "<html><body><pre>Q_guess = 50</pre></body></html>"
      ],
      "text/plain": [
       "Q_guess = 50"
      ]
     },
     "execution_count": 193,
     "metadata": {},
     "output_type": "execute_result"
    },
    {
     "data": {
      "text/html": [
       "<html><body><pre>dis = 0</pre></body></html>"
      ],
      "text/plain": [
       "dis = 0"
      ]
     },
     "execution_count": 193,
     "metadata": {},
     "output_type": "execute_result"
    },
    {
     "name": "stdout",
     "output_type": "stream",
     "text": [
      "Equilibrium was found! The quantity in equilibrium is 50 and the price of equilibrium is 100\n"
     ]
    },
    {
     "data": {
      "image/png": "[encoded data removed]"
     },
     "execution_count": 193,
     "metadata": {},
     "output_type": "execute_result"
    }
   ],
   "source": [
    "dis = 1\n",
    "eps = 0.1\n",
    "\n",
    "Q_guess = 45\n",
    "\n",
    "while dis > eps\n",
    "    demand = 150 - Q_guess;\n",
    "    supply = 50 + Q_guess;\n",
    "    \n",
    "    dis = abs(demand - supply)\n",
    "    \n",
    "    if demand>supply\n",
    "        disp(\"Demand valoration is bigger than supply cost, increasing quantity\")\n",
    "        Q_guess=Q_guess+1\n",
    "    elseif supply>demand\n",
    "        disp(\"Supply cost is bigger than demand valoration, decreasing quantity\")\n",
    "        Q_guess=Q_guess-1\n",
    "    elseif supply==demand\n",
    "        Message = ['Equilibrium was found! The quantity in equilibrium is ',num2str(Q_guess), ' and the price of equilibrium is ',num2str(demand)];\n",
    "        disp(Message)\n",
    "    end\n",
    "\n",
    "end\n",
    "\n",
    "supply_q = linspace(0,150,150);\n",
    "supply_p = 50 + supply_q;\n",
    "demand_q = linspace(0,150,150);\n",
    "demand_p = 150 - demand_q;\n",
    "\n",
    "horizontal_y = demand + zeros(1,Q_guess);\n",
    "horizontal_x = linspace(0,Q_guess,Q_guess);\n",
    "\n",
    "vertical_y = linspace(0,demand,demand);\n",
    "vertical_x = Q_guess + zeros(1,demand);\n",
    "\n",
    "set(0,'defaulttextinterpreter','latex')\n",
    "\n",
    "figure\n",
    "plot(supply_q,supply_p,'red')\n",
    "hold on\n",
    "plot(demand_q,demand_p,'blue')\n",
    "plot(vertical_x,vertical_y,'black','Linestyle',\"--\")\n",
    "plot(horizontal_x,horizontal_y,'black','Linestyle',\"--\")\n",
    "title('Market equilibrium')\n",
    "xlabel('Quantity') \n",
    "ylabel('Price')\n",
    "legend({'Supply','Demand','Equilibrium'},'Location','northwest','interpreter','latex')\n",
    "set(gca,'TickLabelInterpreter','latex')\n"
   ]
  },
  {
   "cell_type": "markdown",
   "id": "74cfea5a-d419-468c-b271-b461f2e21e96",
   "metadata": {},
   "source": [
    "And that is the end of this first lecture. I hope you enjoy it! In the next one, we will start solving mathematical problems using MATLAB."
   ]
  }
 ],
 "metadata": {
  "kernelspec": {
   "display_name": "MATLAB Kernel",
   "language": "matlab",
   "name": "jupyter_matlab_kernel"
  },
  "language_info": {
   "file_extension": ".m",
   "mimetype": "text/x-matlab",
   "name": "matlab"
  }
 },
 "nbformat": 4,
 "nbformat_minor": 5
}
