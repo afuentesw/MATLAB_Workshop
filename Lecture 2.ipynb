{
 "cells": [
  {
   "cell_type": "markdown",
   "id": "c392816b-eea7-4175-80e5-e2df85e199fd",
   "metadata": {},
   "source": [
    "# Lecture II: Solving math problems with MATLAB"
   ]
  },
  {
   "cell_type": "markdown",
   "id": "8a692f45-b391-486d-a1d0-6ed4118efa20",
   "metadata": {},
   "source": [
    "\"*Code is like humor. When you have to explain it, it's bad*\" - Cory House"
   ]
  },
  {
   "cell_type": "markdown",
   "id": "deb9b296-1455-40a0-954a-09fa6ff9765c",
   "metadata": {},
   "source": [
    "Welcome to the second lecture! Up to now, we have been solving problems that we can actually solve. The idea of programming is powerful because it allows us to solve problems that we cannot solve by ourselves!"
   ]
  },
  {
   "cell_type": "markdown",
   "id": "ec34cc35-4923-4426-846f-e965a898f611",
   "metadata": {},
   "source": [
    "## 1. Bisection Algorithm"
   ]
  },
  {
   "cell_type": "markdown",
   "id": "04244f15-bffa-4552-ba3f-bdc8beb4bf11",
   "metadata": {},
   "source": [
    "Sadly, the number of problems we cannot solve ourselves is enormous. We only realize this sometimes because, in our education, we are taught problems to which we can find a solution. So, let's see a problem that we cannot solve. Try to find the price that makes the demand equal to one in this equation:"
   ]
  },
  {
   "cell_type": "markdown",
   "id": "feaa872f-8e87-4501-9529-6811eed6f0b1",
   "metadata": {
    "tags": []
   },
   "source": [
    "$$ Q = 0.8 p^{-0.5} + 0.5 p^{-0.6} $$"
   ]
  },
  {
   "cell_type": "markdown",
   "id": "ab74b0c4-19f8-44d5-959b-373112d4888b",
   "metadata": {},
   "source": [
    "Hmm is difficult. But wait, how do we know that this has a solution? Maybe the equation is discontinuous or something similar, and it does not have a solution when Q is equal to 2.5."
   ]
  },
  {
   "cell_type": "code",
   "execution_count": 1,
   "id": "add38286-fe91-4998-a2a9-a9395abd6e99",
   "metadata": {
    "tags": []
   },
   "outputs": [
    {
     "data": {
      "image/png": "[encoded data removed]"
     },
     "execution_count": 1,
     "metadata": {},
     "output_type": "execute_result"
    }
   ],
   "source": [
    "p = linspace(0,5,1000);\n",
    "q = zeros(1,1000);\n",
    "\n",
    "for i=1:length(q)\n",
    "    q(i)=0.8*p(i)^(-0.5)+0.5*p(i)^(-0.6);\n",
    "end\n",
    "\n",
    "figure\n",
    "plot(q,p,'blue')\n",
    "hold on\n",
    "plot(2*ones(1,length(p)),p,'black','Linestyle','--')"
   ]
  },
  {
   "cell_type": "markdown",
   "id": "80121f56-c3c3-4b09-b9a0-6280b40988fa",
   "metadata": {},
   "source": [
    "It looks pretty continuous. So, how do we find the value? An easy trick is to use the bisection algorithm. To understand how it works, we need to take 2 and subtract the values from our function, and plot it again."
   ]
  },
  {
   "cell_type": "code",
   "execution_count": 2,
   "id": "f5059b6d-2c54-414d-9454-d7b386f67a4e",
   "metadata": {
    "tags": []
   },
   "outputs": [
    {
     "data": {
      "image/png": "[encoded data removed]"
     },
     "execution_count": 2,
     "metadata": {},
     "output_type": "execute_result"
    }
   ],
   "source": [
    "p = linspace(0,5,1000);\n",
    "q = zeros(1,1000);\n",
    "\n",
    "for i=1:length(q)\n",
    "    q(i)=2-0.8*p(i)^(-0.5)-0.5*p(i)^(-0.6);\n",
    "end\n",
    "\n",
    "figure\n",
    "plot(q,p,'blue')\n",
    "hold on\n",
    "plot(0*ones(1,length(p)),p,'black','Linestyle','--')"
   ]
  },
  {
   "cell_type": "markdown",
   "id": "113758cb-f8be-47e6-b945-d39de05ac888",
   "metadata": {},
   "source": [
    "Do you notice that there is a positive side of the equation and a negative one now? This is super interesting because if we take a random number and the objetive function evaluated in it is positive, it means that we are to the left of the correct value. Finding a negative value after evaluating the function means that the correct value is right. "
   ]
  },
  {
   "cell_type": "code",
   "execution_count": 3,
   "id": "4bc0decc-c32c-4f92-97c9-dc09645f2311",
   "metadata": {
    "tags": []
   },
   "outputs": [],
   "source": [
    "fun_q = @(p) 2-0.8*p^(-0.5)-0.5*p^(-0.6);"
   ]
  },
  {
   "cell_type": "markdown",
   "id": "8cc812cb-8120-41af-9e84-cd2322c1765c",
   "metadata": {
    "tags": []
   },
   "source": [
    "Let's see the value in the price 0.25:"
   ]
  },
  {
   "cell_type": "code",
   "execution_count": 4,
   "id": "7163a038-39fc-466b-9f2e-bfa711a32c0d",
   "metadata": {
    "tags": []
   },
   "outputs": [
    {
     "data": {
      "text/html": [
       "<html><body><pre>ans = -0.7487</pre></body></html>"
      ],
      "text/plain": [
       "ans = -0.7487"
      ]
     },
     "execution_count": 4,
     "metadata": {},
     "output_type": "execute_result"
    }
   ],
   "source": [
    "p_1 = 0.25;\n",
    "fun_q(p_1)"
   ]
  },
  {
   "cell_type": "markdown",
   "id": "f5151b7f-39ba-4bd7-90b1-8f972e80acb4",
   "metadata": {},
   "source": [
    "So, when $P=0.25$, our objective function takes value $-0.7487$. Our function is negative, so the correct value is to the right of 0.25. Let's try the price equal to 1.5:"
   ]
  },
  {
   "cell_type": "code",
   "execution_count": 5,
   "id": "a5d90560-3d7b-4fea-b5e4-bdbbfe822191",
   "metadata": {
    "tags": []
   },
   "outputs": [
    {
     "data": {
      "text/html": [
       "<html><body><pre>ans = 0.9548</pre></body></html>"
      ],
      "text/plain": [
       "ans = 0.9548"
      ]
     },
     "execution_count": 5,
     "metadata": {},
     "output_type": "execute_result"
    }
   ],
   "source": [
    "p_2 = 1.5;\n",
    "fun_q(p_2)"
   ]
  },
  {
   "cell_type": "markdown",
   "id": "33427163-b1f6-4952-a868-7a2bb1c98e65",
   "metadata": {},
   "source": [
    "And when $P=1.5$, our objective function takes value $0.9548$. Our function is positive, so the correct value is to the left of 1.5."
   ]
  },
  {
   "cell_type": "markdown",
   "id": "f4c56e08-fff5-4ebd-a679-a04255e8dc9f",
   "metadata": {},
   "source": [
    "Great, we know we have the solution in the middle of our points. Which point should we try next? Well, the average sounds reasonable:"
   ]
  },
  {
   "cell_type": "code",
   "execution_count": 6,
   "id": "619e67b3-6714-43e0-b5b2-c08b28ed739f",
   "metadata": {
    "tags": []
   },
   "outputs": [
    {
     "data": {
      "text/html": [
       "<html><body><pre>ans = 0.6031</pre></body></html>"
      ],
      "text/plain": [
       "ans = 0.6031"
      ]
     },
     "execution_count": 6,
     "metadata": {},
     "output_type": "execute_result"
    }
   ],
   "source": [
    "p_3 = (p_1 + p_2)/2;\n",
    "fun_q(p_3)"
   ]
  },
  {
   "cell_type": "markdown",
   "id": "e004b266-a0f9-4efa-beaa-4ab934897c71",
   "metadata": {},
   "source": [
    "Good, we are closer. Which point should we try next? We can retake the average between two points, but which ones? Well, since $P_2$ and $P_3$ deliver a positive value for the objective function, we know that the solution is not between them! So the next try has to be between $P_1$ and $P_3$:"
   ]
  },
  {
   "cell_type": "code",
   "execution_count": 7,
   "id": "f48dd209-d7eb-43db-b4e2-dc793c038dfd",
   "metadata": {
    "tags": []
   },
   "outputs": [
    {
     "data": {
      "text/html": [
       "<html><body><pre>ans = 0.2272</pre></body></html>"
      ],
      "text/plain": [
       "ans = 0.2272"
      ]
     },
     "execution_count": 7,
     "metadata": {},
     "output_type": "execute_result"
    }
   ],
   "source": [
    "p_4 = (p_1 + p_3)/2;\n",
    "fun_q(p_4)"
   ]
  },
  {
   "cell_type": "markdown",
   "id": "16664b20-bcc9-4948-8a76-d0018a7eb5e9",
   "metadata": {},
   "source": [
    "Uuuuh! It's close! Which are the following points to evaluate? Well, in general, we have to choose the biggest negative and smallest positive values because the solution is between them. So, in this case, we need to use $P_1$ and $P_4$"
   ]
  },
  {
   "cell_type": "code",
   "execution_count": 8,
   "id": "49c8225b-b6b6-4058-81e3-16fc045c0078",
   "metadata": {
    "tags": []
   },
   "outputs": [
    {
     "data": {
      "text/html": [
       "<html><body><pre>ans = -0.1136</pre></body></html>"
      ],
      "text/plain": [
       "ans = -0.1136"
      ]
     },
     "execution_count": 8,
     "metadata": {},
     "output_type": "execute_result"
    }
   ],
   "source": [
    "p_5 = (p_1 + p_4)/2;\n",
    "fun_q(p_5)"
   ]
  },
  {
   "cell_type": "markdown",
   "id": "b5c3b919-b050-4600-b537-3d23a30b1ceb",
   "metadata": {},
   "source": [
    "Oooh, we are a bit far from the solution now. Let's try it again. In this case, we need to use $P_4$ and $P_5$:"
   ]
  },
  {
   "cell_type": "code",
   "execution_count": 9,
   "id": "39c30205-1ef0-49b6-993d-3aa3b14531a0",
   "metadata": {
    "tags": []
   },
   "outputs": [
    {
     "data": {
      "text/html": [
       "<html><body><pre>ans = 0.0781</pre></body></html>"
      ],
      "text/plain": [
       "ans = 0.0781"
      ]
     },
     "execution_count": 9,
     "metadata": {},
     "output_type": "execute_result"
    }
   ],
   "source": [
    "p_6 = (p_4 + p_5)/2;\n",
    "fun_q(p_6)"
   ]
  },
  {
   "cell_type": "markdown",
   "id": "b8722466-0205-4f2a-8413-307a6f955bb3",
   "metadata": {},
   "source": [
    "Again:"
   ]
  },
  {
   "cell_type": "code",
   "execution_count": 10,
   "id": "04ffaa33-2356-4750-9b3c-c8b6502e9486",
   "metadata": {
    "tags": []
   },
   "outputs": [
    {
     "data": {
      "text/html": [
       "<html><body><pre>ans = -0.0112</pre></body></html>"
      ],
      "text/plain": [
       "ans = -0.0112"
      ]
     },
     "execution_count": 10,
     "metadata": {},
     "output_type": "execute_result"
    }
   ],
   "source": [
    "p_7 = (p_5 + p_6)/2;\n",
    "fun_q(p_7)"
   ]
  },
  {
   "cell_type": "markdown",
   "id": "96738a01-6788-4f4c-993a-7705b2d9d124",
   "metadata": {},
   "source": [
    "Another one:"
   ]
  },
  {
   "cell_type": "code",
   "execution_count": 11,
   "id": "2323e82f-c7f2-4d65-b2c2-eaefdc46a8dc",
   "metadata": {
    "tags": []
   },
   "outputs": [
    {
     "data": {
      "text/html": [
       "<html><body><pre>ans = 0.0349</pre></body></html>"
      ],
      "text/plain": [
       "ans = 0.0349"
      ]
     },
     "execution_count": 11,
     "metadata": {},
     "output_type": "execute_result"
    }
   ],
   "source": [
    "p_8 = (p_6 + p_7)/2;\n",
    "fun_q(p_8)"
   ]
  },
  {
   "cell_type": "markdown",
   "id": "e941a953-b515-4f8a-b0c6-34b26d435dd7",
   "metadata": {},
   "source": [
    "One more:"
   ]
  },
  {
   "cell_type": "code",
   "execution_count": 12,
   "id": "56625185-094e-4478-87c1-d976c9b924cd",
   "metadata": {
    "tags": []
   },
   "outputs": [
    {
     "data": {
      "text/html": [
       "<html><body><pre>ans = 0.0122</pre></body></html>"
      ],
      "text/plain": [
       "ans = 0.0122"
      ]
     },
     "execution_count": 12,
     "metadata": {},
     "output_type": "execute_result"
    }
   ],
   "source": [
    "p_9 = (p_7 + p_8)/2;\n",
    "fun_q(p_9)"
   ]
  },
  {
   "cell_type": "code",
   "execution_count": 13,
   "id": "086216a8-1507-48b4-ac53-9c4a5f9d39e7",
   "metadata": {
    "tags": []
   },
   "outputs": [
    {
     "data": {
      "text/html": [
       "<html><body><pre>ans = 5.8527e-04</pre></body></html>"
      ],
      "text/plain": [
       "ans = 5.8527e-04"
      ]
     },
     "execution_count": 13,
     "metadata": {},
     "output_type": "execute_result"
    }
   ],
   "source": [
    "p_10 = (p_7 + p_9)/2;\n",
    "fun_q(p_10)"
   ]
  },
  {
   "cell_type": "markdown",
   "id": "e3b244ae-49e2-46eb-b945-97741e3fea75",
   "metadata": {},
   "source": [
    "We have something that is not the solution but is really close to it. Let's check the value:"
   ]
  },
  {
   "cell_type": "code",
   "execution_count": 14,
   "id": "3fddc184-d776-4cbf-820d-56eda138ff52",
   "metadata": {
    "tags": []
   },
   "outputs": [
    {
     "data": {
      "text/html": [
       "<html><body><pre>p_10 = 0.4502</pre></body></html>"
      ],
      "text/plain": [
       "p_10 = 0.4502"
      ]
     },
     "execution_count": 14,
     "metadata": {},
     "output_type": "execute_result"
    }
   ],
   "source": [
    "p_10"
   ]
  },
  {
   "cell_type": "markdown",
   "id": "a5ca6434-a9ce-4f6b-964c-17b654dd83c9",
   "metadata": {},
   "source": [
    "And if you check the plot it makes sense! We did it!"
   ]
  },
  {
   "cell_type": "markdown",
   "id": "b749c0a1-064d-4826-9547-f23c007b071d",
   "metadata": {},
   "source": [
    "Great, this was fun. It was a bit long, though. In practice, you will need to solve this problem fast, and it is tedious to do it manually each time. We can program it using an iteration process that will stop when we reach a value that is \"close enough\" for us."
   ]
  },
  {
   "cell_type": "code",
   "execution_count": 15,
   "id": "e752778e-c405-44fa-9d9d-bc463c5eb9e3",
   "metadata": {},
   "outputs": [
    {
     "data": {
      "text/html": [
       "<html><body><pre>p_eq = 0.4500</pre></body></html>"
      ],
      "text/plain": [
       "p_eq = 0.4500"
      ]
     },
     "execution_count": 15,
     "metadata": {},
     "output_type": "execute_result"
    }
   ],
   "source": [
    "dif = 1;\n",
    "p_left = 0.25;\n",
    "p_right = 1.5;\n",
    "\n",
    "while abs(dif)>1e-6\n",
    "    q_left=fun_q(p_left);\n",
    "    q_right=fun_q(p_right);\n",
    "    if dif<0\n",
    "        p_left=(p_left+p_right)/2;\n",
    "    elseif dif>0\n",
    "        p_right=(p_left+p_right)/2;\n",
    "    end\n",
    "    dif = fun_q((p_left+p_right)/2);\n",
    "end\n",
    "\n",
    "p_eq = (p_left+p_right)/2"
   ]
  },
  {
   "cell_type": "markdown",
   "id": "38fedf04-9ab1-46ba-a8ee-54ca00fd74d6",
   "metadata": {},
   "source": [
    "Good, that was quick. Now, we will work on something a bit more complicated. Try to find the value of x when y is equal to 5:\n",
    "\n",
    "$$ y = \\frac{\\exp(x)}{1000}+\\ln(x)+\\sin(x) $$\n",
    "\n",
    "First, we will plot it:"
   ]
  },
  {
   "cell_type": "code",
   "execution_count": 16,
   "id": "5f47cfb6-a9b4-4ea2-a25a-033cb3832af2",
   "metadata": {},
   "outputs": [
    {
     "data": {
      "image/png": "[encoded data removed]"
     },
     "execution_count": 16,
     "metadata": {},
     "output_type": "execute_result"
    }
   ],
   "source": [
    "x = linspace(1e-4,10,1000);\n",
    "y = zeros(1,1000);\n",
    "\n",
    "for i=1:length(y)\n",
    "    y(i)=exp(x(i))/1000+log(x(i))+sin(x(i));\n",
    "end\n",
    "\n",
    "figure\n",
    "plot(x,y)"
   ]
  },
  {
   "cell_type": "markdown",
   "id": "c27faa33-b879-42ca-b6c8-6e3ff0af893c",
   "metadata": {},
   "source": [
    "Brilliant. It looks continuous, so we can work with the bisection algorithm. So we have to choose two points, one to the left and one to the right of the solution. Checking the plot, we can choose the points 6 and 9:"
   ]
  },
  {
   "cell_type": "code",
   "execution_count": 17,
   "id": "f768e63f-bf00-467c-936b-8f27a3a7e03a",
   "metadata": {},
   "outputs": [
    {
     "data": {
      "text/html": [
       "<html><body><pre>fun_y = function_handle with value:\n",
       "    @(x)5-exp(x)/1000-log(x)-sin(x)\n",
       "</pre></body></html>"
      ],
      "text/plain": [
       "fun_y = function_handle with value:\n",
       "    @(x)5-exp(x)/1000-log(x)-sin(x)\n"
      ]
     },
     "execution_count": 17,
     "metadata": {},
     "output_type": "execute_result"
    },
    {
     "data": {
      "text/html": [
       "<html><body><pre>ans = 3.0842</pre></body></html>"
      ],
      "text/plain": [
       "ans = 3.0842"
      ]
     },
     "execution_count": 17,
     "metadata": {},
     "output_type": "execute_result"
    },
    {
     "data": {
      "text/html": [
       "<html><body><pre>ans = -5.7124</pre></body></html>"
      ],
      "text/plain": [
       "ans = -5.7124"
      ]
     },
     "execution_count": 17,
     "metadata": {},
     "output_type": "execute_result"
    }
   ],
   "source": [
    "x_left = 6;\n",
    "x_right = 9;\n",
    "\n",
    "fun_y = @(x) 5 - exp(x)/1000 - log(x) - sin(x)\n",
    "\n",
    "fun_y(x_left)\n",
    "fun_y(x_right)"
   ]
  },
  {
   "cell_type": "markdown",
   "id": "f92c92f5-d287-405a-a29a-4f173f54c613",
   "metadata": {},
   "source": [
    "However, notice a little detail: the previous function was decreasing, and this one is increasing, so the update rule must be updated!"
   ]
  },
  {
   "cell_type": "code",
   "execution_count": 18,
   "id": "2bf10cd3-6465-4b99-a81c-805a44c5d058",
   "metadata": {},
   "outputs": [
    {
     "data": {
      "text/html": [
       "<html><body><pre>fun_y = function_handle with value:\n",
       "    @(x)5-exp(x)/1000-log(x)-sin(x)\n",
       "</pre></body></html>"
      ],
      "text/plain": [
       "fun_y = function_handle with value:\n",
       "    @(x)5-exp(x)/1000-log(x)-sin(x)\n"
      ]
     },
     "execution_count": 18,
     "metadata": {},
     "output_type": "execute_result"
    },
    {
     "data": {
      "text/html": [
       "<html><body><pre>x_eq1 = 7.6024</pre></body></html>"
      ],
      "text/plain": [
       "x_eq1 = 7.6024"
      ]
     },
     "execution_count": 18,
     "metadata": {},
     "output_type": "execute_result"
    },
    {
     "data": {
      "text/html": [
       "<html><body><pre>ans = -9.4458e-05</pre></body></html>"
      ],
      "text/plain": [
       "ans = -9.4458e-05"
      ]
     },
     "execution_count": 18,
     "metadata": {},
     "output_type": "execute_result"
    }
   ],
   "source": [
    "x_left = 6;\n",
    "x_right = 9;\n",
    "dif = 1;\n",
    "\n",
    "fun_y = @(x) 5 - exp(x)/1000 - log(x) - sin(x)\n",
    "\n",
    "while abs(dif)>1e-4\n",
    "    if dif<0\n",
    "        x_right=(x_left+x_right)/2;\n",
    "    elseif dif>0\n",
    "        x_left=(x_left+x_right)/2;\n",
    "    end\n",
    "    dif = fun_y((x_left+x_right)/2);\n",
    "end\n",
    "\n",
    "x_eq1 = (x_left+x_right)/2\n",
    "fun_y(x_eq1)"
   ]
  },
  {
   "cell_type": "markdown",
   "id": "76fd4cd2-e690-44aa-acf8-3d51a1129972",
   "metadata": {},
   "source": [
    "Or we can use the previous rule, but using -fun_y() instead:"
   ]
  },
  {
   "cell_type": "code",
   "execution_count": 19,
   "id": "e5142ef5-3018-4ceb-956b-7cc67861bcdc",
   "metadata": {},
   "outputs": [
    {
     "data": {
      "text/html": [
       "<html><body><pre>x_eq2 = 7.6024</pre></body></html>"
      ],
      "text/plain": [
       "x_eq2 = 7.6024"
      ]
     },
     "execution_count": 19,
     "metadata": {},
     "output_type": "execute_result"
    },
    {
     "data": {
      "text/html": [
       "<html><body><pre>ans = 1.4649e-05</pre></body></html>"
      ],
      "text/plain": [
       "ans = 1.4649e-05"
      ]
     },
     "execution_count": 19,
     "metadata": {},
     "output_type": "execute_result"
    }
   ],
   "source": [
    "dif = 1;\n",
    "x_left = 6;\n",
    "x_right = 9;\n",
    "\n",
    "while abs(dif)>1e-4\n",
    "    dif = -fun_y((x_left+x_right)/2);\n",
    "    if dif<0\n",
    "        x_left=(x_left+x_right)/2;\n",
    "    elseif dif>0\n",
    "        x_right=(x_left+x_right)/2;\n",
    "    end\n",
    "\n",
    "end\n",
    "\n",
    "x_eq2 = (x_left+x_right)/2\n",
    "fun_y(x_eq2)"
   ]
  },
  {
   "cell_type": "markdown",
   "id": "3d7da9b4-9c65-4769-9842-e28a420ab685",
   "metadata": {},
   "source": [
    "Our solutions look similar, but they deliver different values. Let's check if there is any difference."
   ]
  },
  {
   "cell_type": "code",
   "execution_count": 20,
   "id": "07322e70-3761-490c-8a95-78ac14a2b86d",
   "metadata": {},
   "outputs": [
    {
     "data": {
      "text/html": [
       "<html><body><pre>ans = 4.5776e-05</pre></body></html>"
      ],
      "text/plain": [
       "ans = 4.5776e-05"
      ]
     },
     "execution_count": 20,
     "metadata": {},
     "output_type": "execute_result"
    }
   ],
   "source": [
    "abs(x_eq2-x_eq1)"
   ]
  },
  {
   "cell_type": "markdown",
   "id": "c563c597-be5a-4b2a-9202-76133f721daf",
   "metadata": {},
   "source": [
    "So they are slightly different, keep this in mind."
   ]
  },
  {
   "cell_type": "markdown",
   "id": "ae8b08a6-297d-40d1-a261-0dc19a10a110",
   "metadata": {},
   "source": [
    "Doing the plot before using this algorithm is very important. This is not only because we need to check that the function is continuous, but also because we can have multiple solutions. Let's change our equation just a bit:\n",
    "\n",
    "$$ y = \\frac{\\exp(x)}{1000}+\\ln(x)+5\\sin(x) $$\n",
    "And we plot it:t:"
   ]
  },
  {
   "cell_type": "code",
   "execution_count": 21,
   "id": "9159d6c1-f134-4e15-a6b1-f981c93c94e6",
   "metadata": {},
   "outputs": [
    {
     "data": {
      "image/png": "[encoded data removed]"
     },
     "execution_count": 21,
     "metadata": {},
     "output_type": "execute_result"
    }
   ],
   "source": [
    "x = linspace(1e-4,10,1000);\n",
    "y = zeros(1,1000);\n",
    "\n",
    "for i=1:length(y)\n",
    "    y(i)=exp(x(i))/1000+log(x(i))+5*sin(x(i));\n",
    "end\n",
    "\n",
    "figure\n",
    "plot(x,y)\n",
    "hold on\n",
    "plot(x,5*ones(1,1000),'black','Linestyle','--')"
   ]
  },
  {
   "cell_type": "markdown",
   "id": "23e1c230-3922-4810-9bef-dca9e8f6b214",
   "metadata": {},
   "source": [
    "In this case, we have three possible solutions. The solution of 7.5 is not valid anymore, because of the change in the function, but there is a solution close to it, let's find it."
   ]
  },
  {
   "cell_type": "code",
   "execution_count": 22,
   "id": "0471379b-2f9d-467e-a650-858893f90b36",
   "metadata": {},
   "outputs": [
    {
     "data": {
      "text/html": [
       "<html><body><pre>dif = 1</pre></body></html>"
      ],
      "text/plain": [
       "dif = 1"
      ]
     },
     "execution_count": 22,
     "metadata": {},
     "output_type": "execute_result"
    },
    {
     "data": {
      "text/html": [
       "<html><body><pre>fun_y = function_handle with value:\n",
       "    @(x)5-exp(x)/1000-log(x)-5*sin(x)\n",
       "</pre></body></html>"
      ],
      "text/plain": [
       "fun_y = function_handle with value:\n",
       "    @(x)5-exp(x)/1000-log(x)-5*sin(x)\n"
      ]
     },
     "execution_count": 22,
     "metadata": {},
     "output_type": "execute_result"
    },
    {
     "data": {
      "text/html": [
       "<html><body><pre>x_eq = 6.7475</pre></body></html>"
      ],
      "text/plain": [
       "x_eq = 6.7475"
      ]
     },
     "execution_count": 22,
     "metadata": {},
     "output_type": "execute_result"
    },
    {
     "data": {
      "text/html": [
       "<html><body><pre>ans = 7.2933e-05</pre></body></html>"
      ],
      "text/plain": [
       "ans = 7.2933e-05"
      ]
     },
     "execution_count": 22,
     "metadata": {},
     "output_type": "execute_result"
    }
   ],
   "source": [
    "x_left = 6;\n",
    "x_right = 9;\n",
    "dif=1\n",
    "\n",
    "fun_y = @(x) 5 - exp(x)/1000 - log(x) - 5*sin(x) \n",
    "\n",
    "while abs(dif)>1e-4\n",
    "    y_left=fun_y(x_left);\n",
    "    y_right=fun_y(x_right);\n",
    "    dif = fun_y((x_left+x_right)/2);\n",
    "    if dif<0\n",
    "        x_right=(x_left+x_right)/2;\n",
    "    elseif dif>0\n",
    "        x_left=(x_left+x_right)/2;\n",
    "    end\n",
    "end\n",
    "\n",
    "x_eq = (x_left+x_right)/2\n",
    "fun_y(x_eq)"
   ]
  },
  {
   "cell_type": "markdown",
   "id": "877f31ca-ffdd-4b50-91f9-416eb8d4298d",
   "metadata": {},
   "source": [
    "So the new solution is $6.7475$. We can also force the new solution close to 1 by choosing values that will lead to it:"
   ]
  },
  {
   "cell_type": "code",
   "execution_count": 23,
   "id": "1c451c2a-59dd-4871-8f98-b9febae34838",
   "metadata": {},
   "outputs": [
    {
     "data": {
      "text/html": [
       "<html><body><pre>fun_y = function_handle with value:\n",
       "    @(x)5-exp(x)/1000-log(x)-5*sin(x)\n",
       "</pre></body></html>"
      ],
      "text/plain": [
       "fun_y = function_handle with value:\n",
       "    @(x)5-exp(x)/1000-log(x)-5*sin(x)\n"
      ]
     },
     "execution_count": 23,
     "metadata": {},
     "output_type": "execute_result"
    },
    {
     "data": {
      "text/html": [
       "<html><body><pre>x_eq = 1.2621</pre></body></html>"
      ],
      "text/plain": [
       "x_eq = 1.2621"
      ]
     },
     "execution_count": 23,
     "metadata": {},
     "output_type": "execute_result"
    },
    {
     "data": {
      "text/html": [
       "<html><body><pre>ans = -6.8592e-05</pre></body></html>"
      ],
      "text/plain": [
       "ans = -6.8592e-05"
      ]
     },
     "execution_count": 23,
     "metadata": {},
     "output_type": "execute_result"
    }
   ],
   "source": [
    "x_left = 0.5;\n",
    "x_right = 1.5;\n",
    "dif = 1;\n",
    "\n",
    "fun_y = @(x) 5 - exp(x)/1000 - log(x) - 5*sin(x) \n",
    "\n",
    "while abs(dif)>1e-4\n",
    "    y_left=fun_y(x_left);\n",
    "    y_right=fun_y(x_right);\n",
    "    dif = fun_y((x_left+x_right)/2);\n",
    "    if dif<0\n",
    "        x_right=(x_left+x_right)/2;\n",
    "    elseif dif>0\n",
    "        x_left=(x_left+x_right)/2;\n",
    "    end\n",
    "end\n",
    "\n",
    "x_eq = (x_left+x_right)/2\n",
    "fun_y(x_eq)"
   ]
  },
  {
   "cell_type": "markdown",
   "id": "c3b40a61-6b65-4a94-9b06-b8a4589e401e",
   "metadata": {},
   "source": [
    "And the other one which is close to 2! (for this one we need to adapt the algorithm for decreasing functions)"
   ]
  },
  {
   "cell_type": "code",
   "execution_count": 24,
   "id": "2bfce6b2-e90d-4f9d-ace1-e36040611ea9",
   "metadata": {},
   "outputs": [
    {
     "data": {
      "text/html": [
       "<html><body><pre>fun_y = function_handle with value:\n",
       "    @(x)5-exp(x)/1000-log(x)-5*sin(x)\n",
       "</pre></body></html>"
      ],
      "text/plain": [
       "fun_y = function_handle with value:\n",
       "    @(x)5-exp(x)/1000-log(x)-5*sin(x)\n"
      ]
     },
     "execution_count": 24,
     "metadata": {},
     "output_type": "execute_result"
    },
    {
     "data": {
      "text/html": [
       "<html><body><pre>x_eq = 2.1314</pre></body></html>"
      ],
      "text/plain": [
       "x_eq = 2.1314"
      ]
     },
     "execution_count": 24,
     "metadata": {},
     "output_type": "execute_result"
    },
    {
     "data": {
      "text/html": [
       "<html><body><pre>ans = 1.4179e-04</pre></body></html>"
      ],
      "text/plain": [
       "ans = 1.4179e-04"
      ]
     },
     "execution_count": 24,
     "metadata": {},
     "output_type": "execute_result"
    }
   ],
   "source": [
    "x_left = 1.6;\n",
    "x_right = 3.0;\n",
    "dif = 1;\n",
    "\n",
    "fun_y = @(x) 5 - exp(x)/1000 - log(x) - 5*sin(x) \n",
    "\n",
    "while abs(dif)>1e-4\n",
    "    y_left=fun_y(x_left);\n",
    "    y_right=fun_y(x_right);\n",
    "    dif = -fun_y((x_left+x_right)/2);\n",
    "    if dif<0\n",
    "        x_right=(x_left+x_right)/2;\n",
    "    elseif dif>0\n",
    "        x_left=(x_left+x_right)/2;\n",
    "    end\n",
    "end\n",
    "\n",
    "x_eq = (x_left+x_right)/2\n",
    "fun_y(x_eq)"
   ]
  },
  {
   "cell_type": "markdown",
   "id": "3257fae6-04a6-4378-92ba-d282703017d8",
   "metadata": {},
   "source": [
    "However, if we do not know this and choose a broad range of initial numbers, we do not know which solution we will obtain."
   ]
  },
  {
   "cell_type": "code",
   "execution_count": 25,
   "id": "1b80ab98-c97e-4960-af91-36a440bda8bd",
   "metadata": {},
   "outputs": [
    {
     "data": {
      "text/html": [
       "<html><body><pre>fun_y = function_handle with value:\n",
       "    @(x)5-exp(x)/1000-log(x)-5*sin(x)\n",
       "</pre></body></html>"
      ],
      "text/plain": [
       "fun_y = function_handle with value:\n",
       "    @(x)5-exp(x)/1000-log(x)-5*sin(x)\n"
      ]
     },
     "execution_count": 25,
     "metadata": {},
     "output_type": "execute_result"
    },
    {
     "data": {
      "text/html": [
       "<html><body><pre>x_eq = 6.7475</pre></body></html>"
      ],
      "text/plain": [
       "x_eq = 6.7475"
      ]
     },
     "execution_count": 25,
     "metadata": {},
     "output_type": "execute_result"
    },
    {
     "data": {
      "text/html": [
       "<html><body><pre>ans = 8.8586e-05</pre></body></html>"
      ],
      "text/plain": [
       "ans = 8.8586e-05"
      ]
     },
     "execution_count": 25,
     "metadata": {},
     "output_type": "execute_result"
    }
   ],
   "source": [
    "x_left = 0.5;\n",
    "x_right = 9;\n",
    "dif = 1;\n",
    "\n",
    "fun_y = @(x) 5 - exp(x)/1000 - log(x) - 5*sin(x) \n",
    "\n",
    "while abs(dif)>1e-4\n",
    "    y_left=fun_y(x_left);\n",
    "    y_right=fun_y(x_right);\n",
    "    dif = fun_y((x_left+x_right)/2);\n",
    "    if dif<0\n",
    "        x_right=(x_left+x_right)/2;\n",
    "    elseif dif>0\n",
    "        x_left=(x_left+x_right)/2;\n",
    "    end\n",
    "end\n",
    "\n",
    "x_eq = (x_left+x_right)/2\n",
    "fun_y(x_eq)"
   ]
  },
  {
   "cell_type": "markdown",
   "id": "dde5ba25-9a38-4e7d-a1d7-3dbc54c97fef",
   "metadata": {},
   "source": [
    "So be careful using this algorithm. It is fast, intuitive, and easy to understand but pretty random when you have several possible solutions."
   ]
  },
  {
   "cell_type": "markdown",
   "id": "7665e953-384a-466f-a71b-a7b3340718cf",
   "metadata": {},
   "source": [
    "There is one last thing we can use to improve our algorithm. Notice that with our current code, we need to know in advance if the function is decreasing or increasing. Can we improve our code to avoid this distinction? Think about it for a few minutes."
   ]
  },
  {
   "cell_type": "markdown",
   "id": "1c8b741e-5d45-4937-b5ef-4fcef847f36c",
   "metadata": {},
   "source": [
    "We can select which component to update regarding the sign of the objective function evaluated in the average point. If the function evaluated in the average has the same sign as the left side, then we must update that component. If it has the same sign as the right component, then we must update that one. To check if two objects share the sign we can use the sign() function."
   ]
  },
  {
   "cell_type": "code",
   "execution_count": 26,
   "id": "be5684eb-7d8d-4055-b599-ab9b502e655a",
   "metadata": {},
   "outputs": [
    {
     "data": {
      "text/html": [
       "<html><body><pre>fun_y = function_handle with value:\n",
       "    @(x)5-exp(x)/1000-log(x)-5*sin(x)\n",
       "</pre></body></html>"
      ],
      "text/plain": [
       "fun_y = function_handle with value:\n",
       "    @(x)5-exp(x)/1000-log(x)-5*sin(x)\n"
      ]
     },
     "execution_count": 26,
     "metadata": {},
     "output_type": "execute_result"
    },
    {
     "data": {
      "text/html": [
       "<html><body><pre>x_eq = 6.7475</pre></body></html>"
      ],
      "text/plain": [
       "x_eq = 6.7475"
      ]
     },
     "execution_count": 26,
     "metadata": {},
     "output_type": "execute_result"
    },
    {
     "data": {
      "text/html": [
       "<html><body><pre>ans = 8.8586e-05</pre></body></html>"
      ],
      "text/plain": [
       "ans = 8.8586e-05"
      ]
     },
     "execution_count": 26,
     "metadata": {},
     "output_type": "execute_result"
    }
   ],
   "source": [
    "x_left = 0.5;\n",
    "x_right = 9;\n",
    "dif = 1;\n",
    "\n",
    "fun_y = @(x) 5 - exp(x)/1000 - log(x) - 5*sin(x) \n",
    "\n",
    "while abs(dif)>1e-4\n",
    "    dif = fun_y((x_left+x_right)/2);\n",
    "    if sign(fun_y((x_left+x_right)/2)) == sign(fun_y(x_left));\n",
    "        x_left=(x_left+x_right)/2;\n",
    "    elseif sign(fun_y((x_left+x_right)/2)) == sign(fun_y(x_right));\n",
    "        x_right=(x_left+x_right)/2;\n",
    "    end\n",
    "end\n",
    "\n",
    "x_eq = (x_left+x_right)/2\n",
    "fun_y(x_eq)"
   ]
  },
  {
   "cell_type": "markdown",
   "id": "51bdb5ea-cf7f-4636-865a-8b74bde0bbea",
   "metadata": {},
   "source": [
    "## 2. Fixed point algorithm"
   ]
  },
  {
   "cell_type": "markdown",
   "id": "0e78de56-011d-43bb-b1d0-ac01bdda88fd",
   "metadata": {},
   "source": [
    "Great, the bisection algorithm is OK, and it is actually used to solve problems in current research. Another helpful algorithm is the fixed point algorithm. The idea of this procedure relies on having an equation that can be written as:\n",
    "\n",
    "$$ f(x) = 0 $$\n",
    "\n",
    "Then, adding x to both sides:\n",
    "\n",
    "$$ f(x) + x = x $$\n",
    "\n",
    "Then define the function $g(x)=f(x)+x$ and we are done:\n",
    "\n",
    "$$ g(x) = x $$\n",
    "\n",
    "Given this structure, a theorem shows that, given some conditions (not the point now), if we start iterating from a given $x_0$, this will converge to the fixed point.\n",
    "\n",
    "$$ g(x^k) = x^{k+1}$$"
   ]
  },
  {
   "cell_type": "markdown",
   "id": "b8375348-959a-4d30-9d80-a8f81a98b76a",
   "metadata": {},
   "source": [
    "Good, let's try it! Suppose the following function:\n",
    "\n",
    "$$ f(x) = \\cos(x)-3x + 1 = 0 $$\n",
    "\n",
    "So our function g() is given by:\n",
    "\n",
    "$$ g(x) = \\frac{\\cos(x)+1}{3} = x $$\n",
    "\n",
    "And we can start the iteration with $x_0=0$:"
   ]
  },
  {
   "cell_type": "code",
   "execution_count": 27,
   "id": "1040ab02-eba8-44b9-bf2b-354014f8800a",
   "metadata": {},
   "outputs": [
    {
     "data": {
      "text/html": [
       "<html><body><pre>x_new = 0.6667</pre></body></html>"
      ],
      "text/plain": [
       "x_new = 0.6667"
      ]
     },
     "execution_count": 27,
     "metadata": {},
     "output_type": "execute_result"
    },
    {
     "data": {
      "text/html": [
       "<html><body><pre>dif = 0.6667</pre></body></html>"
      ],
      "text/plain": [
       "dif = 0.6667"
      ]
     },
     "execution_count": 27,
     "metadata": {},
     "output_type": "execute_result"
    },
    {
     "data": {
      "text/html": [
       "<html><body><pre>x_guess = 0.6667</pre></body></html>"
      ],
      "text/plain": [
       "x_guess = 0.6667"
      ]
     },
     "execution_count": 27,
     "metadata": {},
     "output_type": "execute_result"
    },
    {
     "data": {
      "text/html": [
       "<html><body><pre>x_new = 0.5953</pre></body></html>"
      ],
      "text/plain": [
       "x_new = 0.5953"
      ]
     },
     "execution_count": 27,
     "metadata": {},
     "output_type": "execute_result"
    },
    {
     "data": {
      "text/html": [
       "<html><body><pre>dif = 0.0714</pre></body></html>"
      ],
      "text/plain": [
       "dif = 0.0714"
      ]
     },
     "execution_count": 27,
     "metadata": {},
     "output_type": "execute_result"
    },
    {
     "data": {
      "text/html": [
       "<html><body><pre>x_guess = 0.5953</pre></body></html>"
      ],
      "text/plain": [
       "x_guess = 0.5953"
      ]
     },
     "execution_count": 27,
     "metadata": {},
     "output_type": "execute_result"
    },
    {
     "data": {
      "text/html": [
       "<html><body><pre>x_new = 0.6093</pre></body></html>"
      ],
      "text/plain": [
       "x_new = 0.6093"
      ]
     },
     "execution_count": 27,
     "metadata": {},
     "output_type": "execute_result"
    },
    {
     "data": {
      "text/html": [
       "<html><body><pre>dif = 0.0140</pre></body></html>"
      ],
      "text/plain": [
       "dif = 0.0140"
      ]
     },
     "execution_count": 27,
     "metadata": {},
     "output_type": "execute_result"
    },
    {
     "data": {
      "text/html": [
       "<html><body><pre>x_guess = 0.6093</pre></body></html>"
      ],
      "text/plain": [
       "x_guess = 0.6093"
      ]
     },
     "execution_count": 27,
     "metadata": {},
     "output_type": "execute_result"
    },
    {
     "data": {
      "text/html": [
       "<html><body><pre>x_new = 0.6067</pre></body></html>"
      ],
      "text/plain": [
       "x_new = 0.6067"
      ]
     },
     "execution_count": 27,
     "metadata": {},
     "output_type": "execute_result"
    },
    {
     "data": {
      "text/html": [
       "<html><body><pre>dif = 0.0026</pre></body></html>"
      ],
      "text/plain": [
       "dif = 0.0026"
      ]
     },
     "execution_count": 27,
     "metadata": {},
     "output_type": "execute_result"
    },
    {
     "data": {
      "text/html": [
       "<html><body><pre>x_guess = 0.6067</pre></body></html>"
      ],
      "text/plain": [
       "x_guess = 0.6067"
      ]
     },
     "execution_count": 27,
     "metadata": {},
     "output_type": "execute_result"
    },
    {
     "data": {
      "text/html": [
       "<html><body><pre>x_new = 0.6072</pre></body></html>"
      ],
      "text/plain": [
       "x_new = 0.6072"
      ]
     },
     "execution_count": 27,
     "metadata": {},
     "output_type": "execute_result"
    },
    {
     "data": {
      "text/html": [
       "<html><body><pre>dif = 5.0456e-04</pre></body></html>"
      ],
      "text/plain": [
       "dif = 5.0456e-04"
      ]
     },
     "execution_count": 27,
     "metadata": {},
     "output_type": "execute_result"
    },
    {
     "data": {
      "text/html": [
       "<html><body><pre>x_guess = 0.6072</pre></body></html>"
      ],
      "text/plain": [
       "x_guess = 0.6072"
      ]
     },
     "execution_count": 27,
     "metadata": {},
     "output_type": "execute_result"
    },
    {
     "data": {
      "text/html": [
       "<html><body><pre>x_new = 0.6071</pre></body></html>"
      ],
      "text/plain": [
       "x_new = 0.6071"
      ]
     },
     "execution_count": 27,
     "metadata": {},
     "output_type": "execute_result"
    },
    {
     "data": {
      "text/html": [
       "<html><body><pre>dif = 9.5926e-05</pre></body></html>"
      ],
      "text/plain": [
       "dif = 9.5926e-05"
      ]
     },
     "execution_count": 27,
     "metadata": {},
     "output_type": "execute_result"
    },
    {
     "data": {
      "text/html": [
       "<html><body><pre>x_guess = 0.6071</pre></body></html>"
      ],
      "text/plain": [
       "x_guess = 0.6071"
      ]
     },
     "execution_count": 27,
     "metadata": {},
     "output_type": "execute_result"
    }
   ],
   "source": [
    "dif = 1;\n",
    "eps = 1e-4;\n",
    "x_guess = 0;\n",
    "\n",
    "fun_g = @(x) (cos(x)+1)/3;\n",
    "\n",
    "while dif>eps\n",
    "    x_new = fun_g(x_guess)\n",
    "    dif = abs(x_new-x_guess)\n",
    "    x_guess = x_new\n",
    "end"
   ]
  },
  {
   "cell_type": "markdown",
   "id": "86f2d4e0-0678-4c32-b3d7-7b3cbcd5e4c9",
   "metadata": {},
   "source": [
    "Let's us check it:"
   ]
  },
  {
   "cell_type": "code",
   "execution_count": 28,
   "id": "9f97a92d-541a-4dd6-81cd-5cdf834318de",
   "metadata": {
    "scrolled": true
   },
   "outputs": [
    {
     "data": {
      "text/html": [
       "<html><body><pre>ans = 5.4727e-05</pre></body></html>"
      ],
      "text/plain": [
       "ans = 5.4727e-05"
      ]
     },
     "execution_count": 28,
     "metadata": {},
     "output_type": "execute_result"
    }
   ],
   "source": [
    "fun_f = @(x) cos(x)-3*x+1;\n",
    "\n",
    "fun_f(x_guess)"
   ]
  },
  {
   "cell_type": "markdown",
   "id": "eebbce77-6162-494c-957d-070142f9ea0e",
   "metadata": {},
   "source": [
    "Excellent! It works. Now you can try this one:\n",
    "\n",
    "$$f(x) = 2x^3 -2x - 5 = 0$$\n",
    "\n",
    "Using the function g():\n",
    "\n",
    "$$ g(x) = \\left( \\frac{2x+5}{2} \\right)^{1/3} $$\n",
    "\n",
    "And the initial guess the value $x_0=1.5$."
   ]
  },
  {
   "cell_type": "code",
   "execution_count": 29,
   "id": "f23edb10-1b2e-4c9f-9b75-a38522717a41",
   "metadata": {},
   "outputs": [
    {
     "data": {
      "text/html": [
       "<html><body><pre>x_new = 1.5874</pre></body></html>"
      ],
      "text/plain": [
       "x_new = 1.5874"
      ]
     },
     "execution_count": 29,
     "metadata": {},
     "output_type": "execute_result"
    },
    {
     "data": {
      "text/html": [
       "<html><body><pre>dif = 0.0874</pre></body></html>"
      ],
      "text/plain": [
       "dif = 0.0874"
      ]
     },
     "execution_count": 29,
     "metadata": {},
     "output_type": "execute_result"
    },
    {
     "data": {
      "text/html": [
       "<html><body><pre>x_guess = 1.5874</pre></body></html>"
      ],
      "text/plain": [
       "x_guess = 1.5874"
      ]
     },
     "execution_count": 29,
     "metadata": {},
     "output_type": "execute_result"
    },
    {
     "data": {
      "text/html": [
       "<html><body><pre>x_new = 1.5989</pre></body></html>"
      ],
      "text/plain": [
       "x_new = 1.5989"
      ]
     },
     "execution_count": 29,
     "metadata": {},
     "output_type": "execute_result"
    },
    {
     "data": {
      "text/html": [
       "<html><body><pre>dif = 0.0115</pre></body></html>"
      ],
      "text/plain": [
       "dif = 0.0115"
      ]
     },
     "execution_count": 29,
     "metadata": {},
     "output_type": "execute_result"
    },
    {
     "data": {
      "text/html": [
       "<html><body><pre>x_guess = 1.5989</pre></body></html>"
      ],
      "text/plain": [
       "x_guess = 1.5989"
      ]
     },
     "execution_count": 29,
     "metadata": {},
     "output_type": "execute_result"
    },
    {
     "data": {
      "text/html": [
       "<html><body><pre>x_new = 1.6004</pre></body></html>"
      ],
      "text/plain": [
       "x_new = 1.6004"
      ]
     },
     "execution_count": 29,
     "metadata": {},
     "output_type": "execute_result"
    },
    {
     "data": {
      "text/html": [
       "<html><body><pre>dif = 0.0015</pre></body></html>"
      ],
      "text/plain": [
       "dif = 0.0015"
      ]
     },
     "execution_count": 29,
     "metadata": {},
     "output_type": "execute_result"
    },
    {
     "data": {
      "text/html": [
       "<html><body><pre>x_guess = 1.6004</pre></body></html>"
      ],
      "text/plain": [
       "x_guess = 1.6004"
      ]
     },
     "execution_count": 29,
     "metadata": {},
     "output_type": "execute_result"
    },
    {
     "data": {
      "text/html": [
       "<html><body><pre>x_new = 1.6006</pre></body></html>"
      ],
      "text/plain": [
       "x_new = 1.6006"
      ]
     },
     "execution_count": 29,
     "metadata": {},
     "output_type": "execute_result"
    },
    {
     "data": {
      "text/html": [
       "<html><body><pre>dif = 1.9458e-04</pre></body></html>"
      ],
      "text/plain": [
       "dif = 1.9458e-04"
      ]
     },
     "execution_count": 29,
     "metadata": {},
     "output_type": "execute_result"
    },
    {
     "data": {
      "text/html": [
       "<html><body><pre>x_guess = 1.6006</pre></body></html>"
      ],
      "text/plain": [
       "x_guess = 1.6006"
      ]
     },
     "execution_count": 29,
     "metadata": {},
     "output_type": "execute_result"
    },
    {
     "data": {
      "text/html": [
       "<html><body><pre>x_new = 1.6006</pre></body></html>"
      ],
      "text/plain": [
       "x_new = 1.6006"
      ]
     },
     "execution_count": 29,
     "metadata": {},
     "output_type": "execute_result"
    },
    {
     "data": {
      "text/html": [
       "<html><body><pre>dif = 2.5318e-05</pre></body></html>"
      ],
      "text/plain": [
       "dif = 2.5318e-05"
      ]
     },
     "execution_count": 29,
     "metadata": {},
     "output_type": "execute_result"
    },
    {
     "data": {
      "text/html": [
       "<html><body><pre>x_guess = 1.6006</pre></body></html>"
      ],
      "text/plain": [
       "x_guess = 1.6006"
      ]
     },
     "execution_count": 29,
     "metadata": {},
     "output_type": "execute_result"
    }
   ],
   "source": [
    "dif = 1;\n",
    "eps = 1e-4;\n",
    "x_guess = 1.5;\n",
    "\n",
    "fun_g = @(x) ((2*x+5)/2)^(1/3);\n",
    "\n",
    "while dif>eps\n",
    "    x_new = fun_g(x_guess)\n",
    "    dif = abs(x_new-x_guess)\n",
    "    x_guess = x_new\n",
    "end"
   ]
  },
  {
   "cell_type": "code",
   "execution_count": 30,
   "id": "fc3b73c2-d4d9-41e1-b5d5-68f8a5c37733",
   "metadata": {},
   "outputs": [
    {
     "data": {
      "text/html": [
       "<html><body><pre>ans = -5.0636e-05</pre></body></html>"
      ],
      "text/plain": [
       "ans = -5.0636e-05"
      ]
     },
     "execution_count": 30,
     "metadata": {},
     "output_type": "execute_result"
    }
   ],
   "source": [
    "fun_f = @(x) 2*x^3-2*x-5;\n",
    "\n",
    "fun_f(x_guess)"
   ]
  },
  {
   "cell_type": "markdown",
   "id": "634d47ad-db5b-4836-8f45-64e264f12805",
   "metadata": {},
   "source": [
    "Excellent. Now, the algorithm's details are as follows: The function g() and the initial guess must satisfy that the absolute value of the derivative of g() evaluated at the initial guess must be smaller than 1. This is a bit tricky, but in case you face something like this, the fixed-point algorithm is quite handy."
   ]
  },
  {
   "cell_type": "markdown",
   "id": "f352e416-463c-4930-99f1-1f869bee1352",
   "metadata": {},
   "source": [
    "## 3. Newton-Raphson Algorithm"
   ]
  },
  {
   "cell_type": "markdown",
   "id": "08dd4eab-5fc8-4924-9ddb-31d0837e9c18",
   "metadata": {},
   "source": [
    "The Newton-Raphson algorithm is more sophisticated than the fixed point algorithm. In this case, the updating rule is given by:\n",
    "\n",
    "$$ x^{k+1} = x^{k} - \\frac{f(x^k)}{f'(x^k)} $$\n",
    "\n",
    "Notice that there is a derivative in the updating rule. We can rely on pen and paper to compute them, but this is a MATLAB workshop, so luckily for us, MATLAB will have to calculate the derivatives. So, we will have a detour in our study of algorithms, and we will study symbolic expressions."
   ]
  },
  {
   "cell_type": "markdown",
   "id": "bc5860bb-d8bc-4c1c-88de-6a6f21b101bd",
   "metadata": {},
   "source": [
    "### 3.1 Symbolic expressions"
   ]
  },
  {
   "cell_type": "markdown",
   "id": "3164c317-a171-47bc-8697-aa321761c04e",
   "metadata": {},
   "source": [
    "Consider the polynomial given by:\n",
    "\n",
    "$$ f(x) = x^2 + 4x - 5 $$\n",
    "\n",
    "Here, we know that the derivate is given by:\n",
    "\n",
    "$$ f'(x) = 2x + 4 $$\n",
    "\n",
    "To make MATLAB take derivatives, we need to express the equation using the symbolic way. Here is the code to do this:"
   ]
  },
  {
   "cell_type": "code",
   "execution_count": 31,
   "id": "240660c8-9d92-4a39-8509-1731c8831052",
   "metadata": {},
   "outputs": [
    {
     "data": {
      "text/latex": [
       "$f(x) =x^2 +4\\,x-5$"
      ]
     },
     "execution_count": 31,
     "metadata": {},
     "output_type": "execute_result"
    },
    {
     "data": {
      "text/latex": [
       "$f_x(x) =2\\,x+4$"
      ]
     },
     "execution_count": 31,
     "metadata": {},
     "output_type": "execute_result"
    }
   ],
   "source": [
    "syms f(x)\n",
    "f(x) = x^2 + 4*x - 5\n",
    "f_x(x) = diff(f,x)"
   ]
  },
  {
   "cell_type": "markdown",
   "id": "79b25b5d-c49c-435d-bcf2-15bb540d1850",
   "metadata": {},
   "source": [
    "Notice that it takes a while, but it does the job. This can also work with two or more variables."
   ]
  },
  {
   "cell_type": "code",
   "execution_count": 32,
   "id": "fb6b1c3d-94e3-4e71-94aa-c696110d8fc2",
   "metadata": {},
   "outputs": [
    {
     "data": {
      "text/latex": [
       "$f(x, y) =x^2 +4\\,x+\\frac{y^2 }{2}+2\\,y-5$"
      ]
     },
     "execution_count": 32,
     "metadata": {},
     "output_type": "execute_result"
    },
    {
     "data": {
      "text/latex": [
       "$f_x(x, y) =2\\,x+4$"
      ]
     },
     "execution_count": 32,
     "metadata": {},
     "output_type": "execute_result"
    },
    {
     "data": {
      "text/latex": [
       "$f_y(x, y) =y+2$"
      ]
     },
     "execution_count": 32,
     "metadata": {},
     "output_type": "execute_result"
    }
   ],
   "source": [
    "syms f(x,y)\n",
    "f(x,y) = x^2 + 1/2*y^2 + 4*x + 2*y - 5\n",
    "f_x(x,y) = diff(f,x)\n",
    "f_y(x,y) = diff(f,y)"
   ]
  },
  {
   "cell_type": "markdown",
   "id": "48973abd-bf1b-46dc-b88c-bd7939b570ce",
   "metadata": {},
   "source": [
    "And naturally, we can take double derivatives and crossed derivatives."
   ]
  },
  {
   "cell_type": "code",
   "execution_count": 33,
   "id": "862984f1-fa2d-4d6e-844c-7639cbcd2765",
   "metadata": {},
   "outputs": [
    {
     "data": {
      "text/latex": [
       "$f(x, y) =x^2 +4\\,x+\\frac{y^2 }{2}+2\\,y-5$"
      ]
     },
     "execution_count": 33,
     "metadata": {},
     "output_type": "execute_result"
    },
    {
     "data": {
      "text/latex": [
       "$f_x(x, y) =2\\,x+4$"
      ]
     },
     "execution_count": 33,
     "metadata": {},
     "output_type": "execute_result"
    },
    {
     "data": {
      "text/latex": [
       "$f_y(x, y) =y+2$"
      ]
     },
     "execution_count": 33,
     "metadata": {},
     "output_type": "execute_result"
    },
    {
     "data": {
      "text/latex": [
       "$df_x(x, y) =2$"
      ]
     },
     "execution_count": 33,
     "metadata": {},
     "output_type": "execute_result"
    },
    {
     "data": {
      "text/latex": [
       "$df_y(x, y) =1$"
      ]
     },
     "execution_count": 33,
     "metadata": {},
     "output_type": "execute_result"
    }
   ],
   "source": [
    "syms f(x,y)\n",
    "f(x,y) = x^2 + 1/2*y^2 + 4*x + 2*y - 5\n",
    "f_x(x,y) = diff(f,x)\n",
    "f_y(x,y) = diff(f,y)\n",
    "df_x(x,y)=diff(f_x,x)\n",
    "df_y(x,y)=diff(f_y,y)"
   ]
  },
  {
   "cell_type": "markdown",
   "id": "a678c357-cbdd-402a-bd27-b17e79d1bfdc",
   "metadata": {},
   "source": [
    "Great! Now let's evaluate all the functions in some values:"
   ]
  },
  {
   "cell_type": "code",
   "execution_count": 34,
   "id": "7b3b8d42-44f0-4262-a97e-d3aa71a2e3fa",
   "metadata": {
    "scrolled": true
   },
   "outputs": [
    {
     "data": {
      "text/latex": [
       "$ans =56$"
      ]
     },
     "execution_count": 34,
     "metadata": {},
     "output_type": "execute_result"
    },
    {
     "data": {
      "text/latex": [
       "$ans =10$"
      ]
     },
     "execution_count": 34,
     "metadata": {},
     "output_type": "execute_result"
    },
    {
     "data": {
      "text/latex": [
       "$ans =6$"
      ]
     },
     "execution_count": 34,
     "metadata": {},
     "output_type": "execute_result"
    },
    {
     "data": {
      "text/latex": [
       "$ans =2$"
      ]
     },
     "execution_count": 34,
     "metadata": {},
     "output_type": "execute_result"
    },
    {
     "data": {
      "text/latex": [
       "$ans =1$"
      ]
     },
     "execution_count": 34,
     "metadata": {},
     "output_type": "execute_result"
    }
   ],
   "source": [
    "f(5,4)\n",
    "f_x(3,2)\n",
    "f_y(1,4)\n",
    "df_x(0,9)\n",
    "df_y(9,0)"
   ]
  },
  {
   "cell_type": "markdown",
   "id": "562062e4-9fca-4bb1-9c49-2c578ac40247",
   "metadata": {},
   "source": [
    "### 3.2 Newton-Raphson Algorithm (now for real)"
   ]
  },
  {
   "cell_type": "markdown",
   "id": "2fa51102-76e2-4f2d-bd08-40ab4609c587",
   "metadata": {},
   "source": [
    "Now we have learned symbolic expressions, we can easily write a code for the Newton-Raphson algorithm."
   ]
  },
  {
   "cell_type": "code",
   "execution_count": 35,
   "id": "c7fe303a-08d1-4488-953c-4b0a48524873",
   "metadata": {
    "tags": []
   },
   "outputs": [
    {
     "data": {
      "text/latex": [
       "$x_g =\\frac{5538821761601}{5538821761600}$"
      ]
     },
     "execution_count": 35,
     "metadata": {},
     "output_type": "execute_result"
    }
   ],
   "source": [
    "syms f(x)\n",
    "f(x) = x^2 + 4*x - 5;\n",
    "f_x(x) = diff(f,x);\n",
    "\n",
    "x_g = 2;\n",
    "dif = 1;\n",
    "eps = 1e-4;\n",
    "\n",
    "while abs(dif)>eps\n",
    "    x_n = x_g - f(x_g)/f_x(x_g);\n",
    "    dif = x_n - x_g;\n",
    "    x_g = x_n;\n",
    "end\n",
    "\n",
    "x_g"
   ]
  },
  {
   "cell_type": "markdown",
   "id": "c0272acf-8338-4a05-8546-2e273cf81402",
   "metadata": {},
   "source": [
    "Hmm, something weird is happening to the variable $x_g$. Let's check the class:"
   ]
  },
  {
   "cell_type": "code",
   "execution_count": 36,
   "id": "d81fd48c-d0b6-4c41-a247-44f9d2c634c5",
   "metadata": {
    "tags": []
   },
   "outputs": [
    {
     "data": {
      "text/html": [
       "<html><body><pre>ans = 'sym'</pre></body></html>"
      ],
      "text/plain": [
       "ans = 'sym'"
      ]
     },
     "execution_count": 36,
     "metadata": {},
     "output_type": "execute_result"
    }
   ],
   "source": [
    "class(x_g)"
   ]
  },
  {
   "cell_type": "markdown",
   "id": "02e7fdac-3311-4db1-8dd8-cf8221833da7",
   "metadata": {},
   "source": [
    "Of course! $x_g$ is a symbolic object. So if we want back a regular number, we just have to impose that class to the object:"
   ]
  },
  {
   "cell_type": "code",
   "execution_count": 37,
   "id": "93a488a6-56d9-4eca-b0fc-5c85facfd391",
   "metadata": {
    "tags": []
   },
   "outputs": [
    {
     "data": {
      "text/html": [
       "<html><body><pre>x_g = 1.0000</pre></body></html>"
      ],
      "text/plain": [
       "x_g = 1.0000"
      ]
     },
     "execution_count": 37,
     "metadata": {},
     "output_type": "execute_result"
    }
   ],
   "source": [
    "x_g = double(x_g)"
   ]
  },
  {
   "cell_type": "markdown",
   "id": "2fe73a87-31b9-4010-8f35-f40052781174",
   "metadata": {},
   "source": [
    "Alright, the solution is good. Can we do something just a bit more complicated? Let's try this:"
   ]
  },
  {
   "cell_type": "code",
   "execution_count": 38,
   "id": "cd906ba9-6ca1-4082-94b7-0393c1084e4a",
   "metadata": {},
   "outputs": [
    {
     "data": {
      "text/html": [
       "<html><body><pre>x_g = 1.8019</pre></body></html>"
      ],
      "text/plain": [
       "x_g = 1.8019"
      ]
     },
     "execution_count": 38,
     "metadata": {},
     "output_type": "execute_result"
    },
    {
     "data": {
      "text/html": [
       "<html><body><pre>ans = -1.7187e-06</pre></body></html>"
      ],
      "text/plain": [
       "ans = -1.7187e-06"
      ]
     },
     "execution_count": 38,
     "metadata": {},
     "output_type": "execute_result"
    }
   ],
   "source": [
    "syms f(x)\n",
    "f(x) = -x^6 + x^5 + 2*x^4 - 2*x^3 + x^2 + 2*x -1;\n",
    "f_x(x) = diff(f,x);\n",
    "\n",
    "x_g = 2;\n",
    "dif = 1;\n",
    "eps = 1e-3;\n",
    "\n",
    "while abs(dif)>eps\n",
    "    x_n = x_g - f(x_g)/f_x(x_g);\n",
    "    dif = x_n - x_g;\n",
    "    x_g = x_n;\n",
    "end\n",
    "\n",
    "x_g = double(x_g)\n",
    "\n",
    "double(f(x_g))"
   ]
  },
  {
   "cell_type": "markdown",
   "id": "1f45a558-2573-4e43-bb17-926738a3d130",
   "metadata": {},
   "source": [
    "Great! This works pretty fast. Now, we will move to the approximation methods."
   ]
  },
  {
   "cell_type": "markdown",
   "id": "81abcda6-2d59-48be-8814-a0c9e1d9b5ad",
   "metadata": {},
   "source": [
    "## 4. Linear methods for function approximation"
   ]
  },
  {
   "cell_type": "markdown",
   "id": "47eea6b2-ff49-4694-88c9-38d814d83bd0",
   "metadata": {},
   "source": [
    "Imagine we have a complicated iteration in which the main function to solve takes a long time to evaluate. This often happens with large functions, including integrals. In this case, a good strategy is to approximate the function to make it easier and faster to compute. However, approximating a function is not trivial since the simpler our approximation method, the more error we will have."
   ]
  },
  {
   "cell_type": "markdown",
   "id": "b44d84df-9bdc-4d49-9a6a-041a5c7de0d5",
   "metadata": {},
   "source": [
    "Let's work with this function:\n",
    "\n",
    "$$ f(x) = \\frac{1}{2}x^2 - \\frac{1}{3} x^3 + \\frac{1}{4}cos(x) - \\frac{1}{5}sin(x) + \\frac{1}{6}e^x $$"
   ]
  },
  {
   "cell_type": "markdown",
   "id": "3a4b0f88-3432-46ef-aa9f-166af45a68b0",
   "metadata": {},
   "source": [
    "We will plot this function in the domain [0,6]. But, since the function is \"costly\" to compute, we can only access 10 points."
   ]
  },
  {
   "cell_type": "code",
   "execution_count": 43,
   "id": "9b0c5ef7-7f8c-4fa7-94c4-d65f379dc987",
   "metadata": {
    "tags": []
   },
   "outputs": [
    {
     "data": {
      "image/png": "[encoded data removed]"
     },
     "execution_count": 43,
     "metadata": {},
     "output_type": "execute_result"
    }
   ],
   "source": [
    "x = linspace(0,6,10);\n",
    "\n",
    "fx = zeros(1,10);\n",
    "\n",
    "for i=1:length(x)\n",
    "    fx(i) = 1/2*x(i)^2 - 1/3*x(i)^3 + 1/4*cos(x(i)) - 1/5*sin(x(i)) +1/6*exp(x(i));\n",
    "end\n",
    "\n",
    "figure\n",
    "plot(x,fx,'o','color','blue')"
   ]
  },
  {
   "cell_type": "markdown",
   "id": "1e6a3de0-9b97-4745-86ef-60a4dee1a6bb",
   "metadata": {},
   "source": [
    "Notice that we can also vectorize this code following this structure:"
   ]
  },
  {
   "cell_type": "code",
   "execution_count": 44,
   "id": "b30996fe-915b-4613-ae64-b165c55d323c",
   "metadata": {
    "tags": []
   },
   "outputs": [
    {
     "data": {
      "text/html": [
       "<html><body><pre>dif = 0</pre></body></html>"
      ],
      "text/plain": [
       "dif = 0"
      ]
     },
     "execution_count": 44,
     "metadata": {},
     "output_type": "execute_result"
    }
   ],
   "source": [
    "fx2 = 1/2*x.^2 - 1/3*x.^3 + 1/4*cos(x) - 1/5*sin(x) +1/6*exp(x);\n",
    "\n",
    "dif = sum(abs(fx-fx2))"
   ]
  },
  {
   "cell_type": "markdown",
   "id": "9cbe4b8f-cd03-4d7b-9f63-b869a0aa4593",
   "metadata": {},
   "source": [
    "Now, linear approximation consists of using the information that we have (the ten real points) to understand the underlying function. Of course, MATLAB has a function called interp1() that performs linear approximations for us. We will approximate the function using 10 points. This is how it works:"
   ]
  },
  {
   "cell_type": "code",
   "execution_count": 45,
   "id": "96c9af5c-28e6-482c-8681-53fc193bc5ae",
   "metadata": {
    "tags": []
   },
   "outputs": [
    {
     "data": {
      "text/html": [
       "<html><body><pre>xq = 1x10 double\n",
       "         0    0.6667    1.3333    2.0000    2.6667    3.3333    4.0000    4.6667    5.3333    6.0000\n",
       "</pre></body></html>"
      ],
      "text/plain": [
       "xq = 1x10 double\n",
       "         0    0.6667    1.3333    2.0000    2.6667    3.3333    4.0000    4.6667    5.3333    6.0000\n"
      ]
     },
     "execution_count": 45,
     "metadata": {},
     "output_type": "execute_result"
    },
    {
     "data": {
      "image/png": "[encoded data removed]"
     },
     "execution_count": 45,
     "metadata": {},
     "output_type": "execute_result"
    }
   ],
   "source": [
    "xq = linspace(0,6,10);\n",
    "xq\n",
    "linear_approx = interp1(x,fx,xq);\n",
    "\n",
    "plot(x,fx,'o',xq,linear_approx,':.');"
   ]
  },
  {
   "cell_type": "markdown",
   "id": "41dcae00-59b6-4b96-a0ae-2305a53ee6f2",
   "metadata": {},
   "source": [
    "As you can see, linear interpolation basically consists of uniting the points with straight lines. However, the underlying process is more sophisticated. The function estimates a linear model given the true data points and applies that model to the points that we request. "
   ]
  },
  {
   "cell_type": "markdown",
   "id": "b98f6722-753c-4d0f-b583-a9d0e735ad23",
   "metadata": {},
   "source": [
    "In the case of an approximation using the exact same ten initial points, we will see that the approximation passes through every one of the ten real points, with an accurate prediction for each. However, if we use more points, we can have a different prediction because the linear regression coefficient will change. Here is an example:"
   ]
  },
  {
   "cell_type": "code",
   "execution_count": 46,
   "id": "56bc097f-39dc-4d91-8ed7-2249192b2d0f",
   "metadata": {
    "tags": []
   },
   "outputs": [
    {
     "data": {
      "text/html": [
       "<html><body><pre>xq = 1x20 double\n",
       "         0    0.3158    0.6316    0.9474    1.2632    1.5789    1.8947    2.2105    2.5263    2.8421    3.1579    3.4737    3.7895    4.1053    4.4211    4.7368    5.0526    5.3684    5.6842    6.0000\n",
       "</pre></body></html>"
      ],
      "text/plain": [
       "xq = 1x20 double\n",
       "         0    0.3158    0.6316    0.9474    1.2632    1.5789    1.8947    2.2105    2.5263    2.8421    3.1579    3.4737    3.7895    4.1053    4.4211    4.7368    5.0526    5.3684    5.6842    6.0000\n"
      ]
     },
     "execution_count": 46,
     "metadata": {},
     "output_type": "execute_result"
    },
    {
     "data": {
      "image/png": "[encoded data removed]"
     },
     "execution_count": 46,
     "metadata": {},
     "output_type": "execute_result"
    }
   ],
   "source": [
    "xq = linspace(0,6,20);\n",
    "xq\n",
    "linear_approx = interp1(x,fx,xq);\n",
    "\n",
    "plot(x,fx,'o',xq,linear_approx,':.');"
   ]
  },
  {
   "cell_type": "markdown",
   "id": "aba70408-1c9d-4c73-993f-89c95e1105eb",
   "metadata": {},
   "source": [
    "Notice that the points are different. Because of that, our linear interpolation will make mistakes at the true data points that we know."
   ]
  },
  {
   "cell_type": "markdown",
   "id": "a131d5cc-ef6c-4054-9e12-758edcd86b7e",
   "metadata": {},
   "source": [
    "However, every time that you use more points, it is likely that the error ate the evaluated points will be reduced."
   ]
  },
  {
   "cell_type": "code",
   "execution_count": 47,
   "id": "9aefe462-62d6-4c6e-addc-e49f810e0f9e",
   "metadata": {
    "tags": []
   },
   "outputs": [
    {
     "data": {
      "image/png": "[encoded data removed]"
     },
     "execution_count": 47,
     "metadata": {},
     "output_type": "execute_result"
    }
   ],
   "source": [
    "xq = linspace(0,6,100);\n",
    "linear_approx = interp1(x,fx,xq);\n",
    "\n",
    "plot(x,fx,'o',xq,linear_approx,':.');"
   ]
  },
  {
   "cell_type": "markdown",
   "id": "0e1ef6ab-169c-4390-8bda-8bc2992df8df",
   "metadata": {},
   "source": [
    "Notice that it does not matter how many points we use in the approximation; there will always be a linear relation between the points because the underlying model is a linear regression."
   ]
  },
  {
   "cell_type": "markdown",
   "id": "4e0a99a3-fc1c-420a-9a97-2dc2f1e532f9",
   "metadata": {},
   "source": [
    "How accurate is this estimation? Well, we can plot both approximation and the real function for the 100 selected points and see. However, we will sophisticate our code a bit. We will implement the function we are using through an anonymous function. Then, at the moment of plotting, we will apply that anonymous function to the requested data points."
   ]
  },
  {
   "cell_type": "code",
   "execution_count": 48,
   "id": "77367f67-d200-47f2-ae7c-8d96739ec559",
   "metadata": {
    "tags": []
   },
   "outputs": [
    {
     "data": {
      "image/png": "[encoded data removed]"
     },
     "execution_count": 48,
     "metadata": {},
     "output_type": "execute_result"
    }
   ],
   "source": [
    "xq = linspace(0,6,100);\n",
    "linear_approx = interp1(x,fx,xq);\n",
    "\n",
    "fun_app = @(x) 1/2*x.^2 - 1/3*x.^3 + 1/4*cos(x) - 1/5*sin(x) +1/6*exp(x);\n",
    "\n",
    "plot(xq,fun_app(xq),'-',xq,linear_approx,':.');"
   ]
  },
  {
   "cell_type": "markdown",
   "id": "a9a7e494-c11e-433f-8a6c-209ed99f1453",
   "metadata": {},
   "source": [
    "This makes sense: the linear approximation works while the function moves linearly, and there is a significant error when the curve behaves non-linearly. Now, we will compute the error using the sum of the squares of errors as a metric, like in OLS."
   ]
  },
  {
   "cell_type": "code",
   "execution_count": 49,
   "id": "b9827e8a-040b-4989-9f19-b00d3977399d",
   "metadata": {
    "tags": []
   },
   "outputs": [
    {
     "data": {
      "text/html": [
       "<html><body><pre>ans = 1x2 double\n",
       "     1   100\n",
       "</pre></body></html>"
      ],
      "text/plain": [
       "ans = 1x2 double\n",
       "     1   100\n"
      ]
     },
     "execution_count": 49,
     "metadata": {},
     "output_type": "execute_result"
    },
    {
     "data": {
      "text/html": [
       "<html><body><pre>metric = 31.3585</pre></body></html>"
      ],
      "text/plain": [
       "metric = 31.3585"
      ]
     },
     "execution_count": 49,
     "metadata": {},
     "output_type": "execute_result"
    },
    {
     "name": "stdout",
     "output_type": "stream",
     "text": [
      "Elapsed time is 0.003151 seconds.\n"
     ]
    }
   ],
   "source": [
    "xq = linspace(0,6,100);\n",
    "linear_approx = interp1(x,fx,xq);\n",
    "\n",
    "errors = (fun_app(xq) - linear_approx);\n",
    "\n",
    "size(errors)\n",
    "\n",
    "tic\n",
    "metric = errors*errors'\n",
    "toc"
   ]
  },
  {
   "cell_type": "markdown",
   "id": "f78c5546-3c52-4457-883f-805ff360a876",
   "metadata": {},
   "source": [
    "How cool was that? Were you expecting to do a loop for each error and then create a variable containing the sum of the squares? We can do that too."
   ]
  },
  {
   "cell_type": "code",
   "execution_count": 50,
   "id": "e5751181-d205-40d3-bad0-89f2e6033b7e",
   "metadata": {
    "tags": []
   },
   "outputs": [
    {
     "data": {
      "text/html": [
       "<html><body><pre>metric = 31.3585</pre></body></html>"
      ],
      "text/plain": [
       "metric = 31.3585"
      ]
     },
     "execution_count": 50,
     "metadata": {},
     "output_type": "execute_result"
    },
    {
     "name": "stdout",
     "output_type": "stream",
     "text": [
      "Elapsed time is 0.007283 seconds.\n"
     ]
    }
   ],
   "source": [
    "tic\n",
    "\n",
    "metric = 0;\n",
    "\n",
    "for i = 1:length(xq)\n",
    "    error= fun_app(xq(i))-linear_approx(i);\n",
    "    error_square = error^2;\n",
    "    metric = metric + error_square;\n",
    "end\n",
    "\n",
    "metric\n",
    "\n",
    "toc"
   ]
  },
  {
   "cell_type": "markdown",
   "id": "beaac5b1-e67e-4c40-918d-1b06ef32dd0f",
   "metadata": {},
   "source": [
    "Here is a philosophical debate about coding. One group thinks that code should be precise and do what it is expected to, so you do not need to explain it. Another group of people believes that you can use code to do efficient things, although it may not be intuitive, and because of that, you should comment on your code to allow other people (and the future yourself) to understand it."
   ]
  },
  {
   "cell_type": "markdown",
   "id": "a19c76e3-b07b-462d-b64a-162ba77d2315",
   "metadata": {},
   "source": [
    "Which path are you going to follow? Well, really it is up to you, so choose wisely."
   ]
  },
  {
   "cell_type": "markdown",
   "id": "247fb72d-b5d5-4623-83ca-2f80c2f79708",
   "metadata": {},
   "source": [
    "Before finishing with linear approximations, I would like to do something sophisticated to show off all the things that we have learned already. We are going to generate a function that will take two values. The scalars will represent the minimum and maximum number of points used in a linear approximation. So, the function will compute the **average error per point** for each scalar in between them, and the output will be a plot. On the x-axis, we will plot the number of points used in the approximation and, on the y-axis, the error."
   ]
  },
  {
   "cell_type": "markdown",
   "id": "b74d484a-34e5-41e6-a0e7-1a95f9752183",
   "metadata": {},
   "source": [
    "To start, we will create the code that computes the error for just one scalar."
   ]
  },
  {
   "cell_type": "code",
   "execution_count": 51,
   "id": "346ba030-5c17-454f-8fb4-f08a6d0bc8f7",
   "metadata": {
    "tags": []
   },
   "outputs": [
    {
     "data": {
      "text/html": [
       "<html><body><pre>sum_errors_square = 31.3585</pre></body></html>"
      ],
      "text/plain": [
       "sum_errors_square = 31.3585"
      ]
     },
     "execution_count": 51,
     "metadata": {},
     "output_type": "execute_result"
    },
    {
     "data": {
      "text/html": [
       "<html><body><pre>metric = 0.3136</pre></body></html>"
      ],
      "text/plain": [
       "metric = 0.3136"
      ]
     },
     "execution_count": 51,
     "metadata": {},
     "output_type": "execute_result"
    }
   ],
   "source": [
    "scalar = 100;\n",
    "\n",
    "xq = linspace(0,6,scalar);\n",
    "linear_approx = interp1(x,fx,xq);\n",
    "\n",
    "% Computing errors\n",
    "errors = (fun_app(xq) - linear_approx);\n",
    "\n",
    "% Sum of errors square through vector multiplication\n",
    "sum_errors_square = (errors*errors')\n",
    "\n",
    "% Square error per point\n",
    "metric = sum_errors_square/length(errors)"
   ]
  },
  {
   "cell_type": "markdown",
   "id": "d3f2b38f-c0c8-4108-97ec-95d6d7fc9f31",
   "metadata": {},
   "source": [
    "Now, given the two scalars, we will generate two vectors. One will store the number of points used in the approximation, and the other will store the metric for those points."
   ]
  },
  {
   "cell_type": "code",
   "execution_count": 52,
   "id": "c08bc553-f31e-4db0-93b9-7c7b2c9b518f",
   "metadata": {
    "tags": []
   },
   "outputs": [
    {
     "data": {
      "image/png": "[encoded data removed]"
     },
     "execution_count": 52,
     "metadata": {},
     "output_type": "execute_result"
    }
   ],
   "source": [
    "scalar_min = 10;\n",
    "scalar_max = 100;\n",
    "\n",
    "vector_errors=zeros(scalar_max-scalar_min,1);\n",
    "vector_points=zeros(scalar_max-scalar_min,1);\n",
    "\n",
    "for i=scalar_min:scalar_max\n",
    "    \n",
    "    vector_points(i-scalar_min+1)=i;\n",
    "    \n",
    "    xq = linspace(0,6,i);\n",
    "    linear_approx = interp1(x,fx,xq);\n",
    "\n",
    "    % Computing errors\n",
    "    errors = (fun_app(xq) - linear_approx);\n",
    "\n",
    "    % Sum of errors square through vector multiplication\n",
    "    sum_errors_square = (errors*errors');\n",
    "\n",
    "    % Square error per point\n",
    "    metric = sum_errors_square/length(errors);\n",
    "    \n",
    "    vector_errors(i-scalar_min+1) = metric;\n",
    "end\n",
    "\n",
    "%vector_points\n",
    "%vector_errors\n",
    "\n",
    "plot(vector_points,vector_errors)"
   ]
  },
  {
   "cell_type": "markdown",
   "id": "d9715d96-4bbf-419a-857a-077dedfcca60",
   "metadata": {},
   "source": [
    "And now we just implement the function:"
   ]
  },
  {
   "cell_type": "code",
   "execution_count": 53,
   "id": "b47939e0-19ef-48d1-9160-86f09f51e97f",
   "metadata": {
    "tags": []
   },
   "outputs": [
    {
     "data": {
      "image/png": "[encoded data removed]"
     },
     "execution_count": 53,
     "metadata": {},
     "output_type": "execute_result"
    }
   ],
   "source": [
    "plot_error_points(scalar_min,scalar_max);"
   ]
  },
  {
   "cell_type": "markdown",
   "id": "ce0f559b-5ce4-484f-afcc-73bc97bb3707",
   "metadata": {},
   "source": [
    "We can see something interesting. Adding extra points does not decrease the errors per point. In fact, the error increases a bit, and finally, it converges."
   ]
  },
  {
   "cell_type": "markdown",
   "id": "8a54766a-e8a4-4973-a6fd-f404646d80bf",
   "metadata": {},
   "source": [
    "## 5. Cubic methods for function approximation"
   ]
  },
  {
   "cell_type": "markdown",
   "id": "584aa9b7-99be-423e-bd97-c149256e8d77",
   "metadata": {},
   "source": [
    "Cubic approximation. This would be pretty straightforward. It follows the same idea as linear approximation, but instead of a linear model, it uses a polynomial of order three to estimate the model. And that is it. "
   ]
  },
  {
   "cell_type": "markdown",
   "id": "7ef7e34b-549b-434f-8137-be78fc8d6a72",
   "metadata": {},
   "source": [
    "To implement this in MATLAB, we just have to include the option 'cubic'"
   ]
  },
  {
   "cell_type": "code",
   "execution_count": 54,
   "id": "8a297f7d-6094-4eb5-baed-ef3664ee1a6d",
   "metadata": {
    "tags": []
   },
   "outputs": [
    {
     "data": {
      "image/png": "[encoded data removed]"
     },
     "execution_count": 54,
     "metadata": {},
     "output_type": "execute_result"
    }
   ],
   "source": [
    "xq = linspace(0,6,100);\n",
    "cubic_approx = interp1(x,fx,xq,'cubic');\n",
    "\n",
    "fun_app = @(x) 1/2*x.^2 - 1/3*x.^3 + 1/4*cos(x) - 1/5*sin(x) +1/6*exp(x);\n",
    "\n",
    "plot(xq,fun_app(xq),'-',xq,cubic_approx,':.');"
   ]
  },
  {
   "cell_type": "markdown",
   "id": "1c543bdc-498d-4539-9115-7a002a6b73af",
   "metadata": {},
   "source": [
    "Wows. This cubic method is good for predicting this function. Let's check the error."
   ]
  },
  {
   "cell_type": "code",
   "execution_count": 55,
   "id": "01ef8050-85c9-4e39-a5ae-c415e1f9fef6",
   "metadata": {
    "tags": []
   },
   "outputs": [
    {
     "data": {
      "text/html": [
       "<html><body><pre>metric = 2.9692</pre></body></html>"
      ],
      "text/plain": [
       "metric = 2.9692"
      ]
     },
     "execution_count": 55,
     "metadata": {},
     "output_type": "execute_result"
    }
   ],
   "source": [
    "xq = linspace(0,6,100);\n",
    "cubic_approx = interp1(x,fx,xq,'cubic');\n",
    "\n",
    "errors = (fun_app(xq) - cubic_approx);\n",
    "\n",
    "metric = errors*errors'"
   ]
  },
  {
   "cell_type": "markdown",
   "id": "c6a3e479-75ff-4149-bcea-5a9a99c460e3",
   "metadata": {},
   "source": [
    "And if we check how it behaves with different points."
   ]
  },
  {
   "cell_type": "code",
   "execution_count": 56,
   "id": "9369446b-e228-4050-a4f7-53209db2e3e5",
   "metadata": {
    "tags": []
   },
   "outputs": [
    {
     "data": {
      "image/png": "[encoded data removed]"
     },
     "execution_count": 56,
     "metadata": {},
     "output_type": "execute_result"
    }
   ],
   "source": [
    "plot_error_points_cubic(scalar_min,scalar_max);"
   ]
  },
  {
   "cell_type": "markdown",
   "id": "4e9b2a34-622e-4037-acbf-9c98afa33224",
   "metadata": {},
   "source": [
    "Notice that the error also converges. More importantly, the error is 1/10 of the error in a linear model. The improvement is significant."
   ]
  },
  {
   "cell_type": "markdown",
   "id": "65b0479a-e2f8-4b5e-a730-bb460feda1e8",
   "metadata": {
    "tags": []
   },
   "source": [
    "But, should this be surprising? If we check our function, the highest degree polynomial is three and we are using a cubic model to approximate it. Let's try a polynomial of order five and an exponential to check how cubic methods behave with the following function:\n",
    "\n",
    "$$ f(x) = \\frac{1}{10,000}x^5 - \\frac{1}{1,000}x^4 + \\frac{1}{100} x^3 - \\frac{1}{10}x^2 + 10\\sin(x) + 10 -\\frac{e^x}{100,000}$$"
   ]
  },
  {
   "cell_type": "code",
   "execution_count": 57,
   "id": "c11935c1-57c8-474b-a2c4-d13bb63e2558",
   "metadata": {
    "tags": []
   },
   "outputs": [
    {
     "data": {
      "text/html": [
       "<html><body><pre>fun_app = function_handle with value:\n",
       "    @(x)1/10000*x.^5-1/1000*x.^4+1/100*x.^3-1/10*x.^2+10*sin(x)+10-exp(x)/100000\n",
       "</pre></body></html>"
      ],
      "text/plain": [
       "fun_app = function_handle with value:\n",
       "    @(x)1/10000*x.^5-1/1000*x.^4+1/100*x.^3-1/10*x.^2+10*sin(x)+10-exp(x)/100000\n"
      ]
     },
     "execution_count": 57,
     "metadata": {},
     "output_type": "execute_result"
    },
    {
     "data": {
      "image/png": "[encoded data removed]"
     },
     "execution_count": 57,
     "metadata": {},
     "output_type": "execute_result"
    },
    {
     "name": "stdout",
     "output_type": "stream",
     "text": [
      "Elapsed time is 0.022454 seconds.\n"
     ]
    }
   ],
   "source": [
    "tic\n",
    "fun_app = @(x) 1/10000*x.^5 - 1/1000*x.^4 + 1/100*x.^3 - 1/10*x.^2 + 10*sin(x) + 10 - exp(x)/100000\n",
    "\n",
    "x = linspace(5,15,10);\n",
    "fx = fun_app(x);\n",
    "\n",
    "xq = linspace(5,15,100);\n",
    "cubic_approx = interp1(x,fx,xq,'cubic');\n",
    "\n",
    "plot(xq,fun_app(xq),'-',xq,cubic_approx,':.');\n",
    "toc"
   ]
  },
  {
   "cell_type": "markdown",
   "id": "0acba6c5-c905-4944-9245-103090ef6eee",
   "metadata": {},
   "source": [
    "OK, this is not bad at all, but it is far from a perfect fit. Let's compute the error and move to the following method."
   ]
  },
  {
   "cell_type": "code",
   "execution_count": 58,
   "id": "0093ca2e-56f1-481e-a9de-81c935ed8195",
   "metadata": {
    "tags": []
   },
   "outputs": [
    {
     "data": {
      "text/html": [
       "<html><body><pre>metric = 14.1015</pre></body></html>"
      ],
      "text/plain": [
       "metric = 14.1015"
      ]
     },
     "execution_count": 58,
     "metadata": {},
     "output_type": "execute_result"
    }
   ],
   "source": [
    "errors = (fun_app(xq) - cubic_approx);\n",
    "\n",
    "metric = errors*errors'"
   ]
  },
  {
   "cell_type": "markdown",
   "id": "f5d1a4cd-52a7-4df6-9a2e-a1633ff36521",
   "metadata": {
    "tags": []
   },
   "source": [
    "## 6. Spline methods for function approximation"
   ]
  },
  {
   "cell_type": "markdown",
   "id": "fd692f93-0f5e-446b-9320-610db41d8e3e",
   "metadata": {},
   "source": [
    "The spline method is more complex than the previous two. This course does not aim to enter the details, but the spline method will find the most \"efficient\" polynomial to represent the function that we want to approximate.\n",
    "\n",
    "It is the method by default since if the best way of approximating something is linear, it will deliver the same result as the linear method. If the best polynomial is cubic, it will deliver the same cubic polynomial as the cubic method. However, notice that the spline method will take longer to compute.\n",
    "\n",
    "How do we implement it? We just have to change the option method to 'spline'. And that it is."
   ]
  },
  {
   "cell_type": "code",
   "execution_count": 59,
   "id": "b07a82b8-bc45-4357-8c54-9dcda4635064",
   "metadata": {
    "tags": []
   },
   "outputs": [
    {
     "data": {
      "image/png": "[encoded data removed]"
     },
     "execution_count": 59,
     "metadata": {},
     "output_type": "execute_result"
    },
    {
     "name": "stdout",
     "output_type": "stream",
     "text": [
      "Elapsed time is 0.019540 seconds.\n"
     ]
    }
   ],
   "source": [
    "tic\n",
    "fun_app = @(x) 1/10000*x.^5 - 1/1000*x.^4 + 1/100*x.^3 - 1/10*x.^2 + 10*sin(x) + 10 - exp(x)/100000;\n",
    "\n",
    "x = linspace(5,15,10);\n",
    "fx = fun_app(x);\n",
    "\n",
    "xq = linspace(5,15,100);\n",
    "spline_approx = interp1(x,fx,xq,'spline');\n",
    "\n",
    "plot(xq,fun_app(xq),'-',xq,spline_approx,':.');\n",
    "toc"
   ]
  },
  {
   "cell_type": "markdown",
   "id": "11757a7e-841c-4c88-8349-f87d3b23755e",
   "metadata": {},
   "source": [
    "And this looks very good! However, notice that it takes **ten times** more time. Let's check the error:"
   ]
  },
  {
   "cell_type": "code",
   "execution_count": 60,
   "id": "b7653c5c-febe-4eca-8db6-41c3792c650a",
   "metadata": {
    "tags": []
   },
   "outputs": [
    {
     "data": {
      "text/html": [
       "<html><body><pre>metric = 0.0691</pre></body></html>"
      ],
      "text/plain": [
       "metric = 0.0691"
      ]
     },
     "execution_count": 60,
     "metadata": {},
     "output_type": "execute_result"
    }
   ],
   "source": [
    "errors = (fun_app(xq) - spline_approx);\n",
    "\n",
    "metric = errors*errors'"
   ]
  },
  {
   "cell_type": "markdown",
   "id": "4e56324d-d5fe-4d4f-acd3-9f4edd0c5e3b",
   "metadata": {},
   "source": [
    "## 7. Spectral methods for function approximation"
   ]
  },
  {
   "cell_type": "markdown",
   "id": "ae8beb75-234d-4ced-ba93-dfa3f89006e2",
   "metadata": {},
   "source": [
    "\"Spectral methods\" is a pretty cool and sophisticated name for intelligent ways of looking at the points at which we will evaluate the function to obtain the data required to run the interpolation using any method."
   ]
  },
  {
   "cell_type": "markdown",
   "id": "601999ec-1f6a-4fea-b32e-70823b02226b",
   "metadata": {},
   "source": [
    "If you think about what we have been doing, we have estimated the real function only ten times using a vector of evenly separated points. Why do they have to be evenly separated? There is no reason, really. "
   ]
  },
  {
   "cell_type": "markdown",
   "id": "5d3024fe-cd13-461b-8126-f730b7307798",
   "metadata": {},
   "source": [
    "To understand the power of these methods. Let's check the following innocent function:\n",
    "\n",
    "$$ f(x) = \\frac{1}{1+25x^2} $$"
   ]
  },
  {
   "cell_type": "markdown",
   "id": "b17dea88-eea0-40dd-ba7f-e99e0bd472e2",
   "metadata": {},
   "source": [
    "If we plot this function, we will obtain the following:"
   ]
  },
  {
   "cell_type": "code",
   "execution_count": 61,
   "id": "bf5d3a88-1112-46a0-94e3-3726b7bac2af",
   "metadata": {
    "tags": []
   },
   "outputs": [
    {
     "data": {
      "image/png": "[encoded data removed]"
     },
     "execution_count": 61,
     "metadata": {},
     "output_type": "execute_result"
    }
   ],
   "source": [
    "runge_fun = @(x) 1./(1+25*x.^2);\n",
    "\n",
    "x = linspace(-1,1,100);\n",
    "\n",
    "plot(x,runge_fun(x),'blue','Linestyle','-')"
   ]
  },
  {
   "cell_type": "markdown",
   "id": "db0493bb-6e5b-4e41-b14b-b47c5a92ed99",
   "metadata": {},
   "source": [
    "And now, we will use the spline method to see how to approximate this function using 10 points:"
   ]
  },
  {
   "cell_type": "code",
   "execution_count": 62,
   "id": "3d4a72a5-9e1d-4945-9224-4e495a500d70",
   "metadata": {
    "tags": []
   },
   "outputs": [
    {
     "data": {
      "image/png": "[encoded data removed]"
     },
     "execution_count": 62,
     "metadata": {},
     "output_type": "execute_result"
    }
   ],
   "source": [
    "x = linspace(-1,1,10);\n",
    "fx = runge_fun(x);\n",
    "\n",
    "xq = linspace(-1,1,100);\n",
    "spline_approx = interp1(x,fx,xq,'spline');\n",
    "\n",
    "plot(xq,runge_fun(xq),'-',xq,spline_approx,':.');"
   ]
  },
  {
   "cell_type": "code",
   "execution_count": 63,
   "id": "cd7fa8e8-5ab6-4f9c-a4ac-b49ecd452c45",
   "metadata": {
    "tags": []
   },
   "outputs": [
    {
     "data": {
      "text/html": [
       "<html><body><pre>metric_spline = 0.1660</pre></body></html>"
      ],
      "text/plain": [
       "metric_spline = 0.1660"
      ]
     },
     "execution_count": 63,
     "metadata": {},
     "output_type": "execute_result"
    }
   ],
   "source": [
    "errors = (runge_fun(xq) - spline_approx);\n",
    "\n",
    "metric_spline = errors*errors'"
   ]
  },
  {
   "cell_type": "markdown",
   "id": "bc1f3477-887e-466a-b71a-72404b73d3aa",
   "metadata": {},
   "source": [
    "What is happening here? Our splendid spline method is not capable of correctly approximating that function. It will not help to include more points in the approximation:"
   ]
  },
  {
   "cell_type": "code",
   "execution_count": 64,
   "id": "bcb0c658-a48e-4596-9588-560c7c8f3cee",
   "metadata": {
    "tags": []
   },
   "outputs": [
    {
     "data": {
      "image/png": "[encoded data removed]"
     },
     "execution_count": 64,
     "metadata": {},
     "output_type": "execute_result"
    }
   ],
   "source": [
    "x = linspace(-1,1,10);\n",
    "fx = runge_fun(x);\n",
    "\n",
    "xq = linspace(-1,1,500);\n",
    "spline_approx = interp1(x,fx,xq,'spline');\n",
    "\n",
    "plot(xq,runge_fun(xq),'-',xq,spline_approx,':.');"
   ]
  },
  {
   "cell_type": "markdown",
   "id": "d5472c78-1be0-45b6-88c6-ecef61d289be",
   "metadata": {},
   "source": [
    "The problem is that the function behaves weirdly between two data points, especially those in the middle. To solve this issue, we must include more information in our approximation and more points in the costly evaluations."
   ]
  },
  {
   "cell_type": "code",
   "execution_count": 65,
   "id": "f16d7df8-1381-4913-8e63-929f42f07487",
   "metadata": {
    "tags": []
   },
   "outputs": [
    {
     "data": {
      "image/png": "[encoded data removed]"
     },
     "execution_count": 65,
     "metadata": {},
     "output_type": "execute_result"
    }
   ],
   "source": [
    "x = linspace(-1,1,11);\n",
    "fx = runge_fun(x);\n",
    "\n",
    "xq = linspace(-1,1,100);\n",
    "spline_approx = interp1(x,fx,xq,'spline');\n",
    "\n",
    "plot(xq,runge_fun(xq),'-',xq,spline_approx,':.');"
   ]
  },
  {
   "cell_type": "code",
   "execution_count": 66,
   "id": "8753dc2f-2d8c-412e-8876-8c8969c039bb",
   "metadata": {
    "tags": []
   },
   "outputs": [
    {
     "data": {
      "text/html": [
       "<html><body><pre>metric_spline = 0.0051</pre></body></html>"
      ],
      "text/plain": [
       "metric_spline = 0.0051"
      ]
     },
     "execution_count": 66,
     "metadata": {},
     "output_type": "execute_result"
    }
   ],
   "source": [
    "errors = (runge_fun(xq) - spline_approx);\n",
    "\n",
    "metric_spline = errors*errors'"
   ]
  },
  {
   "cell_type": "markdown",
   "id": "0a746210-ab31-44f2-a331-3d1e9ebbf542",
   "metadata": {},
   "source": [
    "OK, this solves the problem, but not in practice. One reason why we are learning how to approximate functions is because evaluating the function is costly, and our current solution involves evaluating the function 50% more times."
   ]
  },
  {
   "cell_type": "markdown",
   "id": "99086368-a75a-4dca-b09c-d2f98328bc85",
   "metadata": {},
   "source": [
    "Luckily for us, there is a spectral method that uses what is called Chebyshev polynomials, which we will use to improve our estimation. The idea behind this is quite simple. Instead of evaluating the function in evenly spaced points, we will use specific points determined by the solution to a group of polynomials: the Chebyshev polynomials."
   ]
  },
  {
   "cell_type": "markdown",
   "id": "68ca1db8-5b14-4b63-b42f-db14b781dd12",
   "metadata": {},
   "source": [
    "The Chebyshev polynomials follow this rule:\n",
    "\n",
    "$$ T_0 (x) = 1 $$\n",
    "\n",
    "$$ T_1 (x) = x $$\n",
    "\n",
    "$$ T_{n+1} (x) = 2x T_n (x) - T_{n-1} (x) $$"
   ]
  },
  {
   "cell_type": "markdown",
   "id": "20767085-270c-45ff-8a72-2c5049225515",
   "metadata": {},
   "source": [
    "And then, the first five polynomials are:\n",
    "\n",
    "$$ T_0(x)=1 $$ \n",
    "\n",
    "$$ T_1(x)=x $$\n",
    "\n",
    "$$ T_2(x)=2x^2 - 1 $$\n",
    "\n",
    "$$ T_3(x)=4x^3 - 3x $$\n",
    "\n",
    "$$ T_4(x)=8x^4-8x^2+1$$\n",
    "\n"
   ]
  },
  {
   "cell_type": "markdown",
   "id": "c726532a-6c60-4809-bda0-fd0c30a06c77",
   "metadata": {},
   "source": [
    "In MATLAB we can implement these polynomials with the function chebyshevT(). First, we will plot the polynomials:"
   ]
  },
  {
   "cell_type": "code",
   "execution_count": 67,
   "id": "5ef4c5ec-ccfc-41d0-921f-4ed9ceda2b8f",
   "metadata": {
    "tags": []
   },
   "outputs": [
    {
     "data": {
      "image/png": "[encoded data removed]"
     },
     "execution_count": 67,
     "metadata": {},
     "output_type": "execute_result"
    }
   ],
   "source": [
    "syms x y\n",
    "fplot(chebyshevT(0:4,x))\n",
    "axis([-1.5 1.5 -2 2])\n",
    "grid on\n",
    "\n",
    "ylabel('T_n(x)')\n",
    "legend('T_0(x)','T_1(x)','T_2(x)','T_3(x)','T_4(x)','Location','Best')\n",
    "title('Chebyshev polynomials')"
   ]
  },
  {
   "cell_type": "markdown",
   "id": "041acd4a-3953-4b48-822f-9ae6d9511e3a",
   "metadata": {
    "tags": []
   },
   "source": [
    "The solution to the polynomials is given by the following function, which will depend on the number of nodes and the actual one we are computing. If we restrict the function domain to [-1,1] the solution to the polynomials can be written as:\n",
    "\n",
    "$$ x(k,n) = -\\cos\\left( \\frac{(2k-1)\\pi}{2n} \\right) $$"
   ]
  },
  {
   "cell_type": "markdown",
   "id": "bfaf2f8f-144e-4f7e-a2f5-df4a34b91e64",
   "metadata": {},
   "source": [
    "So, let's try with ten nodes. In that case, the values we have to evaluate in our function are:"
   ]
  },
  {
   "cell_type": "code",
   "execution_count": 68,
   "id": "7c336d75-772a-4aa9-afc1-a3faa548b918",
   "metadata": {
    "tags": []
   },
   "outputs": [
    {
     "data": {
      "image/png": "[encoded data removed]"
     },
     "execution_count": 68,
     "metadata": {},
     "output_type": "execute_result"
    },
    {
     "data": {
      "text/html": [
       "<html><body><pre>metric_chev = 0.6770</pre></body></html>"
      ],
      "text/plain": [
       "metric_chev = 0.6770"
      ]
     },
     "execution_count": 68,
     "metadata": {},
     "output_type": "execute_result"
    }
   ],
   "source": [
    "n = 10;\n",
    "x = zeros(n,1);\n",
    "\n",
    "for k=1:n\n",
    "    x(k)=cos(((2*k-1)*pi)/(2*n));\n",
    "end\n",
    "\n",
    "x = sort(x);\n",
    "\n",
    "fx = runge_fun(x);\n",
    "\n",
    "xq = linspace(-1,1,100);\n",
    "chev_approx = interp1(x,fx,xq,'spline');\n",
    "\n",
    "plot(xq,runge_fun(xq),'-',xq,chev_approx,':.');\n",
    "\n",
    "errors = (runge_fun(xq) - chev_approx);\n",
    "\n",
    "metric_chev = errors*errors'"
   ]
  },
  {
   "cell_type": "markdown",
   "id": "7808372a-a928-445c-ba6f-b7a4a8220ab4",
   "metadata": {},
   "source": [
    "Strangely, it does not improve the result. Why is this happening? This happens because Chebyshev polynomials focus on the extreme points of the distribution, so they only will improve the estimation if the function behaves irregularly close to the extremes. Let's try a new function:\n",
    "\n",
    "$$ f(x) = x -  \\left \\lfloor{x}\\right \\rfloor  $$"
   ]
  },
  {
   "cell_type": "code",
   "execution_count": 69,
   "id": "d6810117-5e4d-4780-9296-f51d60ff28b3",
   "metadata": {
    "tags": []
   },
   "outputs": [
    {
     "data": {
      "image/png": "[encoded data removed]"
     },
     "execution_count": 69,
     "metadata": {},
     "output_type": "execute_result"
    }
   ],
   "source": [
    "teeth_fun = @(x) x-floor(x);\n",
    "\n",
    "x = linspace(-1,1,100);\n",
    "\n",
    "plot(x,teeth_fun(x),'blue','Linestyle','-')"
   ]
  },
  {
   "cell_type": "code",
   "execution_count": 70,
   "id": "ed41cdd4-48f7-4267-a1e8-3aaa4d1fc806",
   "metadata": {
    "tags": []
   },
   "outputs": [
    {
     "data": {
      "image/png": "[encoded data removed]"
     },
     "execution_count": 70,
     "metadata": {},
     "output_type": "execute_result"
    },
    {
     "data": {
      "text/html": [
       "<html><body><pre>metric_spline = 2.7901</pre></body></html>"
      ],
      "text/plain": [
       "metric_spline = 2.7901"
      ]
     },
     "execution_count": 70,
     "metadata": {},
     "output_type": "execute_result"
    }
   ],
   "source": [
    "x = linspace(-1,1,10);\n",
    "fx = teeth_fun(x);\n",
    "\n",
    "xq = linspace(-1,1,100);\n",
    "spline_approx = interp1(x,fx,xq,'spline');\n",
    "\n",
    "plot(xq,teeth_fun(xq),'-',xq,spline_approx,':.');\n",
    "\n",
    "errors = (teeth_fun(xq) - spline_approx);\n",
    "\n",
    "metric_spline = errors*errors'"
   ]
  },
  {
   "cell_type": "markdown",
   "id": "d0b55fe3-67f5-4f77-bdcc-0231f16904d7",
   "metadata": {},
   "source": [
    "Uuuh, this looks pretty bad. Let's see if the use of Chebyshev polynomials can help here:"
   ]
  },
  {
   "cell_type": "code",
   "execution_count": 71,
   "id": "adb217e4-bb2b-41d2-b708-1a9589fd8afb",
   "metadata": {
    "tags": []
   },
   "outputs": [
    {
     "data": {
      "image/png": "[encoded data removed]"
     },
     "execution_count": 71,
     "metadata": {},
     "output_type": "execute_result"
    },
    {
     "data": {
      "text/html": [
       "<html><body><pre>metric_chev = 2.2653</pre></body></html>"
      ],
      "text/plain": [
       "metric_chev = 2.2653"
      ]
     },
     "execution_count": 71,
     "metadata": {},
     "output_type": "execute_result"
    },
    {
     "name": "stdout",
     "output_type": "stream",
     "text": [
      "This estimation is 18.8% more precise than the evenly spaced method.\n"
     ]
    }
   ],
   "source": [
    "n = 10;\n",
    "x = zeros(n,1);\n",
    "\n",
    "for k=1:n\n",
    "    x(k)=cos(((2*k-1)*pi)/(2*n));\n",
    "end\n",
    "\n",
    "x = sort(x);\n",
    "\n",
    "fx = teeth_fun(x);\n",
    "\n",
    "xq = linspace(-1,1,100);\n",
    "chev_approx = interp1(x,fx,xq,'spline');\n",
    "\n",
    "plot(xq,teeth_fun(xq),'-',xq,chev_approx,':.');\n",
    "\n",
    "errors = (teeth_fun(xq) - chev_approx);\n",
    "\n",
    "metric_chev = errors*errors'\n",
    "\n",
    "gain = (1 - metric_chev/metric_spline)*100;\n",
    "\n",
    "message = ['This estimation is ', num2str(round(gain,1)), '% more precise than the evenly spaced method.'];\n",
    "\n",
    "disp(message)"
   ]
  },
  {
   "cell_type": "markdown",
   "id": "0c63a12d-aa5e-4b18-ad3e-d4bb57d14030",
   "metadata": {},
   "source": [
    "Great! We are done with this lecture. Now, you can tell your friends you learned spectral methods. I hope you enjoyed this lecture! See you next time."
   ]
  }
 ],
 "metadata": {
  "kernelspec": {
   "display_name": "MATLAB Kernel",
   "language": "matlab",
   "name": "jupyter_matlab_kernel"
  },
  "language_info": {
   "file_extension": ".m",
   "mimetype": "text/x-matlab",
   "name": "matlab"
  }
 },
 "nbformat": 4,
 "nbformat_minor": 5
}
