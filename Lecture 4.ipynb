{
 "cells": [
  {
   "cell_type": "markdown",
   "id": "a38e70b0-944d-4c28-a50b-8e46aa0dedcc",
   "metadata": {},
   "source": [
    "# Lecture IV: Solving Search problems with MATLAB"
   ]
  },
  {
   "cell_type": "markdown",
   "id": "e1a1073b-ec88-411a-9af4-c9ec4be83995",
   "metadata": {},
   "source": [
    "\"*Always code as if the guy who ends up reading your code will be a violent psychopath who knows where you live*\" - John Woods"
   ]
  },
  {
   "cell_type": "markdown",
   "id": "2f81562c-10e1-4c8b-ab99-783827a6f94a",
   "metadata": {},
   "source": [
    "## 1. Introduction"
   ]
  },
  {
   "cell_type": "markdown",
   "id": "d8168ffa-9bf6-4ede-8ff9-c5186b38549b",
   "metadata": {},
   "source": [
    "Search and Matching models are important in economics. They are one of the best explanations for involuntary unemployment since they propose that search frictions are relevant. As is common in economics, the theory developed can be used in different settings. In this case, search theory is not reduced to labor markets. \n",
    "\n",
    "The search and matching framework can also explain the housing market, the marriage market (yes, in economics, marriage is a market), health donations, and so on. One of the main characteristics of a search environment is the trade-off between accepting an offer or rejecting it and continuing to search. An easy way to understand this trade-off is through dating apps. Would you wait until you meet the love of your life  (i.e., \"the one\"), or would you date anyone above a certain threshold? There it is the trade-off."
   ]
  },
  {
   "cell_type": "markdown",
   "id": "4e9ca244-53be-4258-a73a-f77090be2f1a",
   "metadata": {},
   "source": [
    "However, it took economists a while to apply these models in practice, as they usually do not have an analytical solution. So, economists must rely on computational methods to solve them."
   ]
  },
  {
   "cell_type": "markdown",
   "id": "a62ebf93-971e-4511-b893-cc7b7f5c3557",
   "metadata": {},
   "source": [
    "In this lecture, we will explore a simple model for search and matching using real data to calibrate it. Do not worry if you do not know anything about search; we will go slowly and explain everything you need to know. Also, remember that this is a computational workshop, so the main focus is to use our newly acquired skills to solve problems."
   ]
  },
  {
   "cell_type": "markdown",
   "id": "734e534c-a1ad-4f26-9623-0556f152f7de",
   "metadata": {},
   "source": [
    "## 2. A simple model of Search and Matching: The algebra"
   ]
  },
  {
   "cell_type": "markdown",
   "id": "7356ad1a-75f9-40b4-b43e-1bc1829e9b0f",
   "metadata": {},
   "source": [
    "Let's imagine an economy in which we have an amount of workers equal to one. This measure means that if we take 0.5 workers, we have half the total number of workers in the economy. 0.25 represents one quarter, and so on."
   ]
  },
  {
   "cell_type": "markdown",
   "id": "c900c9e1-c869-458f-8b33-5e00fd3eb06a",
   "metadata": {
    "tags": []
   },
   "source": [
    "These workers are homogenous in their human capital levels, which means that they are all equally productive **ex-ante**. "
   ]
  },
  {
   "cell_type": "markdown",
   "id": "6ac770c1-8ce6-4df6-854e-0a690915bc56",
   "metadata": {},
   "source": [
    "Only unemployed workers can search for a job but cannot direct their search to a specific firm. Rather than that, the search is random, which can be interpreted as they are applying to all the firms that are offering jobs. "
   ]
  },
  {
   "cell_type": "markdown",
   "id": "9f9b11e0-7711-4682-93af-212626715ae7",
   "metadata": {},
   "source": [
    "The unemployed worker receives unemployment benefits, given by $z$, at the beginning of every period. This benefit helps the workers while they are unemployed; once they have a job, the benefit is lost until they are unemployed again."
   ]
  },
  {
   "cell_type": "markdown",
   "id": "01edae53-d3dd-4e7e-afd3-a24d6a04fcbb",
   "metadata": {},
   "source": [
    "One time per period, the worker can have a match with a firm looking for a worker. The number of matches created in the economy depends on the number of unemployed workers ($U$) and vacancies ($V$) posted. In particular, the following function rules out the amount of matches created:\n",
    "\n",
    "$$ m(U,V) = U^\\gamma V^{1-\\gamma} $$"
   ]
  },
  {
   "cell_type": "markdown",
   "id": "1de5c59a-d5d0-4414-957a-37d07fdbd3e3",
   "metadata": {},
   "source": [
    "Assuming $\\gamma=0.5$, let's see how this function looks:"
   ]
  },
  {
   "cell_type": "code",
   "execution_count": 3,
   "id": "5b5f720c-02e8-4af6-a6dc-a15379d3d61b",
   "metadata": {
    "tags": []
   },
   "outputs": [
    {
     "data": {
      "text/html": [
       "<html><body><pre>m = 1x100 double\n",
       "    0.0001    0.0102    0.0203    0.0304    0.0405    0.0506    0.0607    0.0708    0.0809    0.0910    0.1011    0.1112    0.1213    0.1314    0.1415    0.1516    0.1617    0.1718    0.1819    0.1920    0.2021    0.2122    0.2223    0.2324    0.2425    0.2526    0.2627    0.2728    0.2829    0.2930\n",
       "...</pre></body></html>"
      ],
      "text/plain": [
       "m = 1x100 double\n",
       "    0.0001    0.0102    0.0203    0.0304    0.0405    0.0506    0.0607    0.0708    0.0809    0.0910    0.1011    0.1112    0.1213    0.1314    0.1415    0.1516    0.1617    0.1718    0.1819    0.1920    0.2021    0.2122    0.2223    0.2324    0.2425    0.2526    0.2627    0.2728    0.2829    0.2930\n",
       "..."
      ]
     },
     "execution_count": 3,
     "metadata": {},
     "output_type": "execute_result"
    }
   ],
   "source": [
    "eps = 1e-4;\n",
    "gamma=0.5;\n",
    "u = linspace(eps,1-eps,100);\n",
    "v = linspace(eps,1-eps,100);\n",
    "\n",
    "m = u.^gamma .* v.^(1-gamma)"
   ]
  },
  {
   "cell_type": "markdown",
   "id": "4b549862-325a-4a12-88f2-8caee6f4b616",
   "metadata": {},
   "source": [
    "OK, so it is increasing when unemployment or vacancies increase."
   ]
  },
  {
   "cell_type": "markdown",
   "id": "35bc5737-c39c-45e2-bd41-aceec9e0b355",
   "metadata": {},
   "source": [
    "Also, workers are not indifferent to time and have a discount factor igual to $\\rho = 0.98$."
   ]
  },
  {
   "cell_type": "markdown",
   "id": "cf9660f3-66d3-4409-a3f5-964d7b39ffa9",
   "metadata": {},
   "source": [
    "Now, given a number of vacancies $V_0$ and a number of unemployed workers $U_0$, notice that the probability that an unemployed worker will have a match is given by:\n",
    "\n",
    "$$ \\frac{m(U_0,V_0)}{U_0} $$"
   ]
  },
  {
   "cell_type": "markdown",
   "id": "acacda5d-2803-4c8a-ad25-dba049408fcc",
   "metadata": {},
   "source": [
    "Now, notice that the matching function has constant returns to scale, then we can enter the $U_0$ that is dividing to the function:\n",
    "\n",
    "$$ m\\left(1, \\frac{V_0}{U_0} \\right) $$\n",
    "\n",
    "And just for simplicity, we will define $ \\frac{V_0}{U_0} = \\theta$, and we will call $\\theta$ the market tightness.\n",
    "\n",
    "Then, we can rearrange the function and say that the probability of having a match being an unemployed worker is given by:\n",
    "\n",
    "$$ m(\\theta) $$"
   ]
  },
  {
   "cell_type": "markdown",
   "id": "ea9cd084-a8ce-449c-a389-be14bd0274b8",
   "metadata": {},
   "source": [
    "What about firms? Well, the probability that a firm will fill the vacancy is given by:\n",
    "\n",
    "$$ \\frac{m(U_0,V_0)}{V_0} = \\frac{m(U_0,V_0) \\frac{1}{U_0}}{V_0 \\frac{1}{U_0}} = \\frac{m(\\theta)}{\\theta} $$"
   ]
  },
  {
   "cell_type": "markdown",
   "id": "33430e74-311d-4868-b357-064667bee925",
   "metadata": {},
   "source": [
    "Now, do you remember the idea of value function? We will apply it here to understand the value of being unemployed and employed. In this case, someone unemployed will receive the benefits $z$ and, with some probability, $m(\\theta)$ will receive a job offer. The job offer is associated with the draw of a productivity parameter $x$, which signals how productive the match is. Then, the worker must decide whether to accept or reject the offer. If they accept the offer, they will receive a value of employment $N(x)$ and lose the value of unemployment. If they reject the offer, nothing happens:"
   ]
  },
  {
   "cell_type": "markdown",
   "id": "f31b1f72-e036-4a2a-ac6d-6ff28cfa6e45",
   "metadata": {},
   "source": [
    "$$ \\rho U = z + m(\\theta) \\int_{0}^{\\infty} \\max_{accept,reject} \\lbrace N(x)-U,0 \\rbrace g(x) dx $$"
   ]
  },
  {
   "cell_type": "markdown",
   "id": "4642bea4-7c9e-48ef-b1e1-eabb866b93bf",
   "metadata": {
    "tags": []
   },
   "source": [
    "If a worker is employed, she will receive a wage in each period. Notice that the wage will depend on the productivity draw, $x$. Then, in the next period, the job can be destroyed with a probability $\\delta$, and the worker will be unemployed again. Therefore, we can summarize this in the following equation:"
   ]
  },
  {
   "cell_type": "markdown",
   "id": "0e8362c5-d8dd-49ac-b930-44b903a9c5bb",
   "metadata": {},
   "source": [
    "$$ \\rho N(x) = w(x) + \\delta [U-N(x)] $$\n",
    "\n",
    "Or:\n",
    "\n",
    "$$ N(x) = \\frac{1}{\\rho + \\delta} [w(x) + \\delta U] $$"
   ]
  },
  {
   "cell_type": "markdown",
   "id": "0a8e9518-8120-402a-9498-b7f6cf38c8f8",
   "metadata": {},
   "source": [
    "Great! Now, let's check the firms. There are two types: those with filled vacancies and those looking for workers."
   ]
  },
  {
   "cell_type": "markdown",
   "id": "a77dbda0-9883-4498-ac65-7ebf845a33bc",
   "metadata": {},
   "source": [
    "If a firm already has a worker, the firm will receive the production $x$ minus the wage that goes to the worker $w(x)$, and in the next period, the job could be destroyed, and then the firm will have to post a vacancy again."
   ]
  },
  {
   "cell_type": "markdown",
   "id": "e88f43b7-b512-4877-b2f3-4e7873126ffd",
   "metadata": {},
   "source": [
    "This can be summarized in:\n",
    "\n",
    "$$\\rho J(x) = x - w(x) + \\delta [V - J(x)]$$\n",
    "\n",
    "Or:\n",
    "\n",
    "$$ J(x) = \\frac{1}{\\rho + \\delta} [x-w(x)+\\delta V] $$\n",
    "\n",
    "A firm looking for a worker has to pay $c$ to post the vacancy. It has a probability $m(\\theta)/\\theta$ of having a match with a worker, and then they can decide whether to accept or reject.\n",
    "\n",
    "$$ \\rho V = - c +\\frac{m(\\theta)}{\\theta} \\int_{0}^{\\infty}\\max_{accept,reject} \\lbrace J(x) - V , 0 \\rbrace dG(x) $$ "
   ]
  },
  {
   "cell_type": "markdown",
   "id": "8ace1459-5dcd-4770-8a73-d1a2bbc5c1c3",
   "metadata": {},
   "source": [
    "Excellent! Now we have almost everything to work. However, we still need one key component: wages. Once the firm and the worker see the productivity draw $x$, they will bargain the wages, following a classical Nash bargaining scheme:"
   ]
  },
  {
   "cell_type": "markdown",
   "id": "9e1ee6bb-d0b9-40ff-8952-f3799383547e",
   "metadata": {},
   "source": [
    "$$ w(x) = \\arg \\max [ (N(x) - U ]^\\beta [J(x) - V]^{1-\\beta} $$"
   ]
  },
  {
   "cell_type": "markdown",
   "id": "a0eb07ed-f1e3-4db4-925c-c354e2da4944",
   "metadata": {},
   "source": [
    "Where $\\beta$ represents the bargaining value of the workers, and $1-\\beta$ represents the firms' bargaining power. "
   ]
  },
  {
   "cell_type": "markdown",
   "id": "50f2365d-2863-4836-990c-f19e5aaebac0",
   "metadata": {},
   "source": [
    "Before taking the FOC, we will apply logs:\n",
    "\n",
    "$$ \\beta \\ln [N(x) - U] + (1-\\beta) \\ln [J(x) - V] $$"
   ]
  },
  {
   "cell_type": "markdown",
   "id": "0be71cdc-eec3-4377-8610-e13ef332c68a",
   "metadata": {},
   "source": [
    "Now, we will apply the derivate with respect to $w(x)$. Notice that both $N(x)$ and $J(x)$ depend on $w(x)$. Then:"
   ]
  },
  {
   "cell_type": "markdown",
   "id": "c63fd069-a714-4486-8681-9e7d2ff3aaa0",
   "metadata": {},
   "source": [
    "$$ \\frac{\\beta}{N(x)-U} \\frac{dN(x)}{dw(x)} + \\frac{1-\\beta}{J(x)-V} \\frac{dJ(x)}{dw(x)} = 0 $$"
   ]
  },
  {
   "cell_type": "markdown",
   "id": "2ce6a270-fc98-4afc-93a9-e9dd69755c3f",
   "metadata": {},
   "source": [
    "Checking the definitions:\n",
    "\n",
    "$$ \\frac{dN(x)}{dw(x)} = \\frac{1}{\\rho + \\delta} $$\n",
    "\n",
    "And:\n",
    "\n",
    "$$ \\frac{dJ(x)}{dw(x)} = \\frac{-1}{\\rho + \\delta} $$"
   ]
  },
  {
   "cell_type": "markdown",
   "id": "bd35bd54-de3e-4f72-a664-72f5b54374e0",
   "metadata": {},
   "source": [
    "Therefore:\n",
    "\n",
    "$$ \\frac{\\beta}{N(x)-U} \\frac{1}{\\rho + \\delta} - \\frac{1-\\beta}{J(x)-V} \\frac{1}{\\rho + \\delta} = 0 $$"
   ]
  },
  {
   "cell_type": "markdown",
   "id": "dd0623b4-fbe3-4735-967a-e91529e8156b",
   "metadata": {},
   "source": [
    "Then, we can simplify:\n",
    "\n",
    "$$ \\frac{\\beta}{N(x)-U} - \\frac{1-\\beta}{J(x)-V} = 0 $$"
   ]
  },
  {
   "cell_type": "markdown",
   "id": "b50a0afa-7009-4153-bb1d-e3b2688454bd",
   "metadata": {},
   "source": [
    "Rearrange:\n",
    "\n",
    "$$ \\frac{\\beta}{N(x)-U} = \\frac{1-\\beta}{J(x)-V} $$\n",
    "\n",
    "$$ \\beta [J(x)-V] = (1-\\beta)[N(x)-U] $$"
   ]
  },
  {
   "cell_type": "markdown",
   "id": "fa10e117-eaa5-4c90-8b49-aaacdf173b0a",
   "metadata": {},
   "source": [
    "Now, we can replace the definitions of $J(x)$ and $N(x)$:\n",
    "\n",
    "$$ \\beta \\left[ \\frac{[x-w(x)+\\delta V]}{\\rho+\\delta} - V\\right] = (1-\\beta) \\left[ \\frac{[w(x)+\\delta U]}{\\rho+\\delta} - U \\right]$$"
   ]
  },
  {
   "cell_type": "markdown",
   "id": "2db23897-37a1-4ec3-af68-523c03b3c4de",
   "metadata": {},
   "source": [
    "Rearrange:\n",
    "\n",
    "$$ \\beta \\left[ \\frac{[x-w(x)-\\rho V]}{\\rho+\\delta}\\right] = (1-\\beta) \\left[ \\frac{[w(x)-\\rho U]}{\\rho+\\delta} \\right]$$"
   ]
  },
  {
   "cell_type": "markdown",
   "id": "e3fd8bbc-676e-4231-9da5-a69205d89afb",
   "metadata": {},
   "source": [
    "Again, simplify:\n",
    "\n",
    "$$ \\beta[x-w(x)-\\rho V]= (1-\\beta)[w(x)-\\rho U]$$"
   ]
  },
  {
   "cell_type": "markdown",
   "id": "03193efe-8e4b-4d99-8f0e-be835b0aeea2",
   "metadata": {},
   "source": [
    "Split the terms:\n",
    "\n",
    "$$ \\beta x - \\beta w(x) - \\beta \\rho V = w(x) - \\beta w(x) - (1-\\beta)\\rho U $$"
   ]
  },
  {
   "cell_type": "markdown",
   "id": "8aef0a20-8685-4f70-a24b-1b79a69e0fc5",
   "metadata": {},
   "source": [
    "Simplify:\n",
    "\n",
    "$$ \\beta x - \\beta \\rho V = w(x)- (1-\\beta) \\rho U $$"
   ]
  },
  {
   "cell_type": "markdown",
   "id": "6dee98a2-5894-4a27-a723-b2cf0fceed65",
   "metadata": {},
   "source": [
    "Then:\n",
    "\n",
    "$$ w(x) = \\beta x + (1-\\beta) \\rho U - \\beta \\rho V  $$"
   ]
  },
  {
   "cell_type": "markdown",
   "id": "cfb295e0-1a90-44af-8f2d-6601b7301da9",
   "metadata": {},
   "source": [
    "Finally, we will impose a new condition: free entry. If there is free entry of firms, the expected value of posting a vacancy has to be zero. Then:\n",
    "\n",
    "$$ w(x) = \\beta x + (1-\\beta) \\rho U $$"
   ]
  },
  {
   "cell_type": "markdown",
   "id": "710c63f0-f46c-4c3c-8cb1-3eeadf811ec7",
   "metadata": {},
   "source": [
    "This expression is quite intuitive. Let's check it. When the worker's bargaining power is bigger, the fraction of the production that goes to the worker will be greater. In the opposite case, when the firm has more bargaining power, the firm will try to pay the least possible, which is given by the value of unemployment. Notice that the firm cannot pay less than this because the workers will decide to stay unemployed."
   ]
  },
  {
   "cell_type": "markdown",
   "id": "96c9f84d-e358-48de-9202-6393f25a781b",
   "metadata": {},
   "source": [
    "Now that we have all the ingredients, we can work the expressions a bit. First, let's notice that the least $x$ the worker will require to accept a job is given by $\\rho U$. Why? Well, replace that value in the wage equation:\n",
    "\n",
    "$$ w(\\rho U) = \\beta \\rho U + (1-\\beta)  \\rho U = \\rho U$$"
   ]
  },
  {
   "cell_type": "markdown",
   "id": "6a7fc2cd-24e6-4f8d-a55a-9e877dd05b0c",
   "metadata": {},
   "source": [
    "So, now we can incorporate that knowledge into the value of being unemployed:\n",
    "\n",
    "$$ \\rho U = z + m(\\theta) \\int_{0}^{\\infty} \\max_{accept,reject} \\lbrace N(x)-U,0 \\rbrace dG(x) $$"
   ]
  },
  {
   "cell_type": "markdown",
   "id": "5e294d7c-b9a3-46f4-a5b5-10e46b08a116",
   "metadata": {},
   "source": [
    "We will split the integral into two parts:\n",
    "\n",
    "$$ \\rho U = z + m(\\theta) \\left[ \\int_{0}^{\\rho U} \\max_{accept,reject} \\lbrace N(x)-U,0 \\rbrace dG(x) + \\int_{\\rho U}^{\\infty} \\max_{accept,reject} \\lbrace N(x)-U,0 \\rbrace dG(x)  \\right]$$"
   ]
  },
  {
   "cell_type": "markdown",
   "id": "b6e88483-ac83-4055-a5a1-71dc3d5d71dc",
   "metadata": {},
   "source": [
    "Then, the worker will reject the offer in the first part, but they will accept the offer in the second part, so:\n",
    "\n",
    "$$ \\rho U = z + m(\\theta)\\int_{\\rho U}^{\\infty} [ N(x)-U ] dG(x)$$"
   ]
  },
  {
   "cell_type": "markdown",
   "id": "da2c41b7-34ad-408f-b4cd-a18b5e2f1583",
   "metadata": {},
   "source": [
    "Then, we can replace the value of $N(x)$:\n",
    "\n",
    "$$ \\rho U = z + m(\\theta)\\int_{\\rho U}^{\\infty} \\left[ \\frac{1}{\\rho + \\delta} [w(x) + \\delta U]  -U \\right] dG(x)$$\n",
    "\n",
    "$$ \\rho U = z + m(\\theta)\\int_{\\rho U}^{\\infty} \\left[ \\frac{1}{\\rho + \\delta} [w(x) - \\rho U]  \\right] dG(x)$$\n",
    "\n",
    "$$ \\rho U = z + m(\\theta)\\int_{\\rho U}^{\\infty} \\left[ \\frac{1}{\\rho + \\delta} [\\beta x + (1-\\beta) \\rho U - \\rho U]  \\right] dG(x)$$\n",
    "\n",
    "$$ \\rho U = z + m(\\theta)\\int_{\\rho U}^{\\infty}  \\beta \\left[ \\frac{x-\\rho U}{\\rho + \\delta} \\right] dG(x)$$"
   ]
  },
  {
   "cell_type": "markdown",
   "id": "58845b40-6292-4acf-920e-034f083beaba",
   "metadata": {},
   "source": [
    "Great. Now we can work more with the vacancy equation:\n",
    "\n",
    "$$ \\rho V = - c +\\frac{m(\\theta)}{\\theta} \\int_{0}^{\\infty}  \\max_{accept,reject} \\lbrace J(x) - V , 0 \\rbrace dG(x) $$ \n",
    "\n",
    "Again, we split:\n",
    "\n",
    "$$ \\rho V = - c +\\frac{m(\\theta)}{\\theta} \\left[ \\int_{0}^{\\rho U} \\max_{accept,reject} \\lbrace J(x) - V , 0 \\rbrace dG(x) + \\int_{\\rho U}^{\\infty} \\max_{accept,reject} \\lbrace J(x) - V , 0 \\rbrace dG(x) \\right]$$ "
   ]
  },
  {
   "cell_type": "markdown",
   "id": "854d5738-5598-48a2-8513-f65616e3f599",
   "metadata": {},
   "source": [
    "We know that the worker will reject in the first case:\n",
    "\n",
    "$$ \\rho V = - c +\\frac{m(\\theta)}{\\theta} \\int_{\\rho U}^{\\infty} [ J(x) - V]  dG(x) $$ "
   ]
  },
  {
   "cell_type": "markdown",
   "id": "be0620b7-1895-4dbe-afa7-faeaeab24f1e",
   "metadata": {
    "tags": []
   },
   "source": [
    "Then, we apply the free entry condition, that means $V=0$:\n",
    "\n",
    "$$ 0 = - c +\\frac{m(\\theta)}{\\theta} \\int_{\\rho U}^{\\infty} J(x)  dG(x) $$ "
   ]
  },
  {
   "cell_type": "markdown",
   "id": "300d94ed-7750-48d4-b5dc-a5f2097b38a7",
   "metadata": {},
   "source": [
    "Then, we replace $J(x)$:\n",
    "\n",
    "$$ 0 = - c +\\frac{m(\\theta)}{\\theta} \\int_{\\rho U}^{\\infty} \\frac{x-w(x)}{\\rho + \\delta}  dG(x) $$ \n",
    "\n",
    "$$ c = \\frac{m(\\theta)}{\\theta} \\int_{\\rho U}^{\\infty} \\frac{x-\\beta x - (1-\\beta) \\rho U}{\\rho + \\delta}  dG(x) $$\n",
    "\n",
    "$$ c = \\frac{m(\\theta)}{\\theta} \\int_{\\rho U}^{\\infty}  \\frac{(1-\\beta)(x- \\rho U)}{\\rho + \\delta}  dG(x) $$"
   ]
  },
  {
   "cell_type": "markdown",
   "id": "413eade4-407c-46ae-9958-a2bc617183cd",
   "metadata": {},
   "source": [
    "And we are done! What else? Well, we need to impose some conditions to have a stationary equilibrium. These conditions are essentially two. First, all the workers are either employed or unemployed:\n",
    "\n",
    "$$ e +u = 1$$"
   ]
  },
  {
   "cell_type": "markdown",
   "id": "227adb31-26a2-43df-8883-3012bc98c4b6",
   "metadata": {},
   "source": [
    "The most important one is the flow condition. This means that in equilibrium, the number of workers entering unemployment has to be equal to the number of workers exiting unemployment. If that is the case, the unemployment rate is constant.\n",
    "\n",
    "$$ \\delta e = m(\\theta) [1 - G(\\rho U)] u $$"
   ]
  },
  {
   "cell_type": "markdown",
   "id": "25091c73-fb59-4c37-b5ff-72e9c55b12e1",
   "metadata": {},
   "source": [
    "Great! After this brief detour, we can solve the model. What is solving the model? Given a group of parameters, we will find the values $\\rho U$ and $\\theta$ that are consistent with those values and simultaneously sustain a stationary equilibrium.\n",
    "\n",
    "What parameters do we need? We need to know $z, c, \\delta, \\rho, \\beta, \\gamma, \\mu$ and $\\sigma$"
   ]
  },
  {
   "cell_type": "markdown",
   "id": "d7a630c0-158c-4b3d-bece-c0b31b83d473",
   "metadata": {},
   "source": [
    "## 3. A simple model of Search and Matching: The code to solve"
   ]
  },
  {
   "cell_type": "markdown",
   "id": "5caade9e-7a9d-4534-a686-fd520d38b6a3",
   "metadata": {},
   "source": [
    "OK, let's discuss conceptually how to solve this and then we will write the code. We will start with a guess of the market tightness $\\theta$. If we know the market tightness, we can solve for $\\rho U$ in the equation for the value of unemployment:\n",
    "\n",
    "$$ \\rho U = z + m(\\theta)\\int_{\\rho U}^{\\infty}  \\beta \\left[ \\frac{x-\\rho U}{\\rho + \\delta} \\right] dG(x)$$"
   ]
  },
  {
   "cell_type": "markdown",
   "id": "d91ae083-3fdc-4b30-8277-0b56bd67194d",
   "metadata": {},
   "source": [
    "From this equation, we will have a value $\\rho U$. Then, we can use that value to solve for $\\theta$ in the following equation:\n",
    "\n",
    "$$ c = \\frac{m(\\theta)}{\\theta} \\int_{\\rho U}^{\\infty}  \\frac{(1-\\beta)(x- \\rho U)}{\\rho + \\delta}  dG(x) $$"
   ]
  },
  {
   "cell_type": "markdown",
   "id": "2cc6e490-4ca5-40ef-a84f-6a62a6098ca8",
   "metadata": {},
   "source": [
    "Then, we can compare the two $\\theta$'s: the guess and the final. If they are equal, we are done! If they are not equal, we have to try a new guess. In general we will use as a new guess the final value obtained in the previous procedure."
   ]
  },
  {
   "cell_type": "markdown",
   "id": "95cb4181-869a-43dc-bf10-df51312ee2f2",
   "metadata": {},
   "source": [
    "So, the first thing we will do is create a function that, given the model's parameters, will solve for the unemployment value."
   ]
  },
  {
   "cell_type": "markdown",
   "id": "1c68ab1b-0939-4c56-9974-6dc15a85077f",
   "metadata": {},
   "source": [
    "### 3.1 The fsolve() function"
   ]
  },
  {
   "cell_type": "markdown",
   "id": "7dbdd0f7-06f9-4149-8dfa-0e109828686b",
   "metadata": {},
   "source": [
    "However, before doing this, we will have to learn how to use a new function: fsolve(). Let's check it."
   ]
  },
  {
   "cell_type": "code",
   "execution_count": null,
   "id": "859abc23-5a26-43b1-a44a-3d711b97168b",
   "metadata": {
    "tags": []
   },
   "outputs": [],
   "source": [
    "help fsolve"
   ]
  },
  {
   "cell_type": "markdown",
   "id": "8461ad56-aff7-481a-a1af-58ca06a1656f",
   "metadata": {},
   "source": [
    "So, this function works if we put an equation of the form $f(x)=0$, where x can be a scalar or a vector. Notice also that we have to specify the function. Great. Let's try it with an example. Consider the equation given by:\n",
    "\n",
    "$$ x^2-5x = 3 $$\n",
    "\n",
    "Use the function to solve for the value of $x$."
   ]
  },
  {
   "cell_type": "markdown",
   "id": "d7ba1258-af33-4d4e-8455-7c61ef9fb2f7",
   "metadata": {},
   "source": [
    "So, first, we will have to rearrange the equation:\n",
    "\n",
    "$$ x^2-5x-3=0$$\n",
    "\n",
    "Then, we will create a function associated with it."
   ]
  },
  {
   "cell_type": "code",
   "execution_count": null,
   "id": "71274802-45a3-4ae0-8f94-00c4a573d4ec",
   "metadata": {
    "tags": []
   },
   "outputs": [],
   "source": [
    "fun = @(x) x^2-5*x-3\n",
    "\n",
    "fun(2)\n",
    "\n",
    "fun(10)"
   ]
  },
  {
   "cell_type": "markdown",
   "id": "d165e1b0-d0e5-40fc-9c32-f893158b7a42",
   "metadata": {},
   "source": [
    "Excellent. So, the point that solves the function is between 2 and 10. Remember that we could use the bisection algorithm or the Newton method to solve this. Now, we will not do it because the function will."
   ]
  },
  {
   "cell_type": "markdown",
   "id": "5713521a-ac33-468a-b672-ccf62ee29e74",
   "metadata": {},
   "source": [
    "The last thing we will need is an initial value. This could be anything that makes sense, but in larger problems, having a good guess is useful."
   ]
  },
  {
   "cell_type": "code",
   "execution_count": null,
   "id": "1e046272-ebf2-4abe-afcc-fb5693a557ab",
   "metadata": {
    "tags": []
   },
   "outputs": [],
   "source": [
    "x0=2\n",
    "\n",
    "[x_star, fval] = fsolve(fun,x0);\n",
    "\n",
    "x_star\n",
    "fun(x_star)"
   ]
  },
  {
   "cell_type": "markdown",
   "id": "11ba081d-48dc-42f8-a110-981ea02eac79",
   "metadata": {},
   "source": [
    "Wait, what? We were expecting something between 2 and 10, but the method gave us a negative value, which is a solution! Well, remember that quadratic equations have two solutions, which means that we found one of them. If we just adjust the initial guess a bit, we can find the other solution."
   ]
  },
  {
   "cell_type": "code",
   "execution_count": null,
   "id": "449db19c-b722-4e9b-93ea-e7f2de86b8be",
   "metadata": {
    "tags": []
   },
   "outputs": [],
   "source": [
    "x0=5\n",
    "\n",
    "[x_star, fval] = fsolve(fun,x0);\n",
    "\n",
    "x_star\n",
    "fun(x_star)"
   ]
  },
  {
   "cell_type": "markdown",
   "id": "46cc6d52-f98c-4d7d-ab5f-a53508b925bc",
   "metadata": {},
   "source": [
    "Excellent! Hopefully, you noticed how important the initial guess is with this method. This problem is easy, and you can solve it without the computer, but in more difficult problems, the standard procedure is to use several guesses to confirm that the value that we are finding is not restricted because of the initial point."
   ]
  },
  {
   "cell_type": "markdown",
   "id": "6c25d238-f01f-47a5-bbd0-cef136826ab7",
   "metadata": {},
   "source": [
    "### 3.2 The unem_solver() function"
   ]
  },
  {
   "cell_type": "markdown",
   "id": "a60a9d4f-8043-4112-9402-09e133126e6d",
   "metadata": {},
   "source": [
    "So now, going back to our problem, we have to find the value $\\rho U$ that solves:\n",
    "\n",
    "$$ \\rho U = z + m(\\theta)\\int_{\\rho U}^{\\infty}  \\beta \\left[ \\frac{x-\\rho U}{\\rho + \\delta} \\right] dG(x)$$"
   ]
  },
  {
   "cell_type": "markdown",
   "id": "2ec3fe90-42b6-4e3d-9131-7e3648380c83",
   "metadata": {},
   "source": [
    "And just to be super clear, the correct notation for this is:\n",
    "\n",
    "$$ \\rho U = z + m(\\theta)\\int_{\\rho U}^{\\infty}  \\beta \\left[ \\frac{x-\\rho U}{\\rho + \\delta} \\right] g(x) dx$$"
   ]
  },
  {
   "cell_type": "markdown",
   "id": "981d31b7-1205-42dd-a075-1dbfc182ec91",
   "metadata": {},
   "source": [
    "This could look scary, mainly because $ \\rho U $ is in the integration limits. We will not solve this with our methods, but if you are curious, you can use the Newton method. To deal with the derivative of an integration limit, you just have to apply the Leibniz rule and ta-da!"
   ]
  },
  {
   "cell_type": "markdown",
   "id": "271bab83-6305-4ad9-a2f9-1c55a0b74b5f",
   "metadata": {},
   "source": [
    "So, let's assume these parameters for the model:"
   ]
  },
  {
   "cell_type": "code",
   "execution_count": 5,
   "id": "18ac4eac-94e2-42a9-8145-890a9c206602",
   "metadata": {
    "tags": []
   },
   "outputs": [],
   "source": [
    "z     = 1     ; % Instant utility of being unemployed\n",
    "delta = 0.05  ; % Probability of job destruction\n",
    "beta  = 0.5   ; % Bargain power of workers\n",
    "mu    = 5     ; % Mean of productivity\n",
    "sigma = 2.5   ; % Standard deviation of productivity\n",
    "c     = 1     ; % Cost of openning a vacancy\n",
    "rho   = 0.067 ; % Discount factor\n",
    "gamma = 0.5   ; % Matching elasticity"
   ]
  },
  {
   "cell_type": "markdown",
   "id": "a77ab890-5e3f-4e66-b613-f387a4ae712d",
   "metadata": {},
   "source": [
    "OK. First, we will compute the integral. To do this, we can create the following function:"
   ]
  },
  {
   "cell_type": "code",
   "execution_count": null,
   "id": "03a8dfa9-fab8-49bb-bc89-7f8e801c1796",
   "metadata": {
    "tags": []
   },
   "outputs": [],
   "source": [
    "aux = @(x,beta,rhoU,rho,delta,mu,sigma) beta.*(x-rhoU)/(rho+delta).*normpdf(x,mu,sigma);"
   ]
  },
  {
   "cell_type": "markdown",
   "id": "41748d32-f1fc-45a9-81a8-771308950915",
   "metadata": {},
   "source": [
    "Here, I'm using the function normpdf(), which gives us the probability density of a given point in a normal distribution with some mean and standard deviation."
   ]
  },
  {
   "cell_type": "code",
   "execution_count": null,
   "id": "d11ca5a0-b5c3-43a5-bfe8-31b13a06f05d",
   "metadata": {
    "tags": []
   },
   "outputs": [],
   "source": [
    "help normpdf"
   ]
  },
  {
   "cell_type": "markdown",
   "id": "9bade153-ca0a-40bf-850d-2c0e960c7ba5",
   "metadata": {},
   "source": [
    "Now, we will define the integral. Notice something tricky here. The integral goes to infinity. This is not complicated for Matlab, we can use:"
   ]
  },
  {
   "cell_type": "code",
   "execution_count": null,
   "id": "0c66ac4a-cc5d-4b32-a003-c06af34f3969",
   "metadata": {
    "tags": []
   },
   "outputs": [],
   "source": [
    "y = inf"
   ]
  },
  {
   "cell_type": "markdown",
   "id": "9699d32f-ca79-40b5-b325-8deb109f879f",
   "metadata": {},
   "source": [
    "And then, $y$ has the biggest value that Matlab can hold. However, in practical terms, we do not want to do this, and here is the reason. This integral is the continuous version of this sum:\n",
    "\n",
    "$$ \\sum_{i=1}^\\infty f(x_i) p(x_i) $$"
   ]
  },
  {
   "cell_type": "markdown",
   "id": "dcc73669-7463-4f32-8681-04be77eced84",
   "metadata": {},
   "source": [
    "Where $f(x_i)$ is the value of the function when $x=x_i$ and $P(x_i)$ is the probability of $x=x_i$. However, there are values for which we know the likelihood of taking those values is zero. For example, let's see the distribution that we have here."
   ]
  },
  {
   "cell_type": "code",
   "execution_count": null,
   "id": "f7b2b9e9-fb68-4bad-a2b2-aa40c92ed3ef",
   "metadata": {
    "tags": []
   },
   "outputs": [],
   "source": [
    "x = linspace(-5,15,1000);\n",
    "\n",
    "figure\n",
    "plot(x, normpdf(x,mu,sigma))"
   ]
  },
  {
   "cell_type": "markdown",
   "id": "7a6804b4-d600-4a3f-b332-f15d772c5ea4",
   "metadata": {},
   "source": [
    "Here we have the normal. Notice that after 15, there is almost no probability of having that point. In fact:"
   ]
  },
  {
   "cell_type": "code",
   "execution_count": null,
   "id": "1a45ed62-0f93-4da8-a555-2d94c5b51aee",
   "metadata": {
    "tags": []
   },
   "outputs": [],
   "source": [
    "normpdf(15,mu,sigma)"
   ]
  },
  {
   "cell_type": "markdown",
   "id": "51ed1c54-9bd6-4397-9b67-ec637268e8de",
   "metadata": {},
   "source": [
    "So, what is the point of computing this integral until infinity if we know that the probability is already very close to zero when $x=15$? So we will restrict the integral up to 15. Later, we will check if considering until infinity changes the results."
   ]
  },
  {
   "cell_type": "code",
   "execution_count": null,
   "id": "10aae5ff-23fa-4a1c-bdb1-b6861fbfa09a",
   "metadata": {
    "tags": []
   },
   "outputs": [],
   "source": [
    "x = linspace(-100,100,10000);\n",
    "\n",
    "figure\n",
    "plot(x, normpdf(x,mu,sigma))"
   ]
  },
  {
   "cell_type": "code",
   "execution_count": null,
   "id": "9a357921-bad5-4648-8adc-9f2e79ee39c2",
   "metadata": {
    "tags": []
   },
   "outputs": [],
   "source": [
    "M = 15;\n",
    "\n",
    "integral_worker = @(rhoU) integral( @(x) aux(x,beta,rhoU,rho,delta,mu,sigma),rhoU,M);"
   ]
  },
  {
   "cell_type": "markdown",
   "id": "44745a42-51ff-4ac3-9333-3eb9d5017155",
   "metadata": {},
   "source": [
    "Let's study the code for the integral. "
   ]
  },
  {
   "cell_type": "code",
   "execution_count": null,
   "id": "697aa57d-0a6b-4179-9002-b42758cded54",
   "metadata": {
    "tags": []
   },
   "outputs": [],
   "source": [
    "help integral"
   ]
  },
  {
   "cell_type": "markdown",
   "id": "8f51bc2d-6e9b-4785-9526-1495b0ab8e4b",
   "metadata": {},
   "source": [
    "The function integral() requires a function and a variable of integration and the integration limits. Our function is the aux() function we just created. The integration variable is $x$, and the integration limits are $\\rho U$ and $15$. "
   ]
  },
  {
   "cell_type": "markdown",
   "id": "843a8648-e514-4c95-be66-86f50c3d4988",
   "metadata": {},
   "source": [
    "And now, we will put all of this together in a file to run the function. Check the unem_solver() function."
   ]
  },
  {
   "cell_type": "markdown",
   "id": "20e0ea07-2f92-4801-b799-723cab068ccc",
   "metadata": {},
   "source": [
    "Great. Now we will assume the following initial guesses:"
   ]
  },
  {
   "cell_type": "code",
   "execution_count": null,
   "id": "7f2c0c9a-e63f-4528-a81e-efa332795e4b",
   "metadata": {
    "tags": []
   },
   "outputs": [],
   "source": [
    "theta_0  = 1                 ; % By assumption\n",
    "x0=1                         ; % Initial point for iteration"
   ]
  },
  {
   "cell_type": "markdown",
   "id": "111f132f-58da-4c0c-8599-541dd0cf8f5c",
   "metadata": {},
   "source": [
    "And we will run our function to find the value of $\\rho U$ that solves this:"
   ]
  },
  {
   "cell_type": "code",
   "execution_count": null,
   "id": "059e2fae-237f-4075-8899-7d11b9d5ba02",
   "metadata": {
    "tags": []
   },
   "outputs": [],
   "source": [
    "fun = @(rhoU) unem_solver(rhoU,z,theta_0,gamma,beta,mu,sigma,rho,delta);\n",
    "[rhoU1, fval_unem] = fsolve(fun,x0);\n",
    "\n",
    "rhoU1\n",
    "fval_unem"
   ]
  },
  {
   "cell_type": "markdown",
   "id": "45948474-f625-475c-9ea7-71d8f963929e",
   "metadata": {},
   "source": [
    "Excellent! We did it! Now, we will move to the other equation we need to solve, which takes a value of $\\rho U$ and returns a value for $\\theta$."
   ]
  },
  {
   "cell_type": "markdown",
   "id": "7adbea15-5ed9-4bbe-9825-cc062ec90cc6",
   "metadata": {},
   "source": [
    "## 3.3 The theta_solver() function"
   ]
  },
  {
   "cell_type": "markdown",
   "id": "5e57f2d4-2b48-45ea-86dc-89692f8e5569",
   "metadata": {},
   "source": [
    "Now that we have the $\\rho U$ value, we will use it to compute the implied value of $\\theta$. For this, we will use the following equation:\n",
    "\n",
    "$$c = \\frac{m(\\theta)}{\\theta} \\int_{\\rho U}^\\infty \\frac{(1-\\beta) (x-\\rho U)}{\\rho+\\delta} g(x) dx $$"
   ]
  },
  {
   "cell_type": "markdown",
   "id": "a59749cd-4883-419d-91c3-a7795ba305b0",
   "metadata": {
    "tags": []
   },
   "source": [
    "And again, we have to compute the integral. Which is given by:"
   ]
  },
  {
   "cell_type": "code",
   "execution_count": null,
   "id": "d81b642b-84f3-4c97-9d5a-680fde894a36",
   "metadata": {
    "tags": []
   },
   "outputs": [],
   "source": [
    "aux = @(x,beta,rhoU,rho,delta,mu,sigma) beta.*(x-rhoU)/(rho+delta)...\n",
    "                                        .*normpdf(x,mu,sigma);\n",
    "\n",
    "M=1e+3;\n",
    "\n",
    "integral_costs = @(rhoU) integral( @(x) aux(x,beta,rhoU,rho,delta,mu,...\n",
    "                                  sigma),rhoU,M);"
   ]
  },
  {
   "cell_type": "markdown",
   "id": "522a47f0-2a72-468c-ab66-a742a4d011f9",
   "metadata": {},
   "source": [
    "So, $\\theta$ has to make the initial equation equal to zero"
   ]
  },
  {
   "cell_type": "markdown",
   "id": "a54c3c1f-ec78-4762-a86e-c2b42e8e41b1",
   "metadata": {},
   "source": [
    "Then, we create the function that does this (see the folder)."
   ]
  },
  {
   "cell_type": "code",
   "execution_count": null,
   "id": "7d0eb012-733a-4a42-81df-8df6159f2643",
   "metadata": {
    "tags": []
   },
   "outputs": [],
   "source": [
    "fun = @(theta) theta_solver(rhoU1,c,theta,gamma,beta,mu,sigma,rho,delta);\n",
    "[theta1, fval_theta] = fsolve(fun,theta_0);\n",
    "\n",
    "theta1\n",
    "fval_theta"
   ]
  },
  {
   "cell_type": "markdown",
   "id": "7532650b-c6c1-4850-946f-d87dbb865fe6",
   "metadata": {},
   "source": [
    "Excellent! Notice one thing. We start assuming that the market tightness equals one and the implied market tightness equals 16.6820. The above means that our initial guess is different from the actual solution. So now, we will generate the iterative process to find the equilibrium:"
   ]
  },
  {
   "cell_type": "code",
   "execution_count": null,
   "id": "5e85e86c-be6a-4e7f-a874-34d19c32d424",
   "metadata": {
    "tags": []
   },
   "outputs": [],
   "source": [
    "lambda = 0;\n",
    "dif_theta=1;\n",
    "\n",
    "tol =  1e-6;\n",
    "\n",
    "it = 0;\n",
    "\n",
    "%options = optimoptions('fsolve', 'Display', 'off');\n",
    "\n",
    "while dif_theta>tol\n",
    "    fun = @(rhoU) unem_solver(rhoU,z,theta_0,gamma,beta,mu,sigma,rho,delta);\n",
    "    [rhoU1, fval_unem] = fsolve(fun,x0);\n",
    "\n",
    "    fun = @(theta) theta_solver(rhoU1,c,theta,gamma,beta,mu,sigma,rho,delta);\n",
    "    [theta1, fval_theta] = fsolve(fun,theta_0);\n",
    "\n",
    "    dif_theta=abs(theta_0-theta1);\n",
    "\n",
    "    theta_0=theta_0*lambda + theta1*(1-lambda);\n",
    "    it = it + 1;\n",
    "end\n",
    "\n",
    "theta_0\n",
    "rhoU1\n",
    "it"
   ]
  },
  {
   "cell_type": "markdown",
   "id": "cf0b1081-5003-4493-ad3c-1b99c9109a89",
   "metadata": {},
   "source": [
    "Brilliant! We solved our first search and matching model. Notice that everything makes sense. The value of unemployment should be at least the unemployment benefit (1) plus the average wage (5), so the value of 6.13 makes sense. This value of unemployment is high relative to the firm's wage offerings, so it makes sense that the market tightness is higher than one because there will be several vacancies for each unemployed worker."
   ]
  },
  {
   "cell_type": "markdown",
   "id": "c458c40c-e71b-4d73-9b1c-483a38e0a73a",
   "metadata": {},
   "source": [
    "Now, we will run the same code, but we will check how the value of $\\theta$ is evolving in each iteration:"
   ]
  },
  {
   "cell_type": "code",
   "execution_count": null,
   "id": "f831abb0-1f51-4952-9a12-dc19fecdc8a7",
   "metadata": {
    "tags": []
   },
   "outputs": [],
   "source": [
    "lambda = 0;\n",
    "dif_theta=1;\n",
    "\n",
    "theta_0 = 1\n",
    "tol =  1e-6;\n",
    "\n",
    "it = 0;\n",
    "\n",
    "options = optimoptions('fsolve', 'Display', 'off');\n",
    "\n",
    "while dif_theta>tol\n",
    "    fun = @(rhoU) unem_solver(rhoU,z,theta_0,gamma,beta,mu,sigma,rho,delta);\n",
    "    [rhoU1, fval_unem] = fsolve(fun,x0, options);\n",
    "\n",
    "    fun = @(theta) theta_solver(rhoU1,c,theta,gamma,beta,mu,sigma,rho,delta);\n",
    "    [theta1, fval_theta] = fsolve(fun,theta_0, options);\n",
    "\n",
    "    dif_theta=abs(theta_0-theta1);\n",
    "\n",
    "    theta_0=theta_0*lambda + theta1*(1-lambda);\n",
    "    it = it + 1;\n",
    "    \n",
    "    vector_theta(it,1)=theta_0;\n",
    "end\n",
    "\n",
    "figure\n",
    "plot(linspace(0,it,it), vector_theta)"
   ]
  },
  {
   "cell_type": "markdown",
   "id": "a1036f72-5091-4e7b-ae35-e4c307579b96",
   "metadata": {},
   "source": [
    "As you can see, the values of $\\theta$ are moving significantly during the iterations. This is not ideal because we could be trapped in local values. We will check our results by updating slowly, using the $\\lambda$ parameter equal to 0.5."
   ]
  },
  {
   "cell_type": "code",
   "execution_count": null,
   "id": "ef61dec6-44e5-48e8-a032-4066cda751e4",
   "metadata": {
    "tags": []
   },
   "outputs": [],
   "source": [
    "lambda = 0.5;\n",
    "dif_theta=1;\n",
    "\n",
    "theta_0 = 1\n",
    "tol =  1e-6;\n",
    "\n",
    "it = 0;\n",
    "\n",
    "options = optimoptions('fsolve', 'Display', 'off');\n",
    "\n",
    "while dif_theta>tol\n",
    "    fun = @(rhoU) unem_solver(rhoU,z,theta_0,gamma,beta,mu,sigma,rho,delta);\n",
    "    [rhoU1, fval_unem] = fsolve(fun,x0, options);\n",
    "\n",
    "    fun = @(theta) theta_solver(rhoU1,c,theta,gamma,beta,mu,sigma,rho,delta);\n",
    "    [theta1, fval_theta] = fsolve(fun,theta_0, options);\n",
    "\n",
    "    dif_theta=abs(theta_0-theta1);\n",
    "\n",
    "    theta_0=theta_0*lambda + theta1*(1-lambda);\n",
    "    it = it + 1;\n",
    "    \n",
    "    vector_theta2(it,1)=theta_0;\n",
    "end\n",
    "\n",
    "theta_0\n",
    "rhoU1\n",
    "\n",
    "figure\n",
    "plot(linspace(0,it,it), vector_theta2)"
   ]
  },
  {
   "cell_type": "markdown",
   "id": "85a88a50-49b3-429e-a195-073a9d0ea5a5",
   "metadata": {
    "tags": []
   },
   "source": [
    "Pretty cool, eh? The equilibrium we found does not change with the slow updating, but we found it in just 8 iterations instead of 44. This will not always work, but it is a valuable trip to have in mind."
   ]
  },
  {
   "cell_type": "markdown",
   "id": "b22408a1-5e62-4b59-8769-c90d71cd581c",
   "metadata": {},
   "source": [
    "## 4. Structures"
   ]
  },
  {
   "cell_type": "markdown",
   "id": "66512e72-032d-434d-9e04-50150c1605d4",
   "metadata": {},
   "source": [
    "Imagine we want to solve the model with different parameters and compare the solutions. This can be tedious because we will have to change the parameters for the entire setting whenever we want to generate a change. "
   ]
  },
  {
   "cell_type": "markdown",
   "id": "38993712-02b6-4402-86bf-84341058be8d",
   "metadata": {
    "tags": []
   },
   "source": [
    "One way of dealing with this problem is through the use of structures. Consider the following code:"
   ]
  },
  {
   "cell_type": "code",
   "execution_count": null,
   "id": "d1cd1d27-6e67-4da1-9904-fd9eae76ab2a",
   "metadata": {
    "tags": []
   },
   "outputs": [],
   "source": [
    "pars.z     = 1     ; % Instant utility of being unemployed\n",
    "pars.delta = 0.05  ; % Probability of job destruction\n",
    "pars.beta  = 0.5   ; % Bargain power of workers\n",
    "pars.mu    = 5     ; % Mean of productivity\n",
    "pars.sigma = 2.5   ; % Standard deviation of productivity\n",
    "pars.c     = 1     ; % Cost of openning a vacancy\n",
    "pars.rho   = 0.067 ; % Discount factor\n",
    "pars.gamma = 0.5   ; % Matching elasticity"
   ]
  },
  {
   "cell_type": "markdown",
   "id": "22ed3d82-5c68-4c3c-8e94-16c5e943b79b",
   "metadata": {},
   "source": [
    "This code is the same except for the \"pars.\" before each variable. It creates a structure that stores the values of the parameters inside it. We call a structure like any other variable."
   ]
  },
  {
   "cell_type": "code",
   "execution_count": null,
   "id": "2787d69e-8e07-4135-9276-bc8d1e678f0e",
   "metadata": {
    "tags": []
   },
   "outputs": [],
   "source": [
    "pars"
   ]
  },
  {
   "cell_type": "markdown",
   "id": "c5e3569c-6d41-47e7-8bbf-84e6d6533e5c",
   "metadata": {},
   "source": [
    "So now, imagine creating a function that will solve our model. This function could request all the parameters, but we can just request a structure!"
   ]
  },
  {
   "cell_type": "code",
   "execution_count": null,
   "id": "5c67df9a-058c-4d59-9002-04e78fd108df",
   "metadata": {
    "tags": []
   },
   "outputs": [],
   "source": [
    "model(pars)"
   ]
  },
  {
   "cell_type": "markdown",
   "id": "ba846bea-4306-4d3e-9af2-a97e2ce06e0a",
   "metadata": {},
   "source": [
    "Pretty nice! So now, imagine that we want to change just one model parameter. For example, we want to know what will happen with the value of unemployment if $z$ increases to 2."
   ]
  },
  {
   "cell_type": "markdown",
   "id": "e6ad08b7-409d-46fb-b6d1-2ae99822ea57",
   "metadata": {},
   "source": [
    "Instead of creating a new set of parameters, we can duplicate our pars structure, change one bit of it, and introduce the new structure into the function."
   ]
  },
  {
   "cell_type": "code",
   "execution_count": null,
   "id": "f800f15a-555f-42c1-a8c9-933fcf50ba1b",
   "metadata": {
    "tags": []
   },
   "outputs": [],
   "source": [
    "set = pars;\n",
    "set.z = 2;\n",
    "set"
   ]
  },
  {
   "cell_type": "code",
   "execution_count": null,
   "id": "08a8c113-8ea3-43ac-b221-a57e2aaf4b34",
   "metadata": {
    "tags": []
   },
   "outputs": [],
   "source": [
    "model(set)"
   ]
  },
  {
   "cell_type": "markdown",
   "id": "58fa1124-6559-48c9-8b98-80cce0a53f80",
   "metadata": {},
   "source": [
    "We have that the increase in $z$ changes the value of unemployment, increasing it, which makes sense. Also, it decreases the market tightness. The additional compensation for unemployment makes it more difficult for firms to find workers, and given the fixed costs of posting a vacancy, there will be fewer vacancies available."
   ]
  },
  {
   "cell_type": "markdown",
   "id": "1d0fd16d-2d7c-4442-ac01-708c8df3c720",
   "metadata": {},
   "source": [
    "## 5. Classes"
   ]
  },
  {
   "cell_type": "markdown",
   "id": "0dbed4d3-6a5b-4390-8b75-9cfc1743d025",
   "metadata": {},
   "source": [
    "Now, let's consider generating a class. First, we will give an example and then code a solution to our model using a class."
   ]
  },
  {
   "cell_type": "markdown",
   "id": "8e016f97-65b2-4d28-87b9-263c7119539e",
   "metadata": {},
   "source": [
    "A class is an object in MATLAB that will store parameters and functions that will apply to the parameters you have provided. A class comprises two main elements: the properties and the methods. Let's check this example."
   ]
  },
  {
   "cell_type": "code",
   "execution_count": null,
   "id": "48e7b72e-500b-4539-84e8-8f31c3559e14",
   "metadata": {
    "tags": []
   },
   "outputs": [],
   "source": [
    "classdef BasicClass\n",
    "   properties\n",
    "      Value {mustBeNumeric}\n",
    "   end\n",
    "   methods\n",
    "      function r = roundOff(obj)\n",
    "         r = round([obj.Value],2);\n",
    "      end\n",
    "      function r = multiplyBy(obj,n)\n",
    "         r = [obj.Value]*n;\n",
    "      end\n",
    "   end\n",
    "end"
   ]
  },
  {
   "cell_type": "markdown",
   "id": "60965116-9037-4b47-acd6-0fd6ee648534",
   "metadata": {},
   "source": [
    "So, the properties in this class are empty, but the methods are not. There are two methods in it. One is the function roundOff(), which takes a value and rounds it up to the second decimal, and the other is the function multiplyBy(), which multiplies a value times n."
   ]
  },
  {
   "cell_type": "markdown",
   "id": "939b7ed3-0e13-4953-9873-a92a67275b17",
   "metadata": {},
   "source": [
    "We can create an element of this class with the following command:"
   ]
  },
  {
   "cell_type": "code",
   "execution_count": null,
   "id": "30e04995-c038-467f-af25-78739be115c3",
   "metadata": {
    "tags": []
   },
   "outputs": [],
   "source": [
    "a = BasicClass"
   ]
  },
  {
   "cell_type": "markdown",
   "id": "8e17bbed-10b5-4934-a96b-a8efdd117ef8",
   "metadata": {},
   "source": [
    "Now, we will assign a value:"
   ]
  },
  {
   "cell_type": "code",
   "execution_count": null,
   "id": "9f4c1364-a3e3-4870-80fe-a50e18fee528",
   "metadata": {
    "tags": []
   },
   "outputs": [],
   "source": [
    "a.Value = pi/3;"
   ]
  },
  {
   "cell_type": "code",
   "execution_count": null,
   "id": "899b9a96-63eb-4de6-9b2b-5a7403c39639",
   "metadata": {
    "tags": []
   },
   "outputs": [],
   "source": [
    "a.Value"
   ]
  },
  {
   "cell_type": "markdown",
   "id": "383a7b4a-fa45-4441-9b5b-c4d1088d5f0f",
   "metadata": {},
   "source": [
    "Then, we can apply the function roundOff() with:"
   ]
  },
  {
   "cell_type": "code",
   "execution_count": null,
   "id": "91866374-35a1-469a-8f02-580ea235d51c",
   "metadata": {
    "tags": []
   },
   "outputs": [],
   "source": [
    "a.roundOff"
   ]
  },
  {
   "cell_type": "markdown",
   "id": "504f4e79-282b-4b0d-a97d-11250a499295",
   "metadata": {},
   "source": [
    "And the function multiplyBy() with:"
   ]
  },
  {
   "cell_type": "code",
   "execution_count": null,
   "id": "a6c1ebb7-5a36-4494-93e8-683d175f68f5",
   "metadata": {
    "tags": []
   },
   "outputs": [],
   "source": [
    "a.multiplyBy(3)"
   ]
  },
  {
   "cell_type": "markdown",
   "id": "22ee4e9f-c7e1-4ba2-918b-d6ac07ebb4a6",
   "metadata": {},
   "source": [
    "Excellent! Now, we will create an m.file for our model using the class structure. Check this code:"
   ]
  },
  {
   "cell_type": "code",
   "execution_count": null,
   "id": "a9ee711c-7bf3-477c-8677-5018a179a5d6",
   "metadata": {
    "tags": []
   },
   "outputs": [],
   "source": [
    "classdef ModelClass\n",
    "   properties\n",
    "        z     = 1     ; % Instant utility of being unemployed\n",
    "        delta = 0.05  ; % Probability of job destruction\n",
    "        beta  = 0.5   ; % Bargain power of workers\n",
    "        mu    = 5     ; % Mean of productivity\n",
    "        sigma = 2.5   ; % Standard deviation of productivity\n",
    "        c     = 1     ; % Cost of openning a vacancy\n",
    "        rho   = 0.067 ; % Discount factor\n",
    "        gamma = 0.5   ; % Matching elasticity\n",
    "        lambda = 0.5  ; % Adjustment parameter\n",
    "        x0=1          ; % Initial guess for fsolve\n",
    "        theta_0=1     ; % Initial guess for market tightness\n",
    "        dif_theta=1   ; % Initial difference for theta\n",
    "        tol =  1e-6   ; % Tolerance parameter\n",
    "   end\n",
    "   methods\n",
    "        function val = unem_solver(rhoU,z,theta,gamma,beta,mu,sigma,rho,delta)\n",
    "            \n",
    "            aux = @(x,beta,rhoU,rho,delta,mu,sigma) beta.*(x-rhoU)/(rho+delta)...\n",
    "                                                    .*normpdf(x,mu,sigma);\n",
    "\n",
    "            M = 1e+3;\n",
    "\n",
    "            integral_worker = @(rhoU) integral( @(x) aux(x,obj.beta,rhoU,obj.rho,obj.delta,obj.mu,...\n",
    "                                              obj.sigma),rhoU,M); % Attention with this!\n",
    "\n",
    "            val = rhoU - obj.z - theta^(1-obj.gamma) .*  integral_worker(rhoU);\n",
    "        end\n",
    "\n",
    "        function val = theta_solver(rhoU,c,theta,gamma,beta,mu,sigma,rho,delta)\n",
    "\n",
    "        aux = @(x,beta,rhoU,rho,delta,mu,sigma) beta.*(x-rhoU)/(rho+delta)...\n",
    "                                                .*normpdf(x,mu,sigma);\n",
    "\n",
    "        M=1e+3;\n",
    "\n",
    "        integral_costs = @(rhoU) integral( @(x) aux(x,obj.beta,rhoU,obj.rho,obj.delta,obj.mu,...\n",
    "                                          obj.sigma),rhoU,M);  % Attention with this!\n",
    "\n",
    "        val = obj.c - theta.^(1-obj.gamma)/theta .* integral_costs(rhoU);\n",
    "        end\n",
    "       \n",
    "       function val = run_model(obj)\n",
    "\n",
    "        it = 0;\n",
    "\n",
    "        options = optimoptions('fsolve', 'Display', 'off');\n",
    "           \n",
    "        theta_old  = obj.theta_0; %Attention with this!\n",
    "        diff_theta = obj.dif_theta; %Attention with this!\n",
    "\n",
    "        while diff_theta>obj.tol\n",
    "            fun = @(rhoU) unem_solver(rhoU,obj.z,theta_old,obj.gamma,obj.beta,obj.mu,obj.sigma,obj.rho,obj.delta);\n",
    "            [rhoU1, ~] = fsolve(fun,obj.x0, options);\n",
    "\n",
    "            fun = @(theta) theta_solver(rhoU1,obj.c,theta,obj.gamma,obj.beta,obj.mu,obj.sigma,obj.rho,obj.delta);\n",
    "            [theta1, ~] = fsolve(fun,theta_old, options);\n",
    "\n",
    "            diff_theta=abs(theta_old-theta1);\n",
    "\n",
    "            theta_old=theta_old*obj.lambda + theta1*(1-obj.lambda);\n",
    "            it = it + 1;\n",
    "        end\n",
    "\n",
    "        val = [theta_old , rhoU1];\n",
    "           \n",
    "       end\n",
    "   end\n",
    "end"
   ]
  },
  {
   "cell_type": "markdown",
   "id": "d627ecf3-49df-4c13-ae7c-6a8efb6ad937",
   "metadata": {},
   "source": [
    "So, now we can create a model:"
   ]
  },
  {
   "cell_type": "code",
   "execution_count": null,
   "id": "0775ed51-ea74-4133-8d9d-36d0bb495085",
   "metadata": {
    "tags": []
   },
   "outputs": [],
   "source": [
    "Original_Model = ModelClass"
   ]
  },
  {
   "cell_type": "markdown",
   "id": "f1316744-e39a-4ab6-ad91-654e048a01a9",
   "metadata": {},
   "source": [
    "And run it:"
   ]
  },
  {
   "cell_type": "code",
   "execution_count": null,
   "id": "547c70d0-98d1-4a66-8c44-cecc994ad374",
   "metadata": {
    "tags": []
   },
   "outputs": [],
   "source": [
    "Original_Model.run_model"
   ]
  },
  {
   "cell_type": "markdown",
   "id": "96dd68f9-f50e-4bf3-8958-68fd2bcaa013",
   "metadata": {},
   "source": [
    "Amazing! Well done. So now, we will focus on understanding what happens when we have a change in all the relevant parameters. So, check what happens when you see a 10 percent increase in: \n",
    "- Unemployment benefits\n",
    "- Probability of job destruction\n",
    "- Mean of productivity\n",
    "- Standard deviation of productivity\n",
    "- Cost of opening a vacancy"
   ]
  },
  {
   "cell_type": "code",
   "execution_count": null,
   "id": "94fe86c1-a1f4-49be-84de-1fd533c580ed",
   "metadata": {
    "tags": []
   },
   "outputs": [],
   "source": [
    "ChangeZ_Model =  ModelClass;\n",
    "ChangeZ_Model.z = Original_Model.z *1.1\n",
    "ChangeZ_Model.run_model"
   ]
  },
  {
   "cell_type": "markdown",
   "id": "7be2a8ef-63af-4177-9af2-52dfae8e08b4",
   "metadata": {},
   "source": [
    "If the unemployment benefits increase, we will see that workers are more picky with the offers. Then, the value of unemployment increases, and the market tightness decreases."
   ]
  },
  {
   "cell_type": "code",
   "execution_count": null,
   "id": "8859345c-bae4-4678-87e9-3315fabd3d78",
   "metadata": {
    "tags": []
   },
   "outputs": [],
   "source": [
    "ChangeD_Model =  ModelClass;\n",
    "ChangeD_Model.delta = Original_Model.delta *1.1\n",
    "ChangeD_Model.run_model"
   ]
  },
  {
   "cell_type": "markdown",
   "id": "c504f3ad-2316-47cc-87c8-311cfe50aa30",
   "metadata": {},
   "source": [
    "This happens because an increase in the destruction rate of jobs will decrease the expected value of having a job, so the instant utility of being unemployed will decrease, but unemployment will increase too because there is a higher destruction of jobs, and this will imply a decrease in the market tightness."
   ]
  },
  {
   "cell_type": "code",
   "execution_count": null,
   "id": "3df8223e-2996-4393-8cd0-2b4fb7c96b13",
   "metadata": {
    "tags": []
   },
   "outputs": [],
   "source": [
    "ChangeMu_Model =  ModelClass;\n",
    "ChangeMu_Model.mu = Original_Model.mu *1.1\n",
    "ChangeMu_Model.run_model"
   ]
  },
  {
   "cell_type": "markdown",
   "id": "da5d19a8-84d5-4080-b0a1-5f9b4751b3ec",
   "metadata": {},
   "source": [
    "This happens because an increase in the mean of productivity will increase the expected value of having a job, so the instant utility of being unemployed will increase, but unemployment will decrease too because there is a higher probability that the workers have a productivity draw higher than the reservation value (notice that the reservation value did not increase in 0.5!), then the market tightness increases."
   ]
  },
  {
   "cell_type": "code",
   "execution_count": null,
   "id": "44f17875-0896-4fc3-bb8b-80946cec8de5",
   "metadata": {
    "tags": []
   },
   "outputs": [],
   "source": [
    "ChangeSigma_Model =  ModelClass;\n",
    "ChangeSigma_Model.sigma = Original_Model.sigma *1.1\n",
    "ChangeSigma_Model.run_model"
   ]
  },
  {
   "cell_type": "markdown",
   "id": "f9a2d829-49d1-4752-8b4b-64104e39e2b1",
   "metadata": {},
   "source": [
    "This happens because an increase in the stardard deviation of productivity will increase the expected value of having a job. This increase is because there are higher new wages available. So the instant utility of being unemployed will increase, but unemployment will decrease too because there is a higher probability that the workers have a productivity draw higher than the reservation value, so the market tightness increases."
   ]
  },
  {
   "cell_type": "code",
   "execution_count": null,
   "id": "c7f69696-cd23-4811-9c78-e6343602ef06",
   "metadata": {
    "tags": []
   },
   "outputs": [],
   "source": [
    "ChangeC_Model =  ModelClass;\n",
    "ChangeC_Model.c = Original_Model.c *1.1\n",
    "ChangeC_Model.run_model"
   ]
  },
  {
   "cell_type": "markdown",
   "id": "db024d28-5c67-4736-b78e-550ebeb287f6",
   "metadata": {},
   "source": [
    "This happens because an increase in the cost of a vacancy will reduce the expected value of having a job. This decrease is because now the same productivity draw will generate a lower wage than in the previous case. So the instant utility of being unemployed will decrease, and unemployment will increase too because there is a higher probability that the workers will not find a job, then the market tightness decreases."
   ]
  },
  {
   "cell_type": "markdown",
   "id": "c3065df6-5466-4a50-a214-d336092e5f79",
   "metadata": {},
   "source": [
    "## 6. Calibration"
   ]
  },
  {
   "cell_type": "markdown",
   "id": "3d2bff03-2da0-4ca4-9d53-028ecbb1b24a",
   "metadata": {},
   "source": [
    "Let's think about what we have. We developed a model in which, if we know the parameters associated with the labor market, we can quantitatively predict what will happen when some of the parameters change. The above is impressive and is why structural modeling is becoming predominant in economics. When you develop this kind of model, all the mechanisms that affect the variables are clearly stated. Then, we have a relevant advantage over reduced form modeling, in which claiming causality is often off-limits."
   ]
  },
  {
   "cell_type": "markdown",
   "id": "9ef7ed5a-689c-44b7-b29d-e8521ea297e0",
   "metadata": {},
   "source": [
    "Imagine now that we can adapt the parameters of our model to match those of an actual economy. Then, we could predict changes in the real world! That would be nice, and I am happy to tell you we can do that. In fact, we will adapt our parameters to match the real economy. The process of doing this adaptation is called calibration."
   ]
  },
  {
   "cell_type": "markdown",
   "id": "e94f7c5c-a1d5-411a-903d-018dcfccd488",
   "metadata": {},
   "source": [
    "### 6.1 Average Wages"
   ]
  },
  {
   "cell_type": "markdown",
   "id": "30060120-5f79-4de3-8032-30bce612b28c",
   "metadata": {},
   "source": [
    "To calibrate a model, we will need what are called moments. A moment is just a statistic computed using the parameters of the model. For example, let's think about the average wages in our economy. A job will be accepted if:"
   ]
  },
  {
   "cell_type": "markdown",
   "id": "f8514cc8-1436-4af0-bf81-cf787fbcf183",
   "metadata": {
    "tags": []
   },
   "source": [
    "$$ x > \\rho U $$"
   ]
  },
  {
   "cell_type": "markdown",
   "id": "19193415-5b52-4e86-9ce1-927e5f544b98",
   "metadata": {},
   "source": [
    "Then the distribution of x conditional on accepting a job, $f(x)$, is given by:\n",
    "\n",
    "$$ f(x) =  \\frac{g(x)}{1-G(\\rho U)}  $$"
   ]
  },
  {
   "cell_type": "markdown",
   "id": "dc1ce900-6d7d-4d30-b2b0-c09e3dd103cd",
   "metadata": {
    "tags": []
   },
   "source": [
    "Then the average $x$ observed on those who accept is given by:\n",
    " \n",
    "$$ f(x) =  \\int_{\\rho U}^\\infty \\frac{g(x)}{1-G(\\rho U)} dx  = \\frac{1}{1-G(\\rho U)}  \\int_{\\rho U}^\\infty g(x) dx $$"
   ]
  },
  {
   "cell_type": "markdown",
   "id": "d3422e74-613a-478f-b879-745a57a4b9b0",
   "metadata": {},
   "source": [
    "OK. So, to have the wages, we need to use the bargain equation. This equation says that:\n",
    "\n",
    "$$ w = \\beta x + (1-\\beta) \\rho U $$\n",
    "\n",
    "Then:\n",
    "\n",
    "$$ x = \\frac{w-(1-\\beta) \\rho U}{\\beta} $$\n",
    "\n",
    "And notice that:\n",
    "\n",
    "$$ \\frac{dx}{dw} = \\frac{1}{\\beta} $$\n",
    "\n",
    "Then (do not show this to your mathematician friend):\n",
    "\n",
    "$$ dx = \\frac{1}{\\beta} dw $$"
   ]
  },
  {
   "cell_type": "markdown",
   "id": "37594bdd-4159-4d52-b2a5-20efaf58f778",
   "metadata": {},
   "source": [
    "Then, we can write the average observed wage in this economy as:"
   ]
  },
  {
   "cell_type": "markdown",
   "id": "886651dc-85d0-49ab-9f8a-23e4027ee419",
   "metadata": {},
   "source": [
    "$$ \\mbox{Average Wage} = \\frac{1}{1-G(\\rho U)} \\frac{1}{\\beta} \\int_{\\rho U}^\\infty w \\cdot g \\left(  \\frac{w-(1-\\beta) \\rho U}{\\beta} \\right) dw $$"
   ]
  },
  {
   "cell_type": "markdown",
   "id": "24fd2c25-0b85-4c1f-9c49-d21980384a08",
   "metadata": {},
   "source": [
    "Excellent! Now we can write a function to compute the average wages in our economy:"
   ]
  },
  {
   "cell_type": "code",
   "execution_count": 6,
   "id": "65da447d-d8d2-46bd-b0e2-37cf6c976ec9",
   "metadata": {
    "tags": []
   },
   "outputs": [
    {
     "data": {
      "text/html": [
       "<html><body><pre>aux_int = function_handle with value:\n",
       "    @(w)normpdf((w-(1-beta)*rhoU)/beta,mu,sigma)\n",
       "</pre></body></html>"
      ],
      "text/plain": [
       "aux_int = function_handle with value:\n",
       "    @(w)normpdf((w-(1-beta)*rhoU)/beta,mu,sigma)\n"
      ]
     },
     "execution_count": 6,
     "metadata": {},
     "output_type": "execute_result"
    },
    {
     "data": {
      "text/html": [
       "<html><body><pre>AW = 6.9535</pre></body></html>"
      ],
      "text/plain": [
       "AW = 6.9535"
      ]
     },
     "execution_count": 6,
     "metadata": {},
     "output_type": "execute_result"
    }
   ],
   "source": [
    "mu    = 5      ; % Mean of productivity \n",
    "sigma = 2.5    ; % Standard deviation of productivity\n",
    "theta = 5.1368 ; % Market tightness\n",
    "rhoU  = 6.1367 ; % Value of unemployment\n",
    "beta  = 0.5    ; % Bargaining power of workers\n",
    "M     = 1000   ; % Integration limit\n",
    "\n",
    "aux_int = @(w) normpdf( (w-(1-beta)*rhoU)/beta ,mu,sigma )\n",
    "\n",
    "AW = 1/(1-normcdf(rhoU,mu,sigma)) * 1/beta * integral( @(w) aux_int(w).*w, rhoU, M)"
   ]
  },
  {
   "cell_type": "markdown",
   "id": "8d4d353d-a4c6-4de3-b200-c4a91afa6995",
   "metadata": {
    "tags": []
   },
   "source": [
    "Does this average make sense? Well, we will check graphically. With this code:"
   ]
  },
  {
   "cell_type": "code",
   "execution_count": 7,
   "id": "df92d9aa-19aa-4f4b-a315-1522b83f1918",
   "metadata": {
    "tags": []
   },
   "outputs": [
    {
     "data": {
      "image/png": "[encoded data removed]"
     },
     "execution_count": 7,
     "metadata": {},
     "output_type": "execute_result"
    }
   ],
   "source": [
    "x = linspace(rhoU,12.5,5000);\n",
    "\n",
    "figure\n",
    "plot(x, aux_int(x), 'LineWidth',1 )\n",
    "hold on\n",
    "plot(AW*ones(1,5000),aux_int(x),'LineWidth',1,'Linestyle','--')"
   ]
  },
  {
   "cell_type": "markdown",
   "id": "5f187302-ab11-41d4-ac0a-0f3dad8544f4",
   "metadata": {},
   "source": [
    "### 6.2 Standard Deviation"
   ]
  },
  {
   "cell_type": "markdown",
   "id": "94b36e0f-a9b5-453b-8aec-f9d17409c0dc",
   "metadata": {},
   "source": [
    "So yes, it makes sense! Now, regarding the standard deviation, we will use an old trick:"
   ]
  },
  {
   "cell_type": "markdown",
   "id": "e96a3bb1-3312-4dda-9400-f94850356da6",
   "metadata": {
    "tags": []
   },
   "source": [
    "$$ \\mbox{Standard Deviation} = \\sqrt{ \\mbox{Average Wage($x^2$)} - \\mbox{Average Wage($x$)}^2 } $$"
   ]
  },
  {
   "cell_type": "markdown",
   "id": "694a67e7-ce52-454d-b6cb-8e86b81e3f9b",
   "metadata": {},
   "source": [
    "So, the code then is given by:"
   ]
  },
  {
   "cell_type": "code",
   "execution_count": 8,
   "id": "e879d87b-75d2-48fe-8d25-8e9d46e8de37",
   "metadata": {
    "tags": []
   },
   "outputs": [
    {
     "data": {
      "text/html": [
       "<html><body><pre>aux_int = function_handle with value:\n",
       "    @(w)normpdf((w-(1-beta)*rhoU)/beta,mu,sigma)\n",
       "</pre></body></html>"
      ],
      "text/plain": [
       "aux_int = function_handle with value:\n",
       "    @(w)normpdf((w-(1-beta)*rhoU)/beta,mu,sigma)\n"
      ]
     },
     "execution_count": 8,
     "metadata": {},
     "output_type": "execute_result"
    },
    {
     "data": {
      "text/html": [
       "<html><body><pre>AW2 = 48.7819</pre></body></html>"
      ],
      "text/plain": [
       "AW2 = 48.7819"
      ]
     },
     "execution_count": 8,
     "metadata": {},
     "output_type": "execute_result"
    },
    {
     "data": {
      "text/html": [
       "<html><body><pre>SD = 0.6566</pre></body></html>"
      ],
      "text/plain": [
       "SD = 0.6566"
      ]
     },
     "execution_count": 8,
     "metadata": {},
     "output_type": "execute_result"
    }
   ],
   "source": [
    "aux_int = @(w) normpdf( (w-(1-beta)*rhoU)/beta ,mu,sigma )\n",
    "\n",
    "AW2 = 1/(1-normcdf(rhoU,mu,sigma)) * 1/beta * integral( @(w) aux_int(w).*w.^2, rhoU, M)\n",
    "\n",
    "SD = sqrt(AW2-(AW).^2)"
   ]
  },
  {
   "cell_type": "markdown",
   "id": "e2f60d7e-5ef0-432f-a7b2-c3c034007614",
   "metadata": {},
   "source": [
    "### 6.3 Unemployment and employment"
   ]
  },
  {
   "cell_type": "markdown",
   "id": "aff3599a-d3fe-400d-941f-bab8b27fe688",
   "metadata": {},
   "source": [
    "We know that, in equilibrium, the inflow to unemployment and outflow from unemployment will be given by:"
   ]
  },
  {
   "cell_type": "markdown",
   "id": "e1deb92c-b3b7-4971-a39c-31d4c9c0936e",
   "metadata": {},
   "source": [
    "$$ \\delta e = m(\\theta) [1-G(\\rho U)] u $$\n",
    "$$ u + e = 1 $$"
   ]
  },
  {
   "cell_type": "markdown",
   "id": "97659355-57ab-46f5-946f-09eee89d6093",
   "metadata": {},
   "source": [
    "From the first equation, we know that:\n",
    "\n",
    "$$ e = \\frac{1}{\\delta} m(\\theta) [1-G(\\rho U)] u $$"
   ]
  },
  {
   "cell_type": "markdown",
   "id": "57d6c9d8-829f-4d62-83bc-6603cfd71491",
   "metadata": {
    "tags": []
   },
   "source": [
    "Then:"
   ]
  },
  {
   "cell_type": "markdown",
   "id": "8c991d1a-ebe9-4742-be2e-25220d3a7065",
   "metadata": {},
   "source": [
    "$$ u + \\frac{1}{\\delta} m(\\theta) [1-G(\\rho U)] u = 1 $$\n",
    "\n",
    "$$ u = \\frac{\\delta}{\\delta + m(\\theta) [1-G(\\rho U)]} $$"
   ]
  },
  {
   "cell_type": "markdown",
   "id": "99e544d9-3129-4a3b-8db2-396218976c7e",
   "metadata": {},
   "source": [
    "And therefore:\n",
    "\n",
    "$$ e =  \\frac{m(\\theta) [1-G(\\rho U)]}{\\delta + m(\\theta) [1-G(\\rho U)]} $$"
   ]
  },
  {
   "cell_type": "markdown",
   "id": "8e06002c-cf6a-4ba4-a021-ed7d161069bb",
   "metadata": {},
   "source": [
    "Brilliant! So now we can generate the code to find those levels in our model:"
   ]
  },
  {
   "cell_type": "code",
   "execution_count": 9,
   "id": "a4cc6b7a-5836-4a6a-943b-df822134a5f8",
   "metadata": {
    "tags": []
   },
   "outputs": [
    {
     "data": {
      "text/html": [
       "<html><body><pre>UNEM = 0.0636</pre></body></html>"
      ],
      "text/plain": [
       "UNEM = 0.0636"
      ]
     },
     "execution_count": 9,
     "metadata": {},
     "output_type": "execute_result"
    },
    {
     "data": {
      "text/html": [
       "<html><body><pre>EMPL = 0.9364</pre></body></html>"
      ],
      "text/plain": [
       "EMPL = 0.9364"
      ]
     },
     "execution_count": 9,
     "metadata": {},
     "output_type": "execute_result"
    }
   ],
   "source": [
    "UNEM = delta/(delta+theta^(1-gamma)*(1-normcdf(rhoU,mu,sigma)))\n",
    "EMPL = 1 - UNEM"
   ]
  },
  {
   "cell_type": "markdown",
   "id": "8a2a50aa-d002-4974-b205-04bce75426e3",
   "metadata": {},
   "source": [
    "### 6.4 Unemployment duration"
   ]
  },
  {
   "cell_type": "markdown",
   "id": "696cc8a3-b16d-4164-ba3a-e76d95c5963c",
   "metadata": {},
   "source": [
    "To compute the unemployment duration, we need to understand that the unemployed worker will receive an offer with probability $m(\\theta)$, and the offer will generate a match with probability $1-G(\\rho U)$. Then, the expected time required to leave unemployment is given by:\n",
    "\n",
    "$$\\mbox{unem. time} = \\frac{1}{m(\\theta)[1-G(\\rho U)]}$$"
   ]
  },
  {
   "cell_type": "code",
   "execution_count": 10,
   "id": "a1589577-a055-4dea-b2bb-2ac9717a8548",
   "metadata": {},
   "outputs": [
    {
     "data": {
      "text/html": [
       "<html><body><pre>UT = 1.3590</pre></body></html>"
      ],
      "text/plain": [
       "UT = 1.3590"
      ]
     },
     "execution_count": 10,
     "metadata": {},
     "output_type": "execute_result"
    }
   ],
   "source": [
    "UT = 1/( theta^(1-gamma)*(1-normcdf(rhoU,mu,sigma)) )"
   ]
  },
  {
   "cell_type": "markdown",
   "id": "cab99624-307e-421c-9ac5-c17a55c691a8",
   "metadata": {},
   "source": [
    "### 6.5 Moments function"
   ]
  },
  {
   "cell_type": "markdown",
   "id": "52db702a-e133-4a43-aabc-caa670434bab",
   "metadata": {},
   "source": [
    "Brilliant! So now, we will define a function that will take the parameters $\\alpha, \\delta, z, \\mu$ and $\\sigma$ and compute the five moments we created."
   ]
  },
  {
   "cell_type": "code",
   "execution_count": 22,
   "id": "813db660-b02f-4651-827b-00920769b7d7",
   "metadata": {},
   "outputs": [
    {
     "data": {
      "text/html": [
       "<html><body><pre>theta = 5.1368</pre></body></html>"
      ],
      "text/plain": [
       "theta = 5.1368"
      ]
     },
     "execution_count": 22,
     "metadata": {},
     "output_type": "execute_result"
    },
    {
     "data": {
      "text/html": [
       "<html><body><pre>delta = 0.0500</pre></body></html>"
      ],
      "text/plain": [
       "delta = 0.0500"
      ]
     },
     "execution_count": 22,
     "metadata": {},
     "output_type": "execute_result"
    },
    {
     "data": {
      "text/html": [
       "<html><body><pre>rhoU = 6.1367</pre></body></html>"
      ],
      "text/plain": [
       "rhoU = 6.1367"
      ]
     },
     "execution_count": 22,
     "metadata": {},
     "output_type": "execute_result"
    },
    {
     "data": {
      "text/html": [
       "<html><body><pre>mu = 5</pre></body></html>"
      ],
      "text/plain": [
       "mu = 5"
      ]
     },
     "execution_count": 22,
     "metadata": {},
     "output_type": "execute_result"
    },
    {
     "data": {
      "text/html": [
       "<html><body><pre>sigma = 2.5000</pre></body></html>"
      ],
      "text/plain": [
       "sigma = 2.5000"
      ]
     },
     "execution_count": 22,
     "metadata": {},
     "output_type": "execute_result"
    },
    {
     "data": {
      "text/html": [
       "<html><body><pre>UNEM = 0.0636</pre></body></html>"
      ],
      "text/plain": [
       "UNEM = 0.0636"
      ]
     },
     "execution_count": 22,
     "metadata": {},
     "output_type": "execute_result"
    },
    {
     "data": {
      "text/html": [
       "<html><body><pre>EMPL = 0.9364</pre></body></html>"
      ],
      "text/plain": [
       "EMPL = 0.9364"
      ]
     },
     "execution_count": 22,
     "metadata": {},
     "output_type": "execute_result"
    },
    {
     "data": {
      "text/html": [
       "<html><body><pre>ans = 5x1 double\n",
       "    6.9535\n",
       "    0.6566\n",
       "    0.0636\n",
       "    0.9364\n",
       "    1.3590\n",
       "</pre></body></html>"
      ],
      "text/plain": [
       "ans = 5x1 double\n",
       "    6.9535\n",
       "    0.6566\n",
       "    0.0636\n",
       "    0.9364\n",
       "    1.3590\n"
      ]
     },
     "execution_count": 22,
     "metadata": {},
     "output_type": "execute_result"
    }
   ],
   "source": [
    "theta\n",
    "delta\n",
    "rhoU\n",
    "mu\n",
    "sigma\n",
    "moments_calibration(theta,delta,rhoU,mu,sigma)"
   ]
  },
  {
   "cell_type": "markdown",
   "id": "c7448246-f806-4a8d-bc94-4390c98b9058",
   "metadata": {},
   "source": [
    "### 6.6 Loss function"
   ]
  },
  {
   "cell_type": "markdown",
   "id": "21d4d9d6-343b-440d-b7b9-b5c08ba5389c",
   "metadata": {},
   "source": [
    "Now, imagine that we have the following real moments in the data:"
   ]
  },
  {
   "cell_type": "code",
   "execution_count": 25,
   "id": "bda82cc5-93d4-4f13-86e7-99d1d3683763",
   "metadata": {},
   "outputs": [
    {
     "data": {
      "text/html": [
       "<html><body><pre>real_moments = 5x1 double\n",
       "    7.3500\n",
       "    0.5300\n",
       "    0.0800\n",
       "    0.9200\n",
       "    1.5000\n",
       "</pre></body></html>"
      ],
      "text/plain": [
       "real_moments = 5x1 double\n",
       "    7.3500\n",
       "    0.5300\n",
       "    0.0800\n",
       "    0.9200\n",
       "    1.5000\n"
      ]
     },
     "execution_count": 25,
     "metadata": {},
     "output_type": "execute_result"
    }
   ],
   "source": [
    "real_moments = [7.35, 0.53, 0.08, 0.92, 1.5]'"
   ]
  },
  {
   "cell_type": "markdown",
   "id": "773f1ed1-1c2d-4415-b78a-338e0dffff27",
   "metadata": {},
   "source": [
    "Then, the error is given by:"
   ]
  },
  {
   "cell_type": "code",
   "execution_count": 27,
   "id": "2d1eb359-67ea-413e-906d-14ecc41cc4d9",
   "metadata": {},
   "outputs": [
    {
     "data": {
      "text/html": [
       "<html><body><pre>metric_error = 0.6969</pre></body></html>"
      ],
      "text/plain": [
       "metric_error = 0.6969"
      ]
     },
     "execution_count": 27,
     "metadata": {},
     "output_type": "execute_result"
    }
   ],
   "source": [
    "metric_error = sum( abs(moments_calibration(theta,delta,rhoU,mu,sigma)-real_moments) )"
   ]
  },
  {
   "cell_type": "markdown",
   "id": "2d777f28-e801-4835-b8ad-80c013c7e4d5",
   "metadata": {},
   "source": [
    "Therefore, we can create a function that assigns the error depending on the parameters selected. The function is given by:"
   ]
  },
  {
   "cell_type": "code",
   "execution_count": 31,
   "id": "dbb6113d-6a75-444d-9af9-553b3763af6c",
   "metadata": {},
   "outputs": [
    {
     "data": {
      "text/html": [
       "<html><body><pre>metric_error = function_handle with value:\n",
       "    @(param)sum(abs(moments_calibration(param(1),param(2),param(3),param(4),param(5))-real_moments))\n",
       "</pre></body></html>"
      ],
      "text/plain": [
       "metric_error = function_handle with value:\n",
       "    @(param)sum(abs(moments_calibration(param(1),param(2),param(3),param(4),param(5))-real_moments))\n"
      ]
     },
     "execution_count": 31,
     "metadata": {},
     "output_type": "execute_result"
    }
   ],
   "source": [
    "metric_error = @(param) sum( abs(moments_calibration(param(1),param(2),param(3),param(4),param(5))-real_moments) )"
   ]
  },
  {
   "cell_type": "code",
   "execution_count": 32,
   "id": "8d507683-9aa2-4d95-965b-6b855decff84",
   "metadata": {},
   "outputs": [
    {
     "data": {
      "text/html": [
       "<html><body><pre>x = 1x5 double\n",
       "    5.1368    0.0500    6.1367    5.0000    2.5000\n",
       "</pre></body></html>"
      ],
      "text/plain": [
       "x = 1x5 double\n",
       "    5.1368    0.0500    6.1367    5.0000    2.5000\n"
      ]
     },
     "execution_count": 32,
     "metadata": {},
     "output_type": "execute_result"
    },
    {
     "data": {
      "text/html": [
       "<html><body><pre>ans = 0.6969</pre></body></html>"
      ],
      "text/plain": [
       "ans = 0.6969"
      ]
     },
     "execution_count": 32,
     "metadata": {},
     "output_type": "execute_result"
    }
   ],
   "source": [
    "x = [theta,delta,rhoU,mu,sigma]\n",
    "metric_error(x)"
   ]
  },
  {
   "cell_type": "markdown",
   "id": "47aef709-5bf8-4823-bd06-1e13069677aa",
   "metadata": {},
   "source": [
    "And we are done! Once we have this, we have a minimization problem in our hands and we know how to solve them!\n",
    "\n",
    "There is a little detail in this one, tough. Some variables have a nature that limits the values that they can take. So, we will to take this into account. For that, we will use the function patternsearch(), that will allow us to specify them."
   ]
  },
  {
   "cell_type": "code",
   "execution_count": 37,
   "id": "9d393347-a8ba-405e-81bd-0e1a0f9cdfb5",
   "metadata": {},
   "outputs": [
    {
     "name": "stdout",
     "output_type": "stream",
     "text": [
      "patternsearch stopped because the mesh size was less than options.MeshTolerance.\n"
     ]
    },
    {
     "data": {
      "text/html": [
       "<html><body><pre>x1 = 1x5 double\n",
       "    5.9483    0.0580    6.2720    5.0000    2.1103\n",
       "</pre></body></html>"
      ],
      "text/plain": [
       "x1 = 1x5 double\n",
       "    5.9483    0.0580    6.2720    5.0000    2.1103\n"
      ]
     },
     "execution_count": 37,
     "metadata": {},
     "output_type": "execute_result"
    },
    {
     "data": {
      "text/html": [
       "<html><body><pre>ans = 0.4298</pre></body></html>"
      ],
      "text/plain": [
       "ans = 0.4298"
      ]
     },
     "execution_count": 37,
     "metadata": {},
     "output_type": "execute_result"
    }
   ],
   "source": [
    "x0 = x;\n",
    "A = [];\n",
    "b = [];\n",
    "Aeq = [];\n",
    "beq = [];\n",
    "lb = [0, 0, 0, 0, 0.01];\n",
    "ub = [100, 1, 100, 100, 100];\n",
    "x1 = patternsearch(metric_error,x0,A,b,Aeq,beq,lb,ub);\n",
    "\n",
    "x1\n",
    "metric_error(x1)"
   ]
  },
  {
   "cell_type": "markdown",
   "id": "23fba201-2e8a-4167-9b47-ed32acc206c3",
   "metadata": {},
   "source": [
    "And this all I have to show you in this workshop. I hope you enjoy it! If you have suggestions or comments about the contents, you can write me an email to a.i.fuentes@sms.ed.ac.uk. I am happy to discuss the contents! :)"
   ]
  },
  {
   "cell_type": "code",
   "execution_count": null,
   "id": "183ee6e9-dcb3-4191-925f-c366bbc5ca67",
   "metadata": {},
   "outputs": [],
   "source": []
  }
 ],
 "metadata": {
  "kernelspec": {
   "display_name": "MATLAB Kernel",
   "language": "matlab",
   "name": "jupyter_matlab_kernel"
  },
  "language_info": {
   "file_extension": ".m",
   "mimetype": "text/x-matlab",
   "name": "matlab"
  }
 },
 "nbformat": 4,
 "nbformat_minor": 5
}
