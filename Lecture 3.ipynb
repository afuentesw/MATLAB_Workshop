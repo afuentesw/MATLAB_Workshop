{
 "cells": [
  {
   "cell_type": "markdown",
   "id": "6fff9c36-eff0-43b9-aacb-c782866d0b8e",
   "metadata": {},
   "source": [
    "# Lecture III: Solving Macro problems with MATLAB"
   ]
  },
  {
   "cell_type": "markdown",
   "id": "1dbd1b5c-f0c8-4223-bfd1-168b3698670a",
   "metadata": {},
   "source": [
    "\"*The code you wrote makes you a programmer. The code you delete makes you a good one. The code you do not have to write makes you a great one*\" - Mario Fusco"
   ]
  },
  {
   "cell_type": "markdown",
   "id": "de2974fe-3b51-4ea6-b871-6422938dbc8d",
   "metadata": {},
   "source": [
    "## 1. Let's eat cake!"
   ]
  },
  {
   "cell_type": "markdown",
   "id": "7b340e38-38a8-4c73-8e84-84bd816943ca",
   "metadata": {},
   "source": [
    "Imagine that you have a delicious cake. You could just eat it at once, but we are economists, and we know that this could not be the optimal solution. Why?"
   ]
  },
  {
   "cell_type": "markdown",
   "id": "151eb572-1c65-4e09-8fe3-25cab9aaf5b9",
   "metadata": {},
   "source": [
    "Because we know that people like smooth consumption, so if we eat all the cake today, we will not have a piece of cake to eat tomorrow."
   ]
  },
  {
   "cell_type": "markdown",
   "id": "4ba1716f-1284-4622-8238-758961722590",
   "metadata": {},
   "source": [
    "Also, we know that we have decreasing marginal utility, which means that the 16th piece of cake we eat in a row will give us less utility than the first piece of cake we eat tomorrow."
   ]
  },
  {
   "cell_type": "markdown",
   "id": "d56fff4f-35f1-4d98-9b5a-0e0ab3f182e7",
   "metadata": {},
   "source": [
    "So, how do we decide how much cake we will eat each day?"
   ]
  },
  {
   "cell_type": "markdown",
   "id": "18aef35c-f480-4ddd-b820-83a7b8fa83d6",
   "metadata": {},
   "source": [
    "In this lecture, we will learn how to compute how much cake we should eat. Then, we will apply this knowledge to solve the Solow model, a model in which we have to decide a sequence of consumption and investment."
   ]
  },
  {
   "cell_type": "markdown",
   "id": "a958509e-cdd6-46c2-baca-1652d4fe78e9",
   "metadata": {},
   "source": [
    "So, imagine we have one cake that we can divide as we want. Also, assume that we have log preferences and that our intertemporal discount factor is $\\beta$. So:\n",
    "\n",
    "$$ U(c) = \\log(c) $$\n",
    "\n",
    "And we want to maximize the following:\n",
    "\n",
    "$$ \\sum_{i=0}^\\infty \\beta^i \\log(c_i) $$"
   ]
  },
  {
   "cell_type": "markdown",
   "id": "01be8eb7-b8f3-4839-8942-b473dff998a2",
   "metadata": {},
   "source": [
    "So in the first period, we have an amount one of cake. Imagine that we decide to eat an amount $\\alpha$, such that $0<\\alpha<1$. In that case, for the next period, we will start with an amount $1-\\alpha$ of cake. It is important to know this because the amount of cake we have left restricts the amount of cake that we can eat in each period."
   ]
  },
  {
   "cell_type": "markdown",
   "id": "3516a628-ae22-402f-9f60-2eb53120d8e6",
   "metadata": {},
   "source": [
    "Let's create a variable to tell us the amount of cake that we have at the beginning of each period. We will call this variable $a$. Now, notice that this is a recursive problem. In the beginning, we will eat a bit and save the rest for tomorrow. Tomorrow, we will check how much cake we have left (which is the initial amount minus what we ate yesterday), eat another bit, and save it for the day after tomorrow. And so on."
   ]
  },
  {
   "cell_type": "markdown",
   "id": "199000f5-b505-428f-8270-cef7fb5a5f02",
   "metadata": {},
   "source": [
    "The only thing that will change every period is the amount of cake we have left. What if we assign a value to that? Given the amount of cake we have left, imagine a function that gives us the **present value of discounted future utilities** that we will receive from that cake under the **optimal consumption plan**. Let's call this function $V()$."
   ]
  },
  {
   "cell_type": "markdown",
   "id": "615ae675-9e4e-44e8-8948-bee8240bf688",
   "metadata": {},
   "source": [
    "So, $V(a)$ is the discounted sum of future utilities under the optimal plan when we have an amount $a$ of cake. If we start with $a$, and we choose to consume an amount $c$, we will receive an utility $\\log(c)$ and we will have $a-c$ cake for tomorrow, which will gives us the value $V(a-c)$"
   ]
  },
  {
   "cell_type": "markdown",
   "id": "c1a9cecd-12c0-4642-a845-d2eb184e0a19",
   "metadata": {},
   "source": [
    "$$ V(a) = \\max_c \\left[ \\log(c) + \\beta V(a-c) \\right]$$"
   ]
  },
  {
   "cell_type": "markdown",
   "id": "b38cc0b9-c508-4aee-a720-c99b4147e727",
   "metadata": {},
   "source": [
    "Now, notice that $a-c$ is the amount of cake that we will have in the next period. We will call this $a'$.\n",
    "\n",
    "$$ V(a) = \\max_c \\left[ \\log(c) + \\beta V(a') \\right]$$\n",
    "\n",
    "$$ s.t: a' = a-c $$"
   ]
  },
  {
   "cell_type": "markdown",
   "id": "36d199f7-a022-4735-90ea-0fc0235ecc1c",
   "metadata": {},
   "source": [
    "Let's formalize this. We will call the function $V()$ the **value function**. This is a function that we do not know. Also, we will call $a$ our **state variable**. The state variables are the variables needed to know to solve the problem. Finally, we will call $c$ the **control variable**. We can choose these variables, and by doing that, we can affect state variables.\n",
    "\n",
    "Notice that this problem is unlike anything we have seen before. We have a functional equation in which we need to find a function: $V()$. "
   ]
  },
  {
   "cell_type": "markdown",
   "id": "c394b20b-88a9-4918-9596-50aea23c910d",
   "metadata": {},
   "source": [
    "So, how do we solve this? Well, it is pretty simple, really (after all, we are just eating cake). The idea is to find the optimal consumption plan to maximize the discounted sum of future utilities, so we will try any possible consumption plan and keep the best one."
   ]
  },
  {
   "cell_type": "markdown",
   "id": "d537fa7d-67e3-4ddc-8317-20c224d325fd",
   "metadata": {},
   "source": [
    "To solve this, we will divide the problem into steps. First, we need something that tells us the utility of eating a given piece of cake. To do this, we will need to define a grid of consumption. This will discretize the problem; that means the individual can only choose a level of consumption inside the grid. Given the above, we need to be careful and use a grid that is big enough not to cause problems."
   ]
  },
  {
   "cell_type": "code",
   "execution_count": 28,
   "id": "d0023167-326f-400e-b98e-fcd12ec11386",
   "metadata": {
    "tags": []
   },
   "outputs": [
    {
     "data": {
      "text/html": [
       "<html><body><pre>cake = 1x10 double\n",
       "         0    0.1111    0.2222    0.3333    0.4444    0.5556    0.6667    0.7778    0.8889    1.0000\n",
       "</pre></body></html>"
      ],
      "text/plain": [
       "cake = 1x10 double\n",
       "         0    0.1111    0.2222    0.3333    0.4444    0.5556    0.6667    0.7778    0.8889    1.0000\n"
      ]
     },
     "execution_count": 28,
     "metadata": {},
     "output_type": "execute_result"
    },
    {
     "data": {
      "text/html": [
       "<html><body><pre>U = 1x10 double\n",
       "      -Inf   -2.1972   -1.5041   -1.0986   -0.8109   -0.5878   -0.4055   -0.2513   -0.1178         0\n",
       "</pre></body></html>"
      ],
      "text/plain": [
       "U = 1x10 double\n",
       "      -Inf   -2.1972   -1.5041   -1.0986   -0.8109   -0.5878   -0.4055   -0.2513   -0.1178         0\n"
      ]
     },
     "execution_count": 28,
     "metadata": {},
     "output_type": "execute_result"
    }
   ],
   "source": [
    "beta = 0.90;\n",
    "max_iter = 30;\n",
    "\n",
    "cake = linspace(0,1,10);\n",
    "\n",
    "cake\n",
    "\n",
    "U = log(cake);\n",
    "\n",
    "U"
   ]
  },
  {
   "cell_type": "markdown",
   "id": "ec11376f-ba88-4874-9c4d-7fc80e0f2286",
   "metadata": {},
   "source": [
    "Notice that the utility when we do not have cake (i.e. $cake=0$) is $-\\infty$. We want to avoid values like this because they will cause trouble in our next steps. So we will change our utility function to:\n",
    "\n",
    "$$ U(c) = \\log(1+c) $$\n",
    "\n",
    "This is the same idea, but now we guarantee zero minimum utility."
   ]
  },
  {
   "cell_type": "code",
   "execution_count": 30,
   "id": "d503a70d-2f04-40e3-b55f-bd147ed96d44",
   "metadata": {
    "tags": []
   },
   "outputs": [
    {
     "data": {
      "text/html": [
       "<html><body><pre>cake = 1x10 double\n",
       "         0    0.1111    0.2222    0.3333    0.4444    0.5556    0.6667    0.7778    0.8889    1.0000\n",
       "</pre></body></html>"
      ],
      "text/plain": [
       "cake = 1x10 double\n",
       "         0    0.1111    0.2222    0.3333    0.4444    0.5556    0.6667    0.7778    0.8889    1.0000\n"
      ]
     },
     "execution_count": 30,
     "metadata": {},
     "output_type": "execute_result"
    },
    {
     "data": {
      "text/html": [
       "<html><body><pre>U = 1x10 double\n",
       "         0    0.1054    0.2007    0.2877    0.3677    0.4418    0.5108    0.5754    0.6360    0.6931\n",
       "</pre></body></html>"
      ],
      "text/plain": [
       "U = 1x10 double\n",
       "         0    0.1054    0.2007    0.2877    0.3677    0.4418    0.5108    0.5754    0.6360    0.6931\n"
      ]
     },
     "execution_count": 30,
     "metadata": {},
     "output_type": "execute_result"
    }
   ],
   "source": [
    "cake = linspace(0,1,10);\n",
    "\n",
    "cake\n",
    "\n",
    "U = log(1+cake);\n",
    "\n",
    "U"
   ]
  },
  {
   "cell_type": "markdown",
   "id": "6422dbc2-5a9f-4cb9-91ba-e55c6808eb2a",
   "metadata": {},
   "source": [
    "Excellent! Now, we can move to the next step.\n",
    "\n",
    "In this step, we will assume some values for our value function. Which values will we assume? We could use the logic and think that the bigger the cake we have, the bigger the value function for that cake should be. However, although that logic is correct, we will start from a ignorant guess: the value function will be zero for each value of the cake."
   ]
  },
  {
   "cell_type": "code",
   "execution_count": 32,
   "id": "25d450c1-b03a-438b-89e7-ba87c742d051",
   "metadata": {
    "tags": []
   },
   "outputs": [],
   "source": [
    "V = zeros(length(cake),1);"
   ]
  },
  {
   "cell_type": "markdown",
   "id": "4ef398a0-9011-42ac-b4ff-3520f90d604e",
   "metadata": {},
   "source": [
    "Now, for each possible amount of cake, we will choose a level of consumption. We will receive the utility of that consumption plus the discounted value of the value function for the remaining cake."
   ]
  },
  {
   "cell_type": "code",
   "execution_count": 34,
   "id": "b378e531-2ffa-47e3-b0c4-9e3f6a553ef5",
   "metadata": {
    "tags": []
   },
   "outputs": [
    {
     "data": {
      "text/html": [
       "<html><body><pre>aux = 10x10 double\n",
       "         0      -Inf      -Inf      -Inf      -Inf      -Inf      -Inf      -Inf      -Inf      -Inf\n",
       "    0.1054         0      -Inf      -Inf      -Inf      -Inf      -Inf      -Inf      -Inf      -Inf\n",
       "    0.2007    0.1054         0      -Inf      -Inf      -Inf      -Inf      -Inf      -Inf      -Inf\n",
       "    0.2877    0.2007    0.1054         0      -Inf      -Inf      -Inf      -Inf      -Inf      -Inf\n",
       "    0.3677    0.2877    0.2007    0.1054         0      -Inf      -Inf      -Inf      -Inf      -Inf\n",
       "    0.4418    0.3677    0.2877    0.2007    0.1054         0      -Inf      -Inf      -Inf      -Inf\n",
       "    0.5108    0.4418    0.3677    0.2877    0.2007    0.1054   -0.0000      -Inf      -Inf      -Inf\n",
       "    0.5754    0.5108    0.4418    0.3677    0.2877    0.2007    0.1054   -0.0000      -Inf      -Inf\n",
       "    0.6360    0.5754    0.5108    0.4418    0.3677    0.2877    0.2007    0.1054         0      -Inf\n",
       "    0.6931    0.6360    0.5754    0.5108    0.4418    0.3677    0.2877    0.2007    0.1054         0\n",
       "</pre></body></html>"
      ],
      "text/plain": [
       "aux = 10x10 double\n",
       "         0      -Inf      -Inf      -Inf      -Inf      -Inf      -Inf      -Inf      -Inf      -Inf\n",
       "    0.1054         0      -Inf      -Inf      -Inf      -Inf      -Inf      -Inf      -Inf      -Inf\n",
       "    0.2007    0.1054         0      -Inf      -Inf      -Inf      -Inf      -Inf      -Inf      -Inf\n",
       "    0.2877    0.2007    0.1054         0      -Inf      -Inf      -Inf      -Inf      -Inf      -Inf\n",
       "    0.3677    0.2877    0.2007    0.1054         0      -Inf      -Inf      -Inf      -Inf      -Inf\n",
       "    0.4418    0.3677    0.2877    0.2007    0.1054         0      -Inf      -Inf      -Inf      -Inf\n",
       "    0.5108    0.4418    0.3677    0.2877    0.2007    0.1054   -0.0000      -Inf      -Inf      -Inf\n",
       "    0.5754    0.5108    0.4418    0.3677    0.2877    0.2007    0.1054   -0.0000      -Inf      -Inf\n",
       "    0.6360    0.5754    0.5108    0.4418    0.3677    0.2877    0.2007    0.1054         0      -Inf\n",
       "    0.6931    0.6360    0.5754    0.5108    0.4418    0.3677    0.2877    0.2007    0.1054         0\n"
      ]
     },
     "execution_count": 34,
     "metadata": {},
     "output_type": "execute_result"
    }
   ],
   "source": [
    "aux=zeros(length(cake),length(cake));\n",
    "\n",
    "for a=1:length(cake) %Cake at the beginning of the period\n",
    "    for a_prime=1:length(cake) %Cake at the end of the period (restricted to be at most the entire cake)\n",
    "        if a_prime>a %We cannot eat more than the total cake\n",
    "            aux(a,a_prime)=-inf;\n",
    "        else\n",
    "            aux(a,a_prime) = log(1+cake(a) - cake(a_prime)) + beta*V(a_prime);\n",
    "        end\n",
    "    end\n",
    "end\n",
    "\n",
    "aux"
   ]
  },
  {
   "cell_type": "markdown",
   "id": "03c3f42e-3e8e-4f4a-9f19-ec52dba7f698",
   "metadata": {
    "tags": []
   },
   "source": [
    "So, this matrix shows us the value we will receive if we start with a given amount of cake (given by the rows) and decide to leave a certain amount of cake for tomorrow (given by the columns)."
   ]
  },
  {
   "cell_type": "markdown",
   "id": "fb10f32d-d040-4ae6-a2c8-9a8ace48b28f",
   "metadata": {},
   "source": [
    "Notice that the diagonal is $0$ because, at that point, the amount of cake we leave for tomorrow is the same as we have today, implying that the consumption is zero, and $\\log(1+0)=0$"
   ]
  },
  {
   "cell_type": "markdown",
   "id": "f356971f-9cdb-44be-bd59-3ce0773a9362",
   "metadata": {},
   "source": [
    "Notice also that the greater the consumption (the distance from the diagonal), the bigger the utility. This is, of course, due to the fact that we are eating more cake."
   ]
  },
  {
   "cell_type": "markdown",
   "id": "5ce53195-b2dd-40ec-b80b-6bdc73ef93a2",
   "metadata": {},
   "source": [
    "## 2. A new cake"
   ]
  },
  {
   "cell_type": "markdown",
   "id": "c829d95f-f998-43f2-b4c9-0a1917449539",
   "metadata": {},
   "source": [
    "Great! Now, we have all the ingredients to solve our problem. Just be aware that the value function collects the **maximum value** given that it results from choosing the optimal consumption plan. Remember our expression for the value function:\n",
    "\n",
    "$$ V(a) = \\max_c \\left[ \\log(1+c) + \\beta V(a') \\right]$$"
   ]
  },
  {
   "cell_type": "markdown",
   "id": "e6a7fbaa-5f37-4c89-b9ae-bc48b337c88f",
   "metadata": {},
   "source": [
    "So, for each level of cake (row), we will compute the maximum value and assign that to the value function."
   ]
  },
  {
   "cell_type": "code",
   "execution_count": 41,
   "id": "2d860733-67aa-41c2-8ddc-e55f2fa167f7",
   "metadata": {
    "tags": []
   },
   "outputs": [
    {
     "data": {
      "text/html": [
       "<html><body><pre>aux = 10x10 double\n",
       "         0      -Inf      -Inf      -Inf      -Inf      -Inf      -Inf      -Inf      -Inf      -Inf\n",
       "    0.1054         0      -Inf      -Inf      -Inf      -Inf      -Inf      -Inf      -Inf      -Inf\n",
       "    0.2007    0.1054         0      -Inf      -Inf      -Inf      -Inf      -Inf      -Inf      -Inf\n",
       "    0.2877    0.2007    0.1054         0      -Inf      -Inf      -Inf      -Inf      -Inf      -Inf\n",
       "    0.3677    0.2877    0.2007    0.1054         0      -Inf      -Inf      -Inf      -Inf      -Inf\n",
       "    0.4418    0.3677    0.2877    0.2007    0.1054         0      -Inf      -Inf      -Inf      -Inf\n",
       "    0.5108    0.4418    0.3677    0.2877    0.2007    0.1054   -0.0000      -Inf      -Inf      -Inf\n",
       "    0.5754    0.5108    0.4418    0.3677    0.2877    0.2007    0.1054   -0.0000      -Inf      -Inf\n",
       "    0.6360    0.5754    0.5108    0.4418    0.3677    0.2877    0.2007    0.1054         0      -Inf\n",
       "    0.6931    0.6360    0.5754    0.5108    0.4418    0.3677    0.2877    0.2007    0.1054         0\n",
       "</pre></body></html>"
      ],
      "text/plain": [
       "aux = 10x10 double\n",
       "         0      -Inf      -Inf      -Inf      -Inf      -Inf      -Inf      -Inf      -Inf      -Inf\n",
       "    0.1054         0      -Inf      -Inf      -Inf      -Inf      -Inf      -Inf      -Inf      -Inf\n",
       "    0.2007    0.1054         0      -Inf      -Inf      -Inf      -Inf      -Inf      -Inf      -Inf\n",
       "    0.2877    0.2007    0.1054         0      -Inf      -Inf      -Inf      -Inf      -Inf      -Inf\n",
       "    0.3677    0.2877    0.2007    0.1054         0      -Inf      -Inf      -Inf      -Inf      -Inf\n",
       "    0.4418    0.3677    0.2877    0.2007    0.1054         0      -Inf      -Inf      -Inf      -Inf\n",
       "    0.5108    0.4418    0.3677    0.2877    0.2007    0.1054   -0.0000      -Inf      -Inf      -Inf\n",
       "    0.5754    0.5108    0.4418    0.3677    0.2877    0.2007    0.1054   -0.0000      -Inf      -Inf\n",
       "    0.6360    0.5754    0.5108    0.4418    0.3677    0.2877    0.2007    0.1054         0      -Inf\n",
       "    0.6931    0.6360    0.5754    0.5108    0.4418    0.3677    0.2877    0.2007    0.1054         0\n"
      ]
     },
     "execution_count": 41,
     "metadata": {},
     "output_type": "execute_result"
    },
    {
     "data": {
      "text/html": [
       "<html><body><pre>V = 1x10 double\n",
       "         0    0.1054    0.2007    0.2877    0.3677    0.4418    0.5108    0.5754    0.6360    0.6931\n",
       "</pre></body></html>"
      ],
      "text/plain": [
       "V = 1x10 double\n",
       "         0    0.1054    0.2007    0.2877    0.3677    0.4418    0.5108    0.5754    0.6360    0.6931\n"
      ]
     },
     "execution_count": 41,
     "metadata": {},
     "output_type": "execute_result"
    }
   ],
   "source": [
    "V = zeros(length(cake),1);\n",
    "\n",
    "aux=zeros(length(cake),length(cake));\n",
    "\n",
    "for a=1:length(cake) %Cake at the beginning of the period\n",
    "    for a_prime=1:length(cake) %Cake at the end of the period (restricted to be at most the entire cake)\n",
    "        if a_prime>a %We cannot eat more than the total cake\n",
    "            aux(a,a_prime)=-inf;\n",
    "        else\n",
    "            aux(a,a_prime) = log(1+cake(a) - cake(a_prime)) + beta*V(a_prime);\n",
    "        end\n",
    "    end\n",
    "end\n",
    "\n",
    "aux\n",
    "\n",
    "V = max(aux')"
   ]
  },
  {
   "cell_type": "markdown",
   "id": "da4dbe63-9de9-41e0-a8ef-483fae856845",
   "metadata": {},
   "source": [
    "Great. We started from zero, and now we have something that makes sense. The value function is increasing in the amount of cake. However, we should do this again because this is the result of the value function when the initial guess is zero."
   ]
  },
  {
   "cell_type": "code",
   "execution_count": 43,
   "id": "d9649864-5479-41e2-a7fe-c802aa8b4ba7",
   "metadata": {
    "tags": []
   },
   "outputs": [
    {
     "data": {
      "text/html": [
       "<html><body><pre>aux = 10x10 double\n",
       "         0      -Inf      -Inf      -Inf      -Inf      -Inf      -Inf      -Inf      -Inf      -Inf\n",
       "    0.1054    0.0948      -Inf      -Inf      -Inf      -Inf      -Inf      -Inf      -Inf      -Inf\n",
       "    0.2007    0.2002    0.1806      -Inf      -Inf      -Inf      -Inf      -Inf      -Inf      -Inf\n",
       "    0.2877    0.2955    0.2860    0.2589      -Inf      -Inf      -Inf      -Inf      -Inf      -Inf\n",
       "    0.3677    0.3825    0.3813    0.3643    0.3310      -Inf      -Inf      -Inf      -Inf      -Inf\n",
       "    0.4418    0.4625    0.4683    0.4596    0.4363    0.3976      -Inf      -Inf      -Inf      -Inf\n",
       "    0.5108    0.5367    0.5483    0.5466    0.5316    0.5030    0.4597      -Inf      -Inf      -Inf\n",
       "    0.5754    0.6057    0.6224    0.6266    0.6186    0.5983    0.5651    0.5178      -Inf      -Inf\n",
       "    0.6360    0.6702    0.6914    0.7007    0.6987    0.6853    0.6604    0.6232    0.5724      -Inf\n",
       "    0.6931    0.7308    0.7560    0.7697    0.7728    0.7654    0.7474    0.7185    0.6778    0.6238\n",
       "</pre></body></html>"
      ],
      "text/plain": [
       "aux = 10x10 double\n",
       "         0      -Inf      -Inf      -Inf      -Inf      -Inf      -Inf      -Inf      -Inf      -Inf\n",
       "    0.1054    0.0948      -Inf      -Inf      -Inf      -Inf      -Inf      -Inf      -Inf      -Inf\n",
       "    0.2007    0.2002    0.1806      -Inf      -Inf      -Inf      -Inf      -Inf      -Inf      -Inf\n",
       "    0.2877    0.2955    0.2860    0.2589      -Inf      -Inf      -Inf      -Inf      -Inf      -Inf\n",
       "    0.3677    0.3825    0.3813    0.3643    0.3310      -Inf      -Inf      -Inf      -Inf      -Inf\n",
       "    0.4418    0.4625    0.4683    0.4596    0.4363    0.3976      -Inf      -Inf      -Inf      -Inf\n",
       "    0.5108    0.5367    0.5483    0.5466    0.5316    0.5030    0.4597      -Inf      -Inf      -Inf\n",
       "    0.5754    0.6057    0.6224    0.6266    0.6186    0.5983    0.5651    0.5178      -Inf      -Inf\n",
       "    0.6360    0.6702    0.6914    0.7007    0.6987    0.6853    0.6604    0.6232    0.5724      -Inf\n",
       "    0.6931    0.7308    0.7560    0.7697    0.7728    0.7654    0.7474    0.7185    0.6778    0.6238\n"
      ]
     },
     "execution_count": 43,
     "metadata": {},
     "output_type": "execute_result"
    },
    {
     "data": {
      "text/html": [
       "<html><body><pre>V = 1x10 double\n",
       "         0    0.1054    0.2007    0.2955    0.3825    0.4683    0.5483    0.6266    0.7007    0.7728\n",
       "</pre></body></html>"
      ],
      "text/plain": [
       "V = 1x10 double\n",
       "         0    0.1054    0.2007    0.2955    0.3825    0.4683    0.5483    0.6266    0.7007    0.7728\n"
      ]
     },
     "execution_count": 43,
     "metadata": {},
     "output_type": "execute_result"
    }
   ],
   "source": [
    "aux=zeros(length(cake),length(cake));\n",
    "\n",
    "for a=1:length(cake) %Cake at the beginning of the period\n",
    "    for a_prime=1:length(cake) %Cake at the end of the period (restricted to be at most the entire cake)\n",
    "        if a_prime>a %We cannot eat more than the total cake\n",
    "            aux(a,a_prime)=-inf;\n",
    "        else\n",
    "            aux(a,a_prime) = log(1+cake(a) - cake(a_prime)) + beta*V(a_prime);\n",
    "        end\n",
    "    end\n",
    "end\n",
    "\n",
    "aux\n",
    "\n",
    "V = max(aux')"
   ]
  },
  {
   "cell_type": "markdown",
   "id": "15b18048-2e87-40df-badd-18cf46b3e7cc",
   "metadata": {},
   "source": [
    "Again, we have something that makes sense. However, notice that the values of the value function have changed. Let's create a variable that tells us how much the variable is changing."
   ]
  },
  {
   "cell_type": "code",
   "execution_count": 45,
   "id": "319d3d82-4570-4d2d-b71e-700e2658f51d",
   "metadata": {
    "tags": []
   },
   "outputs": [
    {
     "data": {
      "text/html": [
       "<html><body><pre>dif = 30x1 double\n",
       "    3.8186\n",
       "    0.2822\n",
       "       NaN\n",
       "       NaN\n",
       "       NaN\n",
       "       NaN\n",
       "       NaN\n",
       "       NaN\n",
       "       NaN\n",
       "       NaN\n",
       "...</pre></body></html>"
      ],
      "text/plain": [
       "dif = 30x1 double\n",
       "    3.8186\n",
       "    0.2822\n",
       "       NaN\n",
       "       NaN\n",
       "       NaN\n",
       "       NaN\n",
       "       NaN\n",
       "       NaN\n",
       "       NaN\n",
       "       NaN\n",
       "..."
      ]
     },
     "execution_count": 45,
     "metadata": {},
     "output_type": "execute_result"
    }
   ],
   "source": [
    "V_0 = zeros(1,length(cake));\n",
    "\n",
    "aux=zeros(length(cake),length(cake));\n",
    "\n",
    "dif = zeros(max_iter,1)+NaN;\n",
    "\n",
    "max_iter = 2;\n",
    "\n",
    "for i=1:max_iter\n",
    "    for a=1:length(cake) %Cake at the beginning of the period\n",
    "        for a_prime=1:length(cake) %Cake at the end of the period (restricted to be at most the entire cake)\n",
    "            if a_prime>a %We cannot eat more than the total cake\n",
    "                aux(a,a_prime)=-inf;\n",
    "            else\n",
    "                aux(a,a_prime) = log(1+cake(a) - cake(a_prime)) + beta*V_0(a_prime);\n",
    "            end\n",
    "        end\n",
    "    end\n",
    "    \n",
    "    V = max(aux'); % This vector is 1x10\n",
    "    dif(i) = sum(abs(V-V_0));\n",
    "    V_0 = V;\n",
    "    \n",
    "end\n",
    "\n",
    "dif"
   ]
  },
  {
   "cell_type": "markdown",
   "id": "d18df007-800c-414e-8937-36d241854915",
   "metadata": {},
   "source": [
    "Excellent, so the difference between the guess and the current value function is decreasing. Would it continue decreasing if we increase the number of iterations? Well, yes."
   ]
  },
  {
   "cell_type": "code",
   "execution_count": 47,
   "id": "b3d972df-4779-40d0-b68d-cddd82b028e3",
   "metadata": {
    "tags": []
   },
   "outputs": [
    {
     "data": {
      "text/html": [
       "<html><body><pre>dif = 4x1 double\n",
       "    3.8186\n",
       "    0.2822\n",
       "    0.0400\n",
       "         0\n",
       "</pre></body></html>"
      ],
      "text/plain": [
       "dif = 4x1 double\n",
       "    3.8186\n",
       "    0.2822\n",
       "    0.0400\n",
       "         0\n"
      ]
     },
     "execution_count": 47,
     "metadata": {},
     "output_type": "execute_result"
    }
   ],
   "source": [
    "V_0 = zeros(1,length(cake));\n",
    "\n",
    "aux=zeros(length(cake),length(cake));\n",
    "\n",
    "dif = zeros(max_iter,1)+NaN;\n",
    "\n",
    "max_iter = 4;\n",
    "\n",
    "for i=1:max_iter\n",
    "    for a=1:length(cake) %Cake at the beginning of the period\n",
    "        for a_prime=1:length(cake) %Cake at the end of the period (restricted to be at most the entire cake)\n",
    "            if a_prime>a %We cannot eat more than the total cake\n",
    "                aux(a,a_prime)=-inf;\n",
    "            else\n",
    "                aux(a,a_prime) = log(1+cake(a) - cake(a_prime)) + beta*V_0(a_prime);\n",
    "            end\n",
    "        end\n",
    "    end\n",
    "    \n",
    "    V = max(aux'); % This vector is 1x10\n",
    "    dif(i) = sum(abs(V-V_0));\n",
    "    V_0 = V;\n",
    "    \n",
    "end\n",
    "\n",
    "dif"
   ]
  },
  {
   "cell_type": "markdown",
   "id": "1251fe88-5609-4a13-942c-267c0ae24d6d",
   "metadata": {},
   "source": [
    "Great! In the fourth iteration, we are ready! Let's check the value function."
   ]
  },
  {
   "cell_type": "code",
   "execution_count": 49,
   "id": "1c9bbfa7-6501-44bd-9cd4-495aeec5266e",
   "metadata": {
    "tags": []
   },
   "outputs": [
    {
     "data": {
      "text/html": [
       "<html><body><pre>V = 1x10 double\n",
       "         0    0.1054    0.2007    0.2955    0.3825    0.4683    0.5536    0.6337    0.7120    0.7892\n",
       "</pre></body></html>"
      ],
      "text/plain": [
       "V = 1x10 double\n",
       "         0    0.1054    0.2007    0.2955    0.3825    0.4683    0.5536    0.6337    0.7120    0.7892\n"
      ]
     },
     "execution_count": 49,
     "metadata": {},
     "output_type": "execute_result"
    }
   ],
   "source": [
    "V"
   ]
  },
  {
   "cell_type": "markdown",
   "id": "55d6d6e8-47ce-4244-b4f5-33ea2f77a58b",
   "metadata": {},
   "source": [
    "It makes complete sense. More cake implies a higher value for the value function. Now, we can plot the value function by adding the amount of cake."
   ]
  },
  {
   "cell_type": "code",
   "execution_count": 52,
   "id": "9885bad1-bbe2-4c43-b014-09ddd927c796",
   "metadata": {
    "tags": []
   },
   "outputs": [
    {
     "data": {
      "image/png": "[encoded data removed]"
     },
     "execution_count": 52,
     "metadata": {},
     "output_type": "execute_result"
    }
   ],
   "source": [
    "figure\n",
    "plot(cake,V)\n",
    "title('Value function: Cake eating problem')\n",
    "xlabel('Amount of Cake')\n",
    "ylabel('Value')"
   ]
  },
  {
   "cell_type": "markdown",
   "id": "9ffc5e63-642e-4f28-a588-9b2b4c73cbe0",
   "metadata": {},
   "source": [
    "This procedure, in which we guess the value function and then iterate it until convergence, has a name that is not that original: **value function iteration**. This procedure is the standard for solving functional equations, and it is more stable (i.e., it finds the solution eventually) than other alternatives, but it is not time-efficient."
   ]
  },
  {
   "cell_type": "markdown",
   "id": "b4a52058-233a-4809-b5a8-aea8b5d04177",
   "metadata": {},
   "source": [
    "Are we done? No! The plot is pretty nice, but we started this with a clear objective: Given a starting point, how much cake should be eaten?"
   ]
  },
  {
   "cell_type": "markdown",
   "id": "d3d00be2-23de-4e41-8fa7-49f6d24f8725",
   "metadata": {},
   "source": [
    "To obtain the optimal plan for eating the cake, we need to focus on the index of the maximum point of the value function. Remember, again, that the function is:\n",
    "\n",
    "$$ V(a) = \\max_c \\left[ \\log(c) + \\beta V(a') \\right]$$"
   ]
  },
  {
   "cell_type": "markdown",
   "id": "8f513e6e-08a8-4971-9d9e-47ad9b9ef8a1",
   "metadata": {},
   "source": [
    "So, the optimal consumption is the one maximizing the value function. So, this time, when we obtain the maximum inside the iteration process, we will care about the maximum value for the value function and the consumption level that generates that."
   ]
  },
  {
   "cell_type": "code",
   "execution_count": 127,
   "id": "0243382c-9a96-485a-8407-3978a04c3add",
   "metadata": {
    "tags": []
   },
   "outputs": [
    {
     "data": {
      "text/html": [
       "<html><body><pre>Ind = 1x10 double\n",
       "     1     1     1     2     2     3     4     4     5     6\n",
       "</pre></body></html>"
      ],
      "text/plain": [
       "Ind = 1x10 double\n",
       "     1     1     1     2     2     3     4     4     5     6\n"
      ]
     },
     "execution_count": 127,
     "metadata": {},
     "output_type": "execute_result"
    },
    {
     "data": {
      "text/html": [
       "<html><body><pre>cake = 1x10 double\n",
       "         0    0.1111    0.2222    0.3333    0.4444    0.5556    0.6667    0.7778    0.8889    1.0000\n",
       "</pre></body></html>"
      ],
      "text/plain": [
       "cake = 1x10 double\n",
       "         0    0.1111    0.2222    0.3333    0.4444    0.5556    0.6667    0.7778    0.8889    1.0000\n"
      ]
     },
     "execution_count": 127,
     "metadata": {},
     "output_type": "execute_result"
    }
   ],
   "source": [
    "V_0 = zeros(1,length(cake));\n",
    "\n",
    "aux=zeros(length(cake),length(cake));\n",
    "\n",
    "dif = zeros(max_iter,1)+NaN;\n",
    "\n",
    "max_iter = 4;\n",
    "\n",
    "for i=1:max_iter\n",
    "    for a=1:length(cake) %Cake at the beginning of the period\n",
    "        for a_prime=1:length(cake) %Cake at the end of the period (restricted to be at most the entire cake)\n",
    "            if a_prime>a %We cannot eat more than the total cake\n",
    "                aux(a,a_prime)=-inf;\n",
    "            else\n",
    "                aux(a,a_prime) = log(1+cake(a) - cake(a_prime)) + beta*V_0(a_prime);\n",
    "            end\n",
    "        end\n",
    "    end\n",
    "    \n",
    "    [V Ind] = max(aux'); % This vector is 1x10\n",
    "    dif(i) = sum(abs(V-V_0));\n",
    "    V_0 = V;\n",
    "    \n",
    "end\n",
    "\n",
    "Ind\n",
    "\n",
    "cake\n",
    "\n",
    "V_original = V;"
   ]
  },
  {
   "cell_type": "markdown",
   "id": "5e3df0b2-65e2-4313-a05e-9c02919bf6f3",
   "metadata": {},
   "source": [
    "So, this is the index of the optimal cake we will leave tomorrow if we start with a given amount today. Notice that if we start with all the cake (position ten, equal to 1), the optimal plan is to leave position six tomorrow (equal to 0.5556 cake). Then, if we start from position six, we will leave position three for tomorrow (equal to 0.2222 cake). Finally, if we start from position three, we will leave position one for tomorrow (equal to 0 cake). "
   ]
  },
  {
   "cell_type": "markdown",
   "id": "e03e4278-c289-47ac-a391-ea399b677b6c",
   "metadata": {},
   "source": [
    "Notice that the policy is in terms of the cake we leave for tomorrow (that is our state variable). However, we want to know the consumption, so we have to translate it."
   ]
  },
  {
   "cell_type": "code",
   "execution_count": 131,
   "id": "49955737-3c68-4a16-a572-6077bbf46186",
   "metadata": {
    "tags": []
   },
   "outputs": [
    {
     "data": {
      "text/html": [
       "<html><body><pre>a_prime = 1x10 double\n",
       "         0         0         0    0.1111    0.1111    0.2222    0.3333    0.3333    0.4444    0.5556\n",
       "</pre></body></html>"
      ],
      "text/plain": [
       "a_prime = 1x10 double\n",
       "         0         0         0    0.1111    0.1111    0.2222    0.3333    0.3333    0.4444    0.5556\n"
      ]
     },
     "execution_count": 131,
     "metadata": {},
     "output_type": "execute_result"
    }
   ],
   "source": [
    "a_prime=cake(Ind)"
   ]
  },
  {
   "cell_type": "code",
   "execution_count": 132,
   "id": "2a4116cd-d7a2-47e3-b341-7d8a963df8de",
   "metadata": {
    "tags": []
   },
   "outputs": [
    {
     "data": {
      "text/html": [
       "<html><body><pre>consump = 10x1 double\n",
       "         0\n",
       "    0.1111\n",
       "    0.2222\n",
       "    0.2222\n",
       "    0.3333\n",
       "    0.3333\n",
       "    0.3333\n",
       "    0.4444\n",
       "    0.4444\n",
       "    0.4444\n",
       "</pre></body></html>"
      ],
      "text/plain": [
       "consump = 10x1 double\n",
       "         0\n",
       "    0.1111\n",
       "    0.2222\n",
       "    0.2222\n",
       "    0.3333\n",
       "    0.3333\n",
       "    0.3333\n",
       "    0.4444\n",
       "    0.4444\n",
       "    0.4444\n"
      ]
     },
     "execution_count": 132,
     "metadata": {},
     "output_type": "execute_result"
    }
   ],
   "source": [
    "consump = cake' - a_prime'"
   ]
  },
  {
   "cell_type": "markdown",
   "id": "c0c81a36-eef1-4de2-87ba-20adfb32543e",
   "metadata": {},
   "source": [
    "What we have here is called the **policy function**. This function states what to do, given the state variables."
   ]
  },
  {
   "cell_type": "code",
   "execution_count": 136,
   "id": "9984e814-6177-496f-9b91-ddddcabc4f78",
   "metadata": {
    "tags": []
   },
   "outputs": [
    {
     "data": {
      "image/png": "[encoded data removed]"
     },
     "execution_count": 136,
     "metadata": {},
     "output_type": "execute_result"
    }
   ],
   "source": [
    "figure\n",
    "plot(cake,consump)\n",
    "title('Policy function: Cake eating problem')\n",
    "xlabel('Amount of Cake')\n",
    "ylabel('Consumption')\n",
    "\n",
    "consumption_original = consump;"
   ]
  },
  {
   "cell_type": "markdown",
   "id": "12d8d27a-f0ca-420a-9a7b-ae7b32cbcc9b",
   "metadata": {},
   "source": [
    "Now, before we proceed to a more complicated cake (yes, cakes can be complicated), I want to show you the strength of the value function and what it is actually telling us. Remember that at the beginning, we said that the value function is the present value of discounted future utilities under the optimal plan? Well, now we can check that."
   ]
  },
  {
   "cell_type": "markdown",
   "id": "f8e1ac83-1bb9-4492-a5cf-eca6276c751d",
   "metadata": {},
   "source": [
    "Suppose we have the total amount of cake. What is the value of that? Well, we can check it by calling the value function at the value 10."
   ]
  },
  {
   "cell_type": "code",
   "execution_count": 69,
   "id": "04e7f3de-dc28-4d96-94c6-1ffd0a189912",
   "metadata": {
    "tags": []
   },
   "outputs": [
    {
     "data": {
      "text/html": [
       "<html><body><pre>ans = 0.7892</pre></body></html>"
      ],
      "text/plain": [
       "ans = 0.7892"
      ]
     },
     "execution_count": 69,
     "metadata": {},
     "output_type": "execute_result"
    }
   ],
   "source": [
    "V(10)"
   ]
  },
  {
   "cell_type": "markdown",
   "id": "7e1d3869-2e6e-47b8-a887-2327952f8527",
   "metadata": {},
   "source": [
    "Now, if we have the total amount of cake, we know that we will eat 0.444 in the first period, then 0.3333 in the second period, and finally 0.2222 in the third period. So, let's compute the utility of that consumption path. Here we are computing this:\n",
    "\n",
    "$$ V(1) = \\log(1+0.444) + \\beta \\left( \\log(1+0.3333) + \\beta \\left[ \\log(1+0.2222) + V(0) \\right]   \\right) $$\n",
    "\n",
    "And this case, we know that $v(0)=0$. Then:"
   ]
  },
  {
   "cell_type": "code",
   "execution_count": 71,
   "id": "ed0942a3-4c60-417d-a11a-44e30f8bcd7d",
   "metadata": {
    "tags": []
   },
   "outputs": [
    {
     "data": {
      "text/html": [
       "<html><body><pre>ans = 0.7892</pre></body></html>"
      ],
      "text/plain": [
       "ans = 0.7892"
      ]
     },
     "execution_count": 71,
     "metadata": {},
     "output_type": "execute_result"
    }
   ],
   "source": [
    "log(1+consump(10)) + beta*log(1+consump(6)) + beta^2*log(1+consump(3))"
   ]
  },
  {
   "cell_type": "markdown",
   "id": "83d5bcd2-ba89-43c9-8d3c-2b90b824c001",
   "metadata": {},
   "source": [
    "**Magic!** \n",
    "\n",
    "Take a moment to process this. We just iterated a function, following a rule, and the result of that function is actually the present value of the discounted utilities under the optimal plan. This is frankly amazing."
   ]
  },
  {
   "cell_type": "markdown",
   "id": "b5a59b79-9b89-40ef-9061-d212741d06c0",
   "metadata": {},
   "source": [
    "Now, you will have to check that the value function delivers the correct value for someone starting with 0.8889, 0.4444, and 0.1111 cakes."
   ]
  },
  {
   "cell_type": "code",
   "execution_count": 74,
   "id": "6e473798-20cc-4094-98f5-c818eea2e8bd",
   "metadata": {
    "tags": []
   },
   "outputs": [
    {
     "data": {
      "text/html": [
       "<html><body><pre>ans = 0.7120</pre></body></html>"
      ],
      "text/plain": [
       "ans = 0.7120"
      ]
     },
     "execution_count": 74,
     "metadata": {},
     "output_type": "execute_result"
    },
    {
     "data": {
      "text/html": [
       "<html><body><pre>ans = 0.7120</pre></body></html>"
      ],
      "text/plain": [
       "ans = 0.7120"
      ]
     },
     "execution_count": 74,
     "metadata": {},
     "output_type": "execute_result"
    }
   ],
   "source": [
    "% Starting with 0.8889\n",
    "V(9)\n",
    "log(1+consump(9)) + beta* log(1+consump(5)) + beta^2*log(1+consump(2))"
   ]
  },
  {
   "cell_type": "code",
   "execution_count": 75,
   "id": "6741d13b-c2f7-49ca-b3d5-625f8cd6ec57",
   "metadata": {
    "tags": []
   },
   "outputs": [
    {
     "data": {
      "text/html": [
       "<html><body><pre>ans = 0.3825</pre></body></html>"
      ],
      "text/plain": [
       "ans = 0.3825"
      ]
     },
     "execution_count": 75,
     "metadata": {},
     "output_type": "execute_result"
    },
    {
     "data": {
      "text/html": [
       "<html><body><pre>ans = 0.3825</pre></body></html>"
      ],
      "text/plain": [
       "ans = 0.3825"
      ]
     },
     "execution_count": 75,
     "metadata": {},
     "output_type": "execute_result"
    }
   ],
   "source": [
    "% Starting with 0.4444\n",
    "V(5)\n",
    "log(1+consump(5)) + beta* log(1+consump(2))"
   ]
  },
  {
   "cell_type": "code",
   "execution_count": 76,
   "id": "fddf989e-9655-4b26-81e2-395840f74671",
   "metadata": {
    "tags": []
   },
   "outputs": [
    {
     "data": {
      "text/html": [
       "<html><body><pre>ans = 0.1054</pre></body></html>"
      ],
      "text/plain": [
       "ans = 0.1054"
      ]
     },
     "execution_count": 76,
     "metadata": {},
     "output_type": "execute_result"
    },
    {
     "data": {
      "text/html": [
       "<html><body><pre>ans = 0.1054</pre></body></html>"
      ],
      "text/plain": [
       "ans = 0.1054"
      ]
     },
     "execution_count": 76,
     "metadata": {},
     "output_type": "execute_result"
    }
   ],
   "source": [
    "% Starting with 0.1111\n",
    "V(2)\n",
    "log(1+consump(2))"
   ]
  },
  {
   "cell_type": "markdown",
   "id": "b4eae7cc-5275-40f5-a193-fe8ca5040fce",
   "metadata": {},
   "source": [
    "Great! So, we learned how to eat cake like proper economists, not too bad at all."
   ]
  },
  {
   "cell_type": "markdown",
   "id": "cdedcd05-4dd7-4699-aadf-812fbc417b75",
   "metadata": {},
   "source": [
    "## 3. The cake strikes back"
   ]
  },
  {
   "cell_type": "markdown",
   "id": "513b0454-57da-4a61-a79d-e1054ac487e1",
   "metadata": {},
   "source": [
    "Brilliant. Now that we have solved our problem of eating cake, we can think of other ways this problem could be complex. Why do we need something more complex? Well, as economists, we like to solve problems in which agents make multiple decisions at the same time (e.g., consumption and capital investments), which is still far from our simple cake problem.  "
   ]
  },
  {
   "cell_type": "markdown",
   "id": "32f94416-65ae-41b8-bb5d-35b26ef8a261",
   "metadata": {},
   "source": [
    "Let's imagine that the cake \"depreciates\" every period. That means that from the amount of cake we will leave for tomorrow, a given share $0<\\delta<1$ of it will go to waste. Then, we can write this problem as:"
   ]
  },
  {
   "cell_type": "markdown",
   "id": "d46c9b2f-5623-493f-8578-d0bd9fffafa1",
   "metadata": {},
   "source": [
    "$$ V(a) = \\max_c \\left[ \\log(1+c) + \\beta V(a') \\right]$$\n",
    "\n",
    "$$ s.t: a' = (1-\\delta)(a-c) $$"
   ]
  },
  {
   "cell_type": "markdown",
   "id": "af512d55-af98-4cca-9ef7-b13b8b2f979f",
   "metadata": {},
   "source": [
    "The whole trick here is how to write consumption. In the previous case, consumption was found following:"
   ]
  },
  {
   "cell_type": "markdown",
   "id": "28b6ae48-5a94-43ff-a47b-385bbab206c3",
   "metadata": {},
   "source": [
    "$$ c = a - a' $$"
   ]
  },
  {
   "cell_type": "markdown",
   "id": "a968c6c7-9b9e-4aa1-8b93-ee5839685f92",
   "metadata": {},
   "source": [
    "In this new case, it will be given by:"
   ]
  },
  {
   "cell_type": "markdown",
   "id": "0991cbab-31c1-46bb-b26a-8332d23472cd",
   "metadata": {
    "tags": []
   },
   "source": [
    "$$ a' = (1-\\delta)(a-c) $$\n",
    "\n",
    "$$ a' = (1-\\delta)a - (1-\\delta)c $$\n",
    "\n",
    "$$  (1-\\delta) c = (1-\\delta) a - a' $$\n",
    "\n",
    "$$ c = a - \\frac{a'}{1-\\delta} $$"
   ]
  },
  {
   "cell_type": "markdown",
   "id": "b1ec16b1-10aa-45b2-92ab-8985497c30d9",
   "metadata": {},
   "source": [
    "And that is all. We have to update this in our code, and we incorporated depreciation into the model."
   ]
  },
  {
   "cell_type": "code",
   "execution_count": 191,
   "id": "3f7e2685-45d1-4161-af8b-8e02455f3a45",
   "metadata": {
    "tags": []
   },
   "outputs": [
    {
     "data": {
      "text/html": [
       "<html><body><pre>dif = 100x1 double\n",
       "    3.8186\n",
       "    0.1637\n",
       "         0\n",
       "       NaN\n",
       "       NaN\n",
       "       NaN\n",
       "       NaN\n",
       "       NaN\n",
       "       NaN\n",
       "       NaN\n",
       "...</pre></body></html>"
      ],
      "text/plain": [
       "dif = 100x1 double\n",
       "    3.8186\n",
       "    0.1637\n",
       "         0\n",
       "       NaN\n",
       "       NaN\n",
       "       NaN\n",
       "       NaN\n",
       "       NaN\n",
       "       NaN\n",
       "       NaN\n",
       "..."
      ]
     },
     "execution_count": 191,
     "metadata": {},
     "output_type": "execute_result"
    },
    {
     "data": {
      "text/html": [
       "<html><body><pre>Ind = 1x10 double\n",
       "     1     1     1     1     2     2     3     3     4     4\n",
       "</pre></body></html>"
      ],
      "text/plain": [
       "Ind = 1x10 double\n",
       "     1     1     1     1     2     2     3     3     4     4\n"
      ]
     },
     "execution_count": 191,
     "metadata": {},
     "output_type": "execute_result"
    },
    {
     "data": {
      "text/html": [
       "<html><body><pre>cake = 1x10 double\n",
       "         0    0.1111    0.2222    0.3333    0.4444    0.5556    0.6667    0.7778    0.8889    1.0000\n",
       "</pre></body></html>"
      ],
      "text/plain": [
       "cake = 1x10 double\n",
       "         0    0.1111    0.2222    0.3333    0.4444    0.5556    0.6667    0.7778    0.8889    1.0000\n"
      ]
     },
     "execution_count": 191,
     "metadata": {},
     "output_type": "execute_result"
    }
   ],
   "source": [
    "V_0 = zeros(1,length(cake));\n",
    "\n",
    "aux=zeros(length(cake),length(cake));\n",
    "\n",
    "dif = zeros(max_iter,1)+NaN;\n",
    "\n",
    "delta = 0.10;\n",
    "\n",
    "max_iter = 3;\n",
    "\n",
    "for i=1:max_iter\n",
    "    for a=1:length(cake) %Cake at the beginning of the period\n",
    "        for a_prime=1:length(cake) %Cake at the end of the period (restricted to be at most the entire cake)\n",
    "            if a_prime>a %We cannot eat more than the total cake\n",
    "                aux(a,a_prime)=-inf;\n",
    "            else\n",
    "                aux(a,a_prime) = log(1+cake(a) - cake(a_prime)/(1-delta)) + beta*V_0(a_prime); % Notice the inclusion of delta!\n",
    "            end\n",
    "        end\n",
    "    end\n",
    "    \n",
    "    [V Ind] = max(aux'); % This vector is 1x10\n",
    "    dif(i) = sum(abs(V-V_0));\n",
    "    V_0 = V;\n",
    "    \n",
    "end\n",
    "\n",
    "dif\n",
    "\n",
    "Ind\n",
    "\n",
    "cake\n",
    "\n",
    "V_depreciation = V;"
   ]
  },
  {
   "cell_type": "markdown",
   "id": "c85bbc9b-589a-4a32-8a3a-b161d31eeee5",
   "metadata": {},
   "source": [
    "Now, we can check how the value functions differ. Intuition tells us that the value function for the case without depreciation should be bigger because it has more cake overall. Also, we can tell that the greater the amount of cake, the bigger the difference in the value functions will be because the depreciation rate will imply that more cake is lost."
   ]
  },
  {
   "cell_type": "code",
   "execution_count": 141,
   "id": "ef2e4db2-920e-4559-84bd-9628876dff57",
   "metadata": {
    "tags": []
   },
   "outputs": [
    {
     "data": {
      "image/png": "[encoded data removed]"
     },
     "execution_count": 141,
     "metadata": {},
     "output_type": "execute_result"
    }
   ],
   "source": [
    "figure\n",
    "plot(cake,V,'--','color','red')\n",
    "hold on\n",
    "plot(cake,V_original, 'color', 'blue')\n",
    "title('Value function: Cake eating problem with and without depreciation')\n",
    "xlabel('Amount of Cake')\n",
    "ylabel('Value')"
   ]
  },
  {
   "cell_type": "markdown",
   "id": "99ad14d3-d2d2-448e-95c7-7e7dc2a129de",
   "metadata": {},
   "source": [
    "Excellent! Our intuition was correct. What about consumption? Well, in the case of depreciation, we should eat more cake. Otherwise, it will go to waste. Let's check it."
   ]
  },
  {
   "cell_type": "code",
   "execution_count": 211,
   "id": "00aa105b-459b-4877-b1d6-c1ed82543ce4",
   "metadata": {
    "tags": []
   },
   "outputs": [
    {
     "data": {
      "text/html": [
       "<html><body><pre>a_prime = 1x10 double\n",
       "         0         0         0         0    0.1111    0.1111    0.2222    0.2222    0.2222    0.3333\n",
       "</pre></body></html>"
      ],
      "text/plain": [
       "a_prime = 1x10 double\n",
       "         0         0         0         0    0.1111    0.1111    0.2222    0.2222    0.2222    0.3333\n"
      ]
     },
     "execution_count": 211,
     "metadata": {},
     "output_type": "execute_result"
    },
    {
     "data": {
      "image/png": "[encoded data removed]"
     },
     "execution_count": 211,
     "metadata": {},
     "output_type": "execute_result"
    }
   ],
   "source": [
    "a_prime=cake(Ind)\n",
    "consump_depreciation = cake' - a_prime'/(1+delta);\n",
    "\n",
    "figure\n",
    "plot(cake,consump_depreciation,'red')\n",
    "hold on\n",
    "plot(cake,consumption_original,'blue')\n",
    "title('Policy function: Cake eating problem')\n",
    "xlabel('Amount of Cake')\n",
    "ylabel('Consumption')"
   ]
  },
  {
   "cell_type": "markdown",
   "id": "5e9b0c42-f5cb-42a0-aac1-e8dd130aa6bf",
   "metadata": {},
   "source": [
    "Exactly as we predicted, very well. Always remember that we are economists first and then programmers. Keeping this in mind is essential because our economic intuition and knowledge will tell us if the results we find make sense. Before starting to make a code about a model, a good idea is to consider the type of result we should obtain. This is critical because, in more complicated models, it will be easy to make mistakes that will make the code run without a problem (e.g., a sign switch), so knowing what should be obtained is helpful to rule out those errors. "
   ]
  },
  {
   "cell_type": "markdown",
   "id": "e5cbe7c9-199c-497c-96d6-6f9f5d2438da",
   "metadata": {},
   "source": [
    "## 4. The return of the cake"
   ]
  },
  {
   "cell_type": "markdown",
   "id": "214bf733-bd4b-4cf1-90d8-474f12b5b954",
   "metadata": {},
   "source": [
    "Now, we will complicate the model more. Imagine that the cake has the same properties that we have seen before. This means it is a one-unit cake with a depreciation rate $\\delta$. But now, independent of the amount of cake we left, the cake we will have tomorrow will be given by the cake after depreciation plus a fixed new amount of cake, which we can call $\\gamma$ (i.e., someone is buying cake and putting it in the fridge every morning). You can consider $\\gamma=0.05$. "
   ]
  },
  {
   "cell_type": "markdown",
   "id": "3535dc7a-8f85-4db2-b2f7-b6a0e390b0d3",
   "metadata": {},
   "source": [
    "So, we will take some time to solve this model. Ask questions! An excellent first idea would be to write the problem as we did before. It is very useful to understand what is changing and how to incorporate it into the new model."
   ]
  },
  {
   "cell_type": "markdown",
   "id": "3461e869-4190-4a3a-b084-46ae858abb66",
   "metadata": {},
   "source": [
    "So, first, we will comment on what we should expect. The model generates a fixed amount of cake in each period. This changes the problem because we will never run out of cake anymore; if we eat the entire cake today, we will have $\\gamma$ cake tomorrow. Given this, the optimal consumption path will imply eating more cake. Also, given the above, this should mean that the value function is bigger than the original one because we will never run out of cake!"
   ]
  },
  {
   "cell_type": "markdown",
   "id": "50320596-e06c-4a30-8f17-bd5a109a83a1",
   "metadata": {
    "tags": []
   },
   "source": [
    "Our new model is given by:\n",
    "\n",
    "$$ V(a) = \\max_c \\left[ \\log(1+c) + \\beta V(a') \\right]$$\n",
    "\n",
    "$$ s.t: a' = (1-\\delta)(a-c)+\\gamma $$"
   ]
  },
  {
   "cell_type": "markdown",
   "id": "eedd1f7b-5477-4fa4-9c0e-1e83af4c1fec",
   "metadata": {
    "tags": []
   },
   "source": [
    "Then, the consumption is given by:\n",
    "\n",
    "$$ a' = (1-\\delta)(a-c) + \\gamma $$\n",
    "\n",
    "$$ a' = (1-\\delta)a - (1-\\delta)c + \\gamma $$\n",
    "\n",
    "$$  (1-\\delta) c = (1-\\delta) a - a' + \\gamma $$\n",
    "\n",
    "$$ c = a - \\frac{a'-\\gamma}{1-\\delta} $$\n",
    "\n"
   ]
  },
  {
   "cell_type": "markdown",
   "id": "d03fe344-008d-4b48-a875-ab60fefc639a",
   "metadata": {},
   "source": [
    "Notice that this problem will take a lot more iterations to converge. We will try one hundred of them."
   ]
  },
  {
   "cell_type": "code",
   "execution_count": 201,
   "id": "4e0e6c25-dd8e-4cc0-a758-cb1e0a24c769",
   "metadata": {
    "tags": []
   },
   "outputs": [
    {
     "data": {
      "text/html": [
       "<html><body><pre>ans = 1.5957e-05</pre></body></html>"
      ],
      "text/plain": [
       "ans = 1.5957e-05"
      ]
     },
     "execution_count": 201,
     "metadata": {},
     "output_type": "execute_result"
    },
    {
     "data": {
      "text/html": [
       "<html><body><pre>Ind = 1x10 double\n",
       "     1     1     1     1     2     2     3     3     3     4\n",
       "</pre></body></html>"
      ],
      "text/plain": [
       "Ind = 1x10 double\n",
       "     1     1     1     1     2     2     3     3     3     4\n"
      ]
     },
     "execution_count": 201,
     "metadata": {},
     "output_type": "execute_result"
    },
    {
     "data": {
      "text/html": [
       "<html><body><pre>cake = 1x10 double\n",
       "         0    0.1111    0.2222    0.3333    0.4444    0.5556    0.6667    0.7778    0.8889    1.0000\n",
       "</pre></body></html>"
      ],
      "text/plain": [
       "cake = 1x10 double\n",
       "         0    0.1111    0.2222    0.3333    0.4444    0.5556    0.6667    0.7778    0.8889    1.0000\n"
      ]
     },
     "execution_count": 201,
     "metadata": {},
     "output_type": "execute_result"
    }
   ],
   "source": [
    "V_0 = zeros(1,length(cake));\n",
    "\n",
    "aux=zeros(length(cake),length(cake));\n",
    "\n",
    "dif = zeros(max_iter,1)+NaN;\n",
    "\n",
    "delta = 0.10;\n",
    "\n",
    "gamma = 0.05;\n",
    "\n",
    "max_iter = 100;\n",
    "\n",
    "for i=1:max_iter\n",
    "    for a=1:length(cake) %Cake at the beginning of the period\n",
    "        for a_prime=1:length(cake) %Cake at the end of the period (restricted to be at most the entire cake)\n",
    "            if a_prime>a %We cannot eat more than the total cake\n",
    "                aux(a,a_prime)=-inf;\n",
    "            else\n",
    "                aux(a,a_prime) = log(1+cake(a) - (cake(a_prime)-gamma)/(1-delta)) + beta*V_0(a_prime); % Notice the inclusion of delta!\n",
    "            end\n",
    "        end\n",
    "    end\n",
    "    \n",
    "    [V Ind] = max(aux'); % This vector is 1x10\n",
    "    dif(i) = sum(abs(V-V_0));\n",
    "    V_0 = V;\n",
    "    \n",
    "end\n",
    "\n",
    "dif(max_iter)\n",
    "\n",
    "Ind\n",
    "\n",
    "cake\n",
    "\n",
    "V_final = V;"
   ]
  },
  {
   "cell_type": "code",
   "execution_count": 203,
   "id": "bf96ea17-06eb-4cb9-96d1-b1a304f99f65",
   "metadata": {
    "tags": []
   },
   "outputs": [
    {
     "data": {
      "image/png": "[encoded data removed]"
     },
     "execution_count": 203,
     "metadata": {},
     "output_type": "execute_result"
    }
   ],
   "source": [
    "figure\n",
    "plot(cake,V_depreciation,'--','color','red')\n",
    "hold on\n",
    "plot(cake,V_original, 'color', 'blue')\n",
    "plot(cake,V_final, 'color', 'green')\n",
    "title('Value function: Cake eating problems')\n",
    "xlabel('Amount of Cake')\n",
    "ylabel('Value')"
   ]
  },
  {
   "cell_type": "markdown",
   "id": "f29f2daf-11c5-40fb-93bf-3a44fcb75c5e",
   "metadata": {},
   "source": [
    "And now we will check the consumption path:"
   ]
  },
  {
   "cell_type": "code",
   "execution_count": 213,
   "id": "7a57a4b8-0c53-4cb1-9bb1-aa28654ed805",
   "metadata": {
    "tags": []
   },
   "outputs": [
    {
     "data": {
      "text/html": [
       "<html><body><pre>a_prime = 1x10 double\n",
       "         0         0         0         0    0.1111    0.1111    0.2222    0.2222    0.2222    0.3333\n",
       "</pre></body></html>"
      ],
      "text/plain": [
       "a_prime = 1x10 double\n",
       "         0         0         0         0    0.1111    0.1111    0.2222    0.2222    0.2222    0.3333\n"
      ]
     },
     "execution_count": 213,
     "metadata": {},
     "output_type": "execute_result"
    },
    {
     "data": {
      "image/png": "[encoded data removed]"
     },
     "execution_count": 213,
     "metadata": {},
     "output_type": "execute_result"
    }
   ],
   "source": [
    "a_prime=cake(Ind)\n",
    "consumption_final = cake' - (a_prime'-gamma)/(1+delta);\n",
    "\n",
    "figure\n",
    "plot(cake,consump_depreciation,'red')\n",
    "hold on\n",
    "plot(cake,consumption_original,'blue')\n",
    "plot(cake,consumption_final,'green')\n",
    "title('Policy function: Cake eating problem')\n",
    "xlabel('Amount of Cake')\n",
    "ylabel('Consumption')"
   ]
  },
  {
   "cell_type": "markdown",
   "id": "0095fe8d-f723-4a67-b8ab-6755aaf53de2",
   "metadata": {},
   "source": [
    "And it makes complete sense, exactly as we predicted. Notice that when we leave no cake for tomorrow, we will consume $\\gamma$."
   ]
  },
  {
   "cell_type": "markdown",
   "id": "c5691fd2-6221-4e11-a0cd-56fe8ab3041a",
   "metadata": {},
   "source": [
    "Fantastic, we learned how to eat cake properly. One last thing I would like to discuss is how the selection of the grid will affect your results. In concrete terms, the value functions are usually well-behaved, so the grid will not affect them too much. However, the policy function is very sensitive to the grid, and because of that, changes in the grid will change the policy in a significant way. Let's check this."
   ]
  },
  {
   "cell_type": "markdown",
   "id": "9d85dad6-8229-406c-a646-b91e00b6f3f9",
   "metadata": {},
   "source": [
    "So, we will compute our original cake problem with a grid of ten, fifty and five hundred points. Then, we will plot the value and policy functions and compare them."
   ]
  },
  {
   "cell_type": "code",
   "execution_count": 300,
   "id": "ba7582ae-6883-42eb-825e-1d98e2a1e555",
   "metadata": {
    "tags": []
   },
   "outputs": [
    {
     "data": {
      "text/html": [
       "<html><body><pre>Ind = 1x10 double\n",
       "     1     1     1     2     2     3     4     4     5     6\n",
       "</pre></body></html>"
      ],
      "text/plain": [
       "Ind = 1x10 double\n",
       "     1     1     1     2     2     3     4     4     5     6\n"
      ]
     },
     "execution_count": 300,
     "metadata": {},
     "output_type": "execute_result"
    }
   ],
   "source": [
    "cake = linspace(0,1,10);\n",
    "\n",
    "V_0 = zeros(1,length(cake));\n",
    "\n",
    "aux=zeros(length(cake),length(cake));\n",
    "\n",
    "dif = zeros(max_iter,1)+NaN;\n",
    "\n",
    "max_iter = 4;\n",
    "\n",
    "for i=1:max_iter\n",
    "    for a=1:length(cake) %Cake at the beginning of the period\n",
    "        for a_prime=1:length(cake) %Cake at the end of the period (restricted to be at most the entire cake)\n",
    "            if a_prime>a %We cannot eat more than the total cake\n",
    "                aux(a,a_prime)=-inf;\n",
    "            else\n",
    "                aux(a,a_prime) = log(1+cake(a) - cake(a_prime)) + beta*V_0(a_prime);\n",
    "            end\n",
    "        end\n",
    "    end\n",
    "    \n",
    "    [V Ind] = max(aux'); % This vector is 1x10\n",
    "    dif(i) = sum(abs(V-V_0));\n",
    "    V_0 = V;\n",
    "    \n",
    "end\n",
    "\n",
    "Ind\n",
    "\n",
    "cake_10 = cake;\n",
    "\n",
    "V_10 = V;\n",
    "\n",
    "a_prime=cake_10(Ind);\n",
    "consump = cake_10' - a_prime';\n",
    "\n",
    "consumption_10 = consump;"
   ]
  },
  {
   "cell_type": "code",
   "execution_count": 302,
   "id": "20d1ed86-6be4-4919-93db-e086eee834a4",
   "metadata": {
    "tags": []
   },
   "outputs": [
    {
     "data": {
      "text/html": [
       "<html><body><pre>Ind = 1x50 double\n",
       "     1     1     1     1     1     1     1     2     2     3     3     4     4     5     5     6     6     6     7     8     8     9    10    10    11    11    12    13    13    14\n",
       "...</pre></body></html>"
      ],
      "text/plain": [
       "Ind = 1x50 double\n",
       "     1     1     1     1     1     1     1     2     2     3     3     4     4     5     5     6     6     6     7     8     8     9    10    10    11    11    12    13    13    14\n",
       "..."
      ]
     },
     "execution_count": 302,
     "metadata": {},
     "output_type": "execute_result"
    },
    {
     "data": {
      "text/html": [
       "<html><body><pre>a_prime = 1x50 double\n",
       "         0         0         0         0         0         0         0    0.0204    0.0204    0.0408    0.0408    0.0612    0.0612    0.0816    0.0816    0.1020    0.1020    0.1020    0.1224    0.1429    0.1429    0.1633    0.1837    0.1837    0.2041    0.2041    0.2245    0.2449    0.2449    0.2653\n",
       "...</pre></body></html>"
      ],
      "text/plain": [
       "a_prime = 1x50 double\n",
       "         0         0         0         0         0         0         0    0.0204    0.0204    0.0408    0.0408    0.0612    0.0612    0.0816    0.0816    0.1020    0.1020    0.1020    0.1224    0.1429    0.1429    0.1633    0.1837    0.1837    0.2041    0.2041    0.2245    0.2449    0.2449    0.2653\n",
       "..."
      ]
     },
     "execution_count": 302,
     "metadata": {},
     "output_type": "execute_result"
    },
    {
     "data": {
      "text/html": [
       "<html><body><pre>consumption_50 = 50x1 double\n",
       "         0\n",
       "    0.0204\n",
       "    0.0408\n",
       "    0.0612\n",
       "    0.0816\n",
       "    0.1020\n",
       "    0.1224\n",
       "    0.1224\n",
       "    0.1429\n",
       "    0.1429\n",
       "...</pre></body></html>"
      ],
      "text/plain": [
       "consumption_50 = 50x1 double\n",
       "         0\n",
       "    0.0204\n",
       "    0.0408\n",
       "    0.0612\n",
       "    0.0816\n",
       "    0.1020\n",
       "    0.1224\n",
       "    0.1224\n",
       "    0.1429\n",
       "    0.1429\n",
       "..."
      ]
     },
     "execution_count": 302,
     "metadata": {},
     "output_type": "execute_result"
    }
   ],
   "source": [
    "cake = linspace(0,1,50);\n",
    "\n",
    "V_0 = zeros(1,length(cake));\n",
    "\n",
    "aux=zeros(length(cake),length(cake));\n",
    "\n",
    "dif = zeros(max_iter,1)+NaN;\n",
    "\n",
    "max_iter = 4;\n",
    "\n",
    "for i=1:max_iter\n",
    "    for a=1:length(cake) %Cake at the beginning of the period\n",
    "        for a_prime=1:length(cake) %Cake at the end of the period (restricted to be at most the entire cake)\n",
    "            if a_prime>a %We cannot eat more than the total cake\n",
    "                aux(a,a_prime)=-inf;\n",
    "            else\n",
    "                aux(a,a_prime) = log(1+cake(a) - cake(a_prime)) + beta*V_0(a_prime);\n",
    "            end\n",
    "        end\n",
    "    end\n",
    "    \n",
    "    [V Ind] = max(aux'); % This vector is 1x10\n",
    "    dif(i) = sum(abs(V-V_0));\n",
    "    V_0 = V;\n",
    "    \n",
    "end\n",
    "\n",
    "Ind\n",
    "\n",
    "cake_50=cake;\n",
    "\n",
    "V_50 = V;\n",
    "\n",
    "a_prime=cake_50(Ind)\n",
    "consumption_50 = cake_50' - a_prime'"
   ]
  },
  {
   "cell_type": "code",
   "execution_count": 304,
   "id": "e769feb1-810d-45bc-9263-b1aa6e11e2ad",
   "metadata": {
    "tags": []
   },
   "outputs": [
    {
     "data": {
      "text/html": [
       "<html><body><pre>Ind = 1x500 double\n",
       "     1     1     1     1     1     1     1     1     1     1     1     1     1     1     1     1     1     1     1     1     1     1     1     1     1     1     1     1     1     1\n",
       "...</pre></body></html>"
      ],
      "text/plain": [
       "Ind = 1x500 double\n",
       "     1     1     1     1     1     1     1     1     1     1     1     1     1     1     1     1     1     1     1     1     1     1     1     1     1     1     1     1     1     1\n",
       "..."
      ]
     },
     "execution_count": 304,
     "metadata": {},
     "output_type": "execute_result"
    },
    {
     "data": {
      "text/html": [
       "<html><body><pre>a_prime = 1x500 double\n",
       "     0     0     0     0     0     0     0     0     0     0     0     0     0     0     0     0     0     0     0     0     0     0     0     0     0     0     0     0     0     0\n",
       "...</pre></body></html>"
      ],
      "text/plain": [
       "a_prime = 1x500 double\n",
       "     0     0     0     0     0     0     0     0     0     0     0     0     0     0     0     0     0     0     0     0     0     0     0     0     0     0     0     0     0     0\n",
       "..."
      ]
     },
     "execution_count": 304,
     "metadata": {},
     "output_type": "execute_result"
    },
    {
     "data": {
      "text/html": [
       "<html><body><pre>consumption_500 = 500x1 double\n",
       "         0\n",
       "    0.0020\n",
       "    0.0040\n",
       "    0.0060\n",
       "    0.0080\n",
       "    0.0100\n",
       "    0.0120\n",
       "    0.0140\n",
       "    0.0160\n",
       "    0.0180\n",
       "...</pre></body></html>"
      ],
      "text/plain": [
       "consumption_500 = 500x1 double\n",
       "         0\n",
       "    0.0020\n",
       "    0.0040\n",
       "    0.0060\n",
       "    0.0080\n",
       "    0.0100\n",
       "    0.0120\n",
       "    0.0140\n",
       "    0.0160\n",
       "    0.0180\n",
       "..."
      ]
     },
     "execution_count": 304,
     "metadata": {},
     "output_type": "execute_result"
    }
   ],
   "source": [
    "cake = linspace(0,1,500);\n",
    "\n",
    "V_0 = zeros(1,length(cake));\n",
    "\n",
    "aux=zeros(length(cake),length(cake));\n",
    "\n",
    "dif = zeros(max_iter,1)+NaN;\n",
    "\n",
    "max_iter = 4;\n",
    "\n",
    "for i=1:max_iter\n",
    "    for a=1:length(cake) %Cake at the beginning of the period\n",
    "        for a_prime=1:length(cake) %Cake at the end of the period (restricted to be at most the entire cake)\n",
    "            if a_prime>a %We cannot eat more than the total cake\n",
    "                aux(a,a_prime)=-inf;\n",
    "            else\n",
    "                aux(a,a_prime) = log(1+cake(a) - cake(a_prime)) + beta*V_0(a_prime);\n",
    "            end\n",
    "        end\n",
    "    end\n",
    "    \n",
    "    [V Ind] = max(aux'); % This vector is 1x10\n",
    "    dif(i) = sum(abs(V-V_0));\n",
    "    V_0 = V;\n",
    "    \n",
    "end\n",
    "\n",
    "Ind\n",
    "\n",
    "cake_500=cake;\n",
    "\n",
    "V_500 = V;\n",
    "\n",
    "a_prime=cake_500(Ind)\n",
    "consumption_500 = cake_500' - a_prime'"
   ]
  },
  {
   "cell_type": "code",
   "execution_count": 298,
   "id": "1b75b08f-dcef-4eff-92bc-7cd4473b755d",
   "metadata": {
    "tags": []
   },
   "outputs": [
    {
     "data": {
      "image/png": "[encoded data removed]"
     },
     "execution_count": 298,
     "metadata": {},
     "output_type": "execute_result"
    }
   ],
   "source": [
    "figure\n",
    "plot(cake_10,V_10,'color','red')\n",
    "hold on\n",
    "plot(cake_50,V_50, 'color', 'blue','Linestyle','--')\n",
    "title('Value function: Cake eating problem with 10 and 100 grid points')\n",
    "xlabel('Amount of Cake')\n",
    "ylabel('Value')"
   ]
  },
  {
   "cell_type": "markdown",
   "id": "fa6146b8-9eea-47eb-be36-90acde0f927d",
   "metadata": {},
   "source": [
    "They are practically identical, so remember that. The grid will not significantly affect the value function, which is great if you are solving a problem using value function iteration."
   ]
  },
  {
   "cell_type": "code",
   "execution_count": 306,
   "id": "af13321e-c8fd-41f5-9b3f-380ae63a10ff",
   "metadata": {
    "tags": []
   },
   "outputs": [
    {
     "data": {
      "image/png": "[encoded data removed]"
     },
     "execution_count": 306,
     "metadata": {},
     "output_type": "execute_result"
    }
   ],
   "source": [
    "figure\n",
    "plot(cake_10,consumption_10,'red')\n",
    "hold on\n",
    "plot(cake_100,consumption_100,'blue')\n",
    "title('Policy function: Cake eating problem')\n",
    "xlabel('Amount of Cake')\n",
    "ylabel('Consumption')"
   ]
  },
  {
   "cell_type": "code",
   "execution_count": 308,
   "id": "90680da6-96b4-4b8a-b9ba-5a6f376eb239",
   "metadata": {
    "tags": []
   },
   "outputs": [
    {
     "data": {
      "image/png": "[encoded data removed]"
     },
     "execution_count": 308,
     "metadata": {},
     "output_type": "execute_result"
    }
   ],
   "source": [
    "figure\n",
    "plot(cake_10,consumption_10,'red')\n",
    "hold on\n",
    "plot(cake_100,consumption_100,'blue')\n",
    "plot(cake_1000,consumption_1000,'magenta')\n",
    "title('Policy function: Cake eating problem')\n",
    "xlabel('Amount of Cake')\n",
    "ylabel('Consumption')"
   ]
  },
  {
   "cell_type": "markdown",
   "id": "09e472c5-dc28-4996-b803-2a91f4159abf",
   "metadata": {},
   "source": [
    "Be careful with this because, in economics, we care a lot about the solutions made by the agents. You should generally use a grid that is as big as possible. This section was a piece of cake! Now, we will move to the Solow model. "
   ]
  },
  {
   "cell_type": "markdown",
   "id": "0f6e6e85-6126-451e-bcba-b2c4ffa097fa",
   "metadata": {},
   "source": [
    "## 5. The deterministic Solow model"
   ]
  },
  {
   "cell_type": "markdown",
   "id": "43d88457-e891-445a-a507-3957cf4bb2c8",
   "metadata": {},
   "source": [
    "It took us a while, but we are about to \"solve\" our first economic model. The Solow model is a standard model in the neoclassical theory of economic growth. It considers the following components. We have a household that has to decide on consumption and capital investments. The household wants to maximize the following utility function:\n",
    "\n",
    "$$ U = \\sum_{i=0}^\\infty \\beta^i u(c_i) $$\n",
    "\n",
    "Where $u(c_i)=log(c_i)$. "
   ]
  },
  {
   "cell_type": "markdown",
   "id": "fa202726-4b5b-4325-a2c6-2690bf2ef10d",
   "metadata": {},
   "source": [
    "And this problem is subject to the budget constraint given by:\n",
    "\n",
    "$$ Y_t = c_t + I_t $$\n",
    "\n",
    "Where $Y_t$ is the period's output, $c_t$ is the period's consumption, and $I_{t}$ is the capital investments for the next period."
   ]
  },
  {
   "cell_type": "markdown",
   "id": "f120006b-28d3-4ba5-aea0-718394207814",
   "metadata": {},
   "source": [
    "We also know that the production is given by:\n",
    "\n",
    "$$ Y_t = A k^\\alpha $$\n",
    "\n",
    "And the law of motion of capital is given by:\n",
    "\n",
    "$$ k_{t+1} = (1-\\delta) k_{t} + I_{t} $$\n",
    "\n",
    "Solow thought that economies, irrespective of their side, would have the same savings rate. So, in this model, the investments are given by:\n",
    "\n",
    "$$ I_{t} = sY_{t} $$"
   ]
  },
  {
   "cell_type": "markdown",
   "id": "b781e053-61a8-4ed0-8b37-00f0cbe78804",
   "metadata": {},
   "source": [
    "This is a problem with several equations, but if you notice, we can combine them all together. First, we can replace the investment with the share of the output:\n",
    "\n",
    "$$ Y = c_t + sY_{t} $$\n",
    "\n",
    "Then, we can replace the definition of output:\n",
    "\n",
    "$$ A k_{t}^\\alpha = c_t +  sA k_{t}^\\alpha $$\n",
    "\n",
    "Then, consumption is given by:\n",
    "\n",
    "$$ (1-s)A k_{t}^\\alpha = c_t $$\n",
    "\n",
    "And capital follows:\n",
    "\n",
    "$$ k_{t+1} = (1-\\delta) k_{t} + sA k_{t}^\\alpha $$\n",
    "\n",
    "\n",
    "And we are done. So the problem in recursive form is the following:\n",
    "\n",
    "$$V(k) = \\left[ log(c) + \\beta V(k') \\right]$$\n",
    "\n",
    "$$ s.t: k' = (1-\\delta) k + sA k^\\alpha $$\n",
    "Notice something a bit boring about the model: there is nothing to solve. Since the savings rate is given in the Solow model, there is nothing to choose. We produce the output, take a share $s$ of it, and send it to investments for the next period, and the other share $(1-s)$ goes to consumption.."
   ]
  },
  {
   "cell_type": "markdown",
   "id": "27cebf17-5925-41c3-acb0-5230dead07e9",
   "metadata": {},
   "source": [
    "However, we will plot the policy function for this model, which is given by the savings rate. Nevertheless, we have to discuss something first. What is the domain for capital? In the cake problem, we knew the cake space was restricted between 0 and 1. We only had one cake and could not have less than 0. \n",
    "\n",
    "In this case, the space for capital is not obvious! Luckily, we can use our previous knowledge to have a good idea of the space for capital that we should consider. We will use the capital in steady state as a reference."
   ]
  },
  {
   "cell_type": "markdown",
   "id": "0524e50a-0a42-4501-858c-02309ad78e94",
   "metadata": {},
   "source": [
    "We know that in a steady state, it must be that:\n",
    "\n",
    "$$ k =  (1-\\delta) k + sA k^\\alpha $$\n",
    "\n",
    "So:\n",
    "\n",
    "$$ \\delta k =  sA k^\\alpha $$\n",
    "\n",
    "$$ \\delta =  sA k^{\\alpha-1} $$\n",
    "\n",
    "$$ \\frac{\\delta}{sA} =   k^{\\alpha-1} $$\n",
    "\n",
    "$$ \\frac{sA}{\\delta} =   k^{1-\\alpha} $$\n",
    "\n",
    "$$ \\left[ \\frac{sA}{\\delta} \\right]^{\\frac{1}{1-\\alpha}} =   k^{ss} $$\n",
    "\n",
    "\n",
    "\n",
    "\n"
   ]
  },
  {
   "cell_type": "markdown",
   "id": "1a4b3428-3b47-46e9-a6e1-38ebb508be36",
   "metadata": {},
   "source": [
    "And now, we can take some values for this:\n",
    "\n",
    "$$ \\alpha = 0.2$$\n",
    "\n",
    "$$ s = 0.25 $$\n",
    "\n",
    "$$ A = 5 $$\n",
    "\n",
    "$$ \\delta = 0.2 $$"
   ]
  },
  {
   "cell_type": "markdown",
   "id": "b813bb89-eb2f-43a9-adb9-6b66955ce026",
   "metadata": {},
   "source": [
    "And the capital in steady state is given by:"
   ]
  },
  {
   "cell_type": "code",
   "execution_count": 2,
   "id": "3f34d356-2456-4974-9a89-5a5c24f6d5e2",
   "metadata": {},
   "outputs": [
    {
     "data": {
      "text/html": [
       "<html><body><pre>k_ss = 9.8821</pre></body></html>"
      ],
      "text/plain": [
       "k_ss = 9.8821"
      ]
     },
     "execution_count": 2,
     "metadata": {},
     "output_type": "execute_result"
    }
   ],
   "source": [
    "alpha = 0.2;\n",
    "s = 0.25;\n",
    "A = 5;\n",
    "delta = 0.2;\n",
    "\n",
    "k_ss = (s*A/delta)^(1/(1-alpha))"
   ]
  },
  {
   "cell_type": "markdown",
   "id": "39a9376c-a5ad-4c27-8a76-33ecd39030b4",
   "metadata": {},
   "source": [
    "So, now we can plot the policy function for a range of capital between 0 and 1.5 times the capital in a steady state."
   ]
  },
  {
   "cell_type": "code",
   "execution_count": 35,
   "id": "9cf2290a-3f5f-4f15-9c1d-cad3128763d2",
   "metadata": {},
   "outputs": [
    {
     "data": {
      "image/png": "[encoded data removed]"
     },
     "execution_count": 35,
     "metadata": {},
     "output_type": "execute_result"
    }
   ],
   "source": [
    "k_grid = linspace(0,1.5*k_ss,250);\n",
    "\n",
    "k_solow = (1-delta)*k_grid + s*A*k_grid.^(alpha);\n",
    "\n",
    "figure\n",
    "plot(k_grid,k_solow,'blue')\n",
    "hold on\n",
    "plot(k_grid,k_grid,'red','Linestyle','--')\n",
    "title('Policy function: Solow Model')\n",
    "xlabel('Capital today')\n",
    "ylabel('Capital tomorrow')"
   ]
  },
  {
   "cell_type": "markdown",
   "id": "b8ffc6ef-66bf-4911-b6f5-8422fadc5fe7",
   "metadata": {},
   "source": [
    "Great. We have the policy function for the Solow model, given some parameters. This model was huge in economics because it gave the idea of a capital level of steady-state and predicted that developing economies would grow faster than developed ones. However, it is subject to a very profound conceptual critique. Having a constant savings rate is inefficient. Some households would like to save more, and others would like to save less, depending on their situation. Given this, a new model was developed in which the savings rate was endogenous: The Ramsey model."
   ]
  },
  {
   "cell_type": "markdown",
   "id": "df95a5de-4904-40d8-b5db-3e135715f569",
   "metadata": {},
   "source": [
    "## 6. The deterministic Ramsey model"
   ]
  },
  {
   "cell_type": "markdown",
   "id": "d324ca8c-3a54-41e4-a9b5-1b9152335680",
   "metadata": {},
   "source": [
    "So, now we will have the same problem as before, but the savings rate is endogenous. This means that:\n",
    "\n",
    "$$V(k) = \\max_{c} \\left[ log(c) + \\beta V(k') \\right]$$\n",
    "\n",
    "$$ s.t.: k' = (1-\\delta) k + Ak^\\alpha - c $$"
   ]
  },
  {
   "cell_type": "markdown",
   "id": "2270a23d-e069-4f89-a295-13c2b85c4fbd",
   "metadata": {},
   "source": [
    "Now, we know that the consumption in a given period will be given by:\n",
    "\n",
    "$$ c = (1-\\delta)k + Ak^\\alpha -k' $$\n",
    "\n",
    "So, this problem is very similar to the one on the cake. If we choose the capital for the next period, the consumption for the actual period will be determined by it following the budget constraint. "
   ]
  },
  {
   "cell_type": "markdown",
   "id": "4f5724da-c027-4b57-915d-af83e6fec032",
   "metadata": {},
   "source": [
    "Great. But again, we have the problem of the capital grid. Notice that we cannot use the level of capital in a steady state now because there is no direct expression for it (It only has in the particular case when we use log utility and depreciation rate equal to 1). So, we will try a grid and see if the results obtained make sense and adjust it accordingly."
   ]
  },
  {
   "cell_type": "code",
   "execution_count": 7,
   "id": "6d6d35f8-a770-40e2-b035-cfb139ad8094",
   "metadata": {},
   "outputs": [
    {
     "data": {
      "text/html": [
       "<html><body><pre>dif = 10x1 double\n",
       "  248.1816\n",
       "  177.9200\n",
       "  161.6648\n",
       "  151.2473\n",
       "  142.7413\n",
       "  135.1660\n",
       "  128.1791\n",
       "  121.6427\n",
       "  115.4883\n",
       "  109.6686\n",
       "</pre></body></html>"
      ],
      "text/plain": [
       "dif = 10x1 double\n",
       "  248.1816\n",
       "  177.9200\n",
       "  161.6648\n",
       "  151.2473\n",
       "  142.7413\n",
       "  135.1660\n",
       "  128.1791\n",
       "  121.6427\n",
       "  115.4883\n",
       "  109.6686\n"
      ]
     },
     "execution_count": 7,
     "metadata": {},
     "output_type": "execute_result"
    }
   ],
   "source": [
    "k_grid = linspace(1e-4,1.5*k_ss,100);\n",
    "\n",
    "V_0 = zeros(1,length(k_grid));\n",
    "\n",
    "aux=zeros(length(k_grid),length(k_grid));\n",
    "max_iter = 10;\n",
    "dif = zeros(max_iter,1)+NaN;\n",
    "\n",
    "delta = 0.2;\n",
    "beta = 0.95;\n",
    "A=5;\n",
    "alpha=0.2;\n",
    "\n",
    "for i=1:max_iter\n",
    "    for k=1:length(k_grid) %Capital at the beginning of the period\n",
    "        for k_prime=1:length(k_grid) %Capital at the end of the period\n",
    "            c = (1-delta)*k_grid(k) + A*k_grid(k)^alpha - k_grid(k_prime);\n",
    "            if c<0\n",
    "                aux(k,k_prime) = -inf;\n",
    "            else\n",
    "                aux(k,k_prime) = log (c) + beta*V_0(k_prime);\n",
    "            end\n",
    "        end\n",
    "    end\n",
    "    \n",
    "    [V Ind] = max(aux');\n",
    "    dif(i) = sum(abs(V-V_0));\n",
    "    V_0 = V;\n",
    "    \n",
    "end\n",
    "\n",
    "dif"
   ]
  },
  {
   "cell_type": "markdown",
   "id": "5a983b07-aec8-41b8-815f-e74098d08cce",
   "metadata": {},
   "source": [
    "Good, the algorithm is converging, but notice that we are still far from an acceptable distance. We could increase the number of iterations until we find convergence, but this could be a bit long, so we change the algorithm and tell it that we want to iterate until the distance is short enough.\n"
   ]
  },
  {
   "cell_type": "code",
   "execution_count": 41,
   "id": "436740c4-dc9a-4fc4-84fe-8801d4b8c76b",
   "metadata": {},
   "outputs": [
    {
     "data": {
      "text/html": [
       "<html><body><pre>iter = 358</pre></body></html>"
      ],
      "text/plain": [
       "iter = 358"
      ]
     },
     "execution_count": 41,
     "metadata": {},
     "output_type": "execute_result"
    },
    {
     "data": {
      "text/html": [
       "<html><body><pre>dif = 9.6954e-06</pre></body></html>"
      ],
      "text/plain": [
       "dif = 9.6954e-06"
      ]
     },
     "execution_count": 41,
     "metadata": {},
     "output_type": "execute_result"
    }
   ],
   "source": [
    "k_grid = linspace(1e-4,1.5*k_ss,500);\n",
    "\n",
    "V_0 = zeros(1,length(k_grid));\n",
    "\n",
    "aux=zeros(length(k_grid),length(k_grid));\n",
    "max_iter = 10;\n",
    "dif = zeros(max_iter,1)+NaN;\n",
    "\n",
    "delta = 0.2;\n",
    "beta = 0.95;\n",
    "A=5;\n",
    "alpha=0.2;\n",
    "\n",
    "iter = 0;\n",
    "dif = 1;\n",
    "\n",
    "while dif>1e-5\n",
    "    for k=1:length(k_grid) %Capital at the beginning of the period\n",
    "        for k_prime=1:length(k_grid) %Capital at the end of the period\n",
    "            c = (1-delta)*k_grid(k) + A*k_grid(k)^alpha - k_grid(k_prime);\n",
    "            if c<0\n",
    "                aux(k,k_prime) = -inf;\n",
    "            else\n",
    "                aux(k,k_prime) = log (c) + beta*V_0(k_prime);\n",
    "            end\n",
    "        end\n",
    "    end\n",
    "    \n",
    "    [V Ind] = max(aux');\n",
    "    dif = sum(abs(V-V_0));\n",
    "    V_0 = V;\n",
    "\n",
    "    iter = iter + 1;\n",
    "    \n",
    "end\n",
    "\n",
    "V_original = V;\n",
    "Ind_original = Ind;\n",
    "\n",
    "iter\n",
    "dif"
   ]
  },
  {
   "cell_type": "markdown",
   "id": "59c4cae6-0c64-4db4-a57c-7a42513f40bd",
   "metadata": {},
   "source": [
    "Excellent. Notice that to obtain a good convergence value, we need to do the iteration more than 300 times. That is why we did not want to adjust the iterations manually."
   ]
  },
  {
   "cell_type": "markdown",
   "id": "7b06b18c-b052-4c9b-a6be-079ab5f85e83",
   "metadata": {},
   "source": [
    "Let's check the value function:"
   ]
  },
  {
   "cell_type": "code",
   "execution_count": 34,
   "id": "73b5136d-6723-4578-b80b-d8dcdcbca7a6",
   "metadata": {},
   "outputs": [
    {
     "data": {
      "image/png": "[encoded data removed]"
     },
     "execution_count": 34,
     "metadata": {},
     "output_type": "execute_result"
    }
   ],
   "source": [
    "figure\n",
    "plot(k_grid,V)\n",
    "title('Value function: Ramsey Model')\n",
    "xlabel('Capital today')\n",
    "ylabel('Value')"
   ]
  },
  {
   "cell_type": "markdown",
   "id": "f917a141-0090-49d8-bdb4-37b1faa8f766",
   "metadata": {},
   "source": [
    "Ok, it makes sense. More capital is associated with more value. Let's check consumption:"
   ]
  },
  {
   "cell_type": "code",
   "execution_count": 39,
   "id": "598e5831-29de-438a-a87e-fdc359818d10",
   "metadata": {},
   "outputs": [
    {
     "data": {
      "image/png": "[encoded data removed]"
     },
     "execution_count": 39,
     "metadata": {},
     "output_type": "execute_result"
    }
   ],
   "source": [
    "cons_original = (1-delta)*k_grid + A*k_grid.^alpha - k_grid(Ind);\n",
    "\n",
    "figure\n",
    "plot(k_grid,cons_original)\n",
    "xlabel('Capital today')\n",
    "ylabel('Consumption today')"
   ]
  },
  {
   "cell_type": "markdown",
   "id": "5ffe4c82-fa52-4e94-9ea3-c6a5bc98301d",
   "metadata": {},
   "source": [
    "Ok, this also makes sense. More capital today implies more consumption today.\n",
    "\n",
    "Now, let's check the policy function:"
   ]
  },
  {
   "cell_type": "code",
   "execution_count": 42,
   "id": "2b539911-7779-45c5-9876-3a55b7d6e79e",
   "metadata": {},
   "outputs": [
    {
     "data": {
      "image/png": "[encoded data removed]"
     },
     "execution_count": 42,
     "metadata": {},
     "output_type": "execute_result"
    }
   ],
   "source": [
    "figure\n",
    "plot(k_grid,k_grid(Ind_original),'blue')\n",
    "hold on\n",
    "plot(k_grid,k_grid,'red','Linestyle','--')\n",
    "title('Policy function: Ramsey Model')\n",
    "xlabel('Capital today')\n",
    "ylabel('Capital tomorrow')"
   ]
  },
  {
   "cell_type": "markdown",
   "id": "c48c25b8-72a3-48f7-91c7-6f29b6b94041",
   "metadata": {},
   "source": [
    "It looks like our guess for the grid is OK. However, the steady state is not what we predicted (around 10). This is not a problem, but we would like to know the value. For this, we will take the difference between the capital tomorrow and the capital today and select the index in which the difference is smaller. Visually, we can see that it has a value close to 5."
   ]
  },
  {
   "cell_type": "code",
   "execution_count": 43,
   "id": "5b12376a-5531-4c67-bede-a78f33eeba69",
   "metadata": {},
   "outputs": [
    {
     "data": {
      "text/html": [
       "<html><body><pre>ans = 5.5847</pre></body></html>"
      ],
      "text/plain": [
       "ans = 5.5847"
      ]
     },
     "execution_count": 43,
     "metadata": {},
     "output_type": "execute_result"
    }
   ],
   "source": [
    "dif_ss = k_grid - k_grid(Ind_original);\n",
    "\n",
    "[Val_min Ind_min] = min(abs(dif_ss)); % Notice the abs value for the difference!\n",
    "\n",
    "k_grid(Ind_min)"
   ]
  },
  {
   "cell_type": "code",
   "execution_count": 46,
   "id": "114c8b77-35e0-4465-8c90-cf1c0329a616",
   "metadata": {},
   "outputs": [
    {
     "data": {
      "image/png": "[encoded data removed]"
     },
     "execution_count": 46,
     "metadata": {},
     "output_type": "execute_result"
    }
   ],
   "source": [
    "aux_ss = linspace(0,k_grid(Ind_min),100);\n",
    "\n",
    "figure\n",
    "plot(k_grid,k_grid(Ind_original),'blue')\n",
    "hold on\n",
    "plot(k_grid,k_grid,'red','Linestyle','--')\n",
    "plot(aux_ss,k_grid(Ind_min)*ones(100,1),'black','Linestyle','--')\n",
    "plot(k_grid(Ind_min)*ones(100,1),aux_ss,'black','Linestyle','--')\n",
    "title('Policy function: Ramsey Model')\n",
    "xlabel('Capital today')\n",
    "ylabel('Capital tomorrow')"
   ]
  },
  {
   "cell_type": "markdown",
   "id": "a44ad222-9b88-4807-b15c-b219cfb88a58",
   "metadata": {},
   "source": [
    "Now, we will play with the model's parameters and how the steady state and the policy function will change. First, imagine that we have another economy that is more productive (this means it has a higher $A$). What will happen to the policy function and the steady state in the new economy compared with the old one?"
   ]
  },
  {
   "cell_type": "code",
   "execution_count": 51,
   "id": "be051b56-8482-4a33-b8e8-d99d5953d4b3",
   "metadata": {},
   "outputs": [
    {
     "data": {
      "text/html": [
       "<html><body><pre>iter = 360</pre></body></html>"
      ],
      "text/plain": [
       "iter = 360"
      ]
     },
     "execution_count": 51,
     "metadata": {},
     "output_type": "execute_result"
    },
    {
     "data": {
      "text/html": [
       "<html><body><pre>dif = 9.8969e-06</pre></body></html>"
      ],
      "text/plain": [
       "dif = 9.8969e-06"
      ]
     },
     "execution_count": 51,
     "metadata": {},
     "output_type": "execute_result"
    }
   ],
   "source": [
    "k_grid = linspace(1e-4,1.5*k_ss,500);\n",
    "\n",
    "V_0 = zeros(1,length(k_grid));\n",
    "\n",
    "aux=zeros(length(k_grid),length(k_grid));\n",
    "max_iter = 10;\n",
    "dif = zeros(max_iter,1)+NaN;\n",
    "\n",
    "delta = 0.2;\n",
    "beta = 0.95;\n",
    "A=6;\n",
    "alpha=0.2;\n",
    "\n",
    "iter = 0;\n",
    "dif = 1;\n",
    "\n",
    "while dif>1e-5\n",
    "    for k=1:length(k_grid) %Capital at the beginning of the period\n",
    "        for k_prime=1:length(k_grid) %Capital at the end of the period\n",
    "            c = (1-delta)*k_grid(k) + A*k_grid(k)^alpha - k_grid(k_prime);\n",
    "            if c<0\n",
    "                aux(k,k_prime) = -inf;\n",
    "            else\n",
    "                aux(k,k_prime) = log (c) + beta*V_0(k_prime);\n",
    "            end\n",
    "        end\n",
    "    end\n",
    "    \n",
    "    [V Ind] = max(aux');\n",
    "    dif = sum(abs(V-V_0));\n",
    "    V_0 = V;\n",
    "\n",
    "    iter = iter + 1;\n",
    "    \n",
    "end\n",
    "\n",
    "V_A = V;\n",
    "Ind_A = Ind;\n",
    "cons_A = (1-delta)*k_grid + A*k_grid.^alpha - k_grid(Ind_A);\n",
    "\n",
    "iter\n",
    "dif"
   ]
  },
  {
   "cell_type": "code",
   "execution_count": 52,
   "id": "7d82a326-f260-43cc-9ec9-3d2dfce65f04",
   "metadata": {},
   "outputs": [
    {
     "data": {
      "text/html": [
       "<html><body><pre>ans = 7.0106</pre></body></html>"
      ],
      "text/plain": [
       "ans = 7.0106"
      ]
     },
     "execution_count": 52,
     "metadata": {},
     "output_type": "execute_result"
    }
   ],
   "source": [
    "dif_ss = k_grid - k_grid(Ind_A);\n",
    "\n",
    "[Val_min Ind_minA] = min(abs(dif_ss)); % Notice the abs value for the difference!\n",
    "\n",
    "k_grid(Ind_minA)"
   ]
  },
  {
   "cell_type": "code",
   "execution_count": 58,
   "id": "d55e2008-5a9f-4b3a-9644-08f0f36e80b1",
   "metadata": {},
   "outputs": [
    {
     "data": {
      "image/png": "[encoded data removed]"
     },
     "execution_count": 58,
     "metadata": {},
     "output_type": "execute_result"
    }
   ],
   "source": [
    "aux_ss1 = linspace(0,k_grid(Ind_min),100);\n",
    "aux_ss2 = linspace(0,k_grid(Ind_minA),100);\n",
    "\n",
    "figure\n",
    "plot(k_grid,k_grid(Ind_original),'blue')\n",
    "hold on\n",
    "plot(k_grid,k_grid,'black','Linestyle','--')\n",
    "plot(k_grid,k_grid(Ind_A),'red')\n",
    "plot(k_grid(Ind_min)*ones(100,1), aux_ss1,'black','Linestyle','--')\n",
    "plot(k_grid(Ind_minA)*ones(100,1), aux_ss2,'black','Linestyle','--')\n",
    "title('Policy function: Ramsey Model when A changes')\n",
    "xlabel('Capital today')\n",
    "ylabel('Capital tomorrow')"
   ]
  },
  {
   "cell_type": "markdown",
   "id": "a595f98d-d103-45ea-b902-c5983778441c",
   "metadata": {},
   "source": [
    "The steady state increases. Excellent. Now, what would happen if the depreciation rate increases?"
   ]
  },
  {
   "cell_type": "code",
   "execution_count": 59,
   "id": "65d4fb89-6e3d-4c3b-88fe-3b6e0c661b5d",
   "metadata": {},
   "outputs": [
    {
     "data": {
      "text/html": [
       "<html><body><pre>iter = 357</pre></body></html>"
      ],
      "text/plain": [
       "iter = 357"
      ]
     },
     "execution_count": 59,
     "metadata": {},
     "output_type": "execute_result"
    },
    {
     "data": {
      "text/html": [
       "<html><body><pre>dif = 9.9302e-06</pre></body></html>"
      ],
      "text/plain": [
       "dif = 9.9302e-06"
      ]
     },
     "execution_count": 59,
     "metadata": {},
     "output_type": "execute_result"
    }
   ],
   "source": [
    "k_grid = linspace(1e-4,1.5*k_ss,500);\n",
    "\n",
    "V_0 = zeros(1,length(k_grid));\n",
    "\n",
    "aux=zeros(length(k_grid),length(k_grid));\n",
    "max_iter = 10;\n",
    "dif = zeros(max_iter,1)+NaN;\n",
    "\n",
    "delta = 0.25;\n",
    "beta = 0.95;\n",
    "A=5;\n",
    "alpha=0.2;\n",
    "\n",
    "iter = 0;\n",
    "dif = 1;\n",
    "\n",
    "while dif>1e-5\n",
    "    for k=1:length(k_grid) %Capital at the beginning of the period\n",
    "        for k_prime=1:length(k_grid) %Capital at the end of the period\n",
    "            c = (1-delta)*k_grid(k) + A*k_grid(k)^alpha - k_grid(k_prime);\n",
    "            if c<0\n",
    "                aux(k,k_prime) = -inf;\n",
    "            else\n",
    "                aux(k,k_prime) = log (c) + beta*V_0(k_prime);\n",
    "            end\n",
    "        end\n",
    "    end\n",
    "    \n",
    "    [V Ind] = max(aux');\n",
    "    dif = sum(abs(V-V_0));\n",
    "    V_0 = V;\n",
    "\n",
    "    iter = iter + 1;\n",
    "    \n",
    "end\n",
    "\n",
    "V_delta = V;\n",
    "Ind_delta = Ind;\n",
    "cons_delta = (1-delta)*k_grid + A*k_grid.^alpha - k_grid(Ind_delta);\n",
    "\n",
    "iter\n",
    "dif"
   ]
  },
  {
   "cell_type": "code",
   "execution_count": 60,
   "id": "2e7437bd-d724-4331-8521-099625b73c25",
   "metadata": {},
   "outputs": [
    {
     "data": {
      "text/html": [
       "<html><body><pre>ans = 4.4559</pre></body></html>"
      ],
      "text/plain": [
       "ans = 4.4559"
      ]
     },
     "execution_count": 60,
     "metadata": {},
     "output_type": "execute_result"
    }
   ],
   "source": [
    "dif_ss = k_grid - k_grid(Ind_delta);\n",
    "\n",
    "[Val_min Ind_mindelta] = min(abs(dif_ss)); % Notice the abs value for the difference!\n",
    "\n",
    "k_grid(Ind_mindelta)"
   ]
  },
  {
   "cell_type": "code",
   "execution_count": 62,
   "id": "732578de-ff44-40cc-927d-292dfda530c7",
   "metadata": {},
   "outputs": [
    {
     "data": {
      "image/png": "[encoded data removed]"
     },
     "execution_count": 62,
     "metadata": {},
     "output_type": "execute_result"
    }
   ],
   "source": [
    "aux_ss1 = linspace(0,k_grid(Ind_min),100);\n",
    "aux_ss2 = linspace(0,k_grid(Ind_mindelta),100);\n",
    "\n",
    "figure\n",
    "plot(k_grid,k_grid(Ind_original),'blue')\n",
    "hold on\n",
    "plot(k_grid,k_grid,'black','Linestyle','--')\n",
    "plot(k_grid,k_grid(Ind_delta),'red')\n",
    "plot(k_grid(Ind_min)*ones(100,1), aux_ss1,'black','Linestyle','--')\n",
    "plot(k_grid(Ind_mindelta)*ones(100,1), aux_ss2,'black','Linestyle','--')\n",
    "title('Policy function: Ramsey Model when \\delta changes')\n",
    "xlabel('Capital today')\n",
    "ylabel('Capital tomorrow')"
   ]
  },
  {
   "cell_type": "markdown",
   "id": "22ac32bc-59cf-44d0-975d-74a33a185bdf",
   "metadata": {},
   "source": [
    "The steady state decreases. Good. Now, what would happen if the discount factor increases?"
   ]
  },
  {
   "cell_type": "code",
   "execution_count": 63,
   "id": "e25741ef-ce53-439a-8e20-13e1a04d7998",
   "metadata": {},
   "outputs": [
    {
     "data": {
      "text/html": [
       "<html><body><pre>iter = 907</pre></body></html>"
      ],
      "text/plain": [
       "iter = 907"
      ]
     },
     "execution_count": 63,
     "metadata": {},
     "output_type": "execute_result"
    },
    {
     "data": {
      "text/html": [
       "<html><body><pre>dif = 9.9390e-06</pre></body></html>"
      ],
      "text/plain": [
       "dif = 9.9390e-06"
      ]
     },
     "execution_count": 63,
     "metadata": {},
     "output_type": "execute_result"
    }
   ],
   "source": [
    "k_grid = linspace(1e-4,1.5*k_ss,500);\n",
    "\n",
    "V_0 = zeros(1,length(k_grid));\n",
    "\n",
    "aux=zeros(length(k_grid),length(k_grid));\n",
    "max_iter = 10;\n",
    "dif = zeros(max_iter,1)+NaN;\n",
    "\n",
    "delta = 0.2;\n",
    "beta = 0.98;\n",
    "A=5;\n",
    "alpha=0.2;\n",
    "\n",
    "iter = 0;\n",
    "dif = 1;\n",
    "\n",
    "while dif>1e-5\n",
    "    for k=1:length(k_grid) %Capital at the beginning of the period\n",
    "        for k_prime=1:length(k_grid) %Capital at the end of the period\n",
    "            c = (1-delta)*k_grid(k) + A*k_grid(k)^alpha - k_grid(k_prime);\n",
    "            if c<0\n",
    "                aux(k,k_prime) = -inf;\n",
    "            else\n",
    "                aux(k,k_prime) = log (c) + beta*V_0(k_prime);\n",
    "            end\n",
    "        end\n",
    "    end\n",
    "    \n",
    "    [V Ind] = max(aux');\n",
    "    dif = sum(abs(V-V_0));\n",
    "    V_0 = V;\n",
    "\n",
    "    iter = iter + 1;\n",
    "    \n",
    "end\n",
    "\n",
    "V_beta = V;\n",
    "Ind_beta = Ind;\n",
    "cons_beta = (1-delta)*k_grid + A*k_grid.^alpha - k_grid(Ind_beta);\n",
    "\n",
    "iter\n",
    "dif"
   ]
  },
  {
   "cell_type": "code",
   "execution_count": 64,
   "id": "13d68849-eae9-486c-bec5-0b426429da1b",
   "metadata": {},
   "outputs": [
    {
     "data": {
      "text/html": [
       "<html><body><pre>ans = 6.6244</pre></body></html>"
      ],
      "text/plain": [
       "ans = 6.6244"
      ]
     },
     "execution_count": 64,
     "metadata": {},
     "output_type": "execute_result"
    }
   ],
   "source": [
    "dif_ss = k_grid - k_grid(Ind_beta);\n",
    "\n",
    "[Val_min Ind_minbeta] = min(abs(dif_ss)); % Notice the abs value for the difference!\n",
    "\n",
    "k_grid(Ind_minbeta)"
   ]
  },
  {
   "cell_type": "code",
   "execution_count": 66,
   "id": "737dd0fe-c757-483d-a287-8f7e111e04c4",
   "metadata": {},
   "outputs": [
    {
     "data": {
      "image/png": "[encoded data removed]"
     },
     "execution_count": 66,
     "metadata": {},
     "output_type": "execute_result"
    }
   ],
   "source": [
    "aux_ss1 = linspace(0,k_grid(Ind_min),100);\n",
    "aux_ss2 = linspace(0,k_grid(Ind_minbeta),100);\n",
    "\n",
    "figure\n",
    "plot(k_grid,k_grid(Ind_original),'blue')\n",
    "hold on\n",
    "plot(k_grid,k_grid,'black','Linestyle','--')\n",
    "plot(k_grid,k_grid(Ind_beta),'red')\n",
    "plot(k_grid(Ind_min)*ones(100,1), aux_ss1,'black','Linestyle','--')\n",
    "plot(k_grid(Ind_minbeta)*ones(100,1), aux_ss2,'black','Linestyle','--')\n",
    "title('Policy function: Ramsey Model when \\beta changes')\n",
    "xlabel('Capital today')\n",
    "ylabel('Capital tomorrow')"
   ]
  },
  {
   "cell_type": "markdown",
   "id": "b8cf0619-6e5a-40c0-ab59-17c028234e90",
   "metadata": {},
   "source": [
    "Great. As you can see, every time we want to change a parameter, it is a bit tedious because we have to run all the code again using the change in the parameter. The last activity for this lecture will be to create a function that receives the change in the parameters we want, and it plots the original model and the modified one. Once you have this, compute the plot for the case where alpha increases to 0.4."
   ]
  },
  {
   "cell_type": "code",
   "execution_count": 80,
   "id": "673e1503-f657-48bf-97d3-cd6a0dddf97f",
   "metadata": {},
   "outputs": [
    {
     "data": {
      "image/png": "[encoded data removed]"
     },
     "execution_count": 80,
     "metadata": {},
     "output_type": "execute_result"
    },
    {
     "data": {
      "text/html": [
       "<html><body><pre>k_ss_original = 5.5847</pre></body></html>"
      ],
      "text/plain": [
       "k_ss_original = 5.5847"
      ]
     },
     "execution_count": 80,
     "metadata": {},
     "output_type": "execute_result"
    },
    {
     "data": {
      "text/html": [
       "<html><body><pre>k_ss_new = 14.8232</pre></body></html>"
      ],
      "text/plain": [
       "k_ss_new = 14.8232"
      ]
     },
     "execution_count": 80,
     "metadata": {},
     "output_type": "execute_result"
    }
   ],
   "source": [
    "[k_ss_original,k_ss_new] = ramsey_model(k_ss,0,0,0,0.2)"
   ]
  },
  {
   "cell_type": "markdown",
   "id": "dedf4bd3-b78f-45c5-9f29-07dc2bac48f6",
   "metadata": {},
   "source": [
    "The function works well, but our grid is not working here because of the reference value for the steady state. So we will increase it (in the code directly or add it as a parameter). Now, it should work."
   ]
  },
  {
   "cell_type": "code",
   "execution_count": 81,
   "id": "13df2234-d499-4711-891f-bc6dce1ed5fe",
   "metadata": {},
   "outputs": [
    {
     "data": {
      "image/png": "[encoded data removed]"
     },
     "execution_count": 81,
     "metadata": {},
     "output_type": "execute_result"
    },
    {
     "data": {
      "text/html": [
       "<html><body><pre>k_ss_original = 5.5913</pre></body></html>"
      ],
      "text/plain": [
       "k_ss_original = 5.5913"
      ]
     },
     "execution_count": 81,
     "metadata": {},
     "output_type": "execute_result"
    },
    {
     "data": {
      "text/html": [
       "<html><body><pre>k_ss_new = 22.1844</pre></body></html>"
      ],
      "text/plain": [
       "k_ss_new = 22.1844"
      ]
     },
     "execution_count": 81,
     "metadata": {},
     "output_type": "execute_result"
    }
   ],
   "source": [
    "[k_ss_original,k_ss_new] = ramsey_model(20,0,0,0,0.2)"
   ]
  },
  {
   "cell_type": "markdown",
   "id": "6d9f21fc-af34-4bf3-8c13-64f4f5309cc5",
   "metadata": {},
   "source": [
    "Brilliant! And that is it for this lecture. I hope you enjoy it! Next time you eat cake or make an investment, remember to compute your policy function first!"
   ]
  }
 ],
 "metadata": {
  "kernelspec": {
   "display_name": "MATLAB Kernel",
   "language": "matlab",
   "name": "jupyter_matlab_kernel"
  },
  "language_info": {
   "file_extension": ".m",
   "mimetype": "text/x-matlab",
   "name": "matlab"
  }
 },
 "nbformat": 4,
 "nbformat_minor": 5
}
